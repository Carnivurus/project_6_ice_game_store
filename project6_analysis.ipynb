{
 "cells": [
  {
   "cell_type": "markdown",
   "metadata": {},
   "source": [
    "# Step 1 Establishing route and libraries"
   ]
  },
  {
   "cell_type": "code",
   "execution_count": 70,
   "metadata": {},
   "outputs": [],
   "source": [
    "# Importing libraries and dataframe\n",
    "import pandas as pd\n",
    "import numpy as np\n",
    "import matplotlib.pyplot as plt #usado en el paso 3\n",
    "import plotly_express as px\n",
    "import seaborn as sns\n",
    "from scipy import stats as st\n",
    "from plotly.subplots import make_subplots\n",
    "df = pd.read_csv(\"./datasets/games.csv\")\n"
   ]
  },
  {
   "cell_type": "markdown",
   "metadata": {},
   "source": [
    "# Step 2 Data Processing (Data cleaning, correction and formatting)"
   ]
  },
  {
   "cell_type": "markdown",
   "metadata": {},
   "source": [
    "2.1 Setting columns to lowercase"
   ]
  },
  {
   "cell_type": "code",
   "execution_count": 71,
   "metadata": {},
   "outputs": [],
   "source": [
    "df.columns = [column.lower() for column in df.columns]"
   ]
  },
  {
   "cell_type": "markdown",
   "metadata": {},
   "source": [
    "2.2 Looking for duplicates, incorrect dtypes and nulls."
   ]
  },
  {
   "cell_type": "code",
   "execution_count": 72,
   "metadata": {},
   "outputs": [
    {
     "name": "stdout",
     "output_type": "stream",
     "text": [
      "<class 'pandas.core.frame.DataFrame'>\n",
      "RangeIndex: 16715 entries, 0 to 16714\n",
      "Data columns (total 11 columns):\n",
      " #   Column           Non-Null Count  Dtype  \n",
      "---  ------           --------------  -----  \n",
      " 0   name             16713 non-null  object \n",
      " 1   platform         16715 non-null  object \n",
      " 2   year_of_release  16446 non-null  float64\n",
      " 3   genre            16713 non-null  object \n",
      " 4   na_sales         16715 non-null  float64\n",
      " 5   eu_sales         16715 non-null  float64\n",
      " 6   jp_sales         16715 non-null  float64\n",
      " 7   other_sales      16715 non-null  float64\n",
      " 8   critic_score     8137 non-null   float64\n",
      " 9   user_score       10014 non-null  object \n",
      " 10  rating           9949 non-null   object \n",
      "dtypes: float64(6), object(5)\n",
      "memory usage: 1.4+ MB\n",
      "_____________________\n"
     ]
    },
    {
     "data": {
      "text/plain": [
       "Index(['name', 'platform', 'year_of_release', 'genre', 'na_sales', 'eu_sales',\n",
       "       'jp_sales', 'other_sales', 'critic_score', 'user_score', 'rating'],\n",
       "      dtype='object')"
      ]
     },
     "execution_count": 72,
     "metadata": {},
     "output_type": "execute_result"
    }
   ],
   "source": [
    "df.info()\n",
    "print(\"_____________________\")\n",
    "df.columns"
   ]
  },
  {
   "cell_type": "markdown",
   "metadata": {},
   "source": [
    "Ath this point has been identified missing values in the following columns:\n",
    "- name\n",
    "- year_of_Release\n",
    "- genre\n",
    "- critic_Score\n",
    "- user_Score\n",
    "- rating"
   ]
  },
  {
   "cell_type": "markdown",
   "metadata": {},
   "source": [
    "Before manipulating each column I will proceed removing duplicated rows if any."
   ]
  },
  {
   "cell_type": "code",
   "execution_count": 73,
   "metadata": {},
   "outputs": [
    {
     "data": {
      "text/plain": [
       "0"
      ]
     },
     "execution_count": 73,
     "metadata": {},
     "output_type": "execute_result"
    }
   ],
   "source": [
    "df.duplicated().sum() "
   ]
  },
  {
   "cell_type": "markdown",
   "metadata": {},
   "source": [
    "Not duplicated rows found. Now let's get back to identify the null values"
   ]
  },
  {
   "cell_type": "code",
   "execution_count": 74,
   "metadata": {},
   "outputs": [
    {
     "data": {
      "text/plain": [
       "name                  2\n",
       "platform              0\n",
       "year_of_release     269\n",
       "genre                 2\n",
       "na_sales              0\n",
       "eu_sales              0\n",
       "jp_sales              0\n",
       "other_sales           0\n",
       "critic_score       8578\n",
       "user_score         6701\n",
       "rating             6766\n",
       "dtype: int64"
      ]
     },
     "execution_count": 74,
     "metadata": {},
     "output_type": "execute_result"
    }
   ],
   "source": [
    "df.isnull().sum()"
   ]
  },
  {
   "cell_type": "markdown",
   "metadata": {},
   "source": [
    "It looks that name and genre has two atypical values, I'll focus on it"
   ]
  },
  {
   "cell_type": "code",
   "execution_count": 75,
   "metadata": {},
   "outputs": [
    {
     "data": {
      "text/html": [
       "<div>\n",
       "<style scoped>\n",
       "    .dataframe tbody tr th:only-of-type {\n",
       "        vertical-align: middle;\n",
       "    }\n",
       "\n",
       "    .dataframe tbody tr th {\n",
       "        vertical-align: top;\n",
       "    }\n",
       "\n",
       "    .dataframe thead th {\n",
       "        text-align: right;\n",
       "    }\n",
       "</style>\n",
       "<table border=\"1\" class=\"dataframe\">\n",
       "  <thead>\n",
       "    <tr style=\"text-align: right;\">\n",
       "      <th></th>\n",
       "      <th>name</th>\n",
       "      <th>platform</th>\n",
       "      <th>year_of_release</th>\n",
       "      <th>genre</th>\n",
       "      <th>na_sales</th>\n",
       "      <th>eu_sales</th>\n",
       "      <th>jp_sales</th>\n",
       "      <th>other_sales</th>\n",
       "      <th>critic_score</th>\n",
       "      <th>user_score</th>\n",
       "      <th>rating</th>\n",
       "    </tr>\n",
       "  </thead>\n",
       "  <tbody>\n",
       "    <tr>\n",
       "      <th>659</th>\n",
       "      <td>NaN</td>\n",
       "      <td>GEN</td>\n",
       "      <td>1993.0</td>\n",
       "      <td>NaN</td>\n",
       "      <td>1.78</td>\n",
       "      <td>0.53</td>\n",
       "      <td>0.00</td>\n",
       "      <td>0.08</td>\n",
       "      <td>NaN</td>\n",
       "      <td>NaN</td>\n",
       "      <td>NaN</td>\n",
       "    </tr>\n",
       "    <tr>\n",
       "      <th>14244</th>\n",
       "      <td>NaN</td>\n",
       "      <td>GEN</td>\n",
       "      <td>1993.0</td>\n",
       "      <td>NaN</td>\n",
       "      <td>0.00</td>\n",
       "      <td>0.00</td>\n",
       "      <td>0.03</td>\n",
       "      <td>0.00</td>\n",
       "      <td>NaN</td>\n",
       "      <td>NaN</td>\n",
       "      <td>NaN</td>\n",
       "    </tr>\n",
       "  </tbody>\n",
       "</table>\n",
       "</div>"
      ],
      "text/plain": [
       "      name platform  year_of_release genre  na_sales  eu_sales  jp_sales  \\\n",
       "659    NaN      GEN           1993.0   NaN      1.78      0.53      0.00   \n",
       "14244  NaN      GEN           1993.0   NaN      0.00      0.00      0.03   \n",
       "\n",
       "       other_sales  critic_score user_score rating  \n",
       "659           0.08           NaN        NaN    NaN  \n",
       "14244         0.00           NaN        NaN    NaN  "
      ]
     },
     "execution_count": 75,
     "metadata": {},
     "output_type": "execute_result"
    }
   ],
   "source": [
    "df[df[\"name\"].isnull()]\n",
    "df[df[\"year_of_release\"].isnull()]\n",
    "df[df[\"genre\"].isnull()]"
   ]
  },
  {
   "cell_type": "markdown",
   "metadata": {},
   "source": [
    "Both elements genre and name are part of the same rows, I'll proceed to delete it because is has not enough relevant information to keep. For the other columns:\n",
    "\n",
    "- year_of_release column = It's possible to look at the internet for the name of the game and the platform and get the year_of_release, I'll keep it for the moment. (I can look for an API)\n",
    "- critic_score, user_score, rating = I'll keep it the data with the nan values because I don't have the source where the data was extracted, could be mix it wrongly"
   ]
  },
  {
   "cell_type": "code",
   "execution_count": 76,
   "metadata": {},
   "outputs": [
    {
     "data": {
      "text/plain": [
       "array(['8', nan, '8.3', '8.5', '6.6', '8.4', '8.6', '7.7', '6.3', '7.4',\n",
       "       '8.2', '9', '7.9', '8.1', '8.7', '7.1', '3.4', '5.3', '4.8', '3.2',\n",
       "       '8.9', '6.4', '7.8', '7.5', '2.6', '7.2', '9.2', '7', '7.3', '4.3',\n",
       "       '7.6', '5.7', '5', '9.1', '6.5', 'tbd', '8.8', '6.9', '9.4', '6.8',\n",
       "       '6.1', '6.7', '5.4', '4', '4.9', '4.5', '9.3', '6.2', '4.2', '6',\n",
       "       '3.7', '4.1', '5.8', '5.6', '5.5', '4.4', '4.6', '5.9', '3.9',\n",
       "       '3.1', '2.9', '5.2', '3.3', '4.7', '5.1', '3.5', '2.5', '1.9', '3',\n",
       "       '2.7', '2.2', '2', '9.5', '2.1', '3.6', '2.8', '1.8', '3.8', '0',\n",
       "       '1.6', '9.6', '2.4', '1.7', '1.1', '0.3', '1.5', '0.7', '1.2',\n",
       "       '2.3', '0.5', '1.3', '0.2', '0.6', '1.4', '0.9', '1', '9.7'],\n",
       "      dtype=object)"
      ]
     },
     "execution_count": 76,
     "metadata": {},
     "output_type": "execute_result"
    }
   ],
   "source": [
    "df[\"user_score\"].unique()"
   ]
  },
  {
   "cell_type": "markdown",
   "metadata": {},
   "source": [
    "The column 'user score' has text and nan values, won't be possible to transform to float if I don't the replace the text for nan values. I'll do it"
   ]
  },
  {
   "cell_type": "code",
   "execution_count": 77,
   "metadata": {},
   "outputs": [],
   "source": [
    "# Checking before transforming to float\n",
    "df[\"user_score\"].unique()\n",
    "df[\"user_score\"] = pd.to_numeric(df[\"user_score\"],errors=\"coerce\")\n",
    "#df[\"user_score\"].replace(np.nan,-999, inplace=True) #If it is necessary\n",
    "df[\"user_score\"]= df[\"user_score\"].astype(float)\n"
   ]
  },
  {
   "cell_type": "markdown",
   "metadata": {},
   "source": [
    "Now, let's analyze the critic_score column"
   ]
  },
  {
   "cell_type": "code",
   "execution_count": 78,
   "metadata": {},
   "outputs": [
    {
     "data": {
      "text/plain": [
       "array([76., nan, 82., 80., 89., 58., 87., 91., 61., 97., 95., 77., 88.,\n",
       "       83., 94., 93., 85., 86., 98., 96., 90., 84., 73., 74., 78., 92.,\n",
       "       71., 72., 68., 62., 49., 67., 81., 66., 56., 79., 70., 59., 64.,\n",
       "       75., 60., 63., 69., 50., 25., 42., 44., 55., 48., 57., 29., 47.,\n",
       "       65., 54., 20., 53., 37., 38., 33., 52., 30., 32., 43., 45., 51.,\n",
       "       40., 46., 39., 34., 35., 41., 36., 28., 31., 27., 26., 19., 23.,\n",
       "       24., 21., 17., 22., 13.])"
      ]
     },
     "execution_count": 78,
     "metadata": {},
     "output_type": "execute_result"
    }
   ],
   "source": [
    "df[\"critic_score\"].unique()"
   ]
  },
  {
   "cell_type": "markdown",
   "metadata": {},
   "source": [
    "It seems right but the decimals are gone, I don't exacly know if the original source mantain the float value or if this is an error. I'll keep it because won't affect the methods that I'm planning to use."
   ]
  },
  {
   "cell_type": "code",
   "execution_count": 79,
   "metadata": {},
   "outputs": [],
   "source": [
    "# Checking before transforming to float\n",
    "df[\"critic_score\"].unique()\n",
    "# df[\"critic_score\"].replace(np.nan,-999, inplace=True) #If it is necessary\n",
    "df[\"critic_score\"]= df[\"critic_score\"].astype(float)"
   ]
  },
  {
   "cell_type": "markdown",
   "metadata": {},
   "source": [
    "Finally the column 'rating' let's check the categories implied."
   ]
  },
  {
   "cell_type": "code",
   "execution_count": 80,
   "metadata": {},
   "outputs": [
    {
     "data": {
      "text/plain": [
       "array(['E', nan, 'M', 'T', 'E10+', 'K-A', 'AO', 'EC', 'RP'], dtype=object)"
      ]
     },
     "execution_count": 80,
     "metadata": {},
     "output_type": "execute_result"
    }
   ],
   "source": [
    "df[\"rating\"].unique()"
   ]
  },
  {
   "cell_type": "markdown",
   "metadata": {},
   "source": [
    "According with the ESRB clasification we can analyze the description of each element with the following table"
   ]
  },
  {
   "cell_type": "markdown",
   "metadata": {},
   "source": [
    "| Rating            | Description                   |\n",
    "|-------------------|-----------------------------------|\n",
    "| Everyone (E)      | Suitable for all ages (formerly KA)         |\n",
    "| Teens 13+ (T)      | Content suitable for ages 13 and older    |\n",
    "| Mature 17+ (M)     | Content suitable for mature audiences 17 and older  |\n",
    "| Everyone 10+ (E10+) | Suitable for ages 10 and older  |\n",
    "| Kids to Adults (KA) | Suitable for kids and adults (currently Everyone)  |\n",
    "| Early Childhood (EC) | Suitable for ages 3-6   |\n",
    "| Adults Only 18+ (+18) | Content suitable for adults 18 and older   |\n",
    "| Rating Pending    | Rating information pending    |\n",
    "| Replace K-A with Everyone | Update rating from K-A to Everyone  |\n"
   ]
  },
  {
   "cell_type": "markdown",
   "metadata": {},
   "source": [
    "We need to replace Kids to Adults for the current version Everyone"
   ]
  },
  {
   "cell_type": "code",
   "execution_count": 81,
   "metadata": {},
   "outputs": [
    {
     "data": {
      "text/plain": [
       "array(['E', nan, 'M', 'T', 'E10+', 'AO', 'EC', 'RP'], dtype=object)"
      ]
     },
     "execution_count": 81,
     "metadata": {},
     "output_type": "execute_result"
    }
   ],
   "source": [
    "df[\"rating\"].replace('K-A','E',inplace=True)\n",
    "df['rating'].unique()"
   ]
  },
  {
   "cell_type": "markdown",
   "metadata": {},
   "source": [
    "Also, the only classified game in this list with 'AO' is Grand Theft Auto: San Andreas (xbox), when searching on the internet I realized that the actual classification is M (Mature), I'll proceed to change it."
   ]
  },
  {
   "cell_type": "code",
   "execution_count": 82,
   "metadata": {},
   "outputs": [
    {
     "data": {
      "text/plain": [
       "array(['E', nan, 'M', 'T', 'E10+', 'EC', 'RP'], dtype=object)"
      ]
     },
     "execution_count": 82,
     "metadata": {},
     "output_type": "execute_result"
    }
   ],
   "source": [
    "df[\"rating\"].replace('AO','M',inplace=True)\n",
    "df['rating'].unique()"
   ]
  },
  {
   "cell_type": "markdown",
   "metadata": {},
   "source": [
    "As I can see in the DataFrame info, more than the half of values are missing for the columns critic_score, user_score and rating, however I'll decide to not modified because I don't know the main source of this data, otherwise I could use an API to get it.\n",
    "\n",
    "In the other hand I can look for the missing years for the specified games, I'll use IGDB database\n",
    "\n",
    "'''As an extra effort, I connected to the IGDB API (https://www.igdb.com/api) to get the missing years. \n",
    "It was necessary to extract the missing values from this list to use it as parameters (game_name and platform)\n",
    "'''"
   ]
  },
  {
   "cell_type": "markdown",
   "metadata": {},
   "source": [
    "2.3 Preparing the documentation to the API\n",
    "\n",
    "I will create a dataframe with the missing years to send the specific names and platform to the API"
   ]
  },
  {
   "cell_type": "code",
   "execution_count": 83,
   "metadata": {},
   "outputs": [
    {
     "data": {
      "text/plain": [
       "array(['PS2', 'Wii', '2600', 'X360', 'GBA', 'PC', 'PS3', 'PS', 'PSP',\n",
       "       'XB', 'GB', 'DS', 'GC', '3DS', 'N64', 'PSV'], dtype=object)"
      ]
     },
     "execution_count": 83,
     "metadata": {},
     "output_type": "execute_result"
    }
   ],
   "source": [
    "\n",
    "games_missing_year_df = df[df[\"year_of_release\"].isna()]\n",
    "filtered_df = games_missing_year_df[[\"name\",\"platform\"]]\n",
    "filtered_df[\"platform\"].unique() #getting the missing paltforms"
   ]
  },
  {
   "cell_type": "markdown",
   "metadata": {},
   "source": [
    "I manually created this relation table to create a search parameter in the IGDB site."
   ]
  },
  {
   "cell_type": "code",
   "execution_count": 84,
   "metadata": {},
   "outputs": [],
   "source": [
    "relation_df = pd.read_csv(\"datasets/platform_relation.csv\") \n",
    "fusion = pd.merge(left= filtered_df, right= relation_df, on=\"platform\", how=\"left\")"
   ]
  },
  {
   "cell_type": "markdown",
   "metadata": {},
   "source": [
    "The dataframe will be exported into a csv file to create a function which will search all the games by platform\n"
   ]
  },
  {
   "cell_type": "code",
   "execution_count": 85,
   "metadata": {},
   "outputs": [],
   "source": [
    "\n",
    "def export_to_csv(dataframe):\n",
    "    '''Save DataFrame in a csv file using with'''\n",
    "    with open(\"./datasets/filtered_games_db.csv\", 'a', encoding=\"utf-8\", newline=\"\") as f:\n",
    "        # f.tell() specifies if the file has been executed before\n",
    "        empty = f.tell() == 0\n",
    "        # If new, use the headers\n",
    "        if empty:\n",
    "            fusion.to_csv(f, index=False, header=True,)\n",
    "        else:\n",
    "            # If not, ignore the headers\n",
    "            fusion.to_csv(f, index=False, header=False)\n",
    "\n",
    "export_to_csv(fusion)"
   ]
  },
  {
   "cell_type": "markdown",
   "metadata": {},
   "source": [
    "In case you are interesed to see my script to get the API data, you can clone this repository \"https://github.com/Carnivurus/project_6_ice_game_store.git\". For now I will show the final processed data received from the API to avoid confusions.\n",
    "\n",
    "Also it is important to mentionthat IGDB could not find all the games in their database so I proceed to work in another file to have the complete years. Now it's time to merge them."
   ]
  },
  {
   "cell_type": "code",
   "execution_count": 86,
   "metadata": {},
   "outputs": [],
   "source": [
    "#This is the info requested and received by the API\n",
    "processed_df = pd.read_csv(\"datasets/processed_game_list.csv\")\n",
    "\n",
    "#35 Cases where not identified by the API I did a manual research and save the file into a csv\n",
    "manually_fill_df = pd.read_csv(\"datasets/games_not_found.csv\")\n",
    "\n",
    "#Homologating db to concat with the processed_df\n",
    "manually_fill_df.rename(columns={\"game name\":\"db_name\"},inplace=True)\n",
    "manually_fill_df\n",
    "\n",
    "processed_df = pd.concat([processed_df, manually_fill_df], ignore_index=True)"
   ]
  },
  {
   "cell_type": "markdown",
   "metadata": {},
   "source": [
    "Mergin the dabase with the API_database"
   ]
  },
  {
   "cell_type": "code",
   "execution_count": 87,
   "metadata": {},
   "outputs": [
    {
     "data": {
      "text/html": [
       "<div>\n",
       "<style scoped>\n",
       "    .dataframe tbody tr th:only-of-type {\n",
       "        vertical-align: middle;\n",
       "    }\n",
       "\n",
       "    .dataframe tbody tr th {\n",
       "        vertical-align: top;\n",
       "    }\n",
       "\n",
       "    .dataframe thead th {\n",
       "        text-align: right;\n",
       "    }\n",
       "</style>\n",
       "<table border=\"1\" class=\"dataframe\">\n",
       "  <thead>\n",
       "    <tr style=\"text-align: right;\">\n",
       "      <th></th>\n",
       "      <th>name</th>\n",
       "      <th>platform</th>\n",
       "      <th>year_of_release</th>\n",
       "      <th>genre</th>\n",
       "      <th>na_sales</th>\n",
       "      <th>eu_sales</th>\n",
       "      <th>jp_sales</th>\n",
       "      <th>other_sales</th>\n",
       "      <th>critic_score</th>\n",
       "      <th>user_score</th>\n",
       "      <th>rating</th>\n",
       "    </tr>\n",
       "  </thead>\n",
       "  <tbody>\n",
       "    <tr>\n",
       "      <th>0</th>\n",
       "      <td>Madden NFL 2004</td>\n",
       "      <td>PS2</td>\n",
       "      <td>2003.0</td>\n",
       "      <td>Sports</td>\n",
       "      <td>4.26</td>\n",
       "      <td>0.26</td>\n",
       "      <td>0.01</td>\n",
       "      <td>0.71</td>\n",
       "      <td>94.0</td>\n",
       "      <td>8.5</td>\n",
       "      <td>E</td>\n",
       "    </tr>\n",
       "    <tr>\n",
       "      <th>1</th>\n",
       "      <td>FIFA Soccer 2004</td>\n",
       "      <td>PS2</td>\n",
       "      <td>2003.0</td>\n",
       "      <td>Sports</td>\n",
       "      <td>0.59</td>\n",
       "      <td>2.36</td>\n",
       "      <td>0.04</td>\n",
       "      <td>0.51</td>\n",
       "      <td>84.0</td>\n",
       "      <td>6.4</td>\n",
       "      <td>E</td>\n",
       "    </tr>\n",
       "    <tr>\n",
       "      <th>2</th>\n",
       "      <td>LEGO Batman: The Videogame</td>\n",
       "      <td>Wii</td>\n",
       "      <td>2008.0</td>\n",
       "      <td>Action</td>\n",
       "      <td>1.80</td>\n",
       "      <td>0.97</td>\n",
       "      <td>0.00</td>\n",
       "      <td>0.29</td>\n",
       "      <td>74.0</td>\n",
       "      <td>7.9</td>\n",
       "      <td>E10+</td>\n",
       "    </tr>\n",
       "    <tr>\n",
       "      <th>3</th>\n",
       "      <td>wwe Smackdown vs. Raw 2006</td>\n",
       "      <td>PS2</td>\n",
       "      <td>2005.0</td>\n",
       "      <td>Fighting</td>\n",
       "      <td>1.57</td>\n",
       "      <td>1.02</td>\n",
       "      <td>0.00</td>\n",
       "      <td>0.41</td>\n",
       "      <td>NaN</td>\n",
       "      <td>NaN</td>\n",
       "      <td>NaN</td>\n",
       "    </tr>\n",
       "    <tr>\n",
       "      <th>4</th>\n",
       "      <td>Space Invaders</td>\n",
       "      <td>2600</td>\n",
       "      <td>1978.0</td>\n",
       "      <td>Shooter</td>\n",
       "      <td>2.36</td>\n",
       "      <td>0.14</td>\n",
       "      <td>0.00</td>\n",
       "      <td>0.03</td>\n",
       "      <td>NaN</td>\n",
       "      <td>NaN</td>\n",
       "      <td>NaN</td>\n",
       "    </tr>\n",
       "  </tbody>\n",
       "</table>\n",
       "</div>"
      ],
      "text/plain": [
       "                         name platform  year_of_release     genre  na_sales  \\\n",
       "0             Madden NFL 2004      PS2           2003.0    Sports      4.26   \n",
       "1            FIFA Soccer 2004      PS2           2003.0    Sports      0.59   \n",
       "2  LEGO Batman: The Videogame      Wii           2008.0    Action      1.80   \n",
       "3  wwe Smackdown vs. Raw 2006      PS2           2005.0  Fighting      1.57   \n",
       "4              Space Invaders     2600           1978.0   Shooter      2.36   \n",
       "\n",
       "   eu_sales  jp_sales  other_sales  critic_score  user_score rating  \n",
       "0      0.26      0.01         0.71          94.0         8.5      E  \n",
       "1      2.36      0.04         0.51          84.0         6.4      E  \n",
       "2      0.97      0.00         0.29          74.0         7.9   E10+  \n",
       "3      1.02      0.00         0.41           NaN         NaN    NaN  \n",
       "4      0.14      0.00         0.03           NaN         NaN    NaN  "
      ]
     },
     "execution_count": 87,
     "metadata": {},
     "output_type": "execute_result"
    }
   ],
   "source": [
    "\n",
    "merged_df = pd.merge(games_missing_year_df, processed_df, left_on=[\"name\",\"platform\"], right_on=[\"db_name\",\"platform\"], how=\"left\")\n",
    "merged_df[\"year_of_release\"] = merged_df[\"year\"]\n",
    "d_columns = [\"release_date\", \"game_name\", \"db_name\", \"year\"]\n",
    "merged_df.drop(columns=d_columns, inplace=True)\n",
    "merged_df.head()\n",
    "# merged_df[merged_df[\"year_of_release\"].isna()]"
   ]
  },
  {
   "cell_type": "markdown",
   "metadata": {},
   "source": [
    "I'll keep it for the record but the game Majesty 2: The Fantasy Kingdom Sim was never released. Now I will merge the found values with the main dataframe of this project."
   ]
  },
  {
   "cell_type": "code",
   "execution_count": 88,
   "metadata": {},
   "outputs": [],
   "source": [
    "#Passing the values to the current database with the original db\n",
    "merged_df.shape #269 rows\n",
    "df.loc[df['year_of_release'].isna(), 'year_of_release'] = merged_df['year_of_release'].values"
   ]
  },
  {
   "cell_type": "markdown",
   "metadata": {},
   "source": [
    "Once merged and clean the data, I'll proceed to look for the missing values"
   ]
  },
  {
   "cell_type": "code",
   "execution_count": 89,
   "metadata": {},
   "outputs": [
    {
     "data": {
      "text/plain": [
       "name                  2\n",
       "platform              0\n",
       "year_of_release       1\n",
       "genre                 2\n",
       "na_sales              0\n",
       "eu_sales              0\n",
       "jp_sales              0\n",
       "other_sales           0\n",
       "critic_score       8578\n",
       "user_score         9125\n",
       "rating             6766\n",
       "dtype: int64"
      ]
     },
     "execution_count": 89,
     "metadata": {},
     "output_type": "execute_result"
    }
   ],
   "source": [
    "df.isnull().sum()"
   ]
  },
  {
   "cell_type": "markdown",
   "metadata": {},
   "source": [
    "The analysis makes sense, remember that we have 1 game which never was released. I will delete this entry."
   ]
  },
  {
   "cell_type": "code",
   "execution_count": 93,
   "metadata": {},
   "outputs": [
    {
     "name": "stdout",
     "output_type": "stream",
     "text": [
      "<class 'pandas.core.frame.DataFrame'>\n",
      "Index: 16714 entries, 0 to 16714\n",
      "Data columns (total 11 columns):\n",
      " #   Column           Non-Null Count  Dtype  \n",
      "---  ------           --------------  -----  \n",
      " 0   name             16712 non-null  object \n",
      " 1   platform         16714 non-null  object \n",
      " 2   year_of_release  16714 non-null  int32  \n",
      " 3   genre            16712 non-null  object \n",
      " 4   na_sales         16714 non-null  float64\n",
      " 5   eu_sales         16714 non-null  float64\n",
      " 6   jp_sales         16714 non-null  float64\n",
      " 7   other_sales      16714 non-null  float64\n",
      " 8   critic_score     8137 non-null   float64\n",
      " 9   user_score       7590 non-null   float64\n",
      " 10  rating           9949 non-null   object \n",
      "dtypes: float64(6), int32(1), object(4)\n",
      "memory usage: 1.5+ MB\n"
     ]
    },
    {
     "data": {
      "text/html": [
       "<div>\n",
       "<style scoped>\n",
       "    .dataframe tbody tr th:only-of-type {\n",
       "        vertical-align: middle;\n",
       "    }\n",
       "\n",
       "    .dataframe tbody tr th {\n",
       "        vertical-align: top;\n",
       "    }\n",
       "\n",
       "    .dataframe thead th {\n",
       "        text-align: right;\n",
       "    }\n",
       "</style>\n",
       "<table border=\"1\" class=\"dataframe\">\n",
       "  <thead>\n",
       "    <tr style=\"text-align: right;\">\n",
       "      <th></th>\n",
       "      <th>name</th>\n",
       "      <th>platform</th>\n",
       "      <th>year_of_release</th>\n",
       "      <th>genre</th>\n",
       "      <th>na_sales</th>\n",
       "      <th>eu_sales</th>\n",
       "      <th>jp_sales</th>\n",
       "      <th>other_sales</th>\n",
       "      <th>critic_score</th>\n",
       "      <th>user_score</th>\n",
       "      <th>rating</th>\n",
       "    </tr>\n",
       "  </thead>\n",
       "  <tbody>\n",
       "    <tr>\n",
       "      <th>659</th>\n",
       "      <td>NaN</td>\n",
       "      <td>GEN</td>\n",
       "      <td>1993</td>\n",
       "      <td>NaN</td>\n",
       "      <td>1.78</td>\n",
       "      <td>0.53</td>\n",
       "      <td>0.00</td>\n",
       "      <td>0.08</td>\n",
       "      <td>NaN</td>\n",
       "      <td>NaN</td>\n",
       "      <td>NaN</td>\n",
       "    </tr>\n",
       "    <tr>\n",
       "      <th>14244</th>\n",
       "      <td>NaN</td>\n",
       "      <td>GEN</td>\n",
       "      <td>1993</td>\n",
       "      <td>NaN</td>\n",
       "      <td>0.00</td>\n",
       "      <td>0.00</td>\n",
       "      <td>0.03</td>\n",
       "      <td>0.00</td>\n",
       "      <td>NaN</td>\n",
       "      <td>NaN</td>\n",
       "      <td>NaN</td>\n",
       "    </tr>\n",
       "  </tbody>\n",
       "</table>\n",
       "</div>"
      ],
      "text/plain": [
       "      name platform  year_of_release genre  na_sales  eu_sales  jp_sales  \\\n",
       "659    NaN      GEN             1993   NaN      1.78      0.53      0.00   \n",
       "14244  NaN      GEN             1993   NaN      0.00      0.00      0.03   \n",
       "\n",
       "       other_sales  critic_score  user_score rating  \n",
       "659           0.08           NaN         NaN    NaN  \n",
       "14244         0.00           NaN         NaN    NaN  "
      ]
     },
     "execution_count": 93,
     "metadata": {},
     "output_type": "execute_result"
    }
   ],
   "source": [
    "to_delete_index = df[df[\"year_of_release\"].isnull()].index\n",
    "df.drop(index=to_delete_index, inplace=True)\n",
    "df[\"year_of_release\"] = df[\"year_of_release\"].astype(int)\n",
    "df.info()\n",
    "df[\"year_of_release\"].unique()\n"
   ]
  },
  {
   "cell_type": "markdown",
   "metadata": {},
   "source": [
    "Now I'll create a new column with the total sales (involving the 3 areas)"
   ]
  },
  {
   "cell_type": "code",
   "execution_count": 69,
   "metadata": {},
   "outputs": [
    {
     "data": {
      "text/html": [
       "<div>\n",
       "<style scoped>\n",
       "    .dataframe tbody tr th:only-of-type {\n",
       "        vertical-align: middle;\n",
       "    }\n",
       "\n",
       "    .dataframe tbody tr th {\n",
       "        vertical-align: top;\n",
       "    }\n",
       "\n",
       "    .dataframe thead th {\n",
       "        text-align: right;\n",
       "    }\n",
       "</style>\n",
       "<table border=\"1\" class=\"dataframe\">\n",
       "  <thead>\n",
       "    <tr style=\"text-align: right;\">\n",
       "      <th></th>\n",
       "      <th>name</th>\n",
       "      <th>platform</th>\n",
       "      <th>year_of_release</th>\n",
       "      <th>genre</th>\n",
       "      <th>na_sales</th>\n",
       "      <th>eu_sales</th>\n",
       "      <th>jp_sales</th>\n",
       "      <th>other_sales</th>\n",
       "      <th>critic_score</th>\n",
       "      <th>user_score</th>\n",
       "      <th>rating</th>\n",
       "      <th>total_sales</th>\n",
       "    </tr>\n",
       "  </thead>\n",
       "  <tbody>\n",
       "    <tr>\n",
       "      <th>0</th>\n",
       "      <td>Wii Sports</td>\n",
       "      <td>Wii</td>\n",
       "      <td>2006</td>\n",
       "      <td>Sports</td>\n",
       "      <td>41.36</td>\n",
       "      <td>28.96</td>\n",
       "      <td>3.77</td>\n",
       "      <td>8.45</td>\n",
       "      <td>76.0</td>\n",
       "      <td>8.0</td>\n",
       "      <td>E</td>\n",
       "      <td>82.54</td>\n",
       "    </tr>\n",
       "    <tr>\n",
       "      <th>1</th>\n",
       "      <td>Super Mario Bros.</td>\n",
       "      <td>NES</td>\n",
       "      <td>1985</td>\n",
       "      <td>Platform</td>\n",
       "      <td>29.08</td>\n",
       "      <td>3.58</td>\n",
       "      <td>6.81</td>\n",
       "      <td>0.77</td>\n",
       "      <td>NaN</td>\n",
       "      <td>NaN</td>\n",
       "      <td>NaN</td>\n",
       "      <td>40.24</td>\n",
       "    </tr>\n",
       "    <tr>\n",
       "      <th>2</th>\n",
       "      <td>Mario Kart Wii</td>\n",
       "      <td>Wii</td>\n",
       "      <td>2008</td>\n",
       "      <td>Racing</td>\n",
       "      <td>15.68</td>\n",
       "      <td>12.76</td>\n",
       "      <td>3.79</td>\n",
       "      <td>3.29</td>\n",
       "      <td>82.0</td>\n",
       "      <td>8.3</td>\n",
       "      <td>E</td>\n",
       "      <td>35.52</td>\n",
       "    </tr>\n",
       "    <tr>\n",
       "      <th>3</th>\n",
       "      <td>Wii Sports Resort</td>\n",
       "      <td>Wii</td>\n",
       "      <td>2009</td>\n",
       "      <td>Sports</td>\n",
       "      <td>15.61</td>\n",
       "      <td>10.93</td>\n",
       "      <td>3.28</td>\n",
       "      <td>2.95</td>\n",
       "      <td>80.0</td>\n",
       "      <td>8.0</td>\n",
       "      <td>E</td>\n",
       "      <td>32.77</td>\n",
       "    </tr>\n",
       "    <tr>\n",
       "      <th>4</th>\n",
       "      <td>Pokemon Red/Pokemon Blue</td>\n",
       "      <td>GB</td>\n",
       "      <td>1996</td>\n",
       "      <td>Role-Playing</td>\n",
       "      <td>11.27</td>\n",
       "      <td>8.89</td>\n",
       "      <td>10.22</td>\n",
       "      <td>1.00</td>\n",
       "      <td>NaN</td>\n",
       "      <td>NaN</td>\n",
       "      <td>NaN</td>\n",
       "      <td>31.38</td>\n",
       "    </tr>\n",
       "    <tr>\n",
       "      <th>...</th>\n",
       "      <td>...</td>\n",
       "      <td>...</td>\n",
       "      <td>...</td>\n",
       "      <td>...</td>\n",
       "      <td>...</td>\n",
       "      <td>...</td>\n",
       "      <td>...</td>\n",
       "      <td>...</td>\n",
       "      <td>...</td>\n",
       "      <td>...</td>\n",
       "      <td>...</td>\n",
       "      <td>...</td>\n",
       "    </tr>\n",
       "    <tr>\n",
       "      <th>16710</th>\n",
       "      <td>Samurai Warriors: Sanada Maru</td>\n",
       "      <td>PS3</td>\n",
       "      <td>2016</td>\n",
       "      <td>Action</td>\n",
       "      <td>0.00</td>\n",
       "      <td>0.00</td>\n",
       "      <td>0.01</td>\n",
       "      <td>0.00</td>\n",
       "      <td>NaN</td>\n",
       "      <td>NaN</td>\n",
       "      <td>NaN</td>\n",
       "      <td>0.01</td>\n",
       "    </tr>\n",
       "    <tr>\n",
       "      <th>16711</th>\n",
       "      <td>LMA Manager 2007</td>\n",
       "      <td>X360</td>\n",
       "      <td>2006</td>\n",
       "      <td>Sports</td>\n",
       "      <td>0.00</td>\n",
       "      <td>0.01</td>\n",
       "      <td>0.00</td>\n",
       "      <td>0.00</td>\n",
       "      <td>NaN</td>\n",
       "      <td>NaN</td>\n",
       "      <td>NaN</td>\n",
       "      <td>0.01</td>\n",
       "    </tr>\n",
       "    <tr>\n",
       "      <th>16712</th>\n",
       "      <td>Haitaka no Psychedelica</td>\n",
       "      <td>PSV</td>\n",
       "      <td>2016</td>\n",
       "      <td>Adventure</td>\n",
       "      <td>0.00</td>\n",
       "      <td>0.00</td>\n",
       "      <td>0.01</td>\n",
       "      <td>0.00</td>\n",
       "      <td>NaN</td>\n",
       "      <td>NaN</td>\n",
       "      <td>NaN</td>\n",
       "      <td>0.01</td>\n",
       "    </tr>\n",
       "    <tr>\n",
       "      <th>16713</th>\n",
       "      <td>Spirits &amp; Spells</td>\n",
       "      <td>GBA</td>\n",
       "      <td>2003</td>\n",
       "      <td>Platform</td>\n",
       "      <td>0.01</td>\n",
       "      <td>0.00</td>\n",
       "      <td>0.00</td>\n",
       "      <td>0.00</td>\n",
       "      <td>NaN</td>\n",
       "      <td>NaN</td>\n",
       "      <td>NaN</td>\n",
       "      <td>0.01</td>\n",
       "    </tr>\n",
       "    <tr>\n",
       "      <th>16714</th>\n",
       "      <td>Winning Post 8 2016</td>\n",
       "      <td>PSV</td>\n",
       "      <td>2016</td>\n",
       "      <td>Simulation</td>\n",
       "      <td>0.00</td>\n",
       "      <td>0.00</td>\n",
       "      <td>0.01</td>\n",
       "      <td>0.00</td>\n",
       "      <td>NaN</td>\n",
       "      <td>NaN</td>\n",
       "      <td>NaN</td>\n",
       "      <td>0.01</td>\n",
       "    </tr>\n",
       "  </tbody>\n",
       "</table>\n",
       "<p>16714 rows × 12 columns</p>\n",
       "</div>"
      ],
      "text/plain": [
       "                                name platform  year_of_release         genre  \\\n",
       "0                         Wii Sports      Wii             2006        Sports   \n",
       "1                  Super Mario Bros.      NES             1985      Platform   \n",
       "2                     Mario Kart Wii      Wii             2008        Racing   \n",
       "3                  Wii Sports Resort      Wii             2009        Sports   \n",
       "4           Pokemon Red/Pokemon Blue       GB             1996  Role-Playing   \n",
       "...                              ...      ...              ...           ...   \n",
       "16710  Samurai Warriors: Sanada Maru      PS3             2016        Action   \n",
       "16711               LMA Manager 2007     X360             2006        Sports   \n",
       "16712        Haitaka no Psychedelica      PSV             2016     Adventure   \n",
       "16713               Spirits & Spells      GBA             2003      Platform   \n",
       "16714            Winning Post 8 2016      PSV             2016    Simulation   \n",
       "\n",
       "       na_sales  eu_sales  jp_sales  other_sales  critic_score  user_score  \\\n",
       "0         41.36     28.96      3.77         8.45          76.0         8.0   \n",
       "1         29.08      3.58      6.81         0.77           NaN         NaN   \n",
       "2         15.68     12.76      3.79         3.29          82.0         8.3   \n",
       "3         15.61     10.93      3.28         2.95          80.0         8.0   \n",
       "4         11.27      8.89     10.22         1.00           NaN         NaN   \n",
       "...         ...       ...       ...          ...           ...         ...   \n",
       "16710      0.00      0.00      0.01         0.00           NaN         NaN   \n",
       "16711      0.00      0.01      0.00         0.00           NaN         NaN   \n",
       "16712      0.00      0.00      0.01         0.00           NaN         NaN   \n",
       "16713      0.01      0.00      0.00         0.00           NaN         NaN   \n",
       "16714      0.00      0.00      0.01         0.00           NaN         NaN   \n",
       "\n",
       "      rating  total_sales  \n",
       "0          E        82.54  \n",
       "1        NaN        40.24  \n",
       "2          E        35.52  \n",
       "3          E        32.77  \n",
       "4        NaN        31.38  \n",
       "...      ...          ...  \n",
       "16710    NaN         0.01  \n",
       "16711    NaN         0.01  \n",
       "16712    NaN         0.01  \n",
       "16713    NaN         0.01  \n",
       "16714    NaN         0.01  \n",
       "\n",
       "[16714 rows x 12 columns]"
      ]
     },
     "execution_count": 69,
     "metadata": {},
     "output_type": "execute_result"
    }
   ],
   "source": [
    "df[\"total_sales\"] = df[\"na_sales\"] + df[\"eu_sales\"] + df[\"jp_sales\"] + df[\"other_sales\"]\n",
    "df"
   ]
  },
  {
   "cell_type": "markdown",
   "metadata": {},
   "source": [
    "# Step 3 Analyzing the data"
   ]
  },
  {
   "cell_type": "markdown",
   "metadata": {},
   "source": [
    "### 3.1 Games launched by year"
   ]
  },
  {
   "cell_type": "code",
   "execution_count": 94,
   "metadata": {},
   "outputs": [],
   "source": [
    "games_by_year_df = df.groupby(by=\"year_of_release\")[\"name\"].count().reset_index()"
   ]
  },
  {
   "cell_type": "markdown",
   "metadata": {},
   "source": [
    "The code below has been disabled because I found easier/quicker way using use plotly express for the presentation of this project"
   ]
  },
  {
   "cell_type": "code",
   "execution_count": 79,
   "metadata": {},
   "outputs": [],
   "source": [
    "# plt.bar(games_by_year_df[\"year_of_release\"],height=games_by_year_df[\"name\"])\n",
    "# plt.show()\n",
    "# plt.hist(x=df[\"year_of_release\"], bins=20)\n",
    "# plt.show()"
   ]
  },
  {
   "cell_type": "code",
   "execution_count": 80,
   "metadata": {},
   "outputs": [
    {
     "data": {
      "application/vnd.plotly.v1+json": {
       "config": {
        "plotlyServerURL": "https://plot.ly"
       },
       "data": [
        {
         "hovertemplate": "x=%{x}<br>y=%{y}<extra></extra>",
         "legendgroup": "",
         "line": {
          "color": "purple",
          "dash": "solid"
         },
         "marker": {
          "symbol": "circle"
         },
         "mode": "lines",
         "name": "",
         "orientation": "v",
         "showlegend": false,
         "type": "scatter",
         "x": [
          1977,
          1978,
          1979,
          1980,
          1981,
          1982,
          1983,
          1984,
          1985,
          1986,
          1987,
          1988,
          1989,
          1990,
          1991,
          1992,
          1993,
          1994,
          1995,
          1996,
          1997,
          1998,
          1999,
          2000,
          2001,
          2002,
          2003,
          2004,
          2005,
          2006,
          2007,
          2008,
          2009,
          2010,
          2011,
          2012,
          2013,
          2014,
          2015,
          2016
         ],
         "xaxis": "x",
         "y": [
          2,
          6,
          2,
          12,
          47,
          38,
          17,
          14,
          14,
          21,
          16,
          15,
          18,
          16,
          41,
          43,
          60,
          121,
          219,
          263,
          290,
          381,
          341,
          353,
          488,
          852,
          792,
          774,
          955,
          1026,
          1214,
          1449,
          1444,
          1277,
          1176,
          668,
          548,
          584,
          611,
          504
         ],
         "yaxis": "y"
        }
       ],
       "layout": {
        "legend": {
         "tracegroupgap": 0
        },
        "template": {
         "data": {
          "bar": [
           {
            "error_x": {
             "color": "#2a3f5f"
            },
            "error_y": {
             "color": "#2a3f5f"
            },
            "marker": {
             "line": {
              "color": "#E5ECF6",
              "width": 0.5
             },
             "pattern": {
              "fillmode": "overlay",
              "size": 10,
              "solidity": 0.2
             }
            },
            "type": "bar"
           }
          ],
          "barpolar": [
           {
            "marker": {
             "line": {
              "color": "#E5ECF6",
              "width": 0.5
             },
             "pattern": {
              "fillmode": "overlay",
              "size": 10,
              "solidity": 0.2
             }
            },
            "type": "barpolar"
           }
          ],
          "carpet": [
           {
            "aaxis": {
             "endlinecolor": "#2a3f5f",
             "gridcolor": "white",
             "linecolor": "white",
             "minorgridcolor": "white",
             "startlinecolor": "#2a3f5f"
            },
            "baxis": {
             "endlinecolor": "#2a3f5f",
             "gridcolor": "white",
             "linecolor": "white",
             "minorgridcolor": "white",
             "startlinecolor": "#2a3f5f"
            },
            "type": "carpet"
           }
          ],
          "choropleth": [
           {
            "colorbar": {
             "outlinewidth": 0,
             "ticks": ""
            },
            "type": "choropleth"
           }
          ],
          "contour": [
           {
            "colorbar": {
             "outlinewidth": 0,
             "ticks": ""
            },
            "colorscale": [
             [
              0,
              "#0d0887"
             ],
             [
              0.1111111111111111,
              "#46039f"
             ],
             [
              0.2222222222222222,
              "#7201a8"
             ],
             [
              0.3333333333333333,
              "#9c179e"
             ],
             [
              0.4444444444444444,
              "#bd3786"
             ],
             [
              0.5555555555555556,
              "#d8576b"
             ],
             [
              0.6666666666666666,
              "#ed7953"
             ],
             [
              0.7777777777777778,
              "#fb9f3a"
             ],
             [
              0.8888888888888888,
              "#fdca26"
             ],
             [
              1,
              "#f0f921"
             ]
            ],
            "type": "contour"
           }
          ],
          "contourcarpet": [
           {
            "colorbar": {
             "outlinewidth": 0,
             "ticks": ""
            },
            "type": "contourcarpet"
           }
          ],
          "heatmap": [
           {
            "colorbar": {
             "outlinewidth": 0,
             "ticks": ""
            },
            "colorscale": [
             [
              0,
              "#0d0887"
             ],
             [
              0.1111111111111111,
              "#46039f"
             ],
             [
              0.2222222222222222,
              "#7201a8"
             ],
             [
              0.3333333333333333,
              "#9c179e"
             ],
             [
              0.4444444444444444,
              "#bd3786"
             ],
             [
              0.5555555555555556,
              "#d8576b"
             ],
             [
              0.6666666666666666,
              "#ed7953"
             ],
             [
              0.7777777777777778,
              "#fb9f3a"
             ],
             [
              0.8888888888888888,
              "#fdca26"
             ],
             [
              1,
              "#f0f921"
             ]
            ],
            "type": "heatmap"
           }
          ],
          "heatmapgl": [
           {
            "colorbar": {
             "outlinewidth": 0,
             "ticks": ""
            },
            "colorscale": [
             [
              0,
              "#0d0887"
             ],
             [
              0.1111111111111111,
              "#46039f"
             ],
             [
              0.2222222222222222,
              "#7201a8"
             ],
             [
              0.3333333333333333,
              "#9c179e"
             ],
             [
              0.4444444444444444,
              "#bd3786"
             ],
             [
              0.5555555555555556,
              "#d8576b"
             ],
             [
              0.6666666666666666,
              "#ed7953"
             ],
             [
              0.7777777777777778,
              "#fb9f3a"
             ],
             [
              0.8888888888888888,
              "#fdca26"
             ],
             [
              1,
              "#f0f921"
             ]
            ],
            "type": "heatmapgl"
           }
          ],
          "histogram": [
           {
            "marker": {
             "pattern": {
              "fillmode": "overlay",
              "size": 10,
              "solidity": 0.2
             }
            },
            "type": "histogram"
           }
          ],
          "histogram2d": [
           {
            "colorbar": {
             "outlinewidth": 0,
             "ticks": ""
            },
            "colorscale": [
             [
              0,
              "#0d0887"
             ],
             [
              0.1111111111111111,
              "#46039f"
             ],
             [
              0.2222222222222222,
              "#7201a8"
             ],
             [
              0.3333333333333333,
              "#9c179e"
             ],
             [
              0.4444444444444444,
              "#bd3786"
             ],
             [
              0.5555555555555556,
              "#d8576b"
             ],
             [
              0.6666666666666666,
              "#ed7953"
             ],
             [
              0.7777777777777778,
              "#fb9f3a"
             ],
             [
              0.8888888888888888,
              "#fdca26"
             ],
             [
              1,
              "#f0f921"
             ]
            ],
            "type": "histogram2d"
           }
          ],
          "histogram2dcontour": [
           {
            "colorbar": {
             "outlinewidth": 0,
             "ticks": ""
            },
            "colorscale": [
             [
              0,
              "#0d0887"
             ],
             [
              0.1111111111111111,
              "#46039f"
             ],
             [
              0.2222222222222222,
              "#7201a8"
             ],
             [
              0.3333333333333333,
              "#9c179e"
             ],
             [
              0.4444444444444444,
              "#bd3786"
             ],
             [
              0.5555555555555556,
              "#d8576b"
             ],
             [
              0.6666666666666666,
              "#ed7953"
             ],
             [
              0.7777777777777778,
              "#fb9f3a"
             ],
             [
              0.8888888888888888,
              "#fdca26"
             ],
             [
              1,
              "#f0f921"
             ]
            ],
            "type": "histogram2dcontour"
           }
          ],
          "mesh3d": [
           {
            "colorbar": {
             "outlinewidth": 0,
             "ticks": ""
            },
            "type": "mesh3d"
           }
          ],
          "parcoords": [
           {
            "line": {
             "colorbar": {
              "outlinewidth": 0,
              "ticks": ""
             }
            },
            "type": "parcoords"
           }
          ],
          "pie": [
           {
            "automargin": true,
            "type": "pie"
           }
          ],
          "scatter": [
           {
            "fillpattern": {
             "fillmode": "overlay",
             "size": 10,
             "solidity": 0.2
            },
            "type": "scatter"
           }
          ],
          "scatter3d": [
           {
            "line": {
             "colorbar": {
              "outlinewidth": 0,
              "ticks": ""
             }
            },
            "marker": {
             "colorbar": {
              "outlinewidth": 0,
              "ticks": ""
             }
            },
            "type": "scatter3d"
           }
          ],
          "scattercarpet": [
           {
            "marker": {
             "colorbar": {
              "outlinewidth": 0,
              "ticks": ""
             }
            },
            "type": "scattercarpet"
           }
          ],
          "scattergeo": [
           {
            "marker": {
             "colorbar": {
              "outlinewidth": 0,
              "ticks": ""
             }
            },
            "type": "scattergeo"
           }
          ],
          "scattergl": [
           {
            "marker": {
             "colorbar": {
              "outlinewidth": 0,
              "ticks": ""
             }
            },
            "type": "scattergl"
           }
          ],
          "scattermapbox": [
           {
            "marker": {
             "colorbar": {
              "outlinewidth": 0,
              "ticks": ""
             }
            },
            "type": "scattermapbox"
           }
          ],
          "scatterpolar": [
           {
            "marker": {
             "colorbar": {
              "outlinewidth": 0,
              "ticks": ""
             }
            },
            "type": "scatterpolar"
           }
          ],
          "scatterpolargl": [
           {
            "marker": {
             "colorbar": {
              "outlinewidth": 0,
              "ticks": ""
             }
            },
            "type": "scatterpolargl"
           }
          ],
          "scatterternary": [
           {
            "marker": {
             "colorbar": {
              "outlinewidth": 0,
              "ticks": ""
             }
            },
            "type": "scatterternary"
           }
          ],
          "surface": [
           {
            "colorbar": {
             "outlinewidth": 0,
             "ticks": ""
            },
            "colorscale": [
             [
              0,
              "#0d0887"
             ],
             [
              0.1111111111111111,
              "#46039f"
             ],
             [
              0.2222222222222222,
              "#7201a8"
             ],
             [
              0.3333333333333333,
              "#9c179e"
             ],
             [
              0.4444444444444444,
              "#bd3786"
             ],
             [
              0.5555555555555556,
              "#d8576b"
             ],
             [
              0.6666666666666666,
              "#ed7953"
             ],
             [
              0.7777777777777778,
              "#fb9f3a"
             ],
             [
              0.8888888888888888,
              "#fdca26"
             ],
             [
              1,
              "#f0f921"
             ]
            ],
            "type": "surface"
           }
          ],
          "table": [
           {
            "cells": {
             "fill": {
              "color": "#EBF0F8"
             },
             "line": {
              "color": "white"
             }
            },
            "header": {
             "fill": {
              "color": "#C8D4E3"
             },
             "line": {
              "color": "white"
             }
            },
            "type": "table"
           }
          ]
         },
         "layout": {
          "annotationdefaults": {
           "arrowcolor": "#2a3f5f",
           "arrowhead": 0,
           "arrowwidth": 1
          },
          "autotypenumbers": "strict",
          "coloraxis": {
           "colorbar": {
            "outlinewidth": 0,
            "ticks": ""
           }
          },
          "colorscale": {
           "diverging": [
            [
             0,
             "#8e0152"
            ],
            [
             0.1,
             "#c51b7d"
            ],
            [
             0.2,
             "#de77ae"
            ],
            [
             0.3,
             "#f1b6da"
            ],
            [
             0.4,
             "#fde0ef"
            ],
            [
             0.5,
             "#f7f7f7"
            ],
            [
             0.6,
             "#e6f5d0"
            ],
            [
             0.7,
             "#b8e186"
            ],
            [
             0.8,
             "#7fbc41"
            ],
            [
             0.9,
             "#4d9221"
            ],
            [
             1,
             "#276419"
            ]
           ],
           "sequential": [
            [
             0,
             "#0d0887"
            ],
            [
             0.1111111111111111,
             "#46039f"
            ],
            [
             0.2222222222222222,
             "#7201a8"
            ],
            [
             0.3333333333333333,
             "#9c179e"
            ],
            [
             0.4444444444444444,
             "#bd3786"
            ],
            [
             0.5555555555555556,
             "#d8576b"
            ],
            [
             0.6666666666666666,
             "#ed7953"
            ],
            [
             0.7777777777777778,
             "#fb9f3a"
            ],
            [
             0.8888888888888888,
             "#fdca26"
            ],
            [
             1,
             "#f0f921"
            ]
           ],
           "sequentialminus": [
            [
             0,
             "#0d0887"
            ],
            [
             0.1111111111111111,
             "#46039f"
            ],
            [
             0.2222222222222222,
             "#7201a8"
            ],
            [
             0.3333333333333333,
             "#9c179e"
            ],
            [
             0.4444444444444444,
             "#bd3786"
            ],
            [
             0.5555555555555556,
             "#d8576b"
            ],
            [
             0.6666666666666666,
             "#ed7953"
            ],
            [
             0.7777777777777778,
             "#fb9f3a"
            ],
            [
             0.8888888888888888,
             "#fdca26"
            ],
            [
             1,
             "#f0f921"
            ]
           ]
          },
          "colorway": [
           "#636efa",
           "#EF553B",
           "#00cc96",
           "#ab63fa",
           "#FFA15A",
           "#19d3f3",
           "#FF6692",
           "#B6E880",
           "#FF97FF",
           "#FECB52"
          ],
          "font": {
           "color": "#2a3f5f"
          },
          "geo": {
           "bgcolor": "white",
           "lakecolor": "white",
           "landcolor": "#E5ECF6",
           "showlakes": true,
           "showland": true,
           "subunitcolor": "white"
          },
          "hoverlabel": {
           "align": "left"
          },
          "hovermode": "closest",
          "mapbox": {
           "style": "light"
          },
          "paper_bgcolor": "white",
          "plot_bgcolor": "#E5ECF6",
          "polar": {
           "angularaxis": {
            "gridcolor": "white",
            "linecolor": "white",
            "ticks": ""
           },
           "bgcolor": "#E5ECF6",
           "radialaxis": {
            "gridcolor": "white",
            "linecolor": "white",
            "ticks": ""
           }
          },
          "scene": {
           "xaxis": {
            "backgroundcolor": "#E5ECF6",
            "gridcolor": "white",
            "gridwidth": 2,
            "linecolor": "white",
            "showbackground": true,
            "ticks": "",
            "zerolinecolor": "white"
           },
           "yaxis": {
            "backgroundcolor": "#E5ECF6",
            "gridcolor": "white",
            "gridwidth": 2,
            "linecolor": "white",
            "showbackground": true,
            "ticks": "",
            "zerolinecolor": "white"
           },
           "zaxis": {
            "backgroundcolor": "#E5ECF6",
            "gridcolor": "white",
            "gridwidth": 2,
            "linecolor": "white",
            "showbackground": true,
            "ticks": "",
            "zerolinecolor": "white"
           }
          },
          "shapedefaults": {
           "line": {
            "color": "#2a3f5f"
           }
          },
          "ternary": {
           "aaxis": {
            "gridcolor": "white",
            "linecolor": "white",
            "ticks": ""
           },
           "baxis": {
            "gridcolor": "white",
            "linecolor": "white",
            "ticks": ""
           },
           "bgcolor": "#E5ECF6",
           "caxis": {
            "gridcolor": "white",
            "linecolor": "white",
            "ticks": ""
           }
          },
          "title": {
           "x": 0.05
          },
          "xaxis": {
           "automargin": true,
           "gridcolor": "white",
           "linecolor": "white",
           "ticks": "",
           "title": {
            "standoff": 15
           },
           "zerolinecolor": "white",
           "zerolinewidth": 2
          },
          "yaxis": {
           "automargin": true,
           "gridcolor": "white",
           "linecolor": "white",
           "ticks": "",
           "title": {
            "standoff": 15
           },
           "zerolinecolor": "white",
           "zerolinewidth": 2
          }
         }
        },
        "title": {
         "text": "Released Games by Year (All regions)"
        },
        "xaxis": {
         "anchor": "y",
         "domain": [
          0,
          1
         ],
         "title": {
          "text": "Years"
         }
        },
        "yaxis": {
         "anchor": "x",
         "domain": [
          0,
          1
         ],
         "title": {
          "text": "Count of games"
         }
        }
       }
      }
     },
     "metadata": {},
     "output_type": "display_data"
    }
   ],
   "source": [
    "\n",
    "fig1 = px.line(df,x=games_by_year_df[\"year_of_release\"],y=games_by_year_df[\"name\"], color_discrete_sequence=[\"purple\"] , title='Released Games by Year (All regions)')\n",
    "fig1.update_layout(xaxis_title = 'Years' , yaxis_title= 'Count of games')\n"
   ]
  },
  {
   "cell_type": "markdown",
   "metadata": {},
   "source": [
    "The bar char above show us that the majority of the games were launched between 2002 to 2011, being 2008 and 2009 the best years for releases. Despite of the continous increments per year, we had a decline since 2010 to 2016."
   ]
  },
  {
   "cell_type": "code",
   "execution_count": 81,
   "metadata": {},
   "outputs": [
    {
     "data": {
      "application/vnd.plotly.v1+json": {
       "config": {
        "plotlyServerURL": "https://plot.ly"
       },
       "data": [
        {
         "alignmentgroup": "True",
         "bingroup": "x",
         "hovertemplate": "year_of_release=%{x}<br>count=%{y}<extra></extra>",
         "legendgroup": "",
         "marker": {
          "color": "#636efa",
          "pattern": {
           "shape": ""
          }
         },
         "name": "",
         "nbinsx": 10,
         "offsetgroup": "",
         "orientation": "v",
         "showlegend": false,
         "type": "histogram",
         "x": [
          2006,
          1985,
          2008,
          2009,
          1996,
          1989,
          2006,
          2006,
          2009,
          1984,
          2005,
          2005,
          1999,
          2007,
          2010,
          2009,
          2013,
          2004,
          1990,
          2005,
          2006,
          1989,
          1988,
          2013,
          2002,
          2002,
          2005,
          2010,
          2001,
          2011,
          1998,
          2015,
          2010,
          2013,
          2012,
          2012,
          2009,
          2011,
          2001,
          2008,
          2011,
          2010,
          2014,
          2005,
          2007,
          1996,
          2009,
          2014,
          2004,
          2007,
          1992,
          2008,
          1997,
          2011,
          2010,
          2009,
          1993,
          2008,
          2004,
          2004,
          2013,
          2011,
          2012,
          1996,
          2010,
          1997,
          2012,
          1999,
          2010,
          2013,
          2007,
          1994,
          2013,
          2012,
          2007,
          2011,
          1992,
          2015,
          2004,
          2010,
          2007,
          2012,
          1997,
          2012,
          2001,
          2009,
          2007,
          2015,
          1999,
          1982,
          2008,
          2005,
          2014,
          1998,
          2016,
          1997,
          2014,
          2010,
          1988,
          2015,
          2008,
          2011,
          2003,
          2009,
          2011,
          2015,
          1998,
          2006,
          2016,
          1998,
          2014,
          2001,
          2003,
          2004,
          2002,
          1996,
          2012,
          2008,
          2011,
          2010,
          2007,
          2009,
          2011,
          2005,
          1986,
          2010,
          2013,
          2012,
          2010,
          2001,
          2011,
          2004,
          2002,
          2000,
          2009,
          2010,
          2002,
          1992,
          2004,
          1999,
          2011,
          2010,
          2006,
          2014,
          2001,
          1992,
          1998,
          2008,
          2006,
          2013,
          2008,
          1998,
          2009,
          1996,
          2014,
          2007,
          2006,
          1988,
          1999,
          2009,
          2007,
          2009,
          2001,
          2008,
          2011,
          2014,
          2001,
          2001,
          1999,
          2001,
          2008,
          2016,
          1989,
          2009,
          1999,
          2000,
          2012,
          2003,
          1999,
          2014,
          2014,
          2009,
          1997,
          2003,
          2013,
          2012,
          2004,
          2003,
          2007,
          1994,
          2012,
          1995,
          2012,
          2003,
          1992,
          1996,
          2006,
          2010,
          2008,
          2009,
          2007,
          1999,
          2010,
          1996,
          2006,
          1999,
          1999,
          1998,
          2007,
          2007,
          2007,
          2008,
          2007,
          2005,
          1997,
          2010,
          2014,
          1990,
          2010,
          2007,
          2010,
          1999,
          2007,
          2000,
          2011,
          2014,
          2003,
          2000,
          2002,
          1996,
          2008,
          2015,
          1991,
          2002,
          2007,
          2013,
          2011,
          2009,
          2004,
          2007,
          1981,
          2006,
          2015,
          2002,
          2000,
          2016,
          2005,
          2015,
          2012,
          2001,
          2006,
          2006,
          1987,
          2005,
          2010,
          2014,
          2006,
          1991,
          2005,
          2011,
          2013,
          2014,
          1980,
          2014,
          2014,
          2008,
          2001,
          2009,
          2004,
          2011,
          2015,
          2013,
          2006,
          1995,
          2005,
          2003,
          2007,
          2011,
          2011,
          1989,
          2009,
          1984,
          1997,
          2002,
          1997,
          1995,
          2006,
          1992,
          2007,
          2016,
          2007,
          2005,
          2010,
          2007,
          2007,
          2014,
          1996,
          2000,
          2014,
          1997,
          1984,
          2005,
          2009,
          2015,
          2014,
          2015,
          2011,
          2008,
          2007,
          1994,
          2009,
          2003,
          2014,
          2011,
          2015,
          2005,
          1988,
          2006,
          2011,
          2004,
          2010,
          1995,
          1992,
          2013,
          2007,
          2016,
          2007,
          1996,
          2009,
          2008,
          2002,
          2007,
          2001,
          2011,
          1999,
          2007,
          2000,
          2013,
          2004,
          1998,
          2009,
          2002,
          2015,
          2007,
          2005,
          1998,
          2002,
          2001,
          1999,
          2007,
          2005,
          2008,
          2009,
          2004,
          1994,
          2001,
          2001,
          2013,
          2005,
          2013,
          2007,
          2000,
          1997,
          2006,
          2002,
          1997,
          2001,
          2005,
          2000,
          2010,
          1999,
          2008,
          1996,
          2014,
          1985,
          2009,
          2010,
          2003,
          2013,
          2009,
          2013,
          2010,
          2009,
          2008,
          2006,
          2013,
          2009,
          2002,
          1994,
          1998,
          2015,
          2004,
          1990,
          2002,
          2011,
          2000,
          2015,
          2008,
          2014,
          1998,
          2000,
          2012,
          1998,
          2006,
          2002,
          2002,
          2015,
          2005,
          2009,
          2001,
          2013,
          2003,
          2014,
          2015,
          2003,
          2008,
          2009,
          2015,
          2008,
          1995,
          2015,
          2013,
          2014,
          1999,
          2015,
          2000,
          1983,
          1995,
          1995,
          2008,
          2003,
          2007,
          2010,
          2011,
          2001,
          2001,
          2007,
          2008,
          2000,
          2012,
          1998,
          1999,
          2005,
          1990,
          2008,
          2010,
          2006,
          2007,
          2013,
          2012,
          2010,
          2002,
          2001,
          1986,
          1994,
          2002,
          2008,
          2015,
          2014,
          2012,
          2008,
          2008,
          2012,
          2010,
          1995,
          2008,
          2002,
          1987,
          2002,
          2013,
          2009,
          2012,
          2010,
          2012,
          2007,
          2005,
          1993,
          2000,
          2002,
          2001,
          2011,
          2014,
          2003,
          2002,
          2014,
          2010,
          1996,
          2003,
          2005,
          2001,
          2009,
          2009,
          2008,
          2013,
          2014,
          2002,
          2007,
          2004,
          2003,
          2008,
          2001,
          2007,
          2004,
          2006,
          1999,
          2007,
          1998,
          2012,
          2002,
          2013,
          1996,
          1990,
          1997,
          2011,
          2009,
          2002,
          2007,
          2002,
          2010,
          2003,
          2011,
          1994,
          2010,
          2012,
          2007,
          2003,
          1997,
          1998,
          2001,
          2014,
          1992,
          1996,
          2011,
          2001,
          2003,
          2003,
          2010,
          2011,
          2011,
          2015,
          2003,
          2011,
          2008,
          2014,
          2006,
          2011,
          1980,
          1992,
          2009,
          2000,
          1986,
          2007,
          2015,
          2002,
          2001,
          1998,
          2011,
          2006,
          2011,
          2006,
          2013,
          2010,
          2004,
          2014,
          1992,
          2010,
          2009,
          2005,
          1998,
          2004,
          2008,
          2016,
          2006,
          2003,
          1986,
          2009,
          1996,
          2006,
          2011,
          2000,
          2010,
          2004,
          2009,
          2011,
          2006,
          2009,
          2010,
          2002,
          1990,
          2009,
          2004,
          2007,
          2008,
          2008,
          2006,
          2007,
          2004,
          2007,
          2007,
          2007,
          2010,
          2001,
          1987,
          2009,
          2012,
          2009,
          2003,
          2009,
          2008,
          1978,
          2001,
          2010,
          2013,
          2000,
          2012,
          1986,
          2008,
          2008,
          1999,
          2006,
          2003,
          2002,
          2007,
          2015,
          1998,
          2002,
          2008,
          2007,
          2012,
          2011,
          2008,
          2014,
          1992,
          1997,
          2008,
          1996,
          2003,
          1997,
          2010,
          2015,
          2016,
          2015,
          1988,
          1998,
          2008,
          2010,
          2013,
          2006,
          2003,
          2010,
          2001,
          1998,
          2007,
          2011,
          1996,
          1987,
          1997,
          2001,
          1994,
          1993,
          2005,
          2010,
          1998,
          2001,
          2011,
          2004,
          2004,
          2007,
          2004,
          2010,
          2009,
          1995,
          2008,
          1996,
          1998,
          2011,
          2007,
          2015,
          2008,
          2001,
          2015,
          2011,
          2008,
          2000,
          1997,
          2004,
          1999,
          1995,
          2012,
          1998,
          2012,
          2004,
          2013,
          1997,
          2015,
          2007,
          2004,
          2009,
          1983,
          2008,
          2010,
          2010,
          2008,
          1997,
          2011,
          2002,
          2001,
          2009,
          2016,
          2016,
          2002,
          1997,
          2004,
          2011,
          2013,
          2007,
          2001,
          2006,
          2010,
          2006,
          2013,
          2013,
          2001,
          2008,
          2013,
          1990,
          2009,
          2012,
          2003,
          2009,
          2013,
          1998,
          2007,
          2015,
          2008,
          2006,
          1981,
          2007,
          2013,
          2008,
          1986,
          2000,
          2010,
          2008,
          2010,
          2007,
          2003,
          1992,
          2000,
          2014,
          2011,
          2006,
          2000,
          2002,
          2014,
          2003,
          1998,
          1984,
          2016,
          2010,
          2001,
          2009,
          2008,
          2000,
          2006,
          1987,
          2013,
          2016,
          2012,
          1992,
          1988,
          1996,
          1983,
          1981,
          2007,
          2004,
          2003,
          2009,
          2001,
          1989,
          2011,
          2000,
          2002,
          2008,
          2003,
          2013,
          1998,
          2006,
          2002,
          2002,
          2015,
          2011,
          2009,
          2005,
          1997,
          2010,
          2003,
          2015,
          2013,
          2006,
          2010,
          2002,
          2006,
          1998,
          2003,
          2007,
          1994,
          2013,
          2011,
          2010,
          2005,
          2002,
          2006,
          2007,
          2014,
          2001,
          2009,
          2010,
          2010,
          2009,
          2005,
          2004,
          1998,
          2010,
          2010,
          2003,
          2007,
          2002,
          2010,
          2014,
          2008,
          2010,
          1992,
          2006,
          2005,
          2007,
          2003,
          2011,
          2007,
          1998,
          2008,
          2003,
          2005,
          2008,
          2005,
          2011,
          2011,
          2013,
          2012,
          2011,
          2014,
          2014,
          1993,
          2008,
          2008,
          2007,
          1997,
          1989,
          2002,
          2009,
          2010,
          1991,
          2002,
          2013,
          2002,
          2003,
          1981,
          2004,
          2014,
          1985,
          1986,
          2012,
          2006,
          2003,
          2012,
          2005,
          1994,
          2003,
          2003,
          2006,
          2008,
          1999,
          1989,
          2001,
          2010,
          2008,
          2004,
          2008,
          1997,
          2002,
          2013,
          2004,
          1993,
          1995,
          2008,
          2015,
          1998,
          2001,
          2014,
          2001,
          2003,
          2013,
          2004,
          1996,
          2008,
          2009,
          2000,
          2013,
          2014,
          2001,
          2013,
          2008,
          2013,
          2008,
          2008,
          2013,
          2008,
          1999,
          2004,
          1999,
          2005,
          2016,
          2009,
          1998,
          2007,
          2002,
          1998,
          2013,
          2001,
          2001,
          2009,
          2005,
          2004,
          1997,
          1999,
          2004,
          2008,
          2001,
          2015,
          1999,
          2004,
          2004,
          1984,
          2012,
          2001,
          2013,
          2009,
          2005,
          1998,
          2007,
          2005,
          1996,
          2014,
          1993,
          2010,
          2010,
          1995,
          2014,
          2011,
          2012,
          1994,
          2001,
          2001,
          2009,
          2007,
          2003,
          2000,
          2002,
          2016,
          2004,
          2008,
          2002,
          2006,
          1999,
          2010,
          2015,
          2014,
          2007,
          2013,
          1994,
          2011,
          2003,
          2001,
          2004,
          2005,
          1991,
          2000,
          2001,
          2006,
          2011,
          2007,
          1991,
          1998,
          2009,
          2004,
          2001,
          1994,
          1986,
          2004,
          2002,
          2002,
          2007,
          2004,
          2001,
          1998,
          2004,
          2001,
          2016,
          2010,
          1993,
          1993,
          1991,
          2015,
          2007,
          2007,
          2013,
          2008,
          2004,
          2013,
          1999,
          2002,
          2014,
          2012,
          2012,
          1996,
          1998,
          2015,
          2001,
          2013,
          1998,
          2001,
          2010,
          2002,
          2012,
          2003,
          2014,
          2008,
          2014,
          2004,
          2003,
          2011,
          2012,
          1998,
          2009,
          2004,
          2003,
          2006,
          2001,
          2008,
          2015,
          2007,
          2009,
          2011,
          1993,
          2006,
          2010,
          2016,
          2007,
          2009,
          2005,
          2013,
          1999,
          2015,
          1997,
          1998,
          2001,
          2002,
          2009,
          2005,
          2007,
          2009,
          2008,
          2006,
          1997,
          2010,
          2008,
          1992,
          1997,
          2010,
          2015,
          2003,
          2002,
          2008,
          2007,
          2003,
          2000,
          2005,
          1989,
          2001,
          2001,
          2003,
          2009,
          2001,
          2003,
          2006,
          2013,
          2003,
          2015,
          2008,
          1992,
          2000,
          2008,
          2004,
          2013,
          2002,
          2012,
          2005,
          2016,
          1981,
          2011,
          2004,
          1991,
          2008,
          2006,
          2007,
          2004,
          2007,
          2004,
          2008,
          1982,
          1999,
          1986,
          2002,
          2005,
          2004,
          2014,
          2004,
          2013,
          2001,
          2003,
          2014,
          2010,
          1999,
          2004,
          2012,
          2006,
          2005,
          2010,
          2003,
          2013,
          1998,
          2014,
          2008,
          2007,
          2004,
          1989,
          1998,
          2005,
          2005,
          2011,
          2006,
          2007,
          2005,
          1998,
          1981,
          2010,
          1999,
          2003,
          2013,
          2004,
          1996,
          2008,
          2006,
          1996,
          1982,
          2007,
          1999,
          2006,
          2012,
          2008,
          2008,
          2000,
          2011,
          2002,
          2015,
          2008,
          2013,
          2009,
          2001,
          2013,
          2014,
          2008,
          2015,
          2014,
          2002,
          2005,
          2008,
          2008,
          2000,
          2006,
          2012,
          2008,
          1988,
          2007,
          1995,
          1990,
          2009,
          2001,
          2003,
          2008,
          2011,
          2002,
          2003,
          2010,
          2000,
          2001,
          2009,
          1999,
          2014,
          2010,
          2011,
          2010,
          2000,
          2003,
          2008,
          2006,
          2016,
          2005,
          1996,
          2011,
          2011,
          2012,
          1994,
          1998,
          2012,
          2003,
          1997,
          2012,
          2007,
          1997,
          2002,
          2014,
          1996,
          1984,
          1984,
          1998,
          2010,
          1998,
          2009,
          2002,
          2002,
          2008,
          2008,
          2011,
          2013,
          2009,
          1988,
          2001,
          1997,
          2007,
          1997,
          2007,
          2011,
          2011,
          2003,
          2006,
          2000,
          1998,
          2002,
          2000,
          1986,
          2000,
          1985,
          1993,
          2010,
          1998,
          2008,
          2003,
          2002,
          2008,
          2010,
          2000,
          2006,
          2010,
          2015,
          2016,
          2006,
          1999,
          1997,
          1990,
          2007,
          2006,
          2011,
          2008,
          2009,
          2008,
          2005,
          2004,
          2011,
          2004,
          2013,
          2007,
          2003,
          1999,
          2012,
          2012,
          2006,
          1998,
          2004,
          2010,
          2003,
          1998,
          2013,
          2001,
          2008,
          1981,
          1998,
          2009,
          2005,
          2008,
          1998,
          2008,
          2011,
          2004,
          2014,
          2004,
          2003,
          1996,
          1984,
          1993,
          1997,
          1999,
          2011,
          2011,
          2005,
          2013,
          2008,
          2007,
          1996,
          2010,
          2013,
          2007,
          2004,
          2002,
          2010,
          1999,
          2007,
          2010,
          2007,
          2006,
          1988,
          2007,
          2004,
          1999,
          2011,
          2008,
          2006,
          2008,
          2012,
          2002,
          2005,
          2013,
          2004,
          2004,
          1994,
          1987,
          2011,
          2008,
          2013,
          2002,
          2006,
          2010,
          2010,
          2005,
          2012,
          1994,
          2009,
          2007,
          2010,
          1999,
          2003,
          2013,
          2001,
          2004,
          2009,
          2002,
          2006,
          2008,
          2008,
          1996,
          2009,
          2004,
          2004,
          1990,
          2014,
          2002,
          2014,
          2001,
          2009,
          1994,
          1991,
          2005,
          2007,
          2013,
          2008,
          2014,
          2012,
          2003,
          2010,
          2012,
          2013,
          2015,
          2000,
          2015,
          1998,
          2011,
          2001,
          2009,
          2008,
          2011,
          1998,
          2007,
          2010,
          2011,
          2004,
          1998,
          2005,
          2010,
          2006,
          2004,
          2011,
          2003,
          2014,
          2008,
          1986,
          1996,
          1981,
          2002,
          2012,
          1999,
          2009,
          1997,
          2009,
          2008,
          2014,
          2008,
          2004,
          2013,
          2003,
          2016,
          1997,
          2004,
          2007,
          2008,
          2007,
          2007,
          2002,
          2008,
          2008,
          2010,
          2011,
          2008,
          2011,
          1994,
          2005,
          2015,
          2010,
          2005,
          2004,
          2006,
          2006,
          2000,
          2014,
          2003,
          2008,
          2004,
          2016,
          2004,
          2010,
          2002,
          1998,
          2000,
          2003,
          2000,
          2004,
          2016,
          2004,
          2007,
          2013,
          2009,
          2010,
          2008,
          1985,
          1998,
          2002,
          2012,
          1997,
          2007,
          2003,
          2010,
          2005,
          1996,
          2011,
          1996,
          2010,
          2002,
          2011,
          2010,
          2005,
          2015,
          1999,
          1983,
          2002,
          2009,
          2004,
          2009,
          1979,
          2002,
          2006,
          2015,
          2012,
          2005,
          1995,
          1997,
          2009,
          2015,
          1999,
          2014,
          2010,
          2008,
          2002,
          2002,
          2008,
          2011,
          2003,
          2005,
          2007,
          2009,
          2004,
          2015,
          2015,
          2010,
          2014,
          2007,
          2005,
          2008,
          2015,
          2004,
          2008,
          1989,
          1999,
          2008,
          1999,
          2003,
          2006,
          2001,
          1997,
          2008,
          2014,
          2005,
          2014,
          2012,
          2012,
          2008,
          1995,
          1981,
          2008,
          2003,
          1984,
          2014,
          2008,
          2002,
          2008,
          2008,
          2011,
          2003,
          2004,
          1994,
          2012,
          2013,
          2013,
          2010,
          2007,
          1998,
          2010,
          1998,
          2003,
          1998,
          2005,
          2008,
          2008,
          2009,
          2000,
          2013,
          2008,
          1982,
          2014,
          2008,
          1988,
          1987,
          1996,
          2005,
          2005,
          2006,
          2007,
          2012,
          2015,
          2002,
          2007,
          2003,
          2004,
          1998,
          2005,
          2007,
          2001,
          1997,
          2000,
          2008,
          1992,
          2012,
          2005,
          2009,
          2007,
          2012,
          2001,
          2016,
          2004,
          2011,
          2002,
          2004,
          2009,
          2003,
          2014,
          2012,
          2000,
          2003,
          1998,
          2014,
          1986,
          2004,
          2008,
          2003,
          2006,
          2007,
          2010,
          2011,
          2007,
          2004,
          1997,
          1984,
          1997,
          1999,
          2006,
          1997,
          1997,
          2002,
          1996,
          2001,
          1998,
          2002,
          2002,
          2006,
          2001,
          2004,
          2007,
          2005,
          2011,
          2002,
          2015,
          1999,
          2000,
          1992,
          2001,
          2003,
          2010,
          2007,
          2015,
          2007,
          2009,
          1997,
          2008,
          2005,
          2002,
          2007,
          2006,
          2004,
          2011,
          2014,
          2004,
          1999,
          1989,
          1986,
          1986,
          1993,
          2003,
          2006,
          2001,
          2010,
          1997,
          2003,
          2012,
          2014,
          2002,
          2008,
          2015,
          2006,
          1990,
          1998,
          1999,
          2002,
          2008,
          2007,
          2002,
          2004,
          2006,
          2006,
          1999,
          2009,
          2012,
          1982,
          2013,
          2000,
          1999,
          1988,
          2012,
          2001,
          2012,
          1991,
          1996,
          2005,
          2002,
          2012,
          1990,
          2008,
          2009,
          2011,
          2015,
          1993,
          1997,
          2003,
          2015,
          2010,
          1998,
          2009,
          1996,
          2003,
          2008,
          2008,
          1996,
          2004,
          2011,
          2006,
          2004,
          1997,
          2008,
          2006,
          2001,
          2002,
          1995,
          1999,
          1993,
          1997,
          2011,
          2013,
          2007,
          2005,
          2010,
          2007,
          2008,
          2001,
          2007,
          2004,
          2008,
          2012,
          1980,
          2012,
          1990,
          1995,
          1986,
          2008,
          2009,
          2003,
          2007,
          1993,
          2003,
          2014,
          1998,
          1997,
          2000,
          2003,
          2005,
          1998,
          2007,
          2013,
          2011,
          2008,
          2005,
          2000,
          1991,
          1998,
          1986,
          1990,
          2003,
          2005,
          2007,
          2005,
          2010,
          2011,
          2014,
          2001,
          2004,
          2016,
          2002,
          2009,
          1999,
          2006,
          2016,
          2011,
          2004,
          1983,
          2008,
          2009,
          2014,
          1998,
          2012,
          2005,
          2007,
          2015,
          1982,
          2001,
          1996,
          2009,
          2010,
          2005,
          2011,
          2005,
          1992,
          2011,
          2009,
          2007,
          2009,
          2012,
          2004,
          2010,
          2009,
          2011,
          2003,
          2007,
          2007,
          2011,
          2007,
          2005,
          1994,
          1983,
          1995,
          1999,
          2013,
          2013,
          2015,
          2004,
          1981,
          1982,
          2010,
          1997,
          2011,
          1984,
          1989,
          1989,
          1998,
          1983,
          1999,
          2011,
          2001,
          2006,
          2006,
          2003,
          2013,
          2007,
          2008,
          2007,
          1998,
          2007,
          2013,
          2006,
          2009,
          2003,
          2008,
          2000,
          1998,
          2005,
          2015,
          2003,
          2009,
          2006,
          2010,
          2002,
          1997,
          2010,
          2011,
          2012,
          2009,
          1998,
          2003,
          2002,
          2008,
          2005,
          2002,
          2009,
          2007,
          2010,
          2010,
          1982,
          2004,
          2013,
          2016,
          2014,
          1998,
          2008,
          2003,
          2002,
          2005,
          2014,
          2007,
          1999,
          2006,
          2006,
          2010,
          2008,
          2008,
          1999,
          1994,
          2009,
          2009,
          2011,
          2008,
          1997,
          2007,
          2005,
          2009,
          2009,
          1995,
          2005,
          2008,
          2010,
          2013,
          1999,
          1998,
          2006,
          2002,
          2009,
          2008,
          2007,
          1998,
          2009,
          2008,
          2005,
          1999,
          2003,
          2016,
          1997,
          1998,
          2010,
          2012,
          2001,
          2007,
          2004,
          2002,
          2010,
          2008,
          2013,
          2007,
          2011,
          2008,
          2007,
          2007,
          1981,
          2009,
          2006,
          1980,
          2007,
          1996,
          1985,
          1996,
          1986,
          2002,
          2012,
          2001,
          2000,
          2014,
          2005,
          2007,
          1998,
          2003,
          2007,
          1999,
          2009,
          1997,
          2012,
          2000,
          1996,
          2003,
          2006,
          2010,
          1997,
          1998,
          2001,
          2006,
          2010,
          2005,
          2007,
          2012,
          2011,
          2005,
          2005,
          2012,
          2011,
          2007,
          2005,
          2008,
          2003,
          2015,
          1985,
          2016,
          2008,
          1996,
          1998,
          2009,
          2008,
          2009,
          2007,
          2010,
          2007,
          2007,
          2004,
          2016,
          2007,
          2008,
          1993,
          1997,
          2011,
          2010,
          2009,
          2007,
          2011,
          2013,
          2006,
          2011,
          2008,
          2004,
          2012,
          2008,
          1998,
          2007,
          2009,
          2007,
          2007,
          1995,
          2003,
          2012,
          2008,
          2014,
          2014,
          2006,
          2008,
          1997,
          2012,
          2016,
          2003,
          1997,
          2009,
          2010,
          2000,
          1985,
          1997,
          2000,
          1991,
          2004,
          2003,
          2008,
          2006,
          1995,
          2000,
          1996,
          2002,
          2011,
          2000,
          2000,
          2013,
          2011,
          2003,
          2012,
          2011,
          2008,
          1998,
          2000,
          2009,
          2008,
          2005,
          2009,
          2007,
          2006,
          2011,
          2009,
          2008,
          2008,
          2008,
          2008,
          2015,
          2009,
          2010,
          2008,
          2005,
          1993,
          2005,
          1998,
          2007,
          1977,
          2013,
          2002,
          2013,
          2013,
          2009,
          2009,
          2005,
          2015,
          2005,
          2007,
          2003,
          2009,
          2013,
          2006,
          2003,
          2007,
          2010,
          2010,
          2004,
          2012,
          2006,
          2009,
          1992,
          2011,
          1981,
          2012,
          2006,
          2000,
          2002,
          2012,
          2015,
          2013,
          2012,
          1999,
          1999,
          1996,
          1986,
          2000,
          2012,
          2010,
          2008,
          2012,
          2002,
          2002,
          2011,
          2012,
          2004,
          2006,
          2012,
          2011,
          2003,
          2004,
          2008,
          2005,
          2008,
          2003,
          2014,
          2012,
          2009,
          2012,
          2006,
          2013,
          2010,
          1996,
          2012,
          2000,
          2011,
          2003,
          1999,
          2008,
          2010,
          2010,
          2015,
          2014,
          2010,
          2011,
          2015,
          2004,
          2003,
          2010,
          2004,
          2011,
          1996,
          2003,
          2013,
          2013,
          2005,
          2011,
          2005,
          1999,
          2008,
          2008,
          2009,
          2009,
          2009,
          1999,
          2006,
          2016,
          2003,
          2003,
          2006,
          2002,
          2013,
          2016,
          2005,
          2005,
          2002,
          2014,
          2008,
          2008,
          2004,
          1981,
          2016,
          1999,
          1987,
          1991,
          2009,
          2003,
          2009,
          2007,
          2006,
          2007,
          2010,
          2009,
          2010,
          2014,
          2011,
          1999,
          2008,
          2014,
          2012,
          2012,
          2003,
          2013,
          2001,
          2010,
          2000,
          2006,
          2011,
          2005,
          2015,
          2014,
          2014,
          1997,
          1996,
          1985,
          1999,
          2012,
          2006,
          2010,
          2011,
          2008,
          2006,
          2003,
          1996,
          2006,
          2009,
          2012,
          2008,
          2002,
          2009,
          2010,
          2010,
          2002,
          2013,
          2008,
          2011,
          2003,
          2010,
          2008,
          1998,
          2000,
          2011,
          2013,
          2005,
          2012,
          2008,
          2007,
          1994,
          2004,
          2009,
          2002,
          2007,
          2016,
          2015,
          1996,
          2004,
          2009,
          2005,
          2013,
          2014,
          2012,
          2011,
          1995,
          2015,
          2009,
          2014,
          1999,
          2006,
          2009,
          2013,
          2003,
          1998,
          2007,
          2002,
          2011,
          2013,
          2009,
          2014,
          2004,
          2004,
          2003,
          2012,
          2005,
          2005,
          2010,
          2001,
          2011,
          2005,
          2012,
          2004,
          2004,
          2011,
          2008,
          2001,
          2016,
          2006,
          2003,
          2014,
          1997,
          2001,
          2008,
          2008,
          2009,
          2008,
          2011,
          2008,
          2000,
          2012,
          2008,
          2006,
          2009,
          1995,
          2008,
          2008,
          2012,
          2008,
          1996,
          2007,
          2009,
          2011,
          2010,
          2009,
          2015,
          2011,
          2005,
          2011,
          2007,
          1996,
          2006,
          2016,
          2012,
          2008,
          2008,
          2008,
          2010,
          2010,
          2004,
          2015,
          2003,
          2007,
          2001,
          1995,
          2009,
          1994,
          2003,
          2012,
          2012,
          2004,
          1997,
          2015,
          2008,
          2009,
          2008,
          2011,
          1996,
          2012,
          2006,
          1998,
          2008,
          2007,
          2008,
          2009,
          2005,
          2002,
          2015,
          2002,
          2008,
          2008,
          2000,
          2007,
          1982,
          2013,
          2008,
          2007,
          2009,
          2009,
          2015,
          2008,
          2015,
          2009,
          2006,
          2002,
          2001,
          1997,
          2010,
          1998,
          2006,
          2003,
          2010,
          1999,
          2007,
          2010,
          2007,
          2007,
          1996,
          2004,
          1989,
          2015,
          2012,
          1997,
          2008,
          2010,
          2012,
          2009,
          2007,
          1995,
          2002,
          2013,
          2000,
          2008,
          2010,
          2009,
          2010,
          2012,
          2004,
          2011,
          2012,
          2009,
          2004,
          2015,
          2009,
          2008,
          2003,
          1987,
          2009,
          2001,
          2002,
          2014,
          2005,
          2004,
          2013,
          2007,
          2012,
          2004,
          2007,
          2005,
          1999,
          2007,
          2008,
          1999,
          2000,
          2006,
          2007,
          2011,
          2004,
          2000,
          2011,
          2003,
          2010,
          2000,
          2008,
          1998,
          1997,
          2005,
          2002,
          2009,
          2012,
          1998,
          1996,
          2008,
          2011,
          2011,
          2011,
          2012,
          2009,
          2002,
          2001,
          2006,
          2010,
          2007,
          2005,
          2002,
          1996,
          1984,
          2010,
          2007,
          2001,
          2008,
          1981,
          2007,
          2002,
          2008,
          2012,
          2014,
          2011,
          2000,
          2000,
          2012,
          1994,
          2008,
          2000,
          1994,
          2000,
          2012,
          2004,
          1999,
          2005,
          1999,
          2008,
          2007,
          2011,
          1987,
          1999,
          2009,
          2004,
          2013,
          2009,
          1994,
          1998,
          2010,
          2008,
          1998,
          2007,
          2005,
          2010,
          2008,
          2000,
          2005,
          2006,
          2003,
          1997,
          2004,
          2012,
          2008,
          1999,
          2009,
          2004,
          2009,
          2013,
          2009,
          2009,
          2013,
          2000,
          2002,
          2008,
          2010,
          2002,
          1993,
          2007,
          2006,
          1981,
          2006,
          2008,
          2009,
          1994,
          2010,
          2003,
          2008,
          1997,
          2013,
          2001,
          2010,
          2012,
          2013,
          2012,
          1992,
          1999,
          2007,
          2000,
          2014,
          2009,
          2012,
          2015,
          2012,
          1998,
          2015,
          2009,
          2007,
          2003,
          2007,
          2009,
          2011,
          2009,
          2014,
          1992,
          2014,
          2008,
          1982,
          2009,
          2002,
          1994,
          2006,
          2007,
          2010,
          2010,
          2011,
          1999,
          2013,
          2015,
          1997,
          2008,
          2007,
          2007,
          2008,
          2006,
          1993,
          1983,
          2002,
          2013,
          2011,
          1998,
          2011,
          1982,
          2013,
          2008,
          1996,
          2000,
          1981,
          2009,
          2008,
          2005,
          2005,
          1980,
          1999,
          2011,
          2009,
          2012,
          2011,
          1983,
          2006,
          2009,
          2001,
          1999,
          2002,
          2007,
          2003,
          2001,
          2005,
          2002,
          2002,
          2004,
          2009,
          2005,
          2008,
          2008,
          2003,
          1996,
          2010,
          2008,
          2011,
          2008,
          2004,
          2005,
          2012,
          2003,
          1995,
          1998,
          2008,
          2006,
          2014,
          2009,
          2010,
          2001,
          1988,
          2002,
          2005,
          2016,
          2004,
          2010,
          2011,
          2004,
          2004,
          2009,
          2010,
          2002,
          2011,
          2011,
          2010,
          2001,
          2005,
          2010,
          2007,
          2015,
          1991,
          2009,
          2008,
          2013,
          2005,
          2000,
          2015,
          2016,
          2006,
          2015,
          2006,
          2009,
          2011,
          2010,
          2008,
          2012,
          2012,
          2004,
          1997,
          2001,
          1997,
          2007,
          2009,
          2014,
          2004,
          2005,
          2009,
          2010,
          2001,
          2006,
          2008,
          2014,
          2005,
          2007,
          2006,
          2001,
          2009,
          2009,
          2001,
          2007,
          2015,
          2001,
          2009,
          2006,
          2009,
          2014,
          2008,
          2011,
          2015,
          2012,
          2005,
          2013,
          2007,
          2002,
          2001,
          2015,
          2009,
          2016,
          1999,
          2011,
          2009,
          2002,
          2004,
          2014,
          2011,
          2008,
          2013,
          2013,
          2007,
          2015,
          2003,
          2016,
          2009,
          2014,
          2010,
          2008,
          2007,
          1997,
          2012,
          1993,
          2012,
          2007,
          2004,
          2008,
          2010,
          1991,
          1998,
          2009,
          2012,
          1999,
          2011,
          2007,
          2001,
          2012,
          1981,
          2011,
          2010,
          2006,
          2011,
          2004,
          2016,
          2004,
          2014,
          2003,
          2015,
          2012,
          2001,
          2002,
          2007,
          2005,
          2005,
          2010,
          2008,
          2012,
          1998,
          2009,
          2010,
          1996,
          2013,
          2007,
          2010,
          2002,
          2009,
          2006,
          2008,
          1999,
          2007,
          2005,
          2014,
          2014,
          2001,
          2005,
          2001,
          1982,
          2009,
          2009,
          2014,
          2015,
          2010,
          2002,
          2015,
          2011,
          2003,
          2010,
          2009,
          2010,
          2009,
          1998,
          2010,
          2011,
          2002,
          2002,
          2007,
          2009,
          2012,
          2007,
          2003,
          2007,
          2000,
          2007,
          2002,
          2002,
          2000,
          2005,
          2003,
          2002,
          2002,
          2004,
          2004,
          2007,
          1997,
          1999,
          1999,
          1995,
          2008,
          2003,
          2008,
          1995,
          2016,
          2007,
          1997,
          1998,
          2008,
          2005,
          2012,
          2007,
          2007,
          2003,
          2005,
          1994,
          2007,
          1998,
          2014,
          2001,
          2009,
          2003,
          2011,
          2004,
          2001,
          2001,
          1997,
          2005,
          2008,
          2010,
          1998,
          2013,
          2016,
          2011,
          2001,
          2000,
          2000,
          2010,
          2004,
          2009,
          2005,
          2000,
          2008,
          2002,
          2011,
          2011,
          2004,
          1994,
          2005,
          2010,
          1981,
          2015,
          1997,
          2007,
          2009,
          2012,
          2005,
          2005,
          2009,
          2015,
          2012,
          2014,
          2010,
          2006,
          2004,
          1984,
          1993,
          2003,
          1998,
          2015,
          2014,
          2013,
          2008,
          2002,
          2010,
          2009,
          2003,
          2011,
          2012,
          2011,
          2007,
          2004,
          2004,
          2009,
          2011,
          1997,
          2009,
          2003,
          2016,
          2007,
          2008,
          2004,
          1997,
          2010,
          2003,
          2014,
          2005,
          2007,
          2005,
          1998,
          1998,
          2008,
          2005,
          2004,
          2006,
          2002,
          2014,
          2007,
          2010,
          2004,
          2012,
          2003,
          2011,
          2007,
          1998,
          2008,
          1996,
          2004,
          2012,
          2006,
          1998,
          2014,
          2002,
          2005,
          2008,
          2012,
          2014,
          2008,
          1999,
          2013,
          2006,
          2008,
          2011,
          2003,
          2005,
          2007,
          1981,
          2010,
          2010,
          2005,
          2010,
          2008,
          2006,
          1999,
          2004,
          2007,
          2009,
          2006,
          2006,
          2014,
          2015,
          2007,
          2007,
          2011,
          2003,
          2007,
          2010,
          1998,
          2001,
          2002,
          2014,
          2003,
          2006,
          2011,
          2000,
          2005,
          2010,
          2009,
          2009,
          2008,
          2012,
          2008,
          2003,
          2004,
          2004,
          1998,
          2012,
          2010,
          2014,
          2009,
          2013,
          2003,
          2013,
          1982,
          2007,
          2012,
          2008,
          2002,
          2004,
          2010,
          2010,
          2014,
          2004,
          2013,
          1998,
          2005,
          2011,
          2007,
          1998,
          2015,
          2008,
          2014,
          2013,
          2010,
          2013,
          2008,
          2005,
          2010,
          2010,
          2003,
          2005,
          2008,
          2004,
          2002,
          2005,
          2008,
          1999,
          2012,
          2007,
          2008,
          2003,
          2007,
          1998,
          2011,
          2003,
          2007,
          1987,
          2005,
          2005,
          2010,
          2007,
          2000,
          2007,
          2014,
          2009,
          2008,
          2002,
          2008,
          2016,
          2010,
          2008,
          2015,
          2014,
          2009,
          2004,
          2013,
          2008,
          2004,
          2004,
          2014,
          2003,
          2015,
          2009,
          2004,
          2014,
          2007,
          2007,
          2004,
          2003,
          2005,
          1999,
          1999,
          1999,
          2004,
          2011,
          2013,
          2008,
          2002,
          2006,
          2010,
          2007,
          2009,
          2016,
          2009,
          2004,
          2002,
          2014,
          2010,
          2005,
          2000,
          1998,
          2012,
          2012,
          2015,
          2004,
          2008,
          2005,
          1997,
          2014,
          2009,
          2006,
          2010,
          2016,
          2010,
          2011,
          2001,
          2007,
          1999,
          2002,
          2012,
          2009,
          2014,
          2006,
          2005,
          2004,
          1998,
          1991,
          2008,
          2010,
          2003,
          2007,
          2009,
          2013,
          2011,
          2002,
          2014,
          1982,
          2007,
          2007,
          2001,
          2012,
          1997,
          2008,
          2006,
          2009,
          2007,
          2000,
          2013,
          2000,
          2015,
          2002,
          2009,
          2007,
          2006,
          2009,
          2012,
          1993,
          1995,
          2002,
          2005,
          1996,
          2002,
          1997,
          2009,
          2006,
          2015,
          1982,
          2003,
          2011,
          2004,
          2011,
          2011,
          2007,
          2009,
          2014,
          2003,
          2004,
          1999,
          2009,
          2000,
          2004,
          1982,
          2010,
          1999,
          2004,
          2016,
          2008,
          1995,
          2003,
          1996,
          1996,
          2010,
          2011,
          1998,
          2010,
          2012,
          2011,
          1998,
          2001,
          2011,
          2009,
          2008,
          2010,
          2006,
          2009,
          2010,
          2014,
          2007,
          2008,
          2007,
          2008,
          2002,
          2006,
          2009,
          2011,
          2012,
          2011,
          2005,
          2008,
          2014,
          2009,
          2002,
          2004,
          2011,
          2008,
          2009,
          2004,
          2003,
          2009,
          2010,
          2007,
          2013,
          1998,
          2005,
          1997,
          2009,
          2014,
          2008,
          2009,
          2010,
          2009,
          2005,
          2011,
          2002,
          2014,
          2008,
          2005,
          1999,
          2004,
          2001,
          2001,
          1999,
          2002,
          2009,
          2003,
          2010,
          2010,
          2003,
          2015,
          2004,
          2009,
          2005,
          2001,
          2013,
          2003,
          2011,
          2005,
          2010,
          2013,
          2014,
          2014,
          2007,
          2013,
          1995,
          2013,
          2009,
          2009,
          2010,
          2001,
          2006,
          1997,
          2001,
          1997,
          2000,
          2001,
          2010,
          2007,
          2007,
          2007,
          2002,
          1998,
          2009,
          2008,
          2013,
          1998,
          2008,
          2008,
          2009,
          2014,
          1995,
          2016,
          2013,
          2008,
          2010,
          2009,
          2014,
          2011,
          2007,
          2003,
          2005,
          2014,
          2007,
          2010,
          2004,
          2008,
          2005,
          2014,
          1997,
          2008,
          2009,
          1998,
          2001,
          2002,
          2008,
          2000,
          1998,
          2008,
          2010,
          2012,
          1981,
          2002,
          2004,
          2002,
          1981,
          2008,
          2005,
          2015,
          1997,
          1999,
          2011,
          2007,
          2003,
          2004,
          2010,
          2010,
          2010,
          1999,
          2010,
          2005,
          2004,
          2004,
          2014,
          2003,
          2003,
          2008,
          2008,
          1994,
          2009,
          2008,
          2010,
          2003,
          2011,
          2008,
          2007,
          2009,
          2012,
          1995,
          1997,
          1982,
          2005,
          2008,
          2008,
          2010,
          2004,
          2010,
          2008,
          2008,
          2012,
          2011,
          2010,
          2010,
          2012,
          2000,
          2013,
          2003,
          2009,
          2009,
          2011,
          2013,
          2006,
          1998,
          1997,
          1998,
          2011,
          2002,
          2000,
          2000,
          1998,
          2005,
          2004,
          1998,
          2004,
          2009,
          2013,
          2002,
          1998,
          1992,
          2009,
          2013,
          1996,
          2012,
          2000,
          2002,
          2008,
          2006,
          2005,
          1999,
          1999,
          2008,
          2014,
          2012,
          2001,
          2009,
          2011,
          1994,
          2005,
          2008,
          2002,
          2005,
          2005,
          2013,
          2000,
          2007,
          2004,
          2012,
          2007,
          1995,
          2008,
          2011,
          2010,
          2009,
          2005,
          2007,
          2016,
          2009,
          2007,
          2008,
          2004,
          1986,
          1997,
          2009,
          2010,
          2010,
          2001,
          2005,
          2009,
          2008,
          2014,
          2002,
          2006,
          2002,
          1992,
          2013,
          2011,
          2008,
          2003,
          2012,
          2002,
          2007,
          2011,
          2009,
          2009,
          2015,
          2011,
          2002,
          2004,
          2008,
          2000,
          2003,
          2007,
          2007,
          2012,
          2009,
          2009,
          2000,
          2015,
          2003,
          2007,
          2008,
          2003,
          2004,
          2015,
          2014,
          2006,
          2003,
          2001,
          2008,
          2004,
          2003,
          2007,
          2001,
          2011,
          2006,
          2008,
          2004,
          2004,
          2009,
          2001,
          1999,
          2007,
          2005,
          2009,
          2001,
          2002,
          2015,
          2009,
          2005,
          2000,
          2008,
          2003,
          1999,
          1993,
          2007,
          2003,
          2006,
          2001,
          2005,
          2006,
          2016,
          2007,
          2003,
          2002,
          2009,
          2003,
          2002,
          2003,
          1994,
          2005,
          2010,
          2008,
          2012,
          2016,
          2005,
          2007,
          2014,
          2001,
          2014,
          2011,
          2008,
          2001,
          2006,
          1998,
          2010,
          2007,
          1999,
          2011,
          2008,
          2001,
          2005,
          2006,
          2010,
          1994,
          2002,
          1996,
          2005,
          2015,
          1982,
          2001,
          1999,
          1996,
          2006,
          2001,
          2001,
          2008,
          2004,
          2006,
          2011,
          2002,
          2002,
          2000,
          2015,
          1996,
          2015,
          2007,
          2011,
          2014,
          1999,
          2014,
          2011,
          1997,
          2004,
          2007,
          2010,
          2002,
          2008,
          2001,
          1998,
          2003,
          2008,
          2009,
          1995,
          2015,
          2002,
          2010,
          2005,
          2007,
          2003,
          1996,
          2008,
          2004,
          2008,
          2008,
          2008,
          2010,
          2013,
          2008,
          2008,
          2012,
          2004,
          2013,
          2013,
          2006,
          2000,
          2009,
          2008,
          2007,
          1999,
          2003,
          2005,
          2003,
          2003,
          2012,
          2010,
          2007,
          2010,
          2004,
          2006,
          2012,
          2010,
          2004,
          1982,
          1998,
          1999,
          2011,
          2008,
          2010,
          2010,
          2009,
          2010,
          1998,
          2005,
          2002,
          2007,
          2014,
          1999,
          2004,
          2001,
          2004,
          2004,
          2003,
          2011,
          2009,
          2011,
          2006,
          2001,
          2011,
          2009,
          2008,
          2013,
          1982,
          2009,
          2003,
          2003,
          2010,
          2003,
          2005,
          2010,
          2008,
          1998,
          2001,
          2011,
          1996,
          2005,
          2015,
          2010,
          2004,
          2011,
          2010,
          2006,
          2003,
          2004,
          2004,
          2000,
          2010,
          2004,
          2013,
          2004,
          2003,
          1999,
          2008,
          2004,
          2007,
          2014,
          1996,
          2014,
          1993,
          2016,
          1994,
          2010,
          1993,
          2005,
          2005,
          2005,
          2004,
          2002,
          2005,
          2008,
          2006,
          2006,
          2000,
          2008,
          2008,
          2004,
          2016,
          2009,
          1997,
          2015,
          2009,
          2010,
          2015,
          2009,
          2007,
          2001,
          2007,
          2008,
          2009,
          2010,
          2002,
          2011,
          2005,
          2005,
          1994,
          2006,
          2014,
          1996,
          1999,
          2000,
          2011,
          2003,
          2005,
          1999,
          1999,
          2013,
          2011,
          2006,
          2007,
          2010,
          2009,
          2006,
          2006,
          2010,
          2007,
          2001,
          2009,
          2001,
          2002,
          2008,
          2007,
          2008,
          2005,
          2011,
          2002,
          2008,
          2006,
          2000,
          2015,
          1993,
          2008,
          2011,
          1999,
          2015,
          2010,
          1998,
          2014,
          2000,
          2003,
          2006,
          2003,
          2007,
          2005,
          2005,
          2006,
          2005,
          2015,
          1999,
          2006,
          2005,
          2013,
          2008,
          2002,
          2008,
          2006,
          2008,
          2004,
          1999,
          2002,
          2011,
          2008,
          2009,
          2001,
          2002,
          2013,
          2002,
          2010,
          2012,
          2008,
          2009,
          2012,
          1980,
          2001,
          2008,
          1996,
          2002,
          2007,
          2003,
          2003,
          2000,
          2013,
          1997,
          2011,
          2008,
          2006,
          2009,
          2009,
          2013,
          2010,
          2010,
          2007,
          2005,
          1985,
          1999,
          1999,
          2003,
          2008,
          2014,
          1996,
          2009,
          2002,
          2009,
          2006,
          2009,
          2004,
          2006,
          2009,
          2012,
          2009,
          2013,
          2007,
          2004,
          2007,
          2015,
          2000,
          2004,
          2004,
          2004,
          1988,
          2005,
          2007,
          2002,
          2012,
          1997,
          2009,
          2004,
          2006,
          2003,
          2009,
          1983,
          2008,
          2008,
          2006,
          2003,
          2011,
          2006,
          2007,
          2006,
          2001,
          2001,
          2010,
          2007,
          2006,
          2008,
          1982,
          2008,
          2008,
          2002,
          2007,
          2011,
          2007,
          2007,
          2009,
          2012,
          2010,
          2012,
          2010,
          2011,
          2000,
          2009,
          2002,
          2001,
          2010,
          2004,
          2008,
          1995,
          2004,
          1997,
          2012,
          2010,
          2007,
          2006,
          2002,
          2004,
          2012,
          2010,
          2004,
          2007,
          2004,
          2003,
          1996,
          2005,
          2001,
          2008,
          1996,
          2009,
          2007,
          2005,
          2002,
          1982,
          2007,
          1981,
          1982,
          2011,
          2006,
          2004,
          2011,
          2009,
          2008,
          2007,
          2004,
          2011,
          2008,
          2006,
          2015,
          2012,
          2010,
          1980,
          2006,
          2010,
          2011,
          2005,
          2005,
          2013,
          2002,
          2007,
          2008,
          2003,
          2004,
          2007,
          2003,
          2016,
          2005,
          2011,
          2006,
          1993,
          2006,
          2011,
          1997,
          2009,
          2009,
          2012,
          2010,
          1997,
          2006,
          2004,
          2009,
          2014,
          2003,
          2014,
          2003,
          2001,
          2012,
          2010,
          2011,
          2009,
          2001,
          2008,
          2003,
          2002,
          1999,
          2001,
          2008,
          2005,
          1995,
          2008,
          2011,
          2015,
          2008,
          2008,
          2015,
          2007,
          2005,
          2004,
          1999,
          2008,
          2004,
          1983,
          1991,
          2015,
          2009,
          2008,
          2003,
          2006,
          2015,
          1999,
          2008,
          2011,
          2007,
          2011,
          2008,
          1998,
          2006,
          2016,
          2014,
          2003,
          1999,
          1998,
          2008,
          2007,
          2007,
          2015,
          2008,
          2012,
          2009,
          1999,
          2009,
          2013,
          2009,
          2000,
          2009,
          2010,
          1999,
          2013,
          2007,
          2015,
          2001,
          2005,
          2011,
          2006,
          2009,
          1981,
          2008,
          2002,
          2006,
          2006,
          2000,
          1989,
          1996,
          1998,
          1982,
          2002,
          2008,
          2006,
          2007,
          2012,
          2010,
          2007,
          1995,
          2015,
          2000,
          2010,
          1995,
          2012,
          2008,
          2001,
          2014,
          2008,
          2009,
          2011,
          2008,
          2012,
          2000,
          2002,
          2006,
          2008,
          2002,
          2009,
          2010,
          2009,
          2007,
          2005,
          1999,
          1997,
          1998,
          1997,
          1998,
          2008,
          2008,
          2012,
          1987,
          2006,
          2010,
          2006,
          2007,
          2007,
          1999,
          2009,
          2006,
          2008,
          1995,
          2010,
          2005,
          2009,
          2003,
          2009,
          2006,
          2009,
          2009,
          2011,
          2007,
          2005,
          2012,
          1996,
          2009,
          2011,
          2014,
          2005,
          2007,
          2005,
          2004,
          2005,
          2004,
          2007,
          2012,
          2002,
          2007,
          2015,
          2001,
          2010,
          2004,
          2011,
          2014,
          2005,
          2008,
          2007,
          2008,
          2002,
          1980,
          2007,
          2010,
          1999,
          2005,
          2002,
          2007,
          1992,
          2001,
          1993,
          2002,
          2004,
          2007,
          2005,
          2014,
          2005,
          2001,
          2011,
          1999,
          1996,
          2014,
          2014,
          2006,
          2005,
          2008,
          1983,
          2002,
          2010,
          2003,
          2001,
          2003,
          2007,
          2014,
          2012,
          2008,
          2010,
          2009,
          2002,
          2015,
          2011,
          2000,
          1999,
          2005,
          2009,
          1994,
          2002,
          2003,
          2007,
          2009,
          2003,
          2006,
          1995,
          2007,
          2006,
          2013,
          2009,
          2005,
          2008,
          1999,
          2014,
          1996,
          2005,
          2003,
          2014,
          2004,
          1995,
          2009,
          2014,
          2002,
          2012,
          2002,
          2006,
          2008,
          2011,
          2004,
          2006,
          1985,
          2011,
          1998,
          2008,
          2005,
          1998,
          2004,
          2007,
          2008,
          2007,
          2014,
          2009,
          2003,
          1981,
          2009,
          2008,
          2008,
          2008,
          2011,
          2005,
          1998,
          2006,
          2007,
          2004,
          2013,
          2010,
          2007,
          2001,
          2011,
          2003,
          1993,
          1998,
          2000,
          2009,
          2010,
          2014,
          2001,
          2006,
          1995,
          2004,
          2007,
          1978,
          1995,
          2008,
          2007,
          2007,
          2007,
          2009,
          1999,
          2008,
          2004,
          2009,
          1994,
          2005,
          2004,
          2011,
          1987,
          2004,
          2009,
          2003,
          2010,
          2000,
          2016,
          2002,
          1996,
          2011,
          2015,
          2010,
          2014,
          2013,
          1981,
          2004,
          2014,
          2004,
          2008,
          2011,
          2010,
          2008,
          2004,
          2011,
          2009,
          2009,
          2006,
          2010,
          2005,
          2005,
          1999,
          2004,
          2005,
          2002,
          2004,
          2015,
          2011,
          2005,
          2012,
          2014,
          2014,
          2007,
          2009,
          2003,
          2006,
          2008,
          1996,
          2002,
          2005,
          2005,
          2003,
          1997,
          2007,
          1999,
          2014,
          2006,
          2008,
          2007,
          2005,
          2005,
          2000,
          1996,
          1996,
          2014,
          2008,
          2009,
          1991,
          1997,
          2011,
          2004,
          2005,
          2007,
          2009,
          2001,
          2012,
          2010,
          2004,
          2007,
          2002,
          2000,
          2004,
          2011,
          2003,
          2013,
          2003,
          1981,
          2012,
          2008,
          2003,
          2009,
          2009,
          2002,
          2003,
          2008,
          2002,
          2009,
          2004,
          2005,
          2007,
          2007,
          2009,
          2009,
          2011,
          1996,
          2005,
          2010,
          2010,
          2002,
          2007,
          2008,
          2009,
          2009,
          2002,
          2010,
          2004,
          2007,
          2003,
          2011,
          2009,
          2012,
          2009,
          2004,
          2001,
          2008,
          2006,
          2001,
          2001,
          2005,
          2011,
          2015,
          2014,
          2005,
          1996,
          2009,
          2003,
          2003,
          2016,
          2011,
          2014,
          2010,
          2001,
          2013,
          2014,
          2014,
          2012,
          2010,
          2000,
          1981,
          2004,
          2002,
          2003,
          2007,
          1994,
          2013,
          2015,
          2007,
          2004,
          2012,
          2009,
          2003,
          1997,
          1998,
          2004,
          2009,
          2003,
          2010,
          1996,
          2013,
          2012,
          2001,
          2008,
          2009,
          2006,
          2005,
          2012,
          2010,
          2006,
          2008,
          2010,
          2015,
          2010,
          2007,
          2013,
          2002,
          2002,
          2003,
          2008,
          2009,
          2006,
          2009,
          1997,
          2005,
          2008,
          2006,
          2011,
          1997,
          2002,
          2007,
          2014,
          2007,
          2010,
          2001,
          2006,
          2006,
          2005,
          2003,
          2003,
          2003,
          1999,
          1991,
          1998,
          2011,
          2005,
          2007,
          2009,
          2008,
          2009,
          2004,
          1997,
          2003,
          2003,
          2015,
          2009,
          2001,
          2013,
          2012,
          1997,
          2010,
          2004,
          2005,
          2003,
          2007,
          2002,
          2014,
          2004,
          2009,
          2004,
          2009,
          2004,
          1998,
          2011,
          1999,
          2011,
          2009,
          2008,
          2002,
          2004,
          2007,
          2003,
          2007,
          2001,
          1999,
          2000,
          1998,
          2000,
          2004,
          2005,
          2008,
          2006,
          2004,
          2004,
          2008,
          1995,
          2004,
          2010,
          2008,
          2014,
          2010,
          2005,
          2007,
          2013,
          2010,
          2001,
          2002,
          2005,
          2005,
          2012,
          1998,
          2009,
          2001,
          2006,
          2006,
          2012,
          2010,
          2016,
          2008,
          2010,
          2007,
          2010,
          2004,
          2007,
          2000,
          1997,
          2006,
          2007,
          2004,
          2012,
          2013,
          2004,
          1995,
          2001,
          2015,
          2003,
          2003,
          2013,
          2003,
          2001,
          2003,
          2005,
          2001,
          2010,
          1998,
          2010,
          1999,
          1998,
          2007,
          2016,
          2010,
          2000,
          2005,
          2009,
          2007,
          2000,
          1999,
          2016,
          2000,
          2007,
          1995,
          2010,
          2015,
          2002,
          2007,
          2006,
          2013,
          2015,
          2010,
          2007,
          2009,
          2009,
          2014,
          1996,
          2016,
          2007,
          2005,
          2009,
          2010,
          1996,
          2013,
          2009,
          2009,
          2002,
          2014,
          1997,
          2007,
          2012,
          1999,
          1999,
          1985,
          2007,
          2002,
          2007,
          1997,
          2011,
          1999,
          2007,
          2011,
          2009,
          2009,
          2001,
          2006,
          2015,
          2002,
          2010,
          2010,
          1996,
          2007,
          1998,
          2008,
          2008,
          2001,
          2009,
          2010,
          2009,
          2008,
          2014,
          1995,
          2008,
          2005,
          1994,
          2001,
          2011,
          2010,
          2010,
          2012,
          2006,
          2014,
          2000,
          2005,
          2011,
          2010,
          2011,
          2013,
          2002,
          2009,
          2003,
          2001,
          1983,
          2008,
          2010,
          1981,
          2003,
          2009,
          2011,
          2007,
          2010,
          2009,
          2016,
          2009,
          2015,
          2013,
          1997,
          2009,
          2002,
          2002,
          2008,
          2009,
          1982,
          2005,
          2003,
          2008,
          2009,
          2007,
          2008,
          2005,
          2016,
          1997,
          2005,
          1999,
          2004,
          1994,
          2012,
          2013,
          2011,
          1995,
          2009,
          1999,
          2012,
          2008,
          2011,
          1999,
          1997,
          1999,
          1997,
          2001,
          2009,
          2008,
          2004,
          2013,
          1999,
          2007,
          2005,
          2012,
          2007,
          2011,
          2001,
          2006,
          2011,
          2009,
          2005,
          2012,
          2006,
          2009,
          2004,
          1999,
          2008,
          2006,
          2004,
          2009,
          1999,
          2010,
          2005,
          2010,
          2009,
          1995,
          2015,
          2002,
          2001,
          2008,
          2009,
          2008,
          2000,
          2003,
          2007,
          2012,
          2009,
          1996,
          2001,
          2004,
          2004,
          2007,
          1995,
          2008,
          2006,
          2005,
          2004,
          2015,
          2007,
          2009,
          2007,
          2005,
          2008,
          2007,
          2009,
          1998,
          2012,
          2011,
          2010,
          2000,
          2009,
          1997,
          1982,
          2002,
          2009,
          2011,
          2003,
          2012,
          2008,
          2015,
          2010,
          2010,
          2002,
          2012,
          2010,
          2002,
          2015,
          2016,
          2010,
          2008,
          2008,
          2008,
          1981,
          2011,
          1998,
          2008,
          2004,
          2009,
          2001,
          2012,
          2010,
          2012,
          2011,
          2011,
          2003,
          2011,
          2004,
          1999,
          2000,
          1998,
          1999,
          2009,
          2009,
          2016,
          2005,
          2013,
          2010,
          2013,
          2010,
          2003,
          2009,
          2008,
          2000,
          2002,
          2010,
          1991,
          2005,
          2008,
          2011,
          2003,
          1992,
          2001,
          2012,
          2006,
          2005,
          2006,
          1994,
          2005,
          2002,
          2012,
          2015,
          2005,
          2007,
          2016,
          2014,
          2008,
          2011,
          2008,
          1981,
          1999,
          2009,
          2009,
          2013,
          2010,
          2008,
          2011,
          2003,
          2011,
          2003,
          2009,
          1996,
          2012,
          1991,
          2003,
          1998,
          1997,
          1998,
          2013,
          2004,
          2007,
          2007,
          2009,
          2006,
          2005,
          2007,
          2011,
          2001,
          2008,
          2002,
          2007,
          2007,
          2002,
          2002,
          2008,
          2002,
          2013,
          2005,
          2008,
          2015,
          1995,
          2009,
          2005,
          1994,
          2007,
          1998,
          2014,
          2000,
          2005,
          2004,
          2013,
          2016,
          2003,
          2012,
          2011,
          2010,
          2004,
          2006,
          2003,
          2016,
          1996,
          2016,
          2002,
          2007,
          2000,
          1991,
          2008,
          2008,
          2008,
          2011,
          2010,
          1996,
          1999,
          2002,
          2007,
          1998,
          2008,
          2009,
          1995,
          2013,
          2010,
          2009,
          2003,
          2011,
          2012,
          2010,
          2010,
          2000,
          2009,
          2007,
          1999,
          2008,
          1978,
          2009,
          2009,
          2007,
          2008,
          2008,
          2008,
          2005,
          2010,
          1982,
          2004,
          2014,
          2005,
          2013,
          2010,
          2011,
          2013,
          2014,
          2004,
          2009,
          2008,
          2009,
          2012,
          2013,
          1986,
          2016,
          2006,
          2010,
          2008,
          2007,
          1997,
          2015,
          2009,
          2016,
          2008,
          2008,
          2005,
          2002,
          2006,
          2008,
          2011,
          2006,
          1994,
          2006,
          2012,
          2011,
          2002,
          2003,
          2004,
          2010,
          2010,
          2006,
          2002,
          2009,
          1994,
          2007,
          1995,
          2007,
          1998,
          2009,
          2010,
          2009,
          2005,
          2013,
          2007,
          2011,
          2000,
          1999,
          2000,
          2011,
          1981,
          2004,
          2010,
          2016,
          2014,
          2009,
          2002,
          2007,
          2006,
          2016,
          2007,
          2003,
          2015,
          2015,
          2006,
          2009,
          2007,
          2003,
          2011,
          2008,
          2016,
          2005,
          1994,
          2006,
          2009,
          2009,
          1999,
          2007,
          1994,
          2007,
          2009,
          2006,
          2014,
          2008,
          1998,
          2008,
          2009,
          2008,
          1997,
          2012,
          2011,
          2006,
          2007,
          2006,
          2012,
          2002,
          2009,
          2004,
          2011,
          1994,
          2008,
          2006,
          1996,
          2001,
          2014,
          2014,
          2008,
          2008,
          2009,
          2009,
          2010,
          2009,
          1994,
          2016,
          2009,
          1993,
          2010,
          2002,
          2003,
          2005,
          2005,
          2010,
          2009,
          2007,
          2009,
          2001,
          2005,
          2015,
          1997,
          2013,
          2002,
          2001,
          1997,
          2002,
          2009,
          1997,
          1997,
          2000,
          2005,
          2000,
          1997,
          1993,
          1997,
          2009,
          2008,
          2001,
          2001,
          2008,
          2010,
          2004,
          2006,
          2002,
          1994,
          1999,
          2015,
          2003,
          2005,
          2004,
          2007,
          2004,
          2010,
          2012,
          2007,
          2014,
          2003,
          2003,
          2000,
          2008,
          2001,
          2016,
          2008,
          1995,
          1981,
          2002,
          2011,
          1998,
          1994,
          2001,
          2009,
          1999,
          2012,
          2010,
          1997,
          2001,
          2013,
          2014,
          1998,
          2012,
          2008,
          2005,
          2005,
          2005,
          2009,
          2005,
          2015,
          2013,
          2014,
          2006,
          1996,
          2007,
          2015,
          2013,
          2013,
          2009,
          2004,
          2003,
          2008,
          2009,
          2002,
          2003,
          2003,
          2008,
          2011,
          2009,
          2007,
          2006,
          2010,
          2009,
          1995,
          1993,
          2009,
          2001,
          2003,
          2000,
          2016,
          2012,
          2016,
          2003,
          2011,
          2009,
          2013,
          2013,
          2000,
          2006,
          2015,
          2003,
          2009,
          2006,
          2003,
          2012,
          2004,
          2010,
          2000,
          2003,
          2013,
          2009,
          2009,
          2007,
          2015,
          2011,
          2009,
          2002,
          2007,
          2005,
          2001,
          2008,
          2016,
          2008,
          2002,
          2016,
          2014,
          2008,
          2004,
          2003,
          2003,
          2011,
          2000,
          1998,
          2000,
          2008,
          1999,
          1996,
          2002,
          2006,
          2006,
          2013,
          2005,
          2016,
          1998,
          2005,
          2011,
          2007,
          2011,
          2002,
          2008,
          2009,
          2006,
          2013,
          2011,
          1999,
          1999,
          2008,
          2010,
          2004,
          2007,
          2011,
          2011,
          2009,
          2012,
          1980,
          2002,
          2003,
          2009,
          2004,
          1995,
          2007,
          2009,
          2004,
          1997,
          2000,
          2004,
          2010,
          2001,
          1983,
          1982,
          2016,
          2007,
          2010,
          2013,
          2006,
          2010,
          2005,
          2011,
          2004,
          1981,
          2010,
          1995,
          2014,
          2005,
          2008,
          2008,
          1998,
          2006,
          1982,
          2007,
          1998,
          1981,
          2004,
          2006,
          2011,
          2007,
          1997,
          2015,
          2008,
          2006,
          1998,
          2010,
          2011,
          2008,
          2002,
          2012,
          2011,
          2005,
          2003,
          2005,
          2007,
          2009,
          2010,
          2009,
          2015,
          2008,
          2007,
          2008,
          2008,
          2008,
          1996,
          2001,
          2015,
          2005,
          2007,
          2013,
          2005,
          2007,
          2011,
          2006,
          2010,
          1996,
          2008,
          2016,
          2003,
          2003,
          1998,
          2011,
          2016,
          2007,
          2009,
          2009,
          2016,
          2006,
          1998,
          2009,
          2009,
          2011,
          2006,
          2004,
          2003,
          2005,
          2003,
          2006,
          2001,
          2003,
          2002,
          2001,
          2011,
          1999,
          2004,
          2008,
          2009,
          2009,
          2012,
          2007,
          2002,
          2013,
          2005,
          2002,
          1999,
          2011,
          1990,
          1994,
          2009,
          2006,
          2009,
          2001,
          2008,
          2004,
          2009,
          2006,
          2001,
          2003,
          2007,
          1998,
          1999,
          2007,
          2010,
          2011,
          1998,
          2006,
          2002,
          1991,
          2007,
          2005,
          2015,
          2009,
          2003,
          2005,
          2010,
          2011,
          2011,
          2006,
          2008,
          1994,
          2010,
          2003,
          2001,
          2006,
          2000,
          2003,
          2005,
          2012,
          1991,
          2005,
          2007,
          2007,
          1997,
          2013,
          1996,
          2009,
          2014,
          2007,
          2006,
          2010,
          2008,
          1983,
          2012,
          2005,
          1981,
          2005,
          2010,
          2010,
          1995,
          2009,
          2006,
          2008,
          2004,
          2007,
          2010,
          2009,
          2008,
          2004,
          2004,
          2011,
          2010,
          2012,
          2011,
          2010,
          2003,
          2009,
          1999,
          2011,
          2009,
          2006,
          2009,
          2010,
          2015,
          2015,
          2008,
          2011,
          1998,
          2008,
          2008,
          2011,
          2001,
          2011,
          2005,
          1997,
          2002,
          2009,
          2013,
          2012,
          1996,
          2011,
          1997,
          2015,
          2007,
          1999,
          2012,
          2003,
          2003,
          2014,
          2009,
          2008,
          2007,
          2008,
          2009,
          2007,
          2005,
          2005,
          2007,
          2010,
          2009,
          2009,
          2003,
          2011,
          2000,
          1997,
          2000,
          2015,
          1995,
          2016,
          2014,
          2006,
          2008,
          2001,
          2010,
          2000,
          2011,
          2011,
          2008,
          2009,
          1997,
          2003,
          2012,
          1995,
          2010,
          2004,
          2009,
          2010,
          2001,
          1995,
          2015,
          2011,
          1999,
          2005,
          2002,
          2011,
          2005,
          1991,
          2003,
          2009,
          2006,
          2002,
          1980,
          1982,
          2008,
          1997,
          2007,
          2008,
          2014,
          2012,
          2002,
          2010,
          1993,
          2003,
          2002,
          2004,
          1997,
          1997,
          1994,
          2003,
          2001,
          2008,
          2008,
          2010,
          2008,
          2006,
          2005,
          2009,
          2011,
          2004,
          2001,
          2007,
          2015,
          1996,
          2001,
          2000,
          2008,
          2011,
          2009,
          2002,
          2009,
          2010,
          2011,
          2008,
          2009,
          2009,
          2004,
          2002,
          2007,
          2016,
          2013,
          1998,
          2011,
          1999,
          2012,
          2009,
          1997,
          2007,
          2011,
          2010,
          2007,
          2003,
          2010,
          2013,
          1995,
          2009,
          2007,
          2007,
          2003,
          1995,
          2008,
          1999,
          2007,
          1998,
          2009,
          2002,
          2005,
          2008,
          2010,
          2013,
          2011,
          2014,
          2003,
          1996,
          2004,
          2011,
          2005,
          2008,
          2011,
          2005,
          2013,
          2014,
          2011,
          1997,
          1998,
          2014,
          2014,
          2010,
          2007,
          2008,
          2009,
          2003,
          2009,
          2007,
          2009,
          1995,
          2015,
          2001,
          2005,
          2013,
          2005,
          1999,
          2011,
          2015,
          2009,
          2007,
          2010,
          2008,
          1998,
          1999,
          1998,
          1999,
          2001,
          1997,
          2006,
          2007,
          2005,
          2007,
          2007,
          2002,
          2010,
          2002,
          2008,
          2011,
          1982,
          2005,
          2006,
          2008,
          2009,
          2005,
          1997,
          2010,
          2011,
          1998,
          2004,
          1997,
          2008,
          2002,
          2012,
          2012,
          2010,
          2009,
          1998,
          2012,
          2002,
          2010,
          2001,
          1998,
          2009,
          2001,
          1979,
          1993,
          2008,
          1981,
          1999,
          2002,
          2008,
          2009,
          2010,
          1999,
          2006,
          2002,
          2000,
          2001,
          2000,
          2014,
          2015,
          2002,
          1996,
          1994,
          2000,
          2007,
          2005,
          2005,
          2003,
          2002,
          1995,
          2007,
          1996,
          1998,
          2005,
          2003,
          2009,
          2000,
          2011,
          2013,
          2012,
          2006,
          2012,
          1995,
          2016,
          2005,
          2002,
          2005,
          2003,
          2009,
          2005,
          2005,
          1995,
          2016,
          2006,
          2007,
          1997,
          2010,
          2016,
          2006,
          2006,
          2000,
          1990,
          2005,
          2011,
          2014,
          2007,
          2014,
          1994,
          2011,
          2009,
          2007,
          2011,
          2002,
          2008,
          1994,
          2001,
          2013,
          2011,
          1999,
          1999,
          2003,
          2006,
          2007,
          2011,
          2009,
          1997,
          2000,
          2003,
          1997,
          2011,
          2012,
          2000,
          2002,
          2007,
          2003,
          2000,
          1996,
          2014,
          2008,
          2007,
          2010,
          2016,
          1995,
          1996,
          2008,
          2004,
          2014,
          2009,
          1995,
          2005,
          2010,
          2006,
          2008,
          2003,
          2007,
          2004,
          2002,
          2007,
          1997,
          2009,
          1999,
          2012,
          2004,
          2004,
          2011,
          2010,
          2003,
          2006,
          2006,
          2016,
          2011,
          2007,
          2003,
          2006,
          2002,
          2007,
          2010,
          2012,
          1986,
          2007,
          2002,
          2009,
          2007,
          2009,
          2009,
          2010,
          2004,
          2010,
          2003,
          2010,
          2002,
          1995,
          2002,
          1999,
          2010,
          2009,
          2002,
          2013,
          2014,
          2010,
          2009,
          2005,
          2006,
          2000,
          1998,
          2006,
          2000,
          2010,
          2008,
          2011,
          2009,
          2012,
          2005,
          2010,
          1996,
          2005,
          2000,
          1997,
          2008,
          2010,
          2011,
          2009,
          2006,
          1994,
          2009,
          2002,
          2009,
          1983,
          2010,
          2008,
          2005,
          2015,
          2016,
          2003,
          2009,
          2009,
          2004,
          2009,
          2005,
          1981,
          2010,
          2008,
          2001,
          1999,
          1999,
          1997,
          1998,
          1998,
          1999,
          1999,
          1999,
          2007,
          2003,
          2009,
          2007,
          2008,
          2015,
          2005,
          2007,
          2004,
          2005,
          2005,
          2006,
          2012,
          2013,
          2014,
          2007,
          1996,
          2007,
          2012,
          2003,
          2012,
          2010,
          2005,
          1996,
          2009,
          2010,
          2008,
          1991,
          2011,
          2014,
          2002,
          2007,
          2007,
          2002,
          2005,
          2002,
          2011,
          2000,
          2010,
          2013,
          2014,
          2003,
          2012,
          2007,
          2013,
          2009,
          2007,
          2000,
          2015,
          2004,
          1996,
          2010,
          2003,
          2008,
          2008,
          2004,
          2004,
          1999,
          2006,
          2008,
          1999,
          1992,
          2008,
          2012,
          2009,
          2008,
          2004,
          2007,
          2011,
          2011,
          2003,
          1996,
          2010,
          2013,
          2001,
          2003,
          2008,
          2016,
          2003,
          2008,
          1997,
          2012,
          2005,
          2003,
          2005,
          1995,
          2015,
          1994,
          2000,
          2014,
          2005,
          2001,
          2006,
          2002,
          2002,
          2006,
          2001,
          2003,
          2003,
          2010,
          2007,
          2003,
          1999,
          2013,
          2005,
          2015,
          2005,
          1995,
          2004,
          2006,
          2012,
          1982,
          2008,
          2004,
          1999,
          2009,
          2007,
          2012,
          2007,
          2002,
          2010,
          2007,
          2009,
          2006,
          2003,
          2005,
          2003,
          1991,
          2009,
          2007,
          2002,
          1991,
          2011,
          2002,
          2007,
          1991,
          2006,
          1991,
          2008,
          2002,
          2006,
          2011,
          2011,
          2002,
          2007,
          2009,
          2007,
          2003,
          2003,
          2010,
          2007,
          2010,
          2001,
          2006,
          2016,
          2010,
          2004,
          2006,
          2004,
          2002,
          2009,
          1998,
          2010,
          2006,
          2015,
          2002,
          1995,
          2011,
          2010,
          2010,
          2007,
          2004,
          2005,
          1995,
          2014,
          2010,
          2003,
          2008,
          2012,
          2011,
          1992,
          2004,
          2001,
          2014,
          2014,
          2014,
          2007,
          2001,
          2002,
          2009,
          2010,
          2002,
          2009,
          2011,
          2007,
          2014,
          2000,
          2001,
          2006,
          1997,
          2016,
          2011,
          2009,
          1998,
          2008,
          2005,
          2011,
          2007,
          2009,
          2013,
          1992,
          1994,
          2003,
          2006,
          2003,
          1998,
          2001,
          2014,
          2011,
          1998,
          2008,
          2005,
          2003,
          2008,
          2006,
          2001,
          2003,
          2002,
          2009,
          1996,
          1997,
          2013,
          2000,
          2012,
          1995,
          2006,
          2011,
          2009,
          2016,
          2007,
          2007,
          2000,
          1982,
          2003,
          2009,
          1996,
          2004,
          2004,
          2006,
          2002,
          1998,
          1997,
          2001,
          2008,
          2011,
          2004,
          2001,
          2001,
          1977,
          2013,
          2009,
          2000,
          2011,
          1997,
          2000,
          2013,
          2001,
          2014,
          2012,
          2008,
          2011,
          2008,
          2015,
          1984,
          2004,
          1996,
          2009,
          2006,
          2002,
          2000,
          2010,
          2003,
          1993,
          1994,
          2010,
          2012,
          2004,
          2002,
          2010,
          2007,
          2010,
          1978,
          1980,
          2009,
          2010,
          2004,
          2005,
          1996,
          2012,
          2012,
          2006,
          2001,
          2014,
          2014,
          2005,
          2006,
          2004,
          2002,
          2002,
          2002,
          2000,
          2004,
          2005,
          2004,
          2015,
          2008,
          2001,
          2014,
          2013,
          2006,
          1998,
          1998,
          1999,
          1999,
          1997,
          2005,
          2012,
          2008,
          2012,
          2011,
          2007,
          2010,
          2007,
          2010,
          2005,
          2010,
          2005,
          2001,
          2010,
          2011,
          2000,
          2012,
          2013,
          1995,
          2011,
          2010,
          2007,
          2016,
          2008,
          1994,
          2001,
          2003,
          2001,
          2002,
          1999,
          2007,
          2010,
          2009,
          2010,
          2005,
          2006,
          2012,
          1999,
          2002,
          2010,
          2010,
          1998,
          2006,
          2009,
          2014,
          2010,
          2011,
          2007,
          2003,
          2003,
          1995,
          2000,
          2011,
          2002,
          2011,
          2009,
          1996,
          1998,
          1995,
          2005,
          2008,
          2010,
          2004,
          2010,
          2007,
          2007,
          2011,
          2007,
          2008,
          2008,
          2007,
          2010,
          2003,
          2006,
          2011,
          2008,
          2009,
          2005,
          2006,
          2009,
          2008,
          2004,
          2003,
          1997,
          2010,
          2002,
          2012,
          2007,
          2002,
          2007,
          2010,
          2010,
          2013,
          1998,
          2016,
          2010,
          2001,
          2008,
          2002,
          1999,
          2013,
          1996,
          2010,
          1996,
          2010,
          2007,
          2008,
          2008,
          2006,
          2009,
          2013,
          1997,
          2009,
          2005,
          2007,
          2015,
          2006,
          2008,
          1994,
          2002,
          2008,
          2010,
          2009,
          2007,
          2008,
          2010,
          2013,
          2004,
          2015,
          2011,
          2015,
          2007,
          2013,
          2010,
          2002,
          2010,
          2013,
          2006,
          2002,
          2006,
          2005,
          2000,
          2002,
          2012,
          2002,
          2011,
          2011,
          2007,
          2009,
          2006,
          2012,
          2011,
          2009,
          2006,
          2016,
          2003,
          2007,
          2004,
          2002,
          2015,
          2009,
          1999,
          2011,
          2014,
          2009,
          2008,
          2009,
          1999,
          1996,
          2000,
          1999,
          2007,
          2004,
          2009,
          2002,
          2002,
          2014,
          2008,
          2009,
          2003,
          2001,
          1981,
          2009,
          2008,
          2007,
          2003,
          2009,
          2000,
          2008,
          2001,
          2003,
          2014,
          2004,
          2009,
          2009,
          2005,
          2003,
          1997,
          2004,
          2005,
          2004,
          1998,
          2012,
          2008,
          2016,
          1996,
          2009,
          2009,
          2002,
          2011,
          2005,
          2013,
          2010,
          1998,
          2012,
          2004,
          2013,
          2013,
          2002,
          2007,
          1999,
          1999,
          2006,
          1987,
          2008,
          2005,
          1997,
          2005,
          2007,
          2002,
          2008,
          2002,
          2002,
          2004,
          2009,
          1999,
          2003,
          2002,
          2008,
          2002,
          2001,
          1996,
          2010,
          2006,
          2004,
          2004,
          2004,
          2004,
          2001,
          2003,
          2006,
          1998,
          1998,
          2005,
          2006,
          2010,
          2007,
          2007,
          1999,
          2015,
          2009,
          2002,
          2007,
          2005,
          2000,
          1991,
          2006,
          2006,
          2015,
          2008,
          2005,
          2008,
          2012,
          1994,
          2000,
          2006,
          2011,
          2007,
          2003,
          2002,
          1998,
          2002,
          2010,
          2009,
          1994,
          2001,
          1999,
          2010,
          2003,
          2000,
          2009,
          2005,
          2004,
          2007,
          2014,
          2014,
          2015,
          2007,
          1996,
          2011,
          2001,
          2008,
          2006,
          2011,
          2011,
          2016,
          2011,
          2004,
          2001,
          2010,
          2009,
          2005,
          2003,
          2007,
          2001,
          2009,
          2002,
          2001,
          2010,
          1997,
          2005,
          2004,
          2008,
          2015,
          2010,
          2004,
          2000,
          2007,
          2003,
          2009,
          1994,
          2009,
          2009,
          2010,
          2007,
          2006,
          1998,
          1997,
          1997,
          1997,
          1998,
          1997,
          1999,
          1999,
          1999,
          2014,
          2009,
          2008,
          2008,
          2013,
          2008,
          2003,
          2005,
          1996,
          2005,
          2008,
          1998,
          2013,
          2003,
          2007,
          1998,
          2009,
          2006,
          1998,
          2007,
          2008,
          2015,
          2009,
          2015,
          2005,
          1995,
          2002,
          2002,
          2011,
          2008,
          1998,
          2011,
          2006,
          2002,
          2011,
          2011,
          2008,
          1982,
          2005,
          1999,
          2009,
          2000,
          2006,
          2008,
          2001,
          2009,
          2005,
          2007,
          2007,
          2009,
          1999,
          2009,
          2008,
          2008,
          2009,
          2009,
          2009,
          1996,
          1996,
          2002,
          2010,
          2007,
          2004,
          2009,
          2009,
          1997,
          2014,
          2008,
          2005,
          2002,
          2010,
          2010,
          2012,
          2012,
          2005,
          2016,
          2014,
          2010,
          2015,
          2002,
          2015,
          2011,
          2004,
          2004,
          2008,
          2013,
          2005,
          2008,
          2006,
          2005,
          2012,
          2015,
          2010,
          2001,
          2014,
          2006,
          2006,
          2006,
          2011,
          2014,
          2010,
          2013,
          2010,
          1995,
          1996,
          2009,
          1997,
          2000,
          2005,
          2015,
          2012,
          2002,
          1999,
          2003,
          2004,
          1995,
          2003,
          2014,
          2011,
          2006,
          2011,
          2005,
          2011,
          2011,
          2005,
          2009,
          2002,
          2005,
          1997,
          2008,
          1997,
          2008,
          2011,
          2003,
          2010,
          2009,
          2009,
          2003,
          2005,
          2003,
          2010,
          2009,
          2005,
          2007,
          2003,
          2010,
          2001,
          2015,
          2011,
          2006,
          2015,
          2001,
          2004,
          2008,
          2005,
          2011,
          2008,
          2005,
          2003,
          2009,
          2005,
          2005,
          2007,
          2012,
          2004,
          2008,
          1981,
          2000,
          2000,
          1999,
          1999,
          2000,
          1999,
          2006,
          2002,
          2009,
          2016,
          2003,
          1998,
          2009,
          2005,
          2014,
          2005,
          2010,
          2010,
          2004,
          1998,
          2009,
          2003,
          2015,
          2006,
          2003,
          2016,
          2013,
          2008,
          2008,
          2011,
          1980,
          1996,
          2015,
          2013,
          2007,
          2008,
          2001,
          2007,
          2002,
          2008,
          2004,
          2008,
          2004,
          2013,
          2011,
          2008,
          2016,
          2003,
          2010,
          1998,
          2007,
          2004,
          2011,
          2007,
          2014,
          2007,
          2005,
          2011,
          1995,
          2000,
          2010,
          2008,
          2000,
          2009,
          2012,
          2006,
          2013,
          2009,
          2003,
          2012,
          2013,
          2016,
          2008,
          2011,
          1998,
          2009,
          1988,
          1981,
          2011,
          2013,
          2006,
          2007,
          2011,
          2011,
          2010,
          2009,
          2009,
          2010,
          2009,
          2010,
          2007,
          2009,
          2009,
          2012,
          2011,
          2009,
          2006,
          2004,
          2003,
          2009,
          2015,
          2010,
          2010,
          2009,
          2006,
          1998,
          2016,
          2009,
          2003,
          2002,
          2014,
          2003,
          2002,
          2009,
          2005,
          2010,
          2008,
          2005,
          2007,
          1999,
          2008,
          2011,
          2008,
          2009,
          2002,
          2004,
          2003,
          2013,
          2012,
          2013,
          2001,
          2002,
          2009,
          2011,
          2006,
          2008,
          2005,
          2005,
          2000,
          2002,
          2003,
          2011,
          2003,
          1997,
          2012,
          2005,
          2002,
          2014,
          1998,
          1995,
          2016,
          1996,
          2002,
          2008,
          2006,
          2007,
          2008,
          2001,
          2010,
          2000,
          2009,
          2011,
          2005,
          2002,
          2013,
          1998,
          2007,
          2010,
          2010,
          2009,
          2005,
          2008,
          1994,
          2010,
          1996,
          2005,
          2007,
          2010,
          2008,
          2011,
          2004,
          2012,
          2009,
          2001,
          2002,
          2012,
          2012,
          2012,
          1992,
          2003,
          2009,
          2007,
          2011,
          2015,
          2005,
          2008,
          2005,
          2009,
          1997,
          2007,
          2009,
          2008,
          2003,
          2004,
          2010,
          2008,
          1996,
          2003,
          2009,
          2011,
          2003,
          2007,
          2008,
          2006,
          2007,
          2005,
          2006,
          2011,
          1997,
          2010,
          2007,
          2012,
          2008,
          1991,
          1998,
          1999,
          2015,
          2011,
          2009,
          2003,
          2003,
          2002,
          1995,
          2016,
          2008,
          2005,
          1997,
          2006,
          2004,
          2014,
          2015,
          2010,
          2006,
          2005,
          2008,
          2007,
          2011,
          2009,
          2003,
          2012,
          2012,
          2007,
          2004,
          2010,
          2008,
          2007,
          2008,
          2010,
          1996,
          2012,
          2011,
          2002,
          1998,
          2010,
          2006,
          2002,
          1997,
          2008,
          2015,
          2003,
          2010,
          2014,
          2013,
          2014,
          2010,
          2002,
          2016,
          2011,
          2008,
          2015,
          2004,
          2013,
          2005,
          2001,
          2007,
          1997,
          2010,
          2003,
          1981,
          1982,
          1981,
          2007,
          2013,
          2011,
          2006,
          2009,
          2004,
          2013,
          2002,
          2004,
          2005,
          2010,
          2005,
          2012,
          2010,
          2002,
          2008,
          2011,
          2001,
          2010,
          2012,
          2008,
          2005,
          2014,
          2015,
          2004,
          2004,
          2005,
          2009,
          2014,
          1981,
          2011,
          1992,
          2008,
          2011,
          1998,
          2015,
          1996,
          2012,
          2008,
          2004,
          2008,
          2002,
          2003,
          2009,
          2008,
          2008,
          2004,
          2006,
          2009,
          2008,
          1999,
          2011,
          2004,
          2006,
          2012,
          2006,
          2004,
          2013,
          2010,
          2004,
          2007,
          2004,
          2008,
          2002,
          1996,
          2000,
          1999,
          2000,
          2000,
          2015,
          2009,
          2004,
          2008,
          2002,
          2012,
          2011,
          2010,
          2008,
          1996,
          2007,
          2007,
          2010,
          2002,
          2007,
          2008,
          1998,
          2009,
          2004,
          2008,
          1998,
          2011,
          2004,
          2001,
          2001,
          2000,
          2009,
          2007,
          2016,
          2011,
          2008,
          2005,
          2008,
          2009,
          2008,
          2001,
          2008,
          1997,
          2009,
          2011,
          2014,
          2012,
          2010,
          2006,
          2009,
          2009,
          2003,
          2002,
          2014,
          2014,
          2005,
          2008,
          2003,
          2007,
          2009,
          2002,
          2009,
          2014,
          2010,
          2006,
          2011,
          2002,
          2001,
          2009,
          2005,
          2003,
          2008,
          1999,
          1999,
          2011,
          2004,
          1995,
          2006,
          2008,
          2003,
          2002,
          2005,
          2006,
          1993,
          2002,
          2008,
          2008,
          2014,
          2009,
          2007,
          2012,
          2006,
          2010,
          2006,
          2000,
          2001,
          2013,
          2010,
          2001,
          2009,
          2010,
          2004,
          1996,
          2011,
          2005,
          2004,
          2005,
          2009,
          1997,
          2009,
          2011,
          2008,
          1997,
          2007,
          2002,
          1997,
          2012,
          2008,
          2006,
          2008,
          2006,
          2007,
          1999,
          2006,
          2012,
          2000,
          2004,
          2011,
          2016,
          2006,
          2002,
          2014,
          2004,
          2003,
          2010,
          2002,
          2008,
          2015,
          2013,
          2004,
          2002,
          2011,
          2011,
          2010,
          2005,
          2009,
          2004,
          2005,
          2004,
          2005,
          2009,
          2012,
          2005,
          1989,
          1978,
          1981,
          2013,
          2015,
          2004,
          2009,
          2001,
          2005,
          2009,
          2003,
          2012,
          2009,
          2010,
          2002,
          1996,
          1995,
          2009,
          2016,
          2006,
          2000,
          2010,
          2013,
          2009,
          2005,
          2013,
          2005,
          2003,
          2008,
          2003,
          2015,
          2008,
          2002,
          2002,
          2012,
          2008,
          2001,
          2011,
          2011,
          2008,
          2003,
          2007,
          1999,
          1999,
          1997,
          1999,
          1998,
          2000,
          2016,
          2014,
          2011,
          2007,
          1996,
          2011,
          2014,
          2009,
          2011,
          1996,
          2008,
          2008,
          2003,
          2010,
          2012,
          2015,
          2009,
          2005,
          1997,
          1999,
          2008,
          2009,
          2000,
          2004,
          2010,
          2005,
          2007,
          2002,
          2004,
          2001,
          2008,
          2007,
          2005,
          2014,
          2011,
          2006,
          2003,
          2010,
          2002,
          2001,
          2009,
          2002,
          1999,
          2013,
          2009,
          2014,
          2011,
          2011,
          2010,
          2000,
          2007,
          2005,
          2010,
          2009,
          2011,
          2000,
          2016,
          2010,
          2008,
          2013,
          2007,
          2009,
          2006,
          2005,
          2008,
          2013,
          2002,
          1995,
          2005,
          2002,
          1998,
          2009,
          2006,
          2011,
          2008,
          2004,
          2010,
          2001,
          2015,
          2010,
          2002,
          2011,
          2008,
          2004,
          2002,
          2012,
          2011,
          2010,
          2000,
          2009,
          2012,
          2005,
          2003,
          2002,
          2008,
          2010,
          2013,
          2002,
          1995,
          2009,
          2004,
          2000,
          2008,
          2004,
          2016,
          1995,
          2014,
          2005,
          2001,
          2009,
          2012,
          2006,
          2015,
          2007,
          2008,
          2005,
          2005,
          2013,
          2003,
          2000,
          2002,
          2006,
          2000,
          2005,
          2005,
          2006,
          1994,
          2011,
          2012,
          2009,
          2006,
          2008,
          2003,
          2016,
          2013,
          2004,
          2005,
          1996,
          2015,
          2009,
          2002,
          1994,
          2005,
          2004,
          2003,
          2006,
          2008,
          2003,
          2007,
          2001,
          2012,
          2013,
          2004,
          2000,
          2007,
          2003,
          2004,
          2016,
          1996,
          2011,
          2012,
          2003,
          2002,
          2012,
          2011,
          2011,
          2006,
          2003,
          2002,
          2010,
          2008,
          2009,
          2005,
          2001,
          2015,
          2014,
          1996,
          2016,
          2013,
          2010,
          1997,
          2010,
          2016,
          2015,
          2016,
          2009,
          2009,
          2004,
          2010,
          1998,
          2009,
          2011,
          2008,
          2008,
          2003,
          2007,
          2009,
          2003,
          2005,
          1998,
          2000,
          1999,
          1996,
          2000,
          1997,
          1999,
          1997,
          1998,
          2000,
          2000,
          2006,
          2011,
          2003,
          2010,
          2013,
          2007,
          2012,
          2009,
          2009,
          2011,
          2002,
          2008,
          2005,
          1999,
          2009,
          2010,
          2009,
          2002,
          1996,
          2009,
          2005,
          2014,
          1994,
          2009,
          2010,
          2013,
          2010,
          2010,
          2015,
          2007,
          2008,
          2000,
          1996,
          2005,
          2004,
          2004,
          2013,
          2008,
          2005,
          2012,
          2008,
          2003,
          2011,
          2001,
          2012,
          2002,
          2004,
          2004,
          1995,
          2003,
          2012,
          2012,
          2004,
          1991,
          2007,
          2009,
          2002,
          2006,
          2009,
          2003,
          2012,
          2015,
          2012,
          2005,
          2010,
          2007,
          2011,
          2008,
          2005,
          2002,
          2007,
          2008,
          2002,
          2004,
          2002,
          2000,
          2001,
          2006,
          2011,
          2006,
          2011,
          2002,
          2004,
          2010,
          2012,
          2002,
          2007,
          2005,
          2011,
          2011,
          2009,
          2005,
          2006,
          2009,
          2010,
          2001,
          2008,
          2003,
          2011,
          2014,
          2002,
          2010,
          2002,
          2011,
          2005,
          2003,
          2006,
          2006,
          2008,
          2009,
          1996,
          2012,
          2006,
          2013,
          2005,
          2009,
          2016,
          2005,
          2005,
          1996,
          2001,
          2012,
          2012,
          2008,
          2011,
          2011,
          2006,
          2007,
          2011,
          2002,
          2009,
          2009,
          2011,
          1997,
          2010,
          1993,
          2016,
          2010,
          2011,
          2011,
          2004,
          2002,
          2008,
          2009,
          2014,
          2009,
          2009,
          2009,
          2015,
          1996,
          2012,
          2012,
          2010,
          2002,
          1996,
          2003,
          2008,
          1998,
          2016,
          1996,
          2016,
          2015,
          2009,
          2002,
          2006,
          2010,
          2008,
          2016,
          2008,
          2008,
          2004,
          2003,
          2008,
          2003,
          2006,
          2010,
          2004,
          2002,
          2005,
          2013,
          2003,
          2010,
          2001,
          2008,
          2001,
          2009,
          1996,
          2010,
          2003,
          1996,
          2011,
          2013,
          1999,
          2009,
          2011,
          2010,
          2008,
          2010,
          2009,
          2015,
          1995,
          2008,
          2008,
          1998,
          2010,
          2001,
          2011,
          2004,
          2014,
          2002,
          2011,
          2003,
          2002,
          2004,
          2010,
          2012,
          2009,
          2009,
          2010,
          1998,
          2011,
          1999,
          1996,
          1997,
          1997,
          1997,
          1996,
          2014,
          2008,
          2004,
          2008,
          2012,
          2015,
          2002,
          2010,
          1996,
          2010,
          2011,
          2008,
          2011,
          2006,
          2008,
          2000,
          2010,
          2002,
          2005,
          2010,
          2010,
          2013,
          2006,
          2011,
          2008,
          2005,
          2003,
          2007,
          2008,
          2006,
          2002,
          2010,
          2002,
          2004,
          2009,
          2013,
          2015,
          2013,
          2013,
          2010,
          2009,
          2006,
          1981,
          1997,
          2015,
          2008,
          1999,
          1993,
          2013,
          1999,
          2014,
          2004,
          2014,
          2009,
          2006,
          2009,
          1995,
          2012,
          2013,
          2014,
          2007,
          2008,
          2011,
          2006,
          2004,
          2005,
          1993,
          2010,
          2014,
          2009,
          2009,
          2008,
          2007,
          2007,
          2009,
          2010,
          2010,
          2013,
          2009,
          2007,
          2010,
          2005,
          2011,
          2008,
          2012,
          2013,
          2009,
          1994,
          2011,
          2012,
          1995,
          2004,
          2009,
          2002,
          2008,
          2009,
          1996,
          2000,
          2003,
          2007,
          2008,
          1994,
          2003,
          2001,
          2008,
          2010,
          2014,
          2013,
          2002,
          2011,
          2011,
          2005,
          2011,
          2006,
          2002,
          2011,
          2010,
          2013,
          2007,
          2003,
          2014,
          2012,
          2011,
          2002,
          2010,
          2008,
          2006,
          2007,
          2016,
          2002,
          2011,
          2007,
          2010,
          2011,
          2003,
          2014,
          2013,
          2011,
          1997,
          2001,
          2011,
          2009,
          2009,
          2004,
          2005,
          2011,
          2007,
          2014,
          2009,
          2011,
          2004,
          2003,
          2009,
          2014,
          2003,
          2013,
          2005,
          2003,
          2003,
          2010,
          2000,
          2010,
          2002,
          2009,
          1997,
          2009,
          2000,
          2011,
          2003,
          2005,
          2011,
          2016,
          2011,
          2005,
          2014,
          2007,
          2006,
          2007,
          2009,
          2010,
          2010,
          2010,
          2000,
          2001,
          2016,
          2006,
          2012,
          1991,
          2003,
          2008,
          2005,
          2001,
          2015,
          2002,
          2001,
          2009,
          2012,
          2014,
          2008,
          2008,
          2010,
          1999,
          1999,
          2009,
          1997,
          2004,
          2002,
          2008,
          2012,
          2009,
          2012,
          2012,
          2007,
          2005,
          2009,
          2002,
          1993,
          2009,
          2008,
          2015,
          2010,
          2012,
          2006,
          2010,
          2014,
          2010,
          2009,
          2004,
          1998,
          2010,
          2011,
          2014,
          2005,
          2008,
          2013,
          2016,
          2008,
          2001,
          2010,
          2011,
          2010,
          1991,
          2011,
          1996,
          2004,
          2013,
          2004,
          2003,
          1997,
          2005,
          2004,
          1999,
          1999,
          2015,
          2009,
          2014,
          1994,
          2009,
          2002,
          2006,
          2008,
          2009,
          2005,
          2013,
          2001,
          2000,
          2000,
          2010,
          2007,
          2012,
          2010,
          2010,
          2007,
          2011,
          2005,
          2007,
          2011,
          1994,
          2009,
          2005,
          1999,
          2013,
          2003,
          2005,
          2010,
          2005,
          2009,
          2011,
          2004,
          2002,
          2013,
          2011,
          2001,
          2012,
          2000,
          2010,
          2013,
          2002,
          2001,
          1998,
          2011,
          2009,
          2015,
          2008,
          2008,
          2015,
          2000,
          2005,
          2010,
          2003,
          2011,
          2010,
          2001,
          2011,
          2005,
          2005,
          2005,
          2009,
          2007,
          2010,
          2004,
          2010,
          2002,
          2009,
          2008,
          2005,
          2009,
          2003,
          2010,
          2012,
          2002,
          2011,
          2006,
          2008,
          2011,
          2008,
          2004,
          2001,
          2001,
          2008,
          2000,
          2006,
          2007,
          2001,
          2010,
          2004,
          2008,
          2010,
          2005,
          2006,
          2003,
          2008,
          2015,
          2005,
          2009,
          2009,
          2002,
          2011,
          2011,
          2002,
          2015,
          2008,
          2010,
          2014,
          2005,
          2005,
          2012,
          2010,
          2014,
          2001,
          2015,
          2000,
          2011,
          2002,
          2005,
          2001,
          2002,
          2002,
          2006,
          2001,
          2008,
          2009,
          2006,
          2011,
          2011,
          1995,
          2009,
          2004,
          2005,
          2006,
          2008,
          2009,
          2002,
          2010,
          2009,
          2006,
          2003,
          1998,
          1996,
          2007,
          2007,
          2004,
          2011,
          2003,
          2015,
          2010,
          2008,
          2008,
          2005,
          2003,
          2012,
          2015,
          2010,
          2012,
          2009,
          2001,
          2008,
          2001,
          2003,
          2008,
          2011,
          2005,
          2010,
          2001,
          1999,
          1998,
          2010,
          2016,
          2010,
          1999,
          2007,
          1999,
          2009,
          2004,
          2006,
          2003,
          2010,
          2008,
          2010,
          2013,
          2005,
          2003,
          2011,
          2005,
          2016,
          2008,
          2000,
          2012,
          2009,
          1997,
          2009,
          2011,
          1996,
          2003,
          2003,
          2007,
          2000,
          2003,
          2010,
          2008,
          2005,
          2013,
          2009,
          2009,
          2006,
          2003,
          2009,
          2011,
          1999,
          1998,
          2014,
          2004,
          2011,
          2011,
          2008,
          2005,
          2007,
          1999,
          2004,
          2012,
          2008,
          2002,
          2004,
          2000,
          1999,
          1999,
          2010,
          2003,
          2015,
          2004,
          2004,
          2009,
          2010,
          2007,
          2008,
          2008,
          2013,
          2007,
          2004,
          2008,
          2013,
          2016,
          1995,
          2008,
          2006,
          2011,
          2008,
          2005,
          2011,
          2004,
          2015,
          2001,
          2008,
          2000,
          2010,
          2008,
          2010,
          2004,
          2007,
          2004,
          1996,
          2009,
          2005,
          2000,
          2004,
          1996,
          2002,
          2012,
          2005,
          2015,
          2009,
          2013,
          2007,
          2009,
          2003,
          2007,
          2002,
          1998,
          2004,
          2002,
          2010,
          2001,
          2010,
          1996,
          2003,
          1995,
          2014,
          2002,
          2008,
          2007,
          2013,
          1998,
          2000,
          2007,
          2009,
          2010,
          2003,
          2006,
          2008,
          2009,
          2014,
          1996,
          2006,
          2000,
          2009,
          2007,
          2009,
          2003,
          2002,
          2003,
          2012,
          2002,
          2010,
          2007,
          2010,
          2002,
          2011,
          2012,
          2002,
          1996,
          2006,
          2009,
          2007,
          2015,
          2014,
          2010,
          2010,
          2006,
          2014,
          1993,
          2010,
          2011,
          1996,
          2006,
          2009,
          2010,
          2015,
          2008,
          2004,
          2011,
          2007,
          2009,
          2003,
          2004,
          2005,
          2005,
          2010,
          2008,
          2015,
          2014,
          1997,
          2007,
          1997,
          2011,
          2002,
          2015,
          2004,
          2009,
          1983,
          1982,
          1981,
          1995,
          2009,
          2009,
          2002,
          2016,
          2005,
          2004,
          2013,
          2001,
          2010,
          2005,
          2002,
          2001,
          2008,
          2008,
          2002,
          2011,
          2000,
          2004,
          2007,
          2003,
          2014,
          2000,
          2009,
          2009,
          2002,
          2002,
          2000,
          2010,
          2013,
          2006,
          2003,
          2016,
          2006,
          2011,
          2003,
          2011,
          2006,
          2006,
          2003,
          2008,
          2010,
          2010,
          2011,
          1995,
          2005,
          2000,
          2006,
          2004,
          2003,
          2007,
          2007,
          1998,
          2008,
          2003,
          1998,
          2007,
          2010,
          2011,
          2015,
          2012,
          1992,
          2011,
          2005,
          2011,
          2008,
          2005,
          2005,
          2009,
          2008,
          2010,
          2005,
          2008,
          2002,
          2007,
          2005,
          2005,
          2003,
          2014,
          2002,
          2011,
          2003,
          2011,
          2003,
          2005,
          2007,
          2007,
          1997,
          2001,
          2007,
          2008,
          2006,
          2007,
          2005,
          2012,
          2006,
          2002,
          2002,
          2009,
          2008,
          1995,
          2011,
          2003,
          2005,
          2011,
          2009,
          2008,
          2016,
          2006,
          2011,
          1991,
          2006,
          2011,
          2011,
          2006,
          2001,
          1997,
          2006,
          2000,
          2000,
          1999,
          1999,
          2000,
          1998,
          1999,
          1996,
          1999,
          2001,
          1998,
          2001,
          2014,
          2009,
          2010,
          2006,
          2008,
          2003,
          2006,
          2007,
          2006,
          2004,
          2005,
          2012,
          2012,
          2009,
          2010,
          2014,
          2010,
          2006,
          2013,
          2004,
          2006,
          1992,
          2016,
          2011,
          2009,
          2008,
          2010,
          2006,
          2006,
          2010,
          1995,
          2000,
          2009,
          2000,
          1998,
          2008,
          2001,
          2016,
          2009,
          2010,
          1994,
          2003,
          1999,
          2009,
          2001,
          2008,
          2011,
          2013,
          2009,
          2008,
          2014,
          2006,
          2007,
          2010,
          2009,
          2006,
          2014,
          2005,
          2007,
          1998,
          1996,
          2014,
          2010,
          2010,
          1996,
          2004,
          1995,
          2008,
          2014,
          2009,
          2003,
          2010,
          2008,
          2012,
          2005,
          2001,
          2006,
          2005,
          1996,
          2007,
          2002,
          2014,
          2004,
          2007,
          2010,
          2003,
          2008,
          2009,
          2011,
          2008,
          2010,
          2011,
          2012,
          2013,
          1996,
          2011,
          2006,
          2013,
          2007,
          2008,
          2011,
          2008,
          2002,
          2009,
          2010,
          2007,
          2000,
          1996,
          2009,
          2002,
          2010,
          2009,
          1999,
          1996,
          1997,
          2003,
          1998,
          2009,
          2001,
          2011,
          2003,
          2007,
          2010,
          2001,
          2012,
          2005,
          2013,
          2010,
          2003,
          2001,
          2010,
          2011,
          2004,
          2004,
          2011,
          2007,
          2010,
          2005,
          2014,
          2007,
          2002,
          2006,
          2003,
          2001,
          2005,
          2009,
          2010,
          2011,
          2007,
          1999,
          1982,
          1978,
          1989,
          1996,
          2007,
          2015,
          2006,
          2010,
          2012,
          2004,
          2011,
          2013,
          2007,
          2005,
          2005,
          2002,
          2005,
          2010,
          2012,
          2009,
          2005,
          2015,
          1998,
          2007,
          2012,
          2005,
          2011,
          2000,
          2014,
          2004,
          2012,
          2010,
          2004,
          2011,
          2009,
          2008,
          2009,
          1997,
          2008,
          2009,
          2006,
          2009,
          2003,
          2009,
          2010,
          2009,
          2010,
          2008,
          2010,
          2005,
          2007,
          2013,
          2009,
          2012,
          2011,
          2000,
          2014,
          2010,
          2007,
          2008,
          2012,
          2005,
          1997,
          2009,
          2010,
          1996,
          2007,
          2009,
          2003,
          2003,
          2006,
          2010,
          2003,
          2015,
          2002,
          2005,
          1997,
          2005,
          2006,
          2001,
          2004,
          2015,
          2007,
          2004,
          2005,
          2005,
          1991,
          2001,
          2007,
          2009,
          2011,
          2008,
          2005,
          2010,
          2014,
          2011,
          2014,
          2004,
          2013,
          2001,
          2010,
          1995,
          2002,
          2009,
          2005,
          2015,
          2008,
          2008,
          2007,
          1997,
          2001,
          2000,
          1997,
          2002,
          2009,
          2008,
          1998,
          2002,
          2003,
          2011,
          2009,
          2010,
          2008,
          1995,
          2011,
          2009,
          2004,
          2006,
          2009,
          2001,
          2006,
          2011,
          2014,
          2005,
          1998,
          2002,
          2012,
          2004,
          1999,
          2013,
          2005,
          2015,
          2006,
          2004,
          2016,
          2003,
          2005,
          2016,
          1998,
          2016,
          2005,
          2010,
          2002,
          1997,
          1993,
          2012,
          2011,
          2006,
          2004,
          2010,
          2016,
          2008,
          2000,
          2005,
          2006,
          2001,
          2008,
          2015,
          2008,
          2005,
          2003,
          2005,
          2008,
          2005,
          2007,
          2011,
          2005,
          2008,
          2003,
          2004,
          2014,
          2008,
          2010,
          2005,
          2014,
          2008,
          2001,
          2000,
          1997,
          1999,
          2010,
          2004,
          2011,
          2009,
          2000,
          2013,
          2005,
          2009,
          2009,
          2006,
          2004,
          2003,
          2015,
          1996,
          2016,
          2011,
          2008,
          2009,
          2005,
          1999,
          2008,
          2009,
          2011,
          2009,
          2010,
          2011,
          2013,
          2009,
          2011,
          2011,
          1997,
          2005,
          2003,
          2011,
          2001,
          2004,
          2012,
          2001,
          2010,
          2012,
          2013,
          2001,
          2011,
          2002,
          1995,
          2005,
          2003,
          2010,
          2004,
          1995,
          2016,
          2007,
          2012,
          2004,
          2002,
          2004,
          2007,
          2007,
          2003,
          2007,
          2005,
          2007,
          2011,
          2014,
          2007,
          2002,
          2002,
          2005,
          2008,
          2010,
          2006,
          1994,
          2001,
          2012,
          2007,
          1997,
          2007,
          2009,
          2000,
          1994,
          2001,
          2003,
          1998,
          2015,
          2009,
          2005,
          2007,
          2009,
          2001,
          2008,
          2011,
          1997,
          2001,
          2009,
          2007,
          2015,
          2012,
          2010,
          2011,
          2011,
          1996,
          2006,
          2009,
          2008,
          2004,
          2007,
          2014,
          2009,
          2015,
          2006,
          2004,
          2011,
          2001,
          2011,
          2011,
          2002,
          2001,
          2005,
          2003,
          2002,
          1997,
          2006,
          2004,
          2009,
          2009,
          2009,
          1998,
          2001,
          2011,
          2012,
          2004,
          2009,
          2010,
          2014,
          2010,
          2003,
          2005,
          2002,
          2007,
          2013,
          2004,
          2001,
          2010,
          2001,
          2009,
          2001,
          2004,
          2012,
          2000,
          2008,
          2008,
          2006,
          1998,
          2009,
          2010,
          2008,
          1997,
          2014,
          2005,
          2004,
          2010,
          2002,
          2006,
          2002,
          2001,
          2011,
          1982,
          2013,
          2000,
          2002,
          2016,
          2010,
          2006,
          2003,
          2006,
          2008,
          2007,
          2002,
          2007,
          2011,
          2003,
          2013,
          2009,
          2008,
          2009,
          2007,
          1998,
          2010,
          2016,
          2005,
          2009,
          2014,
          1998,
          2000,
          2012,
          2002,
          2011,
          2007,
          1997,
          2008,
          1997,
          2011,
          2009,
          2016,
          2004,
          2007,
          2015,
          2010,
          2008,
          2005,
          2004,
          2006,
          2011,
          2007,
          2015,
          2014,
          2001,
          1997,
          2010,
          2004,
          1998,
          1999,
          2000,
          1999,
          2002,
          2007,
          1999,
          2014,
          2008,
          2008,
          2003,
          2002,
          2008,
          1995,
          2006,
          2010,
          2000,
          2009,
          2015,
          2006,
          1997,
          2002,
          2010,
          1997,
          2010,
          2011,
          2006,
          2007,
          2009,
          2016,
          2016,
          2002,
          2004,
          2002,
          2010,
          1999,
          2003,
          1997,
          2006,
          2014,
          2011,
          2005,
          1996,
          2005,
          2002,
          2005,
          2007,
          1996,
          2016,
          2014,
          2003,
          2002,
          1993,
          2008,
          2007,
          2009,
          2001,
          2005,
          2015,
          2012,
          2000,
          1995,
          2007,
          2006,
          2012,
          1996,
          2002,
          2009,
          2002,
          2011,
          2001,
          1999,
          2011,
          1998,
          1995,
          2016,
          2010,
          2010,
          2006,
          2007,
          2006,
          2002,
          2005,
          2015,
          2010,
          2012,
          2002,
          2006,
          2015,
          1995,
          2011,
          2002,
          2015,
          2008,
          1995,
          1995,
          2002,
          2006,
          2010,
          2007,
          2004,
          2004,
          2007,
          2005,
          1998,
          2009,
          2006,
          2014,
          2008,
          2002,
          2014,
          2009,
          2007,
          2010,
          2006,
          2004,
          2006,
          2003,
          2008,
          2010,
          2003,
          2001,
          2008,
          2011,
          2011,
          2008,
          1997,
          2011,
          2003,
          2010,
          2014,
          2002,
          2001,
          2009,
          1998,
          2011,
          2009,
          2005,
          2011,
          2001,
          1996,
          2009,
          2008,
          2016,
          2005,
          2006,
          2004,
          2009,
          2011,
          2008,
          2009,
          2002,
          2004,
          2003,
          2002,
          2011,
          2012,
          2006,
          2011,
          2003,
          2006,
          2007,
          2012,
          2001,
          2010,
          2003,
          2012,
          2007,
          2003,
          2010,
          2010,
          2008,
          2012,
          1998,
          2009,
          2001,
          2008,
          2010,
          2010,
          2002,
          2006,
          2004,
          2006,
          2005,
          2004,
          2006,
          2002,
          2009,
          2012,
          2002,
          2011,
          2005,
          2009,
          2008,
          2009,
          2009,
          2005,
          2010,
          2010,
          1995,
          2008,
          2016,
          2005,
          2011,
          2004,
          2008,
          2005,
          2011,
          2005,
          2008,
          2005,
          2016,
          2010,
          1997,
          2010,
          2007,
          2011,
          2007,
          2015,
          2010,
          2008,
          2008,
          2000,
          2009,
          2013,
          2016,
          2011,
          2008,
          2008,
          2003,
          2001,
          2002,
          2008,
          2011,
          1998,
          2009,
          2014,
          2001,
          2004,
          2007,
          2008,
          2008,
          2008,
          2005,
          2002,
          2006,
          2010,
          2000,
          2002,
          2000,
          2013,
          2007,
          2006,
          2009,
          2008,
          1997,
          2011,
          2012,
          2004,
          2006,
          2011,
          2012,
          2010,
          2015,
          2006,
          1997,
          2010,
          2008,
          2002,
          2001,
          2002,
          2005,
          2002,
          2011,
          2008,
          2010,
          2015,
          2004,
          2014,
          2008,
          2009,
          1998,
          2008,
          2006,
          2016,
          2007,
          2005,
          2004,
          2007,
          2010,
          2009,
          2013,
          2011,
          1992,
          2010,
          2005,
          2011,
          2007,
          2015,
          2009,
          1998,
          2011,
          2014,
          2001,
          2008,
          2003,
          2008,
          2010,
          2001,
          1995,
          1993,
          2015,
          2005,
          2005,
          2008,
          1995,
          2016,
          2011,
          2000,
          2006,
          2011,
          2005,
          2011,
          2011,
          2009,
          2005,
          1999,
          2000,
          1999,
          2006,
          2002,
          2010,
          2002,
          1997,
          2012,
          2012,
          2009,
          2006,
          1981,
          2005,
          2003,
          2002,
          2006,
          2009,
          2003,
          2010,
          2004,
          2009,
          2005,
          2003,
          2015,
          1996,
          2008,
          2009,
          2009,
          1997,
          2003,
          2003,
          2008,
          2009,
          2010,
          2010,
          2014,
          2011,
          2007,
          2006,
          2010,
          2003,
          2008,
          2008,
          2012,
          2002,
          2008,
          2010,
          2010,
          2003,
          2006,
          2011,
          2007,
          2010,
          2008,
          2011,
          2009,
          1995,
          2007,
          2010,
          2004,
          2014,
          2011,
          2015,
          2010,
          2011,
          2011,
          2009,
          2005,
          1995,
          2014,
          2009,
          2008,
          2004,
          2004,
          2006,
          2001,
          2009,
          2005,
          2003,
          2006,
          2010,
          2014,
          2000,
          2012,
          2011,
          2002,
          2011,
          1992,
          2003,
          2010,
          2007,
          2008,
          2008,
          2006,
          2001,
          2004,
          2008,
          2014,
          2005,
          1998,
          2011,
          2005,
          2001,
          2002,
          2007,
          2011,
          2003,
          2004,
          2005,
          1999,
          2006,
          2002,
          2002,
          2010,
          2002,
          2001,
          2004,
          2008,
          2005,
          2013,
          1995,
          2012,
          1996,
          2008,
          2007,
          2002,
          2011,
          2001,
          2011,
          2002,
          2011,
          2002,
          2006,
          2013,
          2012,
          2013,
          1997,
          2014,
          1998,
          2002,
          2007,
          2011,
          2009,
          2013,
          2013,
          2011,
          2007,
          2007,
          2006,
          2009,
          2005,
          2003,
          2006,
          2016,
          2006,
          2008,
          1995,
          2010,
          2002,
          2010,
          2004,
          2008,
          2002,
          2010,
          2003,
          2011,
          2015,
          2009,
          2002,
          1997,
          2003,
          2006,
          1997,
          2012,
          2000,
          2008,
          2008,
          2015,
          2001,
          1998,
          2010,
          2012,
          2016,
          1995,
          2012,
          2001,
          1996,
          2004,
          2009,
          2008,
          2011,
          2007,
          2016,
          2006,
          2009,
          2003,
          2010,
          1997,
          2012,
          2012,
          2007,
          2007,
          2006,
          1998,
          2006,
          1996,
          2002,
          2002,
          2006,
          2016,
          2009,
          2009,
          1999,
          2004,
          2009,
          2008,
          2001,
          2008,
          2013,
          2014,
          2002,
          2010,
          2016,
          2002,
          2008,
          1998,
          2006,
          2011,
          2000,
          1997,
          2011,
          2008,
          2012,
          2013,
          1994,
          2008,
          2011,
          2008,
          2010,
          2007,
          2008,
          1998,
          2003,
          2016,
          2005,
          2004,
          2016,
          2006,
          2006,
          2008,
          1998,
          2009,
          2008,
          2007,
          2011,
          2008,
          2006,
          2012,
          1997,
          2005,
          2011,
          2005,
          2012,
          2007,
          1996,
          2003,
          2005,
          1996,
          2008,
          2003,
          2010,
          2011,
          2011,
          2009,
          2011,
          2010,
          2008,
          2013,
          1995,
          2002,
          2014,
          2011,
          2004,
          2011,
          2010,
          2006,
          2010,
          2011,
          2006,
          2013,
          2015,
          2010,
          2005,
          2010,
          2015,
          2009,
          2010,
          2011,
          2009,
          2008,
          2001,
          2007,
          2010,
          2003,
          2015,
          2011,
          2007,
          2010,
          2005,
          2004,
          2006,
          1992,
          2009,
          2010,
          2001,
          2007,
          2007,
          2016,
          2011,
          1999,
          2008,
          2009,
          2016,
          2010,
          2003,
          2010,
          2016,
          2010,
          2011,
          2016,
          2016,
          2000,
          2004,
          2007,
          2008,
          2011,
          2011,
          2016,
          2016,
          2011,
          2013,
          2002,
          2010,
          2010,
          1999,
          1999,
          2000,
          1999,
          2008,
          2015,
          2009,
          2015,
          2008,
          2007,
          2003,
          2006,
          2002,
          2016,
          2008,
          2005,
          2009,
          2011,
          2009,
          2013,
          2010,
          2010,
          2000,
          1996,
          2001,
          2003,
          1994,
          2010,
          2008,
          2010,
          2005,
          2004,
          2015,
          2003,
          2015,
          2010,
          2016,
          2011,
          2009,
          2003,
          2001,
          2016,
          2009,
          2008,
          2005,
          2010,
          2009,
          2009,
          2015,
          2010,
          2005,
          2006,
          2012,
          2001,
          2011,
          2008,
          2006,
          2010,
          2011,
          2005,
          2003,
          2014,
          2003,
          1998,
          2002,
          2014,
          2005,
          2016,
          2002,
          2013,
          1996,
          2005,
          2003,
          2014,
          2008,
          2008,
          1994,
          2010,
          2002,
          2006,
          2011,
          2011,
          2012,
          2002,
          2009,
          2011,
          2007,
          1998,
          2011,
          2004,
          2008,
          2007,
          2013,
          2001,
          1994,
          2008,
          2008,
          2006,
          2009,
          2008,
          2011,
          2007,
          2015,
          1993,
          2005,
          2009,
          2014,
          2013,
          2005,
          2009,
          2000,
          2008,
          2002,
          2002,
          2009,
          2007,
          2001,
          2003,
          2011,
          2004,
          2011,
          2013,
          2007,
          2003,
          2008,
          1997,
          2014,
          2007,
          2005,
          2012,
          2010,
          2011,
          2011,
          2008,
          2016,
          2016,
          2011,
          1991,
          1996,
          2011,
          2005,
          1998,
          1996,
          1998,
          2001,
          2006,
          2013,
          1998,
          2013,
          2008,
          2016,
          2008,
          2008,
          2010,
          2007,
          2010,
          1995,
          2007,
          2007,
          2011,
          2009,
          2009,
          1994,
          2002,
          2002,
          2002,
          2006,
          2005,
          2010,
          2011,
          2011,
          2003,
          2010,
          2013,
          2001,
          2012,
          2008,
          2014,
          2000,
          2009,
          2013,
          2004,
          2002,
          2011,
          1995,
          2000,
          2004,
          2003,
          2006,
          2008,
          2008,
          2010,
          2009,
          2008,
          2010,
          2015,
          2005,
          2006,
          2007,
          2002,
          2010,
          2002,
          1998,
          2004,
          2012,
          2014,
          2016,
          2009,
          2010,
          2016,
          2014,
          2007,
          2002,
          2010,
          2005,
          2012,
          2004,
          1994,
          2006,
          2010,
          2007,
          2007,
          2005,
          2008,
          2008,
          2002,
          2005,
          2007,
          1999,
          2008,
          2007,
          2010,
          2004,
          2011,
          2004,
          2010,
          2013,
          1998,
          2010,
          2003,
          2014,
          2003,
          2014,
          2007,
          2015,
          2011,
          2010,
          2005,
          2000,
          1999,
          2005,
          2003,
          2009,
          2004,
          2013,
          2008,
          2002,
          2008,
          2000,
          2015,
          1997,
          1998,
          2010,
          2008,
          2003,
          2009,
          2007,
          2008,
          2009,
          2009,
          1994,
          2005,
          2009,
          1996,
          2005,
          2010,
          2008,
          2006,
          2008,
          2002,
          2002,
          2009,
          2002,
          2012,
          2014,
          2007,
          2008,
          2002,
          2014,
          2005,
          1999,
          2002,
          2009,
          2016,
          2007,
          2005,
          2002,
          2011,
          2014,
          2007,
          2005,
          2004,
          2002,
          2011,
          2011,
          2007,
          2010,
          1995,
          2005,
          2007,
          2010,
          2004,
          2008,
          2002,
          2008,
          2003,
          2002,
          2002,
          2006,
          2013,
          2011,
          2011,
          2009,
          2010,
          2006,
          2002,
          2007,
          2009,
          2015,
          2008,
          2005,
          2011,
          2007,
          2002,
          2007,
          2016,
          2009,
          2007,
          2001,
          2011,
          2011,
          2012,
          2011,
          2005,
          2003,
          2008,
          2010,
          2010,
          2002,
          1997,
          2011,
          2010,
          2004,
          2007,
          2010,
          2005,
          2009,
          2011,
          2007,
          2006,
          2007,
          2003,
          2006,
          2007,
          2003,
          2011,
          2005,
          2006,
          2015,
          2008,
          2002,
          2003,
          2008,
          2009,
          2011,
          2005,
          2006,
          2003,
          2015,
          1999,
          1997,
          2000,
          1999,
          1996,
          1999,
          1998,
          1999,
          1999,
          1997,
          2011,
          2010,
          2008,
          2008,
          2011,
          1996,
          2002,
          2014,
          2011,
          2011,
          2009,
          2000,
          2011,
          2007,
          2008,
          2002,
          2006,
          1999,
          2012,
          2004,
          1997,
          2004,
          2009,
          2015,
          2009,
          2008,
          2009,
          2010,
          2002,
          2011,
          2003,
          2011,
          2002,
          1999,
          1997,
          2009,
          2006,
          2008,
          1993,
          1997,
          2011,
          2006,
          2005,
          2015,
          2007,
          2016,
          2002,
          2013,
          2000,
          2003,
          2012,
          2009,
          2005,
          2005,
          2003,
          2005,
          1996,
          2004,
          2011,
          2002,
          2011,
          2005,
          2008,
          2004,
          2002,
          2005,
          2007,
          2009,
          2005,
          2015,
          2006,
          2001,
          2009,
          2004,
          2009,
          2010,
          2010,
          2003,
          2009,
          2010,
          2016,
          1994,
          2003,
          2008,
          1997,
          2010,
          2000,
          1997,
          2015,
          1999,
          2013,
          2011,
          2004,
          2009,
          2007,
          2006,
          2009,
          1999,
          2007,
          2006,
          2009,
          1993,
          2008,
          2011,
          2009,
          2007,
          2012,
          2015,
          2011,
          1995,
          2010,
          2005,
          2011,
          1996,
          2009,
          2005,
          2005,
          2015,
          2000,
          2009,
          2009,
          2000,
          2011,
          2010,
          2005,
          2014,
          2009,
          1999,
          2009,
          2005,
          2010,
          2008,
          2006,
          2009,
          2015,
          1995,
          2005,
          1994,
          2008,
          2007,
          2013,
          2011,
          1999,
          2007,
          2011,
          2006,
          2011,
          2002,
          2008,
          2014,
          2009,
          2010,
          2014,
          2000,
          2006,
          2009,
          2003,
          2011,
          1999,
          2001,
          2007,
          2004,
          2016,
          1995,
          2010,
          1998,
          2009,
          2012,
          2004,
          2002,
          2009,
          1995,
          2011,
          2012,
          2002,
          2007,
          2005,
          1999,
          2009,
          2014,
          2012,
          2012,
          2006,
          2011,
          2010,
          2010,
          2005,
          2009,
          1995,
          2012,
          2014,
          2008,
          1995,
          2011,
          2016,
          2005,
          2016,
          2010,
          2009,
          2003,
          2000,
          1995,
          2008,
          2006,
          2010,
          2006,
          2013,
          2007,
          1995,
          2005,
          2010,
          2015,
          2002,
          2005,
          2006,
          2011,
          2014,
          2012,
          2003,
          2007,
          2009,
          2010,
          2009,
          2009,
          2006,
          2007,
          2016,
          2003,
          2009,
          2003,
          2003,
          2005,
          2005,
          2012,
          2004,
          2006,
          2004,
          2014,
          2011,
          2009,
          2006,
          2005,
          2005,
          2015,
          2011,
          2008,
          2010,
          2005,
          2008,
          2013,
          2010,
          2003,
          2014,
          2010,
          2005,
          2001,
          2006,
          2009,
          2009,
          2000,
          2008,
          2010,
          2006,
          2011,
          2007,
          2013,
          2012,
          2005,
          2008,
          2007,
          2002,
          2003,
          2003,
          2007,
          2009,
          2002,
          2009,
          2006,
          2008,
          1995,
          2013,
          2004,
          2012,
          2008,
          2004,
          2014,
          2011,
          2007,
          2003,
          2004,
          2008,
          2007,
          2011,
          2003,
          2005,
          2009,
          1995,
          1999,
          2012,
          2004,
          2011,
          2004,
          2009,
          2009,
          2011,
          2006,
          2015,
          2008,
          2012,
          2014,
          2009,
          2009,
          2004,
          1999,
          2002,
          2005,
          2011,
          2010,
          2016,
          2007,
          2007,
          1998,
          2004,
          2008,
          2008,
          2009,
          1999,
          1995,
          2009,
          2007,
          2003,
          2012,
          2011,
          2002,
          2007,
          2007,
          1999,
          2011,
          2009,
          2007,
          2010,
          2011,
          2003,
          2006,
          2002,
          2013,
          2001,
          2010,
          2006,
          2003,
          2009,
          2007,
          2011,
          2011,
          2006,
          2002,
          2013,
          2009,
          2013,
          2006,
          2005,
          2002,
          2005,
          2008,
          2006,
          2009,
          2009,
          2013,
          2009,
          2009,
          1996,
          2003,
          2008,
          2011,
          2009,
          2009,
          2009,
          1995,
          2008,
          2012,
          2002,
          2007,
          2013,
          2009,
          2000,
          1999,
          2001,
          2011,
          2008,
          2006,
          2010,
          2008,
          2009,
          1996,
          2004,
          2007,
          2015,
          2010,
          2011,
          2009,
          2010,
          2010,
          2002,
          2009,
          2004,
          2008,
          2007,
          2010,
          2006,
          2005,
          1997,
          2015,
          2014,
          2001,
          1998,
          2004,
          2007,
          2008,
          2004,
          2007,
          2001,
          2015,
          1998,
          2000,
          1998,
          1998,
          1998,
          2000,
          2001,
          1998,
          1997,
          1997,
          1999,
          2007,
          2015,
          2002,
          2011,
          2010,
          2014,
          2001,
          2009,
          2010,
          2003,
          2006,
          2008,
          2011,
          2009,
          2006,
          1999,
          2004,
          2001,
          1999,
          1997,
          2009,
          2010,
          2008,
          2003,
          2004,
          2005,
          2010,
          2005,
          2007,
          2007,
          2011,
          2006,
          2010,
          2007,
          2002,
          1994,
          2005,
          2008,
          1997,
          2011,
          2005,
          2006,
          2010,
          2000,
          2011,
          1995,
          2015,
          2003,
          2014,
          2011,
          2008,
          1995,
          2006,
          2012,
          2011,
          2011,
          2010,
          2005,
          2008,
          2011,
          2007,
          2008,
          2007,
          2001,
          2009,
          2013,
          2003,
          1996,
          2010,
          2002,
          2004,
          2009,
          2011,
          2011,
          2004,
          2010,
          2008,
          2008,
          2004,
          2009,
          2001,
          2009,
          2015,
          2016,
          2009,
          2014,
          2015,
          2008,
          2014,
          2004,
          1996,
          2008,
          2011,
          2014,
          2014,
          2012,
          2005,
          2007,
          2012,
          2009,
          2011,
          1998,
          2006,
          2015,
          1995,
          2011,
          2004,
          2011,
          2002,
          1997,
          2014,
          2008,
          2009,
          2013,
          2009,
          2009,
          2006,
          2007,
          1996,
          2010,
          1998,
          2006,
          2008,
          2007,
          2010,
          2005,
          2006,
          2004,
          2009,
          2008,
          2016,
          2013,
          2009,
          1997,
          2001,
          2015,
          2014,
          1996,
          2016,
          2011,
          2009,
          2014,
          2011,
          2011,
          2012,
          2009,
          2003,
          2007,
          2011,
          2010,
          2002,
          2016,
          2014,
          2009,
          2010,
          2007,
          2006,
          2012,
          2006,
          2002,
          2015,
          2004,
          2008,
          2002,
          1997,
          2009,
          2011,
          2006,
          2011,
          2010,
          2010,
          2008,
          2002,
          2009,
          2006,
          2014,
          2006,
          2016,
          2009,
          2016,
          2002,
          2006,
          2014,
          2016,
          2002,
          2011,
          2013,
          2007,
          2010,
          2005,
          1998,
          2000,
          2005,
          2011,
          2003,
          2005,
          2002,
          2006,
          2011,
          2011,
          2005,
          2010,
          2011,
          2002,
          2007,
          2016,
          2012,
          2004,
          2002,
          2010,
          2009,
          2005,
          2011,
          2014,
          2009,
          2010,
          2003,
          2011,
          2008,
          2011,
          2014,
          1998,
          2012,
          2012,
          2007,
          2009,
          2016,
          1998,
          2001,
          1997,
          1995,
          2009,
          2009,
          2014,
          2001,
          2006,
          2002,
          2008,
          2005,
          2013,
          2016,
          2009,
          1999,
          2008,
          2004,
          2015,
          2002,
          2004,
          2007,
          1995,
          2004,
          2015,
          2007,
          1998,
          2012,
          2003,
          2005,
          2009,
          2009,
          2005,
          2007,
          2008,
          2010,
          2005,
          2015,
          2010,
          2005,
          2007,
          2001,
          2013,
          2011,
          2008,
          2010,
          2000,
          2012,
          2005,
          2002,
          2010,
          1995,
          2013,
          2004,
          2009,
          1995,
          2016,
          2003,
          2015,
          2004,
          2005,
          2008,
          1998,
          2005,
          2009,
          2005,
          1996,
          2006,
          2006,
          2010,
          2010,
          2004,
          2011,
          2007,
          2001,
          2004,
          2007,
          2007,
          2012,
          2002,
          2003,
          2006,
          2010,
          2007,
          2002,
          2003,
          2010,
          2000,
          2004,
          2005,
          2015,
          2010,
          2011,
          2012,
          2016,
          1996,
          2003,
          2011,
          2002,
          2006,
          2005,
          2016,
          2007,
          2013,
          1995,
          2009,
          2002,
          2005,
          2002,
          2003,
          2010,
          2001,
          1997,
          2005,
          1998,
          2008,
          2002,
          2011,
          2003,
          1998,
          2005,
          2007,
          2009,
          2000,
          2010,
          2011,
          2007,
          2007,
          2007,
          2000,
          2002,
          2005,
          2010,
          2002,
          2011,
          2009,
          2011,
          2010,
          2001,
          2009,
          2002,
          2014,
          2008,
          2001,
          2006,
          2014,
          2016,
          2009,
          2011,
          2010,
          2007,
          2013,
          2011,
          2014,
          2014,
          2003,
          2010,
          2009,
          2011,
          2009,
          2011,
          2000,
          2006,
          2008,
          2008,
          2011,
          1998,
          2002,
          2011,
          2013,
          2003,
          2010,
          2010,
          2006,
          2010,
          2005,
          2013,
          2007,
          2011,
          2006,
          2006,
          2014,
          2008,
          2005,
          2007,
          2008,
          1998,
          1998,
          2010,
          2000,
          2015,
          1995,
          1998,
          1996,
          2009,
          2006,
          2015,
          2008,
          1996,
          2005,
          2010,
          1997,
          1995,
          2011,
          2005,
          2011,
          2016,
          1995,
          2010,
          2012,
          2010,
          2013,
          2016,
          2007,
          2015,
          2007,
          2009,
          2009,
          2007,
          2009,
          2008,
          2006,
          2011,
          2000,
          2008,
          2009,
          2002,
          2007,
          2005,
          2002,
          2005,
          2002,
          2007,
          2015,
          2000,
          2008,
          1994,
          2003,
          2014,
          2000,
          2007,
          2008,
          2001,
          2010,
          2009,
          2010,
          2012,
          2011,
          2010,
          2009,
          2003,
          2016,
          2006,
          2009,
          2008,
          2008,
          2010,
          2010,
          2007,
          2008,
          2015,
          2002,
          2002,
          2004,
          2005,
          2011,
          2004,
          2011,
          2002,
          2008,
          2007,
          2008,
          2001,
          2011,
          1993,
          2006,
          2015,
          2014,
          2012,
          2008,
          2003,
          2005,
          2005,
          2008,
          2015,
          2010,
          2011,
          2007,
          2006,
          2009,
          2011,
          2012,
          2009,
          2008,
          2005,
          2009,
          2010,
          2011,
          2015,
          2016,
          2006,
          2007,
          2009,
          2015,
          2009,
          2013,
          2005,
          2009,
          2006,
          2004,
          2004,
          1996,
          2005,
          2013,
          2009,
          2003,
          2003,
          2006,
          2014,
          2005,
          2011,
          2008,
          2000,
          2004,
          2005,
          2009,
          2002,
          2009,
          1999,
          2000,
          2007,
          2015,
          2009,
          2009,
          2010,
          2011,
          2006,
          1998,
          2008,
          2004,
          2007,
          2010,
          2006,
          2014,
          2016,
          2005,
          1996,
          2006,
          2005,
          2003,
          2011,
          2011,
          2008,
          2015,
          2004,
          2015,
          2003,
          2015,
          2010,
          2008,
          2005,
          1998,
          2013,
          2001,
          2009,
          2014,
          2007,
          2001,
          2011,
          1997,
          2002,
          2007,
          1999,
          2000,
          2016,
          2013,
          2014,
          2002,
          1995,
          2008,
          2005,
          2002,
          2010,
          2012,
          2004,
          2005,
          2016,
          2009,
          2011,
          2006,
          1997,
          2009,
          2006,
          2001,
          2011,
          2006,
          2006,
          2008,
          2008,
          2006,
          1995,
          2007,
          2004,
          2000,
          2008,
          2008,
          2009,
          2009,
          2009,
          2010,
          1996,
          2010,
          2008,
          1999,
          2009,
          2006,
          1995,
          2004,
          2004,
          2010,
          2009,
          2011,
          2008,
          2007,
          2015,
          2016,
          2008,
          2008,
          2016,
          2012,
          2006,
          2007,
          2016,
          1998,
          1994,
          2004,
          2004,
          2003,
          2011,
          2010,
          2003,
          2009,
          2000,
          2005,
          2008,
          2005,
          2005,
          2002,
          2009,
          2010,
          1998,
          1999,
          2015,
          2001,
          2003,
          2008,
          2011,
          2011,
          2003,
          2002,
          2011,
          2006,
          2009,
          2010,
          2008,
          2014,
          2007,
          2000,
          2003,
          2009,
          2013,
          2005,
          2000,
          2004,
          2008,
          1991,
          2014,
          2011,
          2010,
          2009,
          2009,
          2004,
          2003,
          2010,
          2003,
          2002,
          2006,
          2005,
          2011,
          2004,
          2003,
          2000,
          2008,
          2014,
          2005,
          2005,
          2004,
          2006,
          2001,
          2006,
          2015,
          2008,
          2006,
          2002,
          1995,
          2014,
          2011,
          2011,
          2012,
          2008,
          2015,
          1998,
          2000,
          2006,
          2005,
          2013,
          2008,
          2011,
          2007,
          2010,
          2005,
          2012,
          2015,
          2009,
          2005,
          2011,
          2011,
          2010,
          2016,
          2009,
          2008,
          2009,
          1996,
          2013,
          1998,
          2009,
          2013,
          1996,
          2010,
          2010,
          2009,
          2009,
          2009,
          2002,
          2009,
          2016,
          2004,
          2005,
          2009,
          2009,
          2016,
          2011,
          2011,
          2005,
          2008,
          2008,
          2001,
          2008,
          2006,
          2009,
          2007,
          2013,
          2012,
          2005,
          2008,
          2004,
          2011,
          2014,
          2014,
          2008,
          2015,
          2008,
          2009,
          2007,
          2004,
          2011,
          2005,
          1998,
          2002,
          2007,
          2011,
          2016,
          2014,
          2011,
          2013,
          2006,
          2011,
          2004,
          2002,
          2011,
          2010,
          2002,
          2011,
          2011,
          1994,
          1995,
          2009,
          2009,
          2009,
          2003,
          2002,
          2008,
          2012,
          2009,
          2009,
          2010,
          2009,
          1998,
          2007,
          2011,
          1999,
          2013,
          2011,
          2009,
          2009,
          2003,
          2001,
          2015,
          2010,
          1998,
          2009,
          2003,
          2010,
          1997,
          2010,
          2008,
          2013,
          2009,
          1998,
          2002,
          1998,
          1996,
          1997,
          1998,
          1998,
          2007,
          2004,
          2007,
          2008,
          2009,
          2003,
          2003,
          2005,
          2016,
          2010,
          2010,
          2011,
          2011,
          2004,
          2011,
          2008,
          2013,
          2001,
          2000,
          2011,
          2014,
          1999,
          2005,
          2010,
          1995,
          2002,
          2010,
          2012,
          2004,
          2010,
          2013,
          2011,
          2006,
          2004,
          2000,
          2005,
          2010,
          2003,
          2012,
          2013,
          1997,
          2004,
          2011,
          1995,
          2001,
          1995,
          2010,
          2007,
          2003,
          2009,
          2009,
          2013,
          2005,
          2011,
          2010,
          2003,
          2014,
          2007,
          2009,
          1994,
          2011,
          2008,
          1997,
          2008,
          2009,
          2003,
          2002,
          2006,
          2006,
          2001,
          2003,
          2011,
          2012,
          2006,
          2016,
          2007,
          2007,
          2014,
          2004,
          2016,
          2007,
          2015,
          2002,
          2009,
          2008,
          2008,
          2008,
          2001,
          2005,
          2002,
          2006,
          2010,
          2008,
          2008,
          2010,
          2010,
          2013,
          2009,
          2002,
          2010,
          2013,
          1995,
          2004,
          2009,
          2007,
          2016,
          2015,
          1998,
          2008,
          2007,
          2003,
          2007,
          2004,
          2006,
          2005,
          2011,
          2005,
          2013,
          2011,
          2013,
          2002,
          2006,
          2016,
          2000,
          2003,
          2016,
          2011,
          2010,
          2008,
          2010,
          1998,
          2006,
          2006,
          2008,
          2012,
          1995,
          2002,
          2012,
          2013,
          2005,
          2007,
          1998,
          1996,
          2005,
          2002,
          2004,
          2010,
          2009,
          2015,
          2009,
          1997,
          2009,
          2011,
          2003,
          2015,
          2007,
          1994,
          1996,
          2007,
          2002,
          2002,
          2015,
          2006,
          2009,
          2008,
          2005,
          2009,
          1998,
          2009,
          2008,
          2003,
          2003,
          2008,
          2016,
          2009,
          2009,
          2005,
          2014,
          2011,
          2010,
          2008,
          2009,
          2006,
          2007,
          2009,
          2011,
          2002,
          2007,
          2005,
          2005,
          2009,
          2011,
          2008,
          2010,
          2008,
          2006,
          2009,
          2004,
          1998,
          2011,
          2002,
          2000,
          1994,
          2015,
          1998,
          1998,
          2016,
          2007,
          1995,
          2008,
          1995,
          2012,
          2005,
          2014,
          2007,
          2008,
          2010,
          2005,
          2011,
          2003,
          2015,
          2016,
          2004,
          2004,
          2003,
          2007,
          2007,
          2014,
          2008,
          2002,
          2008,
          2008,
          2011,
          2007,
          2006,
          2008,
          2015,
          2004,
          2006,
          2004,
          2012,
          2012,
          2002,
          1987,
          2011,
          2007,
          2005,
          2015,
          2002,
          2002,
          2011,
          2012,
          2011,
          2004,
          2011,
          2009,
          2009,
          2015,
          1998,
          2012,
          2008,
          1994,
          2005,
          2008,
          1995,
          2006,
          2008,
          2014,
          2013,
          2012,
          2008,
          2010,
          2002,
          1987,
          2015,
          2011,
          2008,
          1994,
          2014,
          2015,
          2010,
          2010,
          1997,
          2008,
          2006,
          2011,
          2009,
          2003,
          2004,
          2008,
          2009,
          2003,
          2010,
          2006,
          2010,
          2002,
          2000,
          1996,
          2010,
          2005,
          2013,
          2004,
          2001,
          2006,
          2003,
          2005,
          2013,
          2013,
          1997,
          2010,
          2009,
          2013,
          2012,
          2014,
          2009,
          2005,
          2009,
          2014,
          2013,
          2005,
          2009,
          1995,
          2011,
          2015,
          2012,
          2008,
          2008,
          2012,
          2002,
          2006,
          2000,
          2010,
          2002,
          2009,
          2008,
          2015,
          2002,
          2011,
          2005,
          2005,
          1995,
          1998,
          2009,
          2001,
          2011,
          2003,
          2008,
          2010,
          2004,
          2004,
          2009,
          2006,
          2008,
          2008,
          2002,
          2010,
          2004,
          2003,
          2009,
          2005,
          2002,
          2010,
          2008,
          1998,
          2010,
          2009,
          1998,
          1994,
          2015,
          2008,
          2009,
          2002,
          2008,
          2012,
          1996,
          1997,
          2003,
          2005,
          2007,
          2009,
          2009,
          2007,
          2006,
          2007,
          2008,
          2013,
          2010,
          2016,
          2011,
          2011,
          2003,
          2005,
          2005,
          2005,
          2010,
          2008,
          2003,
          1995,
          2008,
          2001,
          2006,
          2010,
          2005,
          2010,
          2008,
          2002,
          2010,
          2007,
          2009,
          1994,
          2009,
          2009,
          2007,
          2004,
          2007,
          2009,
          2005,
          2012,
          2013,
          2013,
          2009,
          2012,
          2009,
          2000,
          2009,
          2014,
          2011,
          2003,
          2011,
          2009,
          2003,
          2012,
          2011,
          2002,
          2008,
          2007,
          2007,
          2011,
          1998,
          2011,
          2000,
          2002,
          2005,
          2009,
          2000,
          2008,
          2007,
          2011,
          2004,
          2002,
          2013,
          2011,
          2007,
          2011,
          2015,
          2010,
          2005,
          2006,
          2005,
          2015,
          2008,
          2009,
          2002,
          2008,
          2010,
          2010,
          2013,
          2014,
          2005,
          2013,
          2012,
          2003,
          2011,
          2007,
          2009,
          2002,
          2003,
          2004,
          2000,
          2015,
          2002,
          2006,
          1993,
          2007,
          2008,
          2009,
          2011,
          1996,
          1998,
          2009,
          2012,
          2010,
          2014,
          2012,
          2009,
          2014,
          2008,
          1998,
          2001,
          2008,
          2014,
          2015,
          2011,
          2002,
          2008,
          2009,
          2003,
          2004,
          2015,
          2011,
          2003,
          1999,
          1998,
          2000,
          1991,
          2001,
          1997,
          2000,
          1992,
          2011,
          2009,
          2004,
          2006,
          2011,
          2009,
          2003,
          2013,
          2007,
          2008,
          2006,
          2003,
          2015,
          2008,
          2004,
          2005,
          2014,
          1996,
          2006,
          2005,
          2000,
          2006,
          2006,
          2004,
          2007,
          2014,
          2010,
          2004,
          2014,
          2008,
          2013,
          2011,
          2013,
          2014,
          2008,
          2008,
          1997,
          2005,
          2014,
          2010,
          1998,
          2011,
          2008,
          2004,
          2005,
          2012,
          2009,
          2008,
          2013,
          2006,
          2005,
          2016,
          2006,
          2008,
          2009,
          2000,
          2011,
          2005,
          2005,
          2004,
          2014,
          1997,
          2009,
          2009,
          2007,
          2004,
          2006,
          2008,
          2009,
          2005,
          2012,
          1996,
          2001,
          2007,
          1992,
          1993,
          2010,
          2003,
          2010,
          2004,
          2009,
          2015,
          2007,
          2007,
          2012,
          1995,
          2002,
          2010,
          1994,
          2005,
          2010,
          2006,
          2006,
          2002,
          2016,
          2007,
          1993,
          1998,
          2002,
          2003,
          2002,
          1999,
          2008,
          2004,
          2005,
          2003,
          2011,
          2004,
          2007,
          2013,
          2014,
          2015,
          2011,
          2008,
          2015,
          2007,
          1997,
          2008,
          2008,
          2008,
          1998,
          2010,
          2006,
          2012,
          2001,
          2011,
          2002,
          1995,
          2015,
          1993,
          2004,
          2005,
          2007,
          2016,
          2007,
          2006,
          1997,
          2010,
          1997,
          2007,
          2010,
          2008,
          2004,
          2002,
          2008,
          2007,
          1995,
          2008,
          2014,
          2006,
          2002,
          2003,
          2006,
          2006,
          2010,
          2002,
          2007,
          2010,
          2003,
          2005,
          2008,
          2002,
          2012,
          2004,
          2006,
          2006,
          2014,
          2005,
          2012,
          2011,
          2003,
          2006,
          2014,
          2010,
          2014,
          2003,
          2009,
          2006,
          2003,
          2011,
          2009,
          2007,
          2000,
          2008,
          1997,
          2010,
          2010,
          2008,
          2010,
          1998,
          2009,
          2011,
          1996,
          2006,
          2002,
          2011,
          2010,
          2005,
          2012,
          2001,
          2005,
          2010,
          2010,
          2004,
          2007,
          2014,
          2004,
          2003,
          2015,
          2010,
          2014,
          2012,
          2011,
          2001,
          2013,
          2011,
          2006,
          2005,
          2006,
          2006,
          2006,
          1997,
          2014,
          2009,
          2004,
          2009,
          2014,
          2014,
          1996,
          2008,
          2005,
          1998,
          2007,
          2002,
          2011,
          2004,
          2009,
          2001,
          2008,
          2009,
          2006,
          1993,
          2015,
          2014,
          2011,
          2007,
          2008,
          2008,
          1996,
          2003,
          2014,
          2015,
          2012,
          2013,
          2001,
          2007,
          1998,
          2014,
          2008,
          2004,
          2005,
          2004,
          2005,
          2013,
          2002,
          2001,
          1994,
          2011,
          2005,
          2007,
          2009,
          2009,
          2013,
          2002,
          1998,
          2010,
          2006,
          2000,
          2008,
          2000,
          2005,
          2011,
          2003,
          2013,
          2008,
          2010,
          2000,
          2015,
          2013,
          2006,
          2014,
          2002,
          2003,
          2014,
          2014,
          2002,
          2010,
          2008,
          2008,
          1993,
          2003,
          2007,
          2010,
          2011,
          2009,
          2015,
          2010,
          2006,
          2008,
          1997,
          2015,
          2010,
          2005,
          2006,
          2010,
          2009,
          2009,
          2008,
          2010,
          2002,
          2006,
          2007,
          2012,
          2012,
          2004,
          2000,
          2005,
          2004,
          2001,
          2016,
          2007,
          2010,
          2009,
          2003,
          1998,
          2008,
          2011,
          2007,
          2002,
          2007,
          2004,
          2013,
          2007,
          2008,
          2004,
          2016,
          2002,
          2011,
          2004,
          2003,
          2004,
          2010,
          1995,
          2004,
          2005,
          2008,
          2007,
          2013,
          1994,
          2016,
          2002,
          2014,
          2011,
          2005,
          2016,
          1998,
          1995,
          2014,
          2016,
          2008,
          2008,
          2005,
          2009,
          2009,
          2007,
          2011,
          2016,
          2016,
          2014,
          2011,
          2011,
          2007,
          2016,
          2006,
          2002,
          2004,
          2001,
          2011,
          2015,
          2011,
          2011,
          2015,
          2007,
          2014,
          2008,
          2007,
          2001,
          2016,
          2000,
          2007,
          1995,
          2010,
          2011,
          2008,
          2007,
          2011,
          2012,
          2015,
          2005,
          2011,
          2012,
          2005,
          2008,
          2002,
          1998,
          2000,
          2012,
          2014,
          2008,
          2004,
          2011,
          2011,
          2014,
          2005,
          2005,
          2001,
          2001,
          2006,
          2008,
          2011,
          2006,
          2009,
          2014,
          2013,
          2001,
          2009,
          2014,
          2005,
          2014,
          2015,
          2015,
          2008,
          2008,
          2008,
          2003,
          2008,
          2005,
          2014,
          2003,
          2001,
          2001,
          2009,
          2011,
          2015,
          2010,
          2005,
          2002,
          2010,
          2010,
          2012,
          1995,
          2006,
          2011,
          2005,
          2008,
          2010,
          2009,
          2009,
          2016,
          2007,
          2016,
          2008,
          2008,
          2009,
          2014,
          2007,
          2005,
          2003,
          2010,
          2014,
          2011,
          2002,
          2006,
          2008,
          1998,
          2002,
          2011,
          2008,
          2007,
          2003,
          2009,
          2010,
          2005,
          2016,
          2003,
          2008,
          2011,
          2007,
          2002,
          2016,
          2008,
          2006,
          2011,
          2009,
          2004,
          2007,
          2005,
          2009,
          2012,
          2010,
          2015,
          2016,
          2005,
          1999,
          2016,
          2012,
          2014,
          2014,
          2011,
          2007,
          2011,
          2003,
          2011,
          2011,
          2007,
          1996,
          2010,
          2010,
          2008,
          2007,
          1998,
          1998,
          1998,
          1999,
          1999,
          1998,
          2000,
          2000,
          1998,
          1998,
          2009,
          1998,
          1997,
          2002,
          2015,
          2008,
          2007,
          2007,
          2012,
          2009,
          2004,
          2005,
          2015,
          2007,
          2008,
          2009,
          2010,
          2009,
          2011,
          2010,
          2008,
          2005,
          2010,
          1999,
          2006,
          2008,
          1994,
          2013,
          2015,
          2007,
          2006,
          2004,
          2008,
          2004,
          2002,
          2008,
          2009,
          2007,
          2008,
          2005,
          2016,
          2015,
          2006,
          2005,
          2006,
          2003,
          2000,
          2006,
          2004,
          1994,
          2007,
          2010,
          2002,
          2009,
          2014,
          1995,
          2005,
          2002,
          2003,
          2016,
          1995,
          2002,
          2012,
          2003,
          2005,
          2005,
          2014,
          2013,
          2013,
          2014,
          2003,
          2009,
          2016,
          2005,
          2001,
          2008,
          2008,
          2010,
          2014,
          2005,
          2006,
          2004,
          2008,
          2006,
          2015,
          2010,
          2004,
          1992,
          2004,
          2012,
          2010,
          2008,
          2005,
          2006,
          2008,
          2006,
          2010,
          2010,
          1999,
          2011,
          1995,
          2012,
          1996,
          1989,
          2010,
          2008,
          2007,
          2016,
          2004,
          2010,
          2005,
          2011,
          2008,
          2015,
          1996,
          2012,
          2012,
          1993,
          2009,
          2006,
          2015,
          2004,
          1997,
          2007,
          2010,
          2009,
          2002,
          2007,
          2006,
          2007,
          2010,
          2009,
          2009,
          2008,
          2008,
          2011,
          2002,
          2006,
          2006,
          2009,
          1991,
          2010,
          2003,
          2006,
          1998,
          2009,
          2004,
          2008,
          2008,
          2014,
          2012,
          2016,
          2008,
          2007,
          1998,
          2010,
          2016,
          2014,
          2010,
          2015,
          1999,
          2001,
          2000,
          1992,
          2002,
          2015,
          2006,
          2003,
          2006,
          2000,
          2007,
          2008,
          2005,
          2006,
          2011,
          2009,
          2010,
          2011,
          2008,
          2007,
          2005,
          2007,
          2011,
          2009,
          2007,
          2004,
          2001,
          2006,
          2014,
          2006,
          1995,
          2005,
          2001,
          2015,
          2008,
          2003,
          2002,
          2005,
          2016,
          2006,
          2010,
          2011,
          2007,
          2015,
          2005,
          2010,
          2005,
          2012,
          2009,
          1997,
          2005,
          2009,
          2012,
          2014,
          2002,
          2012,
          2007,
          2004,
          2002,
          2001,
          2012,
          2006,
          2005,
          2006,
          2012,
          2013,
          2013,
          2010,
          1995,
          1994,
          2015,
          2011,
          1996,
          2010,
          2000,
          2007,
          2005,
          2008,
          2005,
          2000,
          2007,
          2002,
          2009,
          2002,
          2009,
          2008,
          2011,
          2000,
          1998,
          2006,
          2016,
          2002,
          2011,
          2009,
          2015,
          2011,
          2004,
          2009,
          2015,
          2013,
          1996,
          2014,
          2005,
          2008,
          2007,
          2009,
          1995,
          2010,
          2008,
          2004,
          1997,
          2016,
          2011,
          2016,
          1995,
          2007,
          2004,
          1997,
          2003,
          2002,
          2011,
          1996,
          2009,
          2006,
          2004,
          2008,
          2002,
          2000,
          2004,
          2007,
          2010,
          2015,
          2006,
          2011,
          2005,
          2006,
          2009,
          2013,
          1998,
          2009,
          2016,
          2010,
          2002,
          2002,
          2007,
          2006,
          2003,
          2005,
          2010,
          2003,
          2010,
          1999,
          2002,
          1997,
          2010,
          2010,
          2010,
          2012,
          1996,
          2008,
          2003,
          2009,
          2011,
          2008,
          2002,
          2001,
          2006,
          2015,
          2016,
          2003,
          2008,
          2006,
          2009,
          2011,
          2002,
          2014,
          2010,
          2009,
          2002,
          2008,
          2016,
          2010,
          2009,
          2004,
          2003,
          2006,
          2010,
          2011,
          2011,
          1998,
          2001,
          2005,
          2015,
          2004,
          2002,
          2004,
          2012,
          2015,
          2009,
          2016,
          2015,
          2010,
          2016,
          2008,
          2014,
          2006,
          2006,
          2001,
          2006,
          2015,
          2008,
          2002,
          2004,
          2011,
          2006,
          2007,
          2003,
          2002,
          2011,
          2016,
          2003,
          2015,
          2015,
          2015,
          2002,
          1995,
          2008,
          2002,
          2011,
          2003,
          2009,
          2011,
          2011,
          2014,
          2003,
          2013,
          2007,
          2013,
          1995,
          2009,
          2006,
          2003,
          2016,
          2010,
          1993,
          2006,
          2016,
          2016,
          2007,
          2010,
          1999,
          2008,
          2014,
          2010,
          2007,
          2009,
          1997,
          2012,
          2007,
          2004,
          1999,
          1993,
          2012,
          2015,
          2010,
          2009,
          2009,
          2011,
          2012,
          2002,
          2008,
          2006,
          2005,
          2010,
          1993,
          2008,
          2004,
          2016,
          2013,
          2010,
          2009,
          2002,
          2015,
          2007,
          2009,
          2011,
          2015,
          1994,
          2015,
          2002,
          2009,
          2006,
          2011,
          2011,
          2004,
          2008,
          2009,
          2008,
          2009,
          2009,
          2008,
          2003,
          2005,
          2007,
          2010,
          2003,
          2010,
          2007,
          2004,
          2012,
          2003,
          2006,
          2004,
          2002,
          2016,
          2014,
          2003,
          2016,
          2005,
          2002,
          2015,
          2009,
          1998,
          2008,
          2015,
          2010,
          2011,
          2002,
          2010,
          2010,
          2015,
          2015,
          2010,
          2008,
          2009,
          2009,
          2014,
          2011,
          2009,
          2009,
          2008,
          1991,
          2010,
          2011,
          2015,
          2010,
          2010,
          2006,
          2010,
          2003,
          2005,
          2010,
          2010,
          2007,
          2001,
          2015,
          2008,
          2015,
          2009,
          2006,
          2007,
          2007,
          2010,
          2003,
          2004,
          2002,
          2009,
          2010,
          2002,
          2013,
          2009,
          2008,
          2004,
          2008,
          2009,
          2007,
          2007,
          2011,
          2001,
          2002,
          2001,
          1999,
          2005,
          2011,
          2000,
          1998,
          2000,
          2016,
          2010,
          2009,
          2015,
          2006,
          2016,
          2012,
          2007,
          2007,
          2006,
          2006,
          2003,
          2003,
          1998,
          2009,
          2006,
          2007,
          1999,
          2015,
          2014,
          2004,
          1995,
          1995,
          2001,
          2010,
          2006,
          2013,
          2011,
          2002,
          2008,
          2006,
          2008,
          2008,
          2015,
          2010,
          2003,
          2005,
          2008,
          2004,
          2009,
          2002,
          1997,
          1999,
          2000,
          1998,
          2006,
          2000,
          2011,
          2012,
          1999,
          2007,
          2009,
          2007,
          2003,
          2011,
          1995,
          2010,
          1999,
          2013,
          2015,
          2012,
          2003,
          2012,
          2013,
          2006,
          2002,
          2007,
          2010,
          2002,
          2015,
          2010,
          2006,
          1994,
          2016,
          2010,
          2005,
          2009,
          1996,
          2003,
          1993,
          2004,
          2005,
          2014,
          2006,
          2012,
          2011,
          2010,
          2005,
          2006,
          2010,
          2007,
          2009,
          2006,
          2008,
          2008,
          2001,
          2009,
          2007,
          2013,
          2009,
          2006,
          1995,
          2015,
          1996,
          2016,
          2003,
          2008,
          2009,
          2000,
          2014,
          2009,
          2013,
          2006,
          2001,
          2016,
          2007,
          2007,
          2016,
          2003,
          2008,
          2001,
          2012,
          2016,
          2007,
          2004,
          2008,
          2011,
          2011,
          2002,
          2002,
          2015,
          2011,
          2004,
          2000,
          2010,
          2008,
          1998,
          2006,
          2008,
          2001,
          2015,
          2002,
          2001,
          2007,
          1996,
          1999,
          1995,
          2005,
          1995,
          2016,
          2010,
          1995,
          2002,
          2008,
          2007,
          2010,
          2016,
          2006,
          2005,
          1995,
          2014,
          2004,
          2006,
          2006,
          2002,
          2007,
          2008,
          2010,
          2010,
          2008,
          1994,
          1996,
          2001,
          2005,
          2007,
          2005,
          2004,
          2005,
          2003,
          2011,
          1998,
          2006,
          2003,
          2011,
          2007,
          1995,
          2009,
          2001,
          2005,
          2006,
          2006,
          2004,
          2002,
          2006,
          2014,
          2006,
          2004,
          2011,
          1995,
          1999,
          2011,
          2011,
          2013,
          2015,
          2005,
          2013,
          2008,
          2007,
          2006,
          1996,
          2003,
          2012,
          2008,
          2003,
          2009,
          2008,
          2011,
          2001,
          2007,
          2013,
          2012,
          2010,
          2007,
          2008,
          2001,
          2008,
          1998,
          2013,
          2004,
          2002,
          2002,
          2006,
          2002,
          1993,
          2004,
          2013,
          2009,
          2003,
          2009,
          2015,
          2011,
          1998,
          2011,
          2005,
          2006,
          2009,
          2006,
          2009,
          2007,
          2005,
          2004,
          2011,
          2002,
          1995,
          2013,
          2001,
          2006,
          2006,
          2012,
          2010,
          2002,
          2014,
          2008,
          2015,
          2011,
          2010,
          2011,
          2001,
          2011,
          1996,
          2007,
          2006,
          2003,
          2010,
          2016,
          2009,
          2011,
          2006,
          2005,
          2015,
          2006,
          2014,
          2000,
          1997,
          2007,
          2011,
          2007,
          2001,
          2006,
          2003,
          2009,
          2006,
          2012,
          2012,
          2006,
          2013,
          2007,
          2011,
          2004,
          1999,
          2007,
          2011,
          2007,
          2016,
          2014,
          2014,
          2010,
          2002,
          2002,
          2014,
          2011,
          2001,
          2002,
          2007,
          2005,
          2016,
          2007,
          2008,
          2012,
          2008,
          2006,
          2011,
          2008,
          2011,
          2014,
          1999,
          2016,
          2016,
          2006,
          2007,
          2006,
          2000,
          2009,
          2004,
          2006,
          2008,
          1996,
          2009,
          2007,
          2008,
          2003,
          2014,
          2010,
          2006,
          2008,
          2010,
          2005,
          2005,
          2001,
          2002,
          2003,
          2010,
          2006,
          2004,
          2016,
          2003,
          2007,
          2009,
          2009,
          2008,
          2011,
          1999,
          2001,
          2003,
          2011,
          1997,
          2014,
          2016,
          2011,
          2004,
          2008,
          2011,
          2011,
          2004,
          2016,
          2009,
          2015,
          2007,
          2010,
          1994,
          1999,
          2009,
          2007,
          2006,
          2005,
          1995,
          2010,
          2009,
          2008,
          2006,
          2006,
          2016,
          2008,
          2008,
          2006,
          2008,
          2007,
          2011,
          2008,
          2006,
          2009,
          1995,
          2007,
          2005,
          2010,
          2015,
          2005,
          2009,
          2002,
          2002,
          2015,
          1996,
          2007,
          2005,
          2008,
          2007,
          2009,
          2007,
          2001,
          2007,
          2010,
          2010,
          2008,
          2009,
          2004,
          2016,
          1998,
          2013,
          2011,
          1996,
          2007,
          2004,
          2002,
          2016,
          2007,
          2009,
          2004,
          2009,
          2008,
          2016,
          2000,
          2009,
          2016,
          2005,
          2007,
          1997,
          2009,
          2002,
          2014,
          2015,
          2008,
          2016,
          2014,
          2005,
          1999,
          2009,
          2007,
          2008,
          2016,
          2009,
          2014,
          1992,
          2006,
          2011,
          2006,
          2008,
          2003,
          2003,
          2009,
          2014,
          2006,
          2004,
          2010,
          2006,
          2009,
          2010,
          2004,
          2005,
          2015,
          2015,
          2003,
          2012,
          2007,
          2009,
          1995,
          2004,
          2007,
          2014,
          2006,
          2002,
          2007,
          1998,
          2012,
          2006,
          2011,
          2009,
          2009,
          2006,
          2012,
          2011,
          2008,
          2006,
          2008,
          2001,
          2011,
          2012,
          1998,
          2016,
          2004,
          2006,
          2002,
          2004,
          2009,
          2005,
          2003,
          2011,
          2014,
          2007,
          2008,
          2003,
          2008,
          2013,
          2006,
          2010,
          2009,
          2005,
          2008,
          2005,
          2013,
          2015,
          2012,
          2001,
          2016,
          2015,
          2015,
          2008,
          2010,
          2011,
          2008,
          2011,
          2014,
          2006,
          2007,
          2011,
          2006,
          2007,
          2002,
          2006,
          2000,
          2010,
          2001,
          2004,
          2013,
          2009,
          2009,
          2002,
          2001,
          2015,
          2004,
          2007,
          2011,
          2003,
          2016,
          2010,
          2002,
          2012,
          2014,
          2007,
          2003,
          2007,
          2005,
          2007,
          2008,
          2014,
          2006,
          2011,
          2006,
          2005,
          2012,
          2013,
          2007,
          2004,
          2011,
          2013,
          2015,
          2015,
          2012,
          2007,
          2011,
          2006,
          2009,
          2009,
          2008,
          2008,
          2008,
          2010,
          2000,
          2007,
          2005,
          2002,
          2009,
          1998,
          1996,
          2012,
          2008,
          2016,
          2006,
          2012,
          2008,
          2015,
          2008,
          2016,
          2010,
          2010,
          2011,
          2011,
          2011,
          2011,
          2005,
          2016,
          2009,
          2015,
          2009,
          2004,
          2004,
          2009,
          2008,
          2010,
          2009,
          2007,
          2006,
          2001,
          1998,
          2007,
          2016,
          2011,
          2004,
          2008,
          2009,
          2005,
          2011,
          2016,
          2011,
          2006,
          2006,
          2010,
          2008,
          1995,
          2012,
          2007,
          2012,
          2006,
          1998,
          2000,
          2010,
          1998,
          2010,
          1994,
          1996,
          2006,
          2012,
          2005,
          2012,
          2003,
          2009,
          2011,
          2016,
          2007,
          2011,
          1995,
          2005,
          2008,
          2015,
          2012,
          2002,
          2012,
          2011,
          2014,
          2014,
          2007,
          2011,
          2001,
          2003,
          2009,
          2016,
          2010,
          2010,
          1995,
          1999,
          1999,
          1999,
          2000,
          1999,
          1998,
          2003,
          2012,
          2003,
          2012,
          2002,
          2011,
          2005,
          2012,
          2003,
          2010,
          1998,
          2009,
          2011,
          2013,
          2005,
          2007,
          2011,
          2008,
          2002,
          2008,
          2009,
          2006,
          2010,
          2009,
          2002,
          2012,
          2008,
          2008,
          2007,
          2009,
          2006,
          2010,
          2009,
          2003,
          2003,
          2006,
          2007,
          2013,
          2007,
          2013,
          2011,
          2010,
          2006,
          2008,
          2004,
          2005,
          2009,
          2013,
          2009,
          2007,
          2004,
          1995,
          2011,
          2010,
          2011,
          2011,
          2010,
          2015,
          2009,
          2015,
          2008,
          2003,
          2008,
          2008,
          2004,
          2003,
          2009,
          2012,
          2011,
          2016,
          2007,
          2003,
          2016,
          1997,
          2009,
          2007,
          2013,
          2007,
          1997,
          2002,
          2007,
          2008,
          2010,
          2006,
          2010,
          2007,
          2009,
          2015,
          2007,
          2015,
          2012,
          2015,
          2009,
          2015,
          2006,
          1995,
          2010,
          2005,
          2005,
          2011,
          2015,
          2010,
          2008,
          1999,
          2004,
          2015,
          2006,
          2016,
          2011,
          2002,
          2001,
          2016,
          2011,
          2007,
          2015,
          1998,
          2001,
          2012,
          2011,
          2009,
          2010,
          1999,
          2002,
          2010,
          2015,
          2006,
          2007,
          2001,
          2006,
          2010,
          2007,
          2005,
          2009,
          2006,
          2009,
          2010,
          2008,
          2015,
          2003,
          2015,
          1995,
          2009,
          2007,
          2006,
          2001,
          2008,
          2005,
          1999,
          2006,
          1997,
          2012,
          2002,
          2015,
          2006,
          2015,
          1996,
          1999,
          2011,
          1996,
          2007,
          1997,
          2014,
          2014,
          2004,
          1996,
          2009,
          2002,
          1999,
          2012,
          2013,
          2005,
          2012,
          2004,
          2007,
          2006,
          2002,
          2009,
          2006,
          2016,
          2011,
          2013,
          2014,
          2002,
          2014,
          2006,
          2002,
          2009,
          2003,
          2006,
          2015,
          2009,
          2008,
          2008,
          2014,
          2005,
          2005,
          2006,
          2015,
          2009,
          2011,
          2007,
          2008,
          2008,
          2006,
          2010,
          2008,
          2004,
          2015,
          2011,
          2002,
          2010,
          2014,
          2010,
          2007,
          2007,
          2007,
          2002,
          2010,
          2009,
          2003,
          1994,
          2014,
          2006,
          2005,
          1999,
          2012,
          2013,
          2007,
          2005,
          2008,
          2004,
          2011,
          2009,
          2006,
          2009,
          2012,
          2006,
          2009,
          2004,
          2015,
          2009,
          2006,
          2016,
          1998,
          2008,
          2009,
          2002,
          2008,
          2005,
          2006,
          2000,
          2005,
          2004,
          2007,
          2005,
          2009,
          2007,
          2011,
          2002,
          2007,
          2006,
          2011,
          2010,
          2010,
          2009,
          2003,
          2006,
          2009,
          2008,
          2004,
          2010,
          2006,
          2005,
          2012,
          2007,
          2016,
          1996,
          2016,
          2003,
          2003,
          2006,
          1994,
          2004,
          2004,
          2007,
          2016,
          2016,
          2015,
          2010,
          2010,
          2001,
          2013,
          2008,
          2009,
          2016,
          2009,
          1999,
          2009,
          2016,
          2015,
          2009,
          2011,
          2009,
          2006,
          2003,
          2009,
          2007,
          2010,
          2016,
          2009,
          2006,
          2010,
          2003,
          2005,
          2008,
          2008,
          2003,
          2007,
          2010,
          2008,
          2006,
          2006,
          2013,
          2016,
          2003,
          2007,
          2010,
          2012,
          1994,
          2011,
          2012,
          2011,
          2009,
          2013,
          2007,
          2013,
          2015,
          2008,
          2011,
          2006,
          2009,
          2008,
          2014,
          2016,
          2001,
          2013,
          2016,
          2010,
          2016,
          2008,
          2005,
          2016,
          2007,
          2016,
          2010,
          2014,
          2012,
          2004,
          2014,
          2002,
          2009,
          2010,
          2009,
          2004,
          1998,
          2013,
          2006,
          2005,
          2009,
          2012,
          2008,
          2011,
          2002,
          2007,
          2003,
          2006,
          2011,
          2007,
          2006,
          2015,
          2005,
          2016,
          2002,
          2012,
          2006,
          2006,
          2011,
          2008,
          2016,
          2012,
          1998,
          2006,
          2007,
          2002,
          2005,
          2007,
          2003,
          2011,
          2012,
          1998,
          2006,
          2006,
          2009,
          2016,
          2009,
          2006,
          2004,
          2010,
          1998,
          2002,
          2008,
          2003,
          2008,
          2015,
          2001,
          2003,
          2003,
          2015,
          2016,
          2011,
          2001,
          2003,
          2005,
          2005,
          2007,
          2007,
          2007,
          2004,
          2004,
          2005,
          2008,
          1996,
          2013,
          2014,
          2005,
          2014,
          2006,
          2011,
          2005,
          2009,
          1993,
          2014,
          2011,
          2001,
          2009,
          2002,
          2006,
          2013,
          2009,
          2003,
          2008,
          2007,
          2008,
          2015,
          2001,
          2012,
          2007,
          2015,
          1996,
          2007,
          1994,
          2011,
          2008,
          2015,
          2008,
          1998,
          2011,
          2006,
          2003,
          2005,
          2013,
          2014,
          1995,
          2008,
          2009,
          1994,
          2002,
          2010,
          2011,
          2009,
          2011,
          2015,
          2007,
          2011,
          2008,
          2006,
          2010,
          2006,
          2011,
          2005,
          2016,
          1996,
          2011,
          2001,
          2003,
          2010,
          2002,
          2015,
          2011,
          2008,
          2015,
          2011,
          2006,
          2008,
          2002,
          2011,
          2006,
          2001,
          2014,
          2013,
          2006,
          2014,
          2012,
          2007,
          2005,
          2005,
          2010,
          2010,
          2009,
          2007,
          2009,
          2012,
          2009,
          2015,
          2009,
          2012,
          2015,
          2002,
          2013,
          2015,
          2013,
          2007,
          2007,
          2016,
          2003,
          2016,
          2013,
          2008,
          2006,
          2006,
          2000,
          2016,
          2010,
          2008,
          2006,
          2006,
          2007,
          2012,
          2005,
          2013,
          2015,
          2004,
          2016,
          2007,
          2006,
          2008,
          2007,
          2009,
          2015,
          2007,
          2001,
          2009,
          2009,
          2010,
          2016,
          2012,
          2008,
          2008,
          1996,
          2013,
          2016,
          2007,
          2012,
          1998,
          2010,
          2008,
          2011,
          2012,
          2005,
          2005,
          2016,
          2015,
          2015,
          2009,
          2007,
          2010,
          2010,
          2007,
          2008,
          2012,
          2008,
          2010,
          2010,
          1995,
          2008,
          2016,
          2014,
          2009,
          2008,
          2016,
          2011,
          2013,
          2009,
          2015,
          2011,
          2010,
          2006,
          2005,
          2007,
          2016,
          2007,
          2009,
          2015,
          2015,
          2008,
          2015,
          2013,
          2014,
          2014,
          2015,
          2006,
          2005,
          2009,
          1996,
          2010,
          1996,
          2012,
          2014,
          2003,
          2006,
          2007,
          2012,
          2015,
          2002,
          2009,
          1998,
          2013,
          1998,
          2003,
          2003,
          2013,
          2006,
          2009,
          2007,
          2010,
          2015,
          2008,
          2010,
          2010,
          2004,
          2010,
          2015,
          2006,
          2011,
          2010,
          2007,
          2015,
          2014,
          2006,
          2009,
          2011,
          2002,
          2014,
          2008,
          2002,
          1985,
          2010,
          2012,
          2013,
          2015,
          2015,
          1998,
          2008,
          2014,
          2009,
          2002,
          2009,
          2008,
          2015,
          2010,
          2011,
          2013,
          2009,
          1994,
          2008,
          2014,
          2005,
          2009,
          2008,
          2004,
          2008,
          2009,
          2008,
          2013,
          2001,
          1995,
          2008,
          2003,
          1998,
          2011,
          2016,
          2010,
          2011,
          2006,
          2016,
          2010,
          2006,
          2014,
          2012,
          2007,
          2010,
          2012,
          1999,
          2011,
          2008,
          2007,
          2005,
          2003,
          2014,
          2010,
          2011,
          1997,
          2011,
          2013,
          2012,
          2008,
          2005,
          2003,
          2006,
          2014,
          2003,
          2001,
          2003,
          2010,
          2015,
          2010,
          2004,
          2011,
          2009,
          2015,
          2008,
          2005,
          1996,
          2006,
          2002,
          2007,
          2007,
          2007,
          2001,
          2004,
          2007,
          2005,
          2010,
          2008,
          2004,
          2008,
          1998,
          1998,
          1999,
          2010,
          2004,
          2003,
          2009,
          2013,
          2010,
          2007,
          2016,
          2010,
          1995,
          2005,
          2008,
          2009,
          2010,
          2010,
          2012,
          2010,
          2005,
          2011,
          2007,
          1998,
          2007,
          2009,
          1995,
          2007,
          1996,
          2006,
          2007,
          2008,
          2015,
          2016,
          2009,
          2009,
          2014,
          1995,
          2008,
          2013,
          2004,
          2010,
          2010,
          2016,
          2006,
          2016,
          2008,
          2005,
          2006,
          1992,
          2003,
          2011,
          2004,
          2010,
          1997,
          2010,
          2006,
          2003,
          2005,
          2015,
          1988,
          2008,
          2009,
          2015,
          2010,
          2015,
          2010,
          2010,
          2012,
          2009,
          2015,
          2005,
          2002,
          1996,
          2015,
          2008,
          2011,
          2001,
          2015,
          2007,
          1995,
          2006,
          2015,
          2012,
          2008,
          2006,
          2009,
          2014,
          2007,
          2008,
          2015,
          2011,
          2014,
          2009,
          2012,
          2007,
          2005,
          2008,
          2007,
          2013,
          2016,
          2003,
          2007,
          1996,
          2008,
          2002,
          2003,
          2009,
          2006,
          2009,
          2009,
          2011,
          2002,
          2008,
          2004,
          2010,
          2006,
          2009,
          2012,
          2014,
          2010,
          2015,
          2015,
          2010,
          2011,
          2011,
          2006,
          2010,
          2016,
          2003,
          2004,
          2016,
          2011,
          2015,
          2016,
          2000,
          2008,
          2010,
          2015,
          2016,
          2006,
          2013,
          2002,
          2006,
          2008,
          2010,
          2016,
          2015,
          2002,
          2010,
          2005,
          2004,
          2003,
          2009,
          2015,
          2013,
          2009,
          2002,
          2009,
          2009,
          2010,
          2009,
          2006,
          2011,
          2008,
          2010,
          2009,
          2000,
          2002,
          2013,
          2015,
          2005,
          1994,
          2005,
          2008,
          2012,
          2015,
          2005,
          2002,
          2011,
          2008,
          2011,
          2009,
          2011,
          2010,
          2007,
          2012,
          2009,
          2003,
          2008,
          2012,
          2006,
          2005,
          2010,
          2016,
          2011,
          2010,
          2013,
          2016,
          2011,
          2016,
          1995,
          2013,
          2007,
          2011,
          2011,
          2014,
          2013,
          2003,
          2010,
          2009,
          2006,
          2016,
          2006,
          2009,
          2002,
          2016,
          2010,
          2008,
          2011,
          2011,
          2009,
          2012,
          2005,
          2003,
          1998,
          2009,
          2011,
          1997,
          2003,
          2007,
          2011,
          2011,
          2007,
          2010,
          2006,
          2001,
          2016,
          2014,
          2003,
          2016,
          2015,
          2006,
          2003,
          2011,
          2010,
          2006,
          2002,
          2015,
          2009,
          2013,
          2007,
          2005,
          2011,
          2007,
          2015,
          2009,
          2009,
          1995,
          2009,
          2001,
          2006,
          2012,
          2012,
          2007,
          2006,
          2013,
          2003,
          2007,
          2004,
          2010,
          2009,
          1995,
          2006,
          2003,
          2016,
          2003,
          2010,
          2014,
          2013,
          2015,
          2015,
          2006,
          2008,
          2013,
          2003,
          2012,
          2008,
          2006,
          2003,
          2016,
          2008,
          2006,
          2009,
          2003,
          2011,
          2010,
          2004,
          1996,
          2004,
          2011,
          2007,
          1995,
          1997,
          2006,
          2015,
          2014,
          2001,
          2002,
          2016,
          2016,
          2016,
          2016,
          2010,
          2006,
          2010,
          2004,
          2010,
          2006,
          2007,
          2007,
          2012,
          1997,
          2008,
          2015,
          2008,
          2006,
          1995,
          2006,
          2016,
          1999,
          2014,
          2008,
          2007,
          2007,
          2005,
          2014,
          2009,
          2015,
          2009,
          2007,
          2016,
          2005,
          2008,
          2005,
          2016,
          2003,
          2006,
          2008,
          2016,
          2007,
          2009,
          2006,
          2005,
          2010,
          2009,
          2006,
          2010,
          2008,
          2006,
          2011,
          2004,
          2009,
          2012,
          2009,
          2006,
          2008,
          2010,
          2008,
          2008,
          2005,
          2011,
          2007,
          1996,
          2012,
          2006,
          2008,
          2009,
          2011,
          2016,
          2009,
          2009,
          2010,
          2016,
          2001,
          2010,
          2016,
          1996,
          2013,
          2012,
          2003,
          2008,
          2003,
          2005,
          2012,
          2012,
          2009,
          2002,
          2010,
          2013,
          2007,
          2006,
          2011,
          2006,
          1998,
          2010,
          2014,
          2011,
          2012,
          2012,
          2007,
          2009,
          2008,
          1994,
          2008,
          2007,
          1996,
          2009,
          2015,
          2015,
          2009,
          2016,
          2016,
          2005,
          1995,
          2007,
          2009,
          2012,
          2002,
          2006,
          2011,
          2016,
          2011,
          2012,
          2009,
          2004,
          2007,
          2002,
          2014,
          2005,
          2014,
          2010,
          2010,
          2004,
          2013,
          2003,
          1995,
          2009,
          2007,
          2010,
          2009,
          2015,
          2015,
          2008,
          2005,
          2009,
          2009,
          2012,
          2015,
          2003,
          2016,
          2011,
          2004,
          2006,
          2010,
          2014,
          2013,
          2006,
          2014,
          2011,
          2005,
          2002,
          2011,
          2010,
          2005,
          2012,
          2005,
          2012,
          2004,
          2016,
          2010,
          2002,
          2011,
          2006,
          2008,
          2015,
          2014,
          2003,
          2015,
          2004,
          2010,
          2015,
          2014,
          2005,
          2011,
          2016,
          2008,
          2007,
          2010,
          2008,
          2006,
          2007,
          2008,
          2011,
          2006,
          2003,
          2008,
          2005,
          2005,
          1998,
          2006,
          2010,
          2009,
          2012,
          2002,
          1994,
          1997,
          2007,
          2006,
          2000,
          2009,
          2006,
          2007,
          2008,
          2015,
          2015,
          2009,
          2006,
          2008,
          2006,
          2009,
          2006,
          2011,
          2011,
          2005,
          2002,
          2015,
          2002,
          2006,
          2008,
          2016,
          2004,
          2011,
          2009,
          2010,
          2004,
          2011,
          2013,
          2011,
          2006,
          1997,
          2011,
          2007,
          2013,
          2016,
          2008,
          2006,
          2015,
          2009,
          1998,
          2009,
          1998,
          2008,
          2013,
          2011,
          2004,
          2011,
          2010,
          2016,
          2008,
          2009,
          2001,
          2012,
          2002,
          2006,
          1999,
          2015,
          2011,
          2007,
          2009,
          2008,
          2016,
          2016,
          2008,
          2007,
          2011,
          2002,
          2016,
          2006,
          2010,
          2002,
          2011,
          2009,
          2008,
          2007,
          2002,
          2010,
          2010,
          2011,
          1997,
          2002,
          2011,
          2008,
          2016,
          2013,
          2012,
          2007,
          2010,
          2007,
          2010,
          2010,
          2007,
          1999,
          2007,
          2016,
          2007,
          2008,
          2008,
          2002,
          2012,
          2011,
          2005,
          2006,
          2016,
          2013,
          2009,
          2009,
          2008,
          2008,
          2010,
          2009,
          2007,
          2008,
          2003,
          2011,
          2006,
          2006,
          2016,
          2005,
          2009,
          2009,
          2015,
          2010,
          2003,
          2006,
          2005,
          2007,
          2004,
          2006,
          2016,
          2014,
          2010,
          2002,
          2009,
          2015,
          2002,
          2008,
          2007,
          2010,
          2012,
          2006,
          2002,
          2006,
          2003,
          2012,
          2005,
          2016,
          2006,
          2015,
          2005,
          2013,
          2015,
          2014,
          2005,
          2012,
          2008,
          2009,
          2009,
          2008,
          2012,
          2010,
          2015,
          2003,
          2009,
          2006,
          2016,
          2006,
          2007,
          1999,
          2006,
          2002,
          2005,
          2007,
          2013,
          1996,
          2014,
          2007,
          2009,
          2006,
          2011,
          2011,
          2006,
          2003,
          2009,
          2007,
          1996,
          2009,
          2009,
          2006,
          2010,
          2012,
          2011,
          2016,
          2014,
          2011,
          2004,
          2015,
          2010,
          2010,
          2004,
          2008,
          2002,
          2006,
          2006,
          2007,
          2010,
          2010,
          2009,
          2012,
          2009,
          2008,
          2009,
          1997,
          2012,
          2016,
          2008,
          2009,
          2011,
          2012,
          2010,
          2005,
          2004,
          2012,
          2008,
          2010,
          2016,
          2010,
          2012,
          2008,
          2004,
          2009,
          2007,
          2010,
          2012,
          2012,
          2008,
          2009,
          2011,
          2009,
          2001,
          2006,
          2011,
          2008,
          2006,
          2003,
          2009,
          2007,
          2000,
          2006,
          2010,
          2007,
          2008,
          2011,
          2014,
          2004,
          2008,
          2007,
          2001,
          1994,
          1994,
          2011,
          2003,
          2007,
          2005,
          2007,
          2009,
          2006,
          2002,
          2012,
          2006,
          2013,
          2015,
          2008,
          2005,
          2003,
          2008,
          2001,
          2006,
          2016,
          2004,
          2010,
          2007,
          2008,
          2016,
          2005,
          2008,
          2005,
          2011,
          2004,
          2010,
          2016,
          1996,
          2008,
          2009,
          1998,
          2015,
          2013,
          2011,
          2012,
          2002,
          2007,
          2010,
          2016,
          2009,
          2007,
          2002,
          2006,
          2011,
          1996,
          2012,
          2002,
          2005,
          2007,
          2010,
          2006,
          2013,
          2007,
          2008,
          2007,
          2007,
          2016,
          1995,
          2016,
          2009,
          2010,
          2014,
          2016,
          2003,
          2006,
          2002,
          2009,
          2006,
          2011,
          2010,
          2005,
          2014,
          2007,
          2015,
          2011,
          2008,
          2006,
          2004,
          2008,
          2012,
          2012,
          2011,
          2005,
          2013,
          2012,
          1998,
          2012,
          2015,
          2002,
          2007,
          2015,
          2005,
          2015,
          2008,
          2008,
          2011,
          2011,
          2004,
          2011,
          2008,
          2013,
          2008,
          2008,
          2001,
          2011,
          2002,
          2005,
          2015,
          2008,
          2010,
          2010,
          2016,
          2009,
          2001,
          2012,
          2008,
          2015,
          1999,
          2000,
          2010,
          2011,
          2006,
          2016,
          2002,
          2011,
          2009,
          2004,
          2006,
          2013,
          2010,
          2009,
          2009,
          2009,
          1999,
          2012,
          2011,
          2010,
          2006,
          2016,
          2012,
          2003,
          2016,
          2016,
          2010,
          2016,
          2012,
          2006,
          2011,
          2008,
          2011,
          2012,
          2014,
          2013,
          2011,
          2005,
          2007,
          2002,
          2010,
          2013,
          2015,
          2013,
          2006,
          2007,
          2014,
          2006,
          2006,
          2008,
          2015,
          2009,
          2011,
          2014,
          2010,
          2008,
          2006,
          2013,
          2005,
          2014,
          2006,
          2004,
          2015,
          2008,
          2008,
          2012,
          2008,
          2009,
          2015,
          2007,
          2007,
          2013,
          2011,
          2010,
          2006,
          2013,
          2009,
          2011,
          2001,
          2011,
          2004,
          2012,
          2008,
          2008,
          2007,
          2010,
          2015,
          2012,
          2012,
          1994,
          2015,
          2006,
          2015,
          1998,
          2015,
          2009,
          2013,
          2009,
          1995,
          2015,
          2010,
          2016,
          2006,
          2009,
          2009,
          2011,
          2009,
          2007,
          2015,
          2012,
          2008,
          2010,
          2002,
          2005,
          2008,
          2015,
          2015,
          2003,
          2016,
          1995,
          2008,
          2002,
          2006,
          2010,
          2006,
          2008,
          2000,
          2009,
          2007,
          2011,
          2011,
          2013,
          2000,
          2012,
          2009,
          2014,
          2007,
          2016,
          2012,
          2009,
          2003,
          2007,
          1997,
          2009,
          2010,
          2006,
          2006,
          2003,
          2014,
          2015,
          2011,
          2012,
          2010,
          2013,
          2007,
          2006,
          2015,
          2008,
          2016,
          2006,
          2006,
          2010,
          2016,
          2012,
          2015,
          2016,
          2006,
          2015,
          2006,
          2005,
          2015,
          1995,
          2007,
          2002,
          2007,
          2008,
          1997,
          2009,
          2007,
          2005,
          2012,
          2006,
          2007,
          2015,
          2016,
          2003,
          2009,
          2010,
          2006,
          2010,
          2010,
          2008,
          2007,
          1995,
          2010,
          2012,
          2006,
          2011,
          2015,
          2008,
          2011,
          2011,
          2014,
          2004,
          2010,
          2011,
          2012,
          2015,
          2009,
          2009,
          2005,
          2007,
          2014,
          2006,
          2010,
          2005,
          2016,
          2011,
          2011,
          2007,
          2008,
          2010,
          2009,
          2010,
          2007,
          2010,
          2009,
          2007,
          2013,
          2010,
          1992,
          2002,
          2006,
          2005,
          2010,
          2007,
          2006,
          2011,
          2003,
          2002,
          2010,
          2007,
          2007,
          2006,
          2002,
          2007,
          2009,
          2010,
          2012,
          2007,
          2007,
          2007,
          2014,
          2008,
          2010,
          2001,
          2011,
          2010,
          2006,
          2008,
          2008,
          2011,
          1998,
          2003,
          2015,
          2001,
          2006,
          2013,
          2005,
          2005,
          2012,
          2008,
          2016,
          2003,
          2007,
          2009,
          2010,
          2009,
          2006,
          2010,
          2013,
          2007,
          2012,
          2002,
          2006,
          1996,
          2016,
          2008,
          2015,
          2002,
          2007,
          2009,
          2004,
          2002,
          2003,
          2011,
          2006,
          2002,
          2004,
          2011,
          2014,
          2002,
          2008,
          2012,
          2010,
          2008,
          2003,
          2003,
          2010,
          2003,
          2008,
          2009,
          2006,
          2011,
          2006,
          2002,
          2015,
          2006,
          2008,
          2006,
          2016,
          2014,
          2007,
          2006,
          2005,
          2011,
          1994,
          2008,
          2016,
          2010,
          2004,
          2011,
          2015,
          2007,
          2007,
          2009,
          2013,
          2007,
          2010,
          2009,
          2010,
          2002,
          2007,
          2006,
          2011,
          2010,
          2009,
          2013,
          2007,
          2015,
          2010,
          2006,
          2016,
          2006,
          2005,
          2010,
          2013,
          2006,
          2001,
          2010,
          2007,
          2016,
          2010,
          2016,
          2009,
          2003,
          2006,
          2011,
          2009,
          2012,
          2005,
          2013,
          2010,
          2008,
          2015,
          2015,
          2010,
          2016,
          2016,
          2014,
          2010,
          2006,
          2015,
          2011,
          2007,
          2011,
          2009,
          2012,
          2003,
          2014,
          2001,
          1996,
          2008,
          2000,
          2008,
          2010,
          2015,
          2006,
          2015,
          2009,
          2010,
          2010,
          2016,
          2008,
          2004,
          2007,
          2007,
          2008,
          2006,
          2006,
          2011,
          2007,
          2010,
          2002,
          2016,
          2015,
          2007,
          2005,
          2013,
          2011,
          2010,
          1999,
          2009,
          2007,
          1998,
          2008,
          2002,
          2008,
          2003,
          2015,
          2006,
          2006,
          2002,
          2002,
          2009,
          2010,
          2009,
          2006,
          2006,
          2007,
          2012,
          2010,
          2005,
          2009,
          2006,
          2004,
          2007,
          2013,
          2005,
          2015,
          2006,
          2007,
          2007,
          2012,
          2010,
          2014,
          2004,
          2008,
          2011,
          2016,
          2005,
          2009,
          2010,
          2007,
          2014,
          2011,
          2011,
          2010,
          2010,
          2010,
          2013,
          2010,
          2016,
          2006,
          2007,
          2009,
          2014,
          2001,
          2010,
          2010,
          2007,
          2015,
          2009,
          2013,
          2007,
          2005,
          2016,
          2014,
          2009,
          2013,
          2007,
          2008,
          2003,
          2014,
          2007,
          1985,
          2010,
          2003,
          2008,
          2009,
          2006,
          2004,
          2008,
          2006,
          2003,
          2010,
          2011,
          2006,
          2015,
          2006,
          2009,
          2010,
          2004,
          2015,
          2003,
          2010,
          2008,
          2007,
          2015,
          2005,
          2010,
          2004,
          2011,
          2012,
          2008,
          2004,
          2006,
          2002,
          2016,
          2015,
          2011,
          2016,
          2016,
          2008,
          2015,
          2007,
          2007,
          2006,
          2011,
          2015,
          2016,
          2007,
          2012,
          2008,
          2007,
          2006,
          2008,
          2006,
          2014,
          2005,
          2010,
          2016,
          2001,
          2016,
          2015,
          2009,
          2008,
          2003,
          2009,
          2004,
          2011,
          2010,
          2012,
          2016,
          2006,
          2005,
          2002,
          2007,
          2012,
          2011,
          2011,
          2007,
          2009,
          2016,
          2010,
          2006,
          2008,
          2014,
          2008,
          1999,
          2006,
          2013,
          2013,
          2013,
          2007,
          2013,
          2009,
          2003,
          2006,
          2010,
          2015,
          2006,
          2010,
          2008,
          2007,
          2010,
          2002,
          2010,
          2004,
          2010,
          2013,
          2008,
          2011,
          2012,
          2016,
          2008,
          2009,
          2015,
          2010,
          2014,
          2012,
          2010,
          2004,
          2007,
          2016,
          2004,
          2008,
          2006,
          2010,
          2007,
          2006,
          2010,
          2009,
          2003,
          2008,
          2011,
          2013,
          2006,
          2012,
          2009,
          2006,
          2009,
          2005,
          2007,
          2011,
          2010,
          2010,
          2009,
          2015,
          2008,
          2006,
          2016,
          2012,
          2008,
          2008,
          1999,
          2006,
          2010,
          2016,
          2010,
          2011,
          2016,
          2015,
          2007,
          2006,
          2012,
          2007,
          2004,
          2016,
          2009,
          2010,
          2010,
          2015,
          2008,
          2008,
          2009,
          2006,
          2014,
          2006,
          2006,
          2006,
          2008,
          2004,
          2016,
          2016,
          2006,
          2011,
          2011,
          2016,
          2012,
          2015,
          2016,
          2014,
          2010,
          2014,
          2006,
          2005,
          2008,
          2008,
          2011,
          2005,
          2002,
          2009,
          2015,
          2006,
          2003,
          2015,
          2006,
          2010,
          2002,
          2007,
          2003,
          2005,
          2008,
          2016,
          2006,
          2015,
          2005,
          2008,
          2015,
          2010,
          2009,
          2012,
          2014,
          2008,
          2009,
          2002,
          2012,
          2015,
          2010,
          2016,
          2011,
          2015,
          2013,
          2002,
          2014,
          2016,
          2008,
          2011,
          2002,
          2009,
          2010,
          2003,
          2009,
          2008,
          2011,
          2012,
          2005,
          2009,
          2016,
          2009,
          2005,
          2014,
          2011,
          2010,
          1993,
          2002,
          2005,
          2009,
          2012,
          2015,
          2007,
          2010,
          2015,
          2008,
          2013,
          2010,
          2015,
          2013,
          2008,
          2009,
          2010,
          2009,
          2013,
          2007,
          2002,
          2014,
          2008,
          2012,
          2011,
          2006,
          2014,
          2008,
          1999,
          2009,
          2002,
          2016,
          2003,
          2001,
          2015,
          2010,
          2010,
          2008,
          2006,
          2010,
          2013,
          2016,
          2007,
          2007,
          2006,
          2011,
          2006,
          2009,
          2008,
          2013,
          2010,
          2014,
          2004,
          2014,
          2008,
          2007,
          2005,
          2016,
          2012,
          2009,
          2016,
          2011,
          2009,
          2015,
          2008,
          2009,
          2013,
          2006,
          2007,
          2016,
          2015,
          2013,
          2009,
          2016,
          2013,
          2007,
          2009,
          2009,
          2010,
          2009,
          2007,
          2009,
          1999,
          2002,
          2007,
          2002,
          2011,
          2014,
          2004,
          2012,
          2009,
          2012,
          2014,
          2015,
          2013,
          2008,
          2005,
          2003,
          2012,
          2007,
          2012,
          2009,
          2007,
          2007,
          2008,
          2015,
          2014,
          2016,
          2006,
          2008,
          2007,
          2004,
          2011,
          2010,
          2013,
          2016,
          2016,
          2007,
          2007,
          1996,
          2002,
          2008,
          2014,
          2016,
          2010,
          2006,
          2008,
          2011,
          2006,
          2016,
          2016,
          2010,
          2001,
          2007,
          1999,
          2013,
          2006,
          2007,
          2015,
          2016,
          2016,
          2007,
          2009,
          2006,
          2009,
          2000,
          2003,
          2007,
          2014,
          2007,
          2007,
          2010,
          2012,
          2009,
          2009,
          2016,
          2008,
          2015,
          2015,
          2008,
          2010,
          2009,
          2007,
          2010,
          2014,
          2012,
          2008,
          2012,
          2011,
          2015,
          2004,
          2007,
          2008,
          2002,
          2006,
          2007,
          2006,
          2009,
          2006,
          2003,
          2015,
          2012,
          2010,
          2013,
          2010,
          2016,
          2011,
          2007,
          2005,
          2007,
          2006,
          2015,
          2010,
          2012,
          2009,
          2002,
          2016,
          2004,
          2003,
          2009,
          2008,
          2003,
          2003,
          2014,
          2008,
          2015,
          2009,
          2012,
          2009,
          2013,
          2008,
          2014,
          2007,
          2015,
          2006,
          2007,
          2016,
          2002,
          2004,
          2007,
          2009,
          2016,
          2006,
          2009,
          2005,
          2008,
          2016,
          2009,
          2008,
          2003,
          2007,
          2009,
          2006,
          2009,
          2009,
          2003,
          2011,
          2007,
          2013,
          2009,
          2012,
          2012,
          2007,
          2013,
          2010,
          2006,
          2015,
          2013,
          2004,
          2015,
          2006,
          2010,
          2014,
          2013,
          2009,
          2012,
          2016,
          2014,
          2010,
          2009,
          2003,
          1996,
          2007,
          2002,
          2009,
          2010,
          2006,
          2010,
          2015,
          2002,
          2013,
          2016,
          2010,
          2007,
          2009,
          2007,
          2007,
          2007,
          2008,
          2016,
          2002,
          2008,
          2009,
          2007,
          2015,
          2007,
          2007,
          2011,
          2012,
          2016,
          2007,
          2014,
          2016,
          2016,
          2016,
          2011,
          2016,
          2013,
          2009,
          2006,
          2007,
          2016,
          2016,
          2015,
          2009,
          2004,
          2009,
          2009,
          2007,
          2006,
          2014,
          2015,
          2012,
          2010,
          2002,
          2004,
          2002,
          2014,
          2009,
          2016,
          2010,
          2009,
          2007,
          2016,
          2013,
          2008,
          2015,
          2010,
          2016,
          2008,
          2007,
          2005,
          1997,
          2011,
          2007,
          2008,
          2014,
          2016,
          2008,
          2004,
          2014,
          2008,
          2007,
          2009,
          2006,
          2014,
          2014,
          2015,
          2008,
          2007,
          2008,
          2016,
          2008,
          2012,
          2014,
          2011,
          2001,
          2008,
          2002,
          2007,
          2009,
          2007,
          2010,
          2013,
          2009,
          2009,
          2009,
          2008,
          2008,
          2011,
          2003,
          2015,
          2010,
          2011,
          2012,
          2015,
          2016,
          2012,
          2016,
          2012,
          2007,
          2010,
          2008,
          2016,
          2006,
          2008,
          2014,
          2008,
          2014,
          2012,
          2015,
          2011,
          2014,
          2005,
          2006,
          2010,
          2014,
          2011,
          2008,
          2006,
          1999,
          2015,
          2013,
          2015,
          2007,
          2014,
          2012,
          2003,
          2012,
          2008,
          2016,
          2015,
          2008,
          2009,
          2012,
          2007,
          2016,
          2000,
          2006,
          2010,
          2003,
          2012,
          2008,
          2016,
          2014,
          2006,
          2008,
          2011,
          2008,
          2006,
          2013,
          2014,
          2009,
          2007,
          2008,
          2009,
          2016,
          2016,
          2016,
          2012,
          2011,
          2013,
          2011,
          2009,
          2008,
          2016,
          2011,
          2013,
          2008,
          2007,
          2014,
          2011,
          2012,
          2016,
          2006,
          2015,
          2001,
          2007,
          2009,
          1995,
          2014,
          2014,
          2002,
          2008,
          2008,
          2016,
          2002,
          2014,
          2007,
          2008,
          2016,
          2012,
          2006,
          2016,
          1997,
          2013,
          2008,
          2016,
          2008,
          2008,
          2008,
          2011,
          2008,
          2009,
          2016,
          2014,
          2000,
          1999,
          2001,
          2011,
          2003,
          2008,
          2016,
          2009,
          2007,
          2011,
          2016,
          2008,
          2009,
          2003,
          2014,
          2002,
          2008,
          2016,
          2006,
          2016,
          2003,
          2016
         ],
         "xaxis": "x",
         "yaxis": "y"
        }
       ],
       "layout": {
        "barmode": "relative",
        "legend": {
         "tracegroupgap": 0
        },
        "template": {
         "data": {
          "bar": [
           {
            "error_x": {
             "color": "#2a3f5f"
            },
            "error_y": {
             "color": "#2a3f5f"
            },
            "marker": {
             "line": {
              "color": "#E5ECF6",
              "width": 0.5
             },
             "pattern": {
              "fillmode": "overlay",
              "size": 10,
              "solidity": 0.2
             }
            },
            "type": "bar"
           }
          ],
          "barpolar": [
           {
            "marker": {
             "line": {
              "color": "#E5ECF6",
              "width": 0.5
             },
             "pattern": {
              "fillmode": "overlay",
              "size": 10,
              "solidity": 0.2
             }
            },
            "type": "barpolar"
           }
          ],
          "carpet": [
           {
            "aaxis": {
             "endlinecolor": "#2a3f5f",
             "gridcolor": "white",
             "linecolor": "white",
             "minorgridcolor": "white",
             "startlinecolor": "#2a3f5f"
            },
            "baxis": {
             "endlinecolor": "#2a3f5f",
             "gridcolor": "white",
             "linecolor": "white",
             "minorgridcolor": "white",
             "startlinecolor": "#2a3f5f"
            },
            "type": "carpet"
           }
          ],
          "choropleth": [
           {
            "colorbar": {
             "outlinewidth": 0,
             "ticks": ""
            },
            "type": "choropleth"
           }
          ],
          "contour": [
           {
            "colorbar": {
             "outlinewidth": 0,
             "ticks": ""
            },
            "colorscale": [
             [
              0,
              "#0d0887"
             ],
             [
              0.1111111111111111,
              "#46039f"
             ],
             [
              0.2222222222222222,
              "#7201a8"
             ],
             [
              0.3333333333333333,
              "#9c179e"
             ],
             [
              0.4444444444444444,
              "#bd3786"
             ],
             [
              0.5555555555555556,
              "#d8576b"
             ],
             [
              0.6666666666666666,
              "#ed7953"
             ],
             [
              0.7777777777777778,
              "#fb9f3a"
             ],
             [
              0.8888888888888888,
              "#fdca26"
             ],
             [
              1,
              "#f0f921"
             ]
            ],
            "type": "contour"
           }
          ],
          "contourcarpet": [
           {
            "colorbar": {
             "outlinewidth": 0,
             "ticks": ""
            },
            "type": "contourcarpet"
           }
          ],
          "heatmap": [
           {
            "colorbar": {
             "outlinewidth": 0,
             "ticks": ""
            },
            "colorscale": [
             [
              0,
              "#0d0887"
             ],
             [
              0.1111111111111111,
              "#46039f"
             ],
             [
              0.2222222222222222,
              "#7201a8"
             ],
             [
              0.3333333333333333,
              "#9c179e"
             ],
             [
              0.4444444444444444,
              "#bd3786"
             ],
             [
              0.5555555555555556,
              "#d8576b"
             ],
             [
              0.6666666666666666,
              "#ed7953"
             ],
             [
              0.7777777777777778,
              "#fb9f3a"
             ],
             [
              0.8888888888888888,
              "#fdca26"
             ],
             [
              1,
              "#f0f921"
             ]
            ],
            "type": "heatmap"
           }
          ],
          "heatmapgl": [
           {
            "colorbar": {
             "outlinewidth": 0,
             "ticks": ""
            },
            "colorscale": [
             [
              0,
              "#0d0887"
             ],
             [
              0.1111111111111111,
              "#46039f"
             ],
             [
              0.2222222222222222,
              "#7201a8"
             ],
             [
              0.3333333333333333,
              "#9c179e"
             ],
             [
              0.4444444444444444,
              "#bd3786"
             ],
             [
              0.5555555555555556,
              "#d8576b"
             ],
             [
              0.6666666666666666,
              "#ed7953"
             ],
             [
              0.7777777777777778,
              "#fb9f3a"
             ],
             [
              0.8888888888888888,
              "#fdca26"
             ],
             [
              1,
              "#f0f921"
             ]
            ],
            "type": "heatmapgl"
           }
          ],
          "histogram": [
           {
            "marker": {
             "pattern": {
              "fillmode": "overlay",
              "size": 10,
              "solidity": 0.2
             }
            },
            "type": "histogram"
           }
          ],
          "histogram2d": [
           {
            "colorbar": {
             "outlinewidth": 0,
             "ticks": ""
            },
            "colorscale": [
             [
              0,
              "#0d0887"
             ],
             [
              0.1111111111111111,
              "#46039f"
             ],
             [
              0.2222222222222222,
              "#7201a8"
             ],
             [
              0.3333333333333333,
              "#9c179e"
             ],
             [
              0.4444444444444444,
              "#bd3786"
             ],
             [
              0.5555555555555556,
              "#d8576b"
             ],
             [
              0.6666666666666666,
              "#ed7953"
             ],
             [
              0.7777777777777778,
              "#fb9f3a"
             ],
             [
              0.8888888888888888,
              "#fdca26"
             ],
             [
              1,
              "#f0f921"
             ]
            ],
            "type": "histogram2d"
           }
          ],
          "histogram2dcontour": [
           {
            "colorbar": {
             "outlinewidth": 0,
             "ticks": ""
            },
            "colorscale": [
             [
              0,
              "#0d0887"
             ],
             [
              0.1111111111111111,
              "#46039f"
             ],
             [
              0.2222222222222222,
              "#7201a8"
             ],
             [
              0.3333333333333333,
              "#9c179e"
             ],
             [
              0.4444444444444444,
              "#bd3786"
             ],
             [
              0.5555555555555556,
              "#d8576b"
             ],
             [
              0.6666666666666666,
              "#ed7953"
             ],
             [
              0.7777777777777778,
              "#fb9f3a"
             ],
             [
              0.8888888888888888,
              "#fdca26"
             ],
             [
              1,
              "#f0f921"
             ]
            ],
            "type": "histogram2dcontour"
           }
          ],
          "mesh3d": [
           {
            "colorbar": {
             "outlinewidth": 0,
             "ticks": ""
            },
            "type": "mesh3d"
           }
          ],
          "parcoords": [
           {
            "line": {
             "colorbar": {
              "outlinewidth": 0,
              "ticks": ""
             }
            },
            "type": "parcoords"
           }
          ],
          "pie": [
           {
            "automargin": true,
            "type": "pie"
           }
          ],
          "scatter": [
           {
            "fillpattern": {
             "fillmode": "overlay",
             "size": 10,
             "solidity": 0.2
            },
            "type": "scatter"
           }
          ],
          "scatter3d": [
           {
            "line": {
             "colorbar": {
              "outlinewidth": 0,
              "ticks": ""
             }
            },
            "marker": {
             "colorbar": {
              "outlinewidth": 0,
              "ticks": ""
             }
            },
            "type": "scatter3d"
           }
          ],
          "scattercarpet": [
           {
            "marker": {
             "colorbar": {
              "outlinewidth": 0,
              "ticks": ""
             }
            },
            "type": "scattercarpet"
           }
          ],
          "scattergeo": [
           {
            "marker": {
             "colorbar": {
              "outlinewidth": 0,
              "ticks": ""
             }
            },
            "type": "scattergeo"
           }
          ],
          "scattergl": [
           {
            "marker": {
             "colorbar": {
              "outlinewidth": 0,
              "ticks": ""
             }
            },
            "type": "scattergl"
           }
          ],
          "scattermapbox": [
           {
            "marker": {
             "colorbar": {
              "outlinewidth": 0,
              "ticks": ""
             }
            },
            "type": "scattermapbox"
           }
          ],
          "scatterpolar": [
           {
            "marker": {
             "colorbar": {
              "outlinewidth": 0,
              "ticks": ""
             }
            },
            "type": "scatterpolar"
           }
          ],
          "scatterpolargl": [
           {
            "marker": {
             "colorbar": {
              "outlinewidth": 0,
              "ticks": ""
             }
            },
            "type": "scatterpolargl"
           }
          ],
          "scatterternary": [
           {
            "marker": {
             "colorbar": {
              "outlinewidth": 0,
              "ticks": ""
             }
            },
            "type": "scatterternary"
           }
          ],
          "surface": [
           {
            "colorbar": {
             "outlinewidth": 0,
             "ticks": ""
            },
            "colorscale": [
             [
              0,
              "#0d0887"
             ],
             [
              0.1111111111111111,
              "#46039f"
             ],
             [
              0.2222222222222222,
              "#7201a8"
             ],
             [
              0.3333333333333333,
              "#9c179e"
             ],
             [
              0.4444444444444444,
              "#bd3786"
             ],
             [
              0.5555555555555556,
              "#d8576b"
             ],
             [
              0.6666666666666666,
              "#ed7953"
             ],
             [
              0.7777777777777778,
              "#fb9f3a"
             ],
             [
              0.8888888888888888,
              "#fdca26"
             ],
             [
              1,
              "#f0f921"
             ]
            ],
            "type": "surface"
           }
          ],
          "table": [
           {
            "cells": {
             "fill": {
              "color": "#EBF0F8"
             },
             "line": {
              "color": "white"
             }
            },
            "header": {
             "fill": {
              "color": "#C8D4E3"
             },
             "line": {
              "color": "white"
             }
            },
            "type": "table"
           }
          ]
         },
         "layout": {
          "annotationdefaults": {
           "arrowcolor": "#2a3f5f",
           "arrowhead": 0,
           "arrowwidth": 1
          },
          "autotypenumbers": "strict",
          "coloraxis": {
           "colorbar": {
            "outlinewidth": 0,
            "ticks": ""
           }
          },
          "colorscale": {
           "diverging": [
            [
             0,
             "#8e0152"
            ],
            [
             0.1,
             "#c51b7d"
            ],
            [
             0.2,
             "#de77ae"
            ],
            [
             0.3,
             "#f1b6da"
            ],
            [
             0.4,
             "#fde0ef"
            ],
            [
             0.5,
             "#f7f7f7"
            ],
            [
             0.6,
             "#e6f5d0"
            ],
            [
             0.7,
             "#b8e186"
            ],
            [
             0.8,
             "#7fbc41"
            ],
            [
             0.9,
             "#4d9221"
            ],
            [
             1,
             "#276419"
            ]
           ],
           "sequential": [
            [
             0,
             "#0d0887"
            ],
            [
             0.1111111111111111,
             "#46039f"
            ],
            [
             0.2222222222222222,
             "#7201a8"
            ],
            [
             0.3333333333333333,
             "#9c179e"
            ],
            [
             0.4444444444444444,
             "#bd3786"
            ],
            [
             0.5555555555555556,
             "#d8576b"
            ],
            [
             0.6666666666666666,
             "#ed7953"
            ],
            [
             0.7777777777777778,
             "#fb9f3a"
            ],
            [
             0.8888888888888888,
             "#fdca26"
            ],
            [
             1,
             "#f0f921"
            ]
           ],
           "sequentialminus": [
            [
             0,
             "#0d0887"
            ],
            [
             0.1111111111111111,
             "#46039f"
            ],
            [
             0.2222222222222222,
             "#7201a8"
            ],
            [
             0.3333333333333333,
             "#9c179e"
            ],
            [
             0.4444444444444444,
             "#bd3786"
            ],
            [
             0.5555555555555556,
             "#d8576b"
            ],
            [
             0.6666666666666666,
             "#ed7953"
            ],
            [
             0.7777777777777778,
             "#fb9f3a"
            ],
            [
             0.8888888888888888,
             "#fdca26"
            ],
            [
             1,
             "#f0f921"
            ]
           ]
          },
          "colorway": [
           "#636efa",
           "#EF553B",
           "#00cc96",
           "#ab63fa",
           "#FFA15A",
           "#19d3f3",
           "#FF6692",
           "#B6E880",
           "#FF97FF",
           "#FECB52"
          ],
          "font": {
           "color": "#2a3f5f"
          },
          "geo": {
           "bgcolor": "white",
           "lakecolor": "white",
           "landcolor": "#E5ECF6",
           "showlakes": true,
           "showland": true,
           "subunitcolor": "white"
          },
          "hoverlabel": {
           "align": "left"
          },
          "hovermode": "closest",
          "mapbox": {
           "style": "light"
          },
          "paper_bgcolor": "white",
          "plot_bgcolor": "#E5ECF6",
          "polar": {
           "angularaxis": {
            "gridcolor": "white",
            "linecolor": "white",
            "ticks": ""
           },
           "bgcolor": "#E5ECF6",
           "radialaxis": {
            "gridcolor": "white",
            "linecolor": "white",
            "ticks": ""
           }
          },
          "scene": {
           "xaxis": {
            "backgroundcolor": "#E5ECF6",
            "gridcolor": "white",
            "gridwidth": 2,
            "linecolor": "white",
            "showbackground": true,
            "ticks": "",
            "zerolinecolor": "white"
           },
           "yaxis": {
            "backgroundcolor": "#E5ECF6",
            "gridcolor": "white",
            "gridwidth": 2,
            "linecolor": "white",
            "showbackground": true,
            "ticks": "",
            "zerolinecolor": "white"
           },
           "zaxis": {
            "backgroundcolor": "#E5ECF6",
            "gridcolor": "white",
            "gridwidth": 2,
            "linecolor": "white",
            "showbackground": true,
            "ticks": "",
            "zerolinecolor": "white"
           }
          },
          "shapedefaults": {
           "line": {
            "color": "#2a3f5f"
           }
          },
          "ternary": {
           "aaxis": {
            "gridcolor": "white",
            "linecolor": "white",
            "ticks": ""
           },
           "baxis": {
            "gridcolor": "white",
            "linecolor": "white",
            "ticks": ""
           },
           "bgcolor": "#E5ECF6",
           "caxis": {
            "gridcolor": "white",
            "linecolor": "white",
            "ticks": ""
           }
          },
          "title": {
           "x": 0.05
          },
          "xaxis": {
           "automargin": true,
           "gridcolor": "white",
           "linecolor": "white",
           "ticks": "",
           "title": {
            "standoff": 15
           },
           "zerolinecolor": "white",
           "zerolinewidth": 2
          },
          "yaxis": {
           "automargin": true,
           "gridcolor": "white",
           "linecolor": "white",
           "ticks": "",
           "title": {
            "standoff": 15
           },
           "zerolinecolor": "white",
           "zerolinewidth": 2
          }
         }
        },
        "title": {
         "text": "Released Games by Year (All regions)"
        },
        "xaxis": {
         "anchor": "y",
         "domain": [
          0,
          1
         ],
         "title": {
          "text": "Year of Release"
         }
        },
        "yaxis": {
         "anchor": "x",
         "domain": [
          0,
          1
         ],
         "title": {
          "text": "Count of games"
         }
        }
       }
      }
     },
     "metadata": {},
     "output_type": "display_data"
    }
   ],
   "source": [
    "fig2 = px.histogram(df,x=\"year_of_release\", title=\"Released Games by Year (All regions)\", nbins=10)\n",
    "fig2.update_layout(xaxis_title = 'Year of Release' , yaxis_title= 'Count of games')\n",
    "fig2.show()"
   ]
  },
  {
   "cell_type": "markdown",
   "metadata": {},
   "source": [
    "As a complement for the previous graph, we can see the distribuition of the frequency of released games in periods of five years. We had 6,088 game released in 2005-2009, in the other hand for the period 2010-2014 we just reach 4,253 released games. Finally for the current data of 2015-2016 we are just seeing 1,115 released games, expecting to continue the decline in released games for this period"
   ]
  },
  {
   "cell_type": "markdown",
   "metadata": {},
   "source": [
    "### 3.2 Sales by platform"
   ]
  },
  {
   "cell_type": "code",
   "execution_count": 82,
   "metadata": {},
   "outputs": [
    {
     "data": {
      "text/html": [
       "<div>\n",
       "<style scoped>\n",
       "    .dataframe tbody tr th:only-of-type {\n",
       "        vertical-align: middle;\n",
       "    }\n",
       "\n",
       "    .dataframe tbody tr th {\n",
       "        vertical-align: top;\n",
       "    }\n",
       "\n",
       "    .dataframe thead th {\n",
       "        text-align: right;\n",
       "    }\n",
       "</style>\n",
       "<table border=\"1\" class=\"dataframe\">\n",
       "  <thead>\n",
       "    <tr style=\"text-align: right;\">\n",
       "      <th></th>\n",
       "      <th>platform</th>\n",
       "      <th>total_sales</th>\n",
       "    </tr>\n",
       "  </thead>\n",
       "  <tbody>\n",
       "    <tr>\n",
       "      <th>16</th>\n",
       "      <td>PS2</td>\n",
       "      <td>1255.77</td>\n",
       "    </tr>\n",
       "    <tr>\n",
       "      <th>28</th>\n",
       "      <td>X360</td>\n",
       "      <td>971.39</td>\n",
       "    </tr>\n",
       "    <tr>\n",
       "      <th>17</th>\n",
       "      <td>PS3</td>\n",
       "      <td>939.65</td>\n",
       "    </tr>\n",
       "    <tr>\n",
       "      <th>26</th>\n",
       "      <td>Wii</td>\n",
       "      <td>907.51</td>\n",
       "    </tr>\n",
       "    <tr>\n",
       "      <th>4</th>\n",
       "      <td>DS</td>\n",
       "      <td>806.12</td>\n",
       "    </tr>\n",
       "    <tr>\n",
       "      <th>15</th>\n",
       "      <td>PS</td>\n",
       "      <td>730.86</td>\n",
       "    </tr>\n",
       "    <tr>\n",
       "      <th>6</th>\n",
       "      <td>GBA</td>\n",
       "      <td>317.85</td>\n",
       "    </tr>\n",
       "    <tr>\n",
       "      <th>18</th>\n",
       "      <td>PS4</td>\n",
       "      <td>314.14</td>\n",
       "    </tr>\n",
       "    <tr>\n",
       "      <th>19</th>\n",
       "      <td>PSP</td>\n",
       "      <td>294.05</td>\n",
       "    </tr>\n",
       "    <tr>\n",
       "      <th>13</th>\n",
       "      <td>PC</td>\n",
       "      <td>259.52</td>\n",
       "    </tr>\n",
       "  </tbody>\n",
       "</table>\n",
       "</div>"
      ],
      "text/plain": [
       "   platform  total_sales\n",
       "16      PS2      1255.77\n",
       "28     X360       971.39\n",
       "17      PS3       939.65\n",
       "26      Wii       907.51\n",
       "4        DS       806.12\n",
       "15       PS       730.86\n",
       "6       GBA       317.85\n",
       "18      PS4       314.14\n",
       "19      PSP       294.05\n",
       "13       PC       259.52"
      ]
     },
     "execution_count": 82,
     "metadata": {},
     "output_type": "execute_result"
    }
   ],
   "source": [
    "top_sales_df = df.pivot_table(\"total_sales\",index=\"platform\", aggfunc=\"sum\").reset_index().sort_values(by=\"total_sales\",ascending=False).head(10)\n",
    "top_sales_df"
   ]
  },
  {
   "cell_type": "markdown",
   "metadata": {},
   "source": [
    "The table shown above shows the platforms with the highest number of sales, being Playstation 2 the most successful, raising 1,255 million of dolars"
   ]
  },
  {
   "cell_type": "code",
   "execution_count": 83,
   "metadata": {},
   "outputs": [
    {
     "data": {
      "application/vnd.plotly.v1+json": {
       "config": {
        "plotlyServerURL": "https://plot.ly"
       },
       "data": [
        {
         "alignmentgroup": "True",
         "hovertemplate": "platform=%{x}<br>total_sales=%{y}<extra></extra>",
         "legendgroup": "PS2",
         "marker": {
          "color": "rgb(141,211,199)",
          "pattern": {
           "shape": ""
          }
         },
         "name": "PS2",
         "offsetgroup": "PS2",
         "orientation": "v",
         "showlegend": true,
         "textposition": "auto",
         "type": "bar",
         "x": [
          "PS2"
         ],
         "xaxis": "x",
         "y": [
          1255.77
         ],
         "yaxis": "y"
        },
        {
         "alignmentgroup": "True",
         "hovertemplate": "platform=%{x}<br>total_sales=%{y}<extra></extra>",
         "legendgroup": "X360",
         "marker": {
          "color": "rgb(255,255,179)",
          "pattern": {
           "shape": ""
          }
         },
         "name": "X360",
         "offsetgroup": "X360",
         "orientation": "v",
         "showlegend": true,
         "textposition": "auto",
         "type": "bar",
         "x": [
          "X360"
         ],
         "xaxis": "x",
         "y": [
          971.39
         ],
         "yaxis": "y"
        },
        {
         "alignmentgroup": "True",
         "hovertemplate": "platform=%{x}<br>total_sales=%{y}<extra></extra>",
         "legendgroup": "PS3",
         "marker": {
          "color": "rgb(190,186,218)",
          "pattern": {
           "shape": ""
          }
         },
         "name": "PS3",
         "offsetgroup": "PS3",
         "orientation": "v",
         "showlegend": true,
         "textposition": "auto",
         "type": "bar",
         "x": [
          "PS3"
         ],
         "xaxis": "x",
         "y": [
          939.65
         ],
         "yaxis": "y"
        },
        {
         "alignmentgroup": "True",
         "hovertemplate": "platform=%{x}<br>total_sales=%{y}<extra></extra>",
         "legendgroup": "Wii",
         "marker": {
          "color": "rgb(251,128,114)",
          "pattern": {
           "shape": ""
          }
         },
         "name": "Wii",
         "offsetgroup": "Wii",
         "orientation": "v",
         "showlegend": true,
         "textposition": "auto",
         "type": "bar",
         "x": [
          "Wii"
         ],
         "xaxis": "x",
         "y": [
          907.51
         ],
         "yaxis": "y"
        },
        {
         "alignmentgroup": "True",
         "hovertemplate": "platform=%{x}<br>total_sales=%{y}<extra></extra>",
         "legendgroup": "DS",
         "marker": {
          "color": "rgb(128,177,211)",
          "pattern": {
           "shape": ""
          }
         },
         "name": "DS",
         "offsetgroup": "DS",
         "orientation": "v",
         "showlegend": true,
         "textposition": "auto",
         "type": "bar",
         "x": [
          "DS"
         ],
         "xaxis": "x",
         "y": [
          806.12
         ],
         "yaxis": "y"
        },
        {
         "alignmentgroup": "True",
         "hovertemplate": "platform=%{x}<br>total_sales=%{y}<extra></extra>",
         "legendgroup": "PS",
         "marker": {
          "color": "rgb(253,180,98)",
          "pattern": {
           "shape": ""
          }
         },
         "name": "PS",
         "offsetgroup": "PS",
         "orientation": "v",
         "showlegend": true,
         "textposition": "auto",
         "type": "bar",
         "x": [
          "PS"
         ],
         "xaxis": "x",
         "y": [
          730.86
         ],
         "yaxis": "y"
        },
        {
         "alignmentgroup": "True",
         "hovertemplate": "platform=%{x}<br>total_sales=%{y}<extra></extra>",
         "legendgroup": "GBA",
         "marker": {
          "color": "rgb(179,222,105)",
          "pattern": {
           "shape": ""
          }
         },
         "name": "GBA",
         "offsetgroup": "GBA",
         "orientation": "v",
         "showlegend": true,
         "textposition": "auto",
         "type": "bar",
         "x": [
          "GBA"
         ],
         "xaxis": "x",
         "y": [
          317.85
         ],
         "yaxis": "y"
        },
        {
         "alignmentgroup": "True",
         "hovertemplate": "platform=%{x}<br>total_sales=%{y}<extra></extra>",
         "legendgroup": "PS4",
         "marker": {
          "color": "rgb(252,205,229)",
          "pattern": {
           "shape": ""
          }
         },
         "name": "PS4",
         "offsetgroup": "PS4",
         "orientation": "v",
         "showlegend": true,
         "textposition": "auto",
         "type": "bar",
         "x": [
          "PS4"
         ],
         "xaxis": "x",
         "y": [
          314.14
         ],
         "yaxis": "y"
        },
        {
         "alignmentgroup": "True",
         "hovertemplate": "platform=%{x}<br>total_sales=%{y}<extra></extra>",
         "legendgroup": "PSP",
         "marker": {
          "color": "rgb(217,217,217)",
          "pattern": {
           "shape": ""
          }
         },
         "name": "PSP",
         "offsetgroup": "PSP",
         "orientation": "v",
         "showlegend": true,
         "textposition": "auto",
         "type": "bar",
         "x": [
          "PSP"
         ],
         "xaxis": "x",
         "y": [
          294.05
         ],
         "yaxis": "y"
        },
        {
         "alignmentgroup": "True",
         "hovertemplate": "platform=%{x}<br>total_sales=%{y}<extra></extra>",
         "legendgroup": "PC",
         "marker": {
          "color": "rgb(188,128,189)",
          "pattern": {
           "shape": ""
          }
         },
         "name": "PC",
         "offsetgroup": "PC",
         "orientation": "v",
         "showlegend": true,
         "textposition": "auto",
         "type": "bar",
         "x": [
          "PC"
         ],
         "xaxis": "x",
         "y": [
          259.52
         ],
         "yaxis": "y"
        }
       ],
       "layout": {
        "barmode": "relative",
        "legend": {
         "title": {
          "text": "platform"
         },
         "tracegroupgap": 0
        },
        "template": {
         "data": {
          "bar": [
           {
            "error_x": {
             "color": "#2a3f5f"
            },
            "error_y": {
             "color": "#2a3f5f"
            },
            "marker": {
             "line": {
              "color": "#E5ECF6",
              "width": 0.5
             },
             "pattern": {
              "fillmode": "overlay",
              "size": 10,
              "solidity": 0.2
             }
            },
            "type": "bar"
           }
          ],
          "barpolar": [
           {
            "marker": {
             "line": {
              "color": "#E5ECF6",
              "width": 0.5
             },
             "pattern": {
              "fillmode": "overlay",
              "size": 10,
              "solidity": 0.2
             }
            },
            "type": "barpolar"
           }
          ],
          "carpet": [
           {
            "aaxis": {
             "endlinecolor": "#2a3f5f",
             "gridcolor": "white",
             "linecolor": "white",
             "minorgridcolor": "white",
             "startlinecolor": "#2a3f5f"
            },
            "baxis": {
             "endlinecolor": "#2a3f5f",
             "gridcolor": "white",
             "linecolor": "white",
             "minorgridcolor": "white",
             "startlinecolor": "#2a3f5f"
            },
            "type": "carpet"
           }
          ],
          "choropleth": [
           {
            "colorbar": {
             "outlinewidth": 0,
             "ticks": ""
            },
            "type": "choropleth"
           }
          ],
          "contour": [
           {
            "colorbar": {
             "outlinewidth": 0,
             "ticks": ""
            },
            "colorscale": [
             [
              0,
              "#0d0887"
             ],
             [
              0.1111111111111111,
              "#46039f"
             ],
             [
              0.2222222222222222,
              "#7201a8"
             ],
             [
              0.3333333333333333,
              "#9c179e"
             ],
             [
              0.4444444444444444,
              "#bd3786"
             ],
             [
              0.5555555555555556,
              "#d8576b"
             ],
             [
              0.6666666666666666,
              "#ed7953"
             ],
             [
              0.7777777777777778,
              "#fb9f3a"
             ],
             [
              0.8888888888888888,
              "#fdca26"
             ],
             [
              1,
              "#f0f921"
             ]
            ],
            "type": "contour"
           }
          ],
          "contourcarpet": [
           {
            "colorbar": {
             "outlinewidth": 0,
             "ticks": ""
            },
            "type": "contourcarpet"
           }
          ],
          "heatmap": [
           {
            "colorbar": {
             "outlinewidth": 0,
             "ticks": ""
            },
            "colorscale": [
             [
              0,
              "#0d0887"
             ],
             [
              0.1111111111111111,
              "#46039f"
             ],
             [
              0.2222222222222222,
              "#7201a8"
             ],
             [
              0.3333333333333333,
              "#9c179e"
             ],
             [
              0.4444444444444444,
              "#bd3786"
             ],
             [
              0.5555555555555556,
              "#d8576b"
             ],
             [
              0.6666666666666666,
              "#ed7953"
             ],
             [
              0.7777777777777778,
              "#fb9f3a"
             ],
             [
              0.8888888888888888,
              "#fdca26"
             ],
             [
              1,
              "#f0f921"
             ]
            ],
            "type": "heatmap"
           }
          ],
          "heatmapgl": [
           {
            "colorbar": {
             "outlinewidth": 0,
             "ticks": ""
            },
            "colorscale": [
             [
              0,
              "#0d0887"
             ],
             [
              0.1111111111111111,
              "#46039f"
             ],
             [
              0.2222222222222222,
              "#7201a8"
             ],
             [
              0.3333333333333333,
              "#9c179e"
             ],
             [
              0.4444444444444444,
              "#bd3786"
             ],
             [
              0.5555555555555556,
              "#d8576b"
             ],
             [
              0.6666666666666666,
              "#ed7953"
             ],
             [
              0.7777777777777778,
              "#fb9f3a"
             ],
             [
              0.8888888888888888,
              "#fdca26"
             ],
             [
              1,
              "#f0f921"
             ]
            ],
            "type": "heatmapgl"
           }
          ],
          "histogram": [
           {
            "marker": {
             "pattern": {
              "fillmode": "overlay",
              "size": 10,
              "solidity": 0.2
             }
            },
            "type": "histogram"
           }
          ],
          "histogram2d": [
           {
            "colorbar": {
             "outlinewidth": 0,
             "ticks": ""
            },
            "colorscale": [
             [
              0,
              "#0d0887"
             ],
             [
              0.1111111111111111,
              "#46039f"
             ],
             [
              0.2222222222222222,
              "#7201a8"
             ],
             [
              0.3333333333333333,
              "#9c179e"
             ],
             [
              0.4444444444444444,
              "#bd3786"
             ],
             [
              0.5555555555555556,
              "#d8576b"
             ],
             [
              0.6666666666666666,
              "#ed7953"
             ],
             [
              0.7777777777777778,
              "#fb9f3a"
             ],
             [
              0.8888888888888888,
              "#fdca26"
             ],
             [
              1,
              "#f0f921"
             ]
            ],
            "type": "histogram2d"
           }
          ],
          "histogram2dcontour": [
           {
            "colorbar": {
             "outlinewidth": 0,
             "ticks": ""
            },
            "colorscale": [
             [
              0,
              "#0d0887"
             ],
             [
              0.1111111111111111,
              "#46039f"
             ],
             [
              0.2222222222222222,
              "#7201a8"
             ],
             [
              0.3333333333333333,
              "#9c179e"
             ],
             [
              0.4444444444444444,
              "#bd3786"
             ],
             [
              0.5555555555555556,
              "#d8576b"
             ],
             [
              0.6666666666666666,
              "#ed7953"
             ],
             [
              0.7777777777777778,
              "#fb9f3a"
             ],
             [
              0.8888888888888888,
              "#fdca26"
             ],
             [
              1,
              "#f0f921"
             ]
            ],
            "type": "histogram2dcontour"
           }
          ],
          "mesh3d": [
           {
            "colorbar": {
             "outlinewidth": 0,
             "ticks": ""
            },
            "type": "mesh3d"
           }
          ],
          "parcoords": [
           {
            "line": {
             "colorbar": {
              "outlinewidth": 0,
              "ticks": ""
             }
            },
            "type": "parcoords"
           }
          ],
          "pie": [
           {
            "automargin": true,
            "type": "pie"
           }
          ],
          "scatter": [
           {
            "fillpattern": {
             "fillmode": "overlay",
             "size": 10,
             "solidity": 0.2
            },
            "type": "scatter"
           }
          ],
          "scatter3d": [
           {
            "line": {
             "colorbar": {
              "outlinewidth": 0,
              "ticks": ""
             }
            },
            "marker": {
             "colorbar": {
              "outlinewidth": 0,
              "ticks": ""
             }
            },
            "type": "scatter3d"
           }
          ],
          "scattercarpet": [
           {
            "marker": {
             "colorbar": {
              "outlinewidth": 0,
              "ticks": ""
             }
            },
            "type": "scattercarpet"
           }
          ],
          "scattergeo": [
           {
            "marker": {
             "colorbar": {
              "outlinewidth": 0,
              "ticks": ""
             }
            },
            "type": "scattergeo"
           }
          ],
          "scattergl": [
           {
            "marker": {
             "colorbar": {
              "outlinewidth": 0,
              "ticks": ""
             }
            },
            "type": "scattergl"
           }
          ],
          "scattermapbox": [
           {
            "marker": {
             "colorbar": {
              "outlinewidth": 0,
              "ticks": ""
             }
            },
            "type": "scattermapbox"
           }
          ],
          "scatterpolar": [
           {
            "marker": {
             "colorbar": {
              "outlinewidth": 0,
              "ticks": ""
             }
            },
            "type": "scatterpolar"
           }
          ],
          "scatterpolargl": [
           {
            "marker": {
             "colorbar": {
              "outlinewidth": 0,
              "ticks": ""
             }
            },
            "type": "scatterpolargl"
           }
          ],
          "scatterternary": [
           {
            "marker": {
             "colorbar": {
              "outlinewidth": 0,
              "ticks": ""
             }
            },
            "type": "scatterternary"
           }
          ],
          "surface": [
           {
            "colorbar": {
             "outlinewidth": 0,
             "ticks": ""
            },
            "colorscale": [
             [
              0,
              "#0d0887"
             ],
             [
              0.1111111111111111,
              "#46039f"
             ],
             [
              0.2222222222222222,
              "#7201a8"
             ],
             [
              0.3333333333333333,
              "#9c179e"
             ],
             [
              0.4444444444444444,
              "#bd3786"
             ],
             [
              0.5555555555555556,
              "#d8576b"
             ],
             [
              0.6666666666666666,
              "#ed7953"
             ],
             [
              0.7777777777777778,
              "#fb9f3a"
             ],
             [
              0.8888888888888888,
              "#fdca26"
             ],
             [
              1,
              "#f0f921"
             ]
            ],
            "type": "surface"
           }
          ],
          "table": [
           {
            "cells": {
             "fill": {
              "color": "#EBF0F8"
             },
             "line": {
              "color": "white"
             }
            },
            "header": {
             "fill": {
              "color": "#C8D4E3"
             },
             "line": {
              "color": "white"
             }
            },
            "type": "table"
           }
          ]
         },
         "layout": {
          "annotationdefaults": {
           "arrowcolor": "#2a3f5f",
           "arrowhead": 0,
           "arrowwidth": 1
          },
          "autotypenumbers": "strict",
          "coloraxis": {
           "colorbar": {
            "outlinewidth": 0,
            "ticks": ""
           }
          },
          "colorscale": {
           "diverging": [
            [
             0,
             "#8e0152"
            ],
            [
             0.1,
             "#c51b7d"
            ],
            [
             0.2,
             "#de77ae"
            ],
            [
             0.3,
             "#f1b6da"
            ],
            [
             0.4,
             "#fde0ef"
            ],
            [
             0.5,
             "#f7f7f7"
            ],
            [
             0.6,
             "#e6f5d0"
            ],
            [
             0.7,
             "#b8e186"
            ],
            [
             0.8,
             "#7fbc41"
            ],
            [
             0.9,
             "#4d9221"
            ],
            [
             1,
             "#276419"
            ]
           ],
           "sequential": [
            [
             0,
             "#0d0887"
            ],
            [
             0.1111111111111111,
             "#46039f"
            ],
            [
             0.2222222222222222,
             "#7201a8"
            ],
            [
             0.3333333333333333,
             "#9c179e"
            ],
            [
             0.4444444444444444,
             "#bd3786"
            ],
            [
             0.5555555555555556,
             "#d8576b"
            ],
            [
             0.6666666666666666,
             "#ed7953"
            ],
            [
             0.7777777777777778,
             "#fb9f3a"
            ],
            [
             0.8888888888888888,
             "#fdca26"
            ],
            [
             1,
             "#f0f921"
            ]
           ],
           "sequentialminus": [
            [
             0,
             "#0d0887"
            ],
            [
             0.1111111111111111,
             "#46039f"
            ],
            [
             0.2222222222222222,
             "#7201a8"
            ],
            [
             0.3333333333333333,
             "#9c179e"
            ],
            [
             0.4444444444444444,
             "#bd3786"
            ],
            [
             0.5555555555555556,
             "#d8576b"
            ],
            [
             0.6666666666666666,
             "#ed7953"
            ],
            [
             0.7777777777777778,
             "#fb9f3a"
            ],
            [
             0.8888888888888888,
             "#fdca26"
            ],
            [
             1,
             "#f0f921"
            ]
           ]
          },
          "colorway": [
           "#636efa",
           "#EF553B",
           "#00cc96",
           "#ab63fa",
           "#FFA15A",
           "#19d3f3",
           "#FF6692",
           "#B6E880",
           "#FF97FF",
           "#FECB52"
          ],
          "font": {
           "color": "#2a3f5f"
          },
          "geo": {
           "bgcolor": "white",
           "lakecolor": "white",
           "landcolor": "#E5ECF6",
           "showlakes": true,
           "showland": true,
           "subunitcolor": "white"
          },
          "hoverlabel": {
           "align": "left"
          },
          "hovermode": "closest",
          "mapbox": {
           "style": "light"
          },
          "paper_bgcolor": "white",
          "plot_bgcolor": "#E5ECF6",
          "polar": {
           "angularaxis": {
            "gridcolor": "white",
            "linecolor": "white",
            "ticks": ""
           },
           "bgcolor": "#E5ECF6",
           "radialaxis": {
            "gridcolor": "white",
            "linecolor": "white",
            "ticks": ""
           }
          },
          "scene": {
           "xaxis": {
            "backgroundcolor": "#E5ECF6",
            "gridcolor": "white",
            "gridwidth": 2,
            "linecolor": "white",
            "showbackground": true,
            "ticks": "",
            "zerolinecolor": "white"
           },
           "yaxis": {
            "backgroundcolor": "#E5ECF6",
            "gridcolor": "white",
            "gridwidth": 2,
            "linecolor": "white",
            "showbackground": true,
            "ticks": "",
            "zerolinecolor": "white"
           },
           "zaxis": {
            "backgroundcolor": "#E5ECF6",
            "gridcolor": "white",
            "gridwidth": 2,
            "linecolor": "white",
            "showbackground": true,
            "ticks": "",
            "zerolinecolor": "white"
           }
          },
          "shapedefaults": {
           "line": {
            "color": "#2a3f5f"
           }
          },
          "ternary": {
           "aaxis": {
            "gridcolor": "white",
            "linecolor": "white",
            "ticks": ""
           },
           "baxis": {
            "gridcolor": "white",
            "linecolor": "white",
            "ticks": ""
           },
           "bgcolor": "#E5ECF6",
           "caxis": {
            "gridcolor": "white",
            "linecolor": "white",
            "ticks": ""
           }
          },
          "title": {
           "x": 0.05
          },
          "xaxis": {
           "automargin": true,
           "gridcolor": "white",
           "linecolor": "white",
           "ticks": "",
           "title": {
            "standoff": 15
           },
           "zerolinecolor": "white",
           "zerolinewidth": 2
          },
          "yaxis": {
           "automargin": true,
           "gridcolor": "white",
           "linecolor": "white",
           "ticks": "",
           "title": {
            "standoff": 15
           },
           "zerolinecolor": "white",
           "zerolinewidth": 2
          }
         }
        },
        "title": {
         "text": "Top Platforms in Game Sales"
        },
        "xaxis": {
         "anchor": "y",
         "categoryarray": [
          "PS2",
          "X360",
          "PS3",
          "Wii",
          "DS",
          "PS",
          "GBA",
          "PS4",
          "PSP",
          "PC"
         ],
         "categoryorder": "array",
         "domain": [
          0,
          1
         ],
         "title": {
          "text": "Platform"
         }
        },
        "yaxis": {
         "anchor": "x",
         "domain": [
          0,
          1
         ],
         "title": {
          "text": "Total Sales"
         }
        }
       }
      }
     },
     "metadata": {},
     "output_type": "display_data"
    }
   ],
   "source": [
    "fig3 = px.bar(top_sales_df,x=\"platform\",y=\"total_sales\", color=\"platform\" ,color_discrete_sequence=px.colors.qualitative.Set3 , title='Top Platforms in Game Sales')\n",
    "fig3.update_layout(xaxis_title = 'Platform', yaxis_title= 'Total Sales')\n",
    "fig3.show()"
   ]
  },
  {
   "cell_type": "markdown",
   "metadata": {},
   "source": [
    "We can see a clear difference y sales, we will focus on the main 6 (above 600 millions of sales) to analize the tendence"
   ]
  },
  {
   "cell_type": "markdown",
   "metadata": {},
   "source": [
    "### 3.3 Platform Game Sales by Year"
   ]
  },
  {
   "cell_type": "code",
   "execution_count": 84,
   "metadata": {},
   "outputs": [],
   "source": [
    "filter = top_sales_df[\"platform\"].head(6).values\n",
    "top6_sales_df= df[df[\"platform\"].isin(filter)]\n",
    "grouped_top_sales = top6_sales_df.groupby(by=[\"platform\",\"year_of_release\"])['total_sales'].sum().reset_index()"
   ]
  },
  {
   "cell_type": "code",
   "execution_count": 85,
   "metadata": {},
   "outputs": [
    {
     "data": {
      "application/vnd.plotly.v1+json": {
       "config": {
        "plotlyServerURL": "https://plot.ly"
       },
       "data": [
        {
         "alignmentgroup": "True",
         "hovertemplate": "platform=DS<br>year_of_release=%{x}<br>total_sales=%{y}<extra></extra>",
         "legendgroup": "DS",
         "marker": {
          "color": "rgb(141,211,199)",
          "pattern": {
           "shape": ""
          }
         },
         "name": "DS",
         "offsetgroup": "DS",
         "orientation": "v",
         "showlegend": true,
         "textposition": "auto",
         "type": "bar",
         "x": [
          1985,
          2004,
          2005,
          2006,
          2007,
          2008,
          2009,
          2010,
          2011,
          2012,
          2013
         ],
         "xaxis": "x",
         "y": [
          0.02,
          17.27,
          130.23,
          120.03,
          147.32,
          146.13,
          119.99,
          85.16,
          27.32,
          11.07,
          1.58
         ],
         "yaxis": "y"
        },
        {
         "alignmentgroup": "True",
         "hovertemplate": "platform=PS<br>year_of_release=%{x}<br>total_sales=%{y}<extra></extra>",
         "legendgroup": "PS",
         "marker": {
          "color": "rgb(255,255,179)",
          "pattern": {
           "shape": ""
          }
         },
         "name": "PS",
         "offsetgroup": "PS",
         "orientation": "v",
         "showlegend": true,
         "textposition": "auto",
         "type": "bar",
         "x": [
          1994,
          1995,
          1996,
          1997,
          1998,
          1999,
          2000,
          2001,
          2002,
          2003
         ],
         "xaxis": "x",
         "y": [
          6.03,
          35.96,
          94.7,
          136.17000000000002,
          170.99,
          145.58,
          96.76,
          35.93,
          6.67,
          2.0700000000000003
         ],
         "yaxis": "y"
        },
        {
         "alignmentgroup": "True",
         "hovertemplate": "platform=PS2<br>year_of_release=%{x}<br>total_sales=%{y}<extra></extra>",
         "legendgroup": "PS2",
         "marker": {
          "color": "rgb(190,186,218)",
          "pattern": {
           "shape": ""
          }
         },
         "name": "PS2",
         "offsetgroup": "PS2",
         "orientation": "v",
         "showlegend": true,
         "textposition": "auto",
         "type": "bar",
         "x": [
          2000,
          2001,
          2002,
          2003,
          2004,
          2005,
          2006,
          2007,
          2008,
          2009,
          2010,
          2011,
          2014
         ],
         "xaxis": "x",
         "y": [
          39.17,
          166.82,
          210.66,
          194.46,
          212.43,
          164.06,
          104.47,
          77.28,
          53.9,
          26.4,
          5.64,
          0.45,
          0.03
         ],
         "yaxis": "y"
        },
        {
         "alignmentgroup": "True",
         "hovertemplate": "platform=PS3<br>year_of_release=%{x}<br>total_sales=%{y}<extra></extra>",
         "legendgroup": "PS3",
         "marker": {
          "color": "rgb(251,128,114)",
          "pattern": {
           "shape": ""
          }
         },
         "name": "PS3",
         "offsetgroup": "PS3",
         "orientation": "v",
         "showlegend": true,
         "textposition": "auto",
         "type": "bar",
         "x": [
          2006,
          2007,
          2008,
          2009,
          2010,
          2011,
          2012,
          2013,
          2014,
          2015,
          2016
         ],
         "xaxis": "x",
         "y": [
          21.439999999999998,
          73.25,
          120.78999999999999,
          131.31,
          143.73,
          159.87,
          107.64,
          113.25,
          47.760000000000005,
          17.009999999999998,
          3.6
         ],
         "yaxis": "y"
        },
        {
         "alignmentgroup": "True",
         "hovertemplate": "platform=Wii<br>year_of_release=%{x}<br>total_sales=%{y}<extra></extra>",
         "legendgroup": "Wii",
         "marker": {
          "color": "rgb(128,177,211)",
          "pattern": {
           "shape": ""
          }
         },
         "name": "Wii",
         "offsetgroup": "Wii",
         "orientation": "v",
         "showlegend": true,
         "textposition": "auto",
         "type": "bar",
         "x": [
          2006,
          2007,
          2008,
          2009,
          2010,
          2011,
          2012,
          2013,
          2014,
          2015,
          2016
         ],
         "xaxis": "x",
         "y": [
          140.07,
          155.97,
          176.87,
          207.36,
          129.70000000000002,
          60.92,
          22.96,
          8.59,
          3.75,
          1.14,
          0.18
         ],
         "yaxis": "y"
        },
        {
         "alignmentgroup": "True",
         "hovertemplate": "platform=X360<br>year_of_release=%{x}<br>total_sales=%{y}<extra></extra>",
         "legendgroup": "X360",
         "marker": {
          "color": "rgb(253,180,98)",
          "pattern": {
           "shape": ""
          }
         },
         "name": "X360",
         "offsetgroup": "X360",
         "orientation": "v",
         "showlegend": true,
         "textposition": "auto",
         "type": "bar",
         "x": [
          2005,
          2006,
          2007,
          2008,
          2009,
          2010,
          2011,
          2012,
          2013,
          2014,
          2015,
          2016
         ],
         "xaxis": "x",
         "y": [
          9.100000000000001,
          51.800000000000004,
          97.88,
          137,
          120.79,
          170.59,
          146.52,
          100.78,
          88.58,
          34.75,
          12.08,
          1.52
         ],
         "yaxis": "y"
        }
       ],
       "layout": {
        "barmode": "relative",
        "legend": {
         "title": {
          "text": "platform"
         },
         "tracegroupgap": 0
        },
        "template": {
         "data": {
          "bar": [
           {
            "error_x": {
             "color": "#2a3f5f"
            },
            "error_y": {
             "color": "#2a3f5f"
            },
            "marker": {
             "line": {
              "color": "#E5ECF6",
              "width": 0.5
             },
             "pattern": {
              "fillmode": "overlay",
              "size": 10,
              "solidity": 0.2
             }
            },
            "type": "bar"
           }
          ],
          "barpolar": [
           {
            "marker": {
             "line": {
              "color": "#E5ECF6",
              "width": 0.5
             },
             "pattern": {
              "fillmode": "overlay",
              "size": 10,
              "solidity": 0.2
             }
            },
            "type": "barpolar"
           }
          ],
          "carpet": [
           {
            "aaxis": {
             "endlinecolor": "#2a3f5f",
             "gridcolor": "white",
             "linecolor": "white",
             "minorgridcolor": "white",
             "startlinecolor": "#2a3f5f"
            },
            "baxis": {
             "endlinecolor": "#2a3f5f",
             "gridcolor": "white",
             "linecolor": "white",
             "minorgridcolor": "white",
             "startlinecolor": "#2a3f5f"
            },
            "type": "carpet"
           }
          ],
          "choropleth": [
           {
            "colorbar": {
             "outlinewidth": 0,
             "ticks": ""
            },
            "type": "choropleth"
           }
          ],
          "contour": [
           {
            "colorbar": {
             "outlinewidth": 0,
             "ticks": ""
            },
            "colorscale": [
             [
              0,
              "#0d0887"
             ],
             [
              0.1111111111111111,
              "#46039f"
             ],
             [
              0.2222222222222222,
              "#7201a8"
             ],
             [
              0.3333333333333333,
              "#9c179e"
             ],
             [
              0.4444444444444444,
              "#bd3786"
             ],
             [
              0.5555555555555556,
              "#d8576b"
             ],
             [
              0.6666666666666666,
              "#ed7953"
             ],
             [
              0.7777777777777778,
              "#fb9f3a"
             ],
             [
              0.8888888888888888,
              "#fdca26"
             ],
             [
              1,
              "#f0f921"
             ]
            ],
            "type": "contour"
           }
          ],
          "contourcarpet": [
           {
            "colorbar": {
             "outlinewidth": 0,
             "ticks": ""
            },
            "type": "contourcarpet"
           }
          ],
          "heatmap": [
           {
            "colorbar": {
             "outlinewidth": 0,
             "ticks": ""
            },
            "colorscale": [
             [
              0,
              "#0d0887"
             ],
             [
              0.1111111111111111,
              "#46039f"
             ],
             [
              0.2222222222222222,
              "#7201a8"
             ],
             [
              0.3333333333333333,
              "#9c179e"
             ],
             [
              0.4444444444444444,
              "#bd3786"
             ],
             [
              0.5555555555555556,
              "#d8576b"
             ],
             [
              0.6666666666666666,
              "#ed7953"
             ],
             [
              0.7777777777777778,
              "#fb9f3a"
             ],
             [
              0.8888888888888888,
              "#fdca26"
             ],
             [
              1,
              "#f0f921"
             ]
            ],
            "type": "heatmap"
           }
          ],
          "heatmapgl": [
           {
            "colorbar": {
             "outlinewidth": 0,
             "ticks": ""
            },
            "colorscale": [
             [
              0,
              "#0d0887"
             ],
             [
              0.1111111111111111,
              "#46039f"
             ],
             [
              0.2222222222222222,
              "#7201a8"
             ],
             [
              0.3333333333333333,
              "#9c179e"
             ],
             [
              0.4444444444444444,
              "#bd3786"
             ],
             [
              0.5555555555555556,
              "#d8576b"
             ],
             [
              0.6666666666666666,
              "#ed7953"
             ],
             [
              0.7777777777777778,
              "#fb9f3a"
             ],
             [
              0.8888888888888888,
              "#fdca26"
             ],
             [
              1,
              "#f0f921"
             ]
            ],
            "type": "heatmapgl"
           }
          ],
          "histogram": [
           {
            "marker": {
             "pattern": {
              "fillmode": "overlay",
              "size": 10,
              "solidity": 0.2
             }
            },
            "type": "histogram"
           }
          ],
          "histogram2d": [
           {
            "colorbar": {
             "outlinewidth": 0,
             "ticks": ""
            },
            "colorscale": [
             [
              0,
              "#0d0887"
             ],
             [
              0.1111111111111111,
              "#46039f"
             ],
             [
              0.2222222222222222,
              "#7201a8"
             ],
             [
              0.3333333333333333,
              "#9c179e"
             ],
             [
              0.4444444444444444,
              "#bd3786"
             ],
             [
              0.5555555555555556,
              "#d8576b"
             ],
             [
              0.6666666666666666,
              "#ed7953"
             ],
             [
              0.7777777777777778,
              "#fb9f3a"
             ],
             [
              0.8888888888888888,
              "#fdca26"
             ],
             [
              1,
              "#f0f921"
             ]
            ],
            "type": "histogram2d"
           }
          ],
          "histogram2dcontour": [
           {
            "colorbar": {
             "outlinewidth": 0,
             "ticks": ""
            },
            "colorscale": [
             [
              0,
              "#0d0887"
             ],
             [
              0.1111111111111111,
              "#46039f"
             ],
             [
              0.2222222222222222,
              "#7201a8"
             ],
             [
              0.3333333333333333,
              "#9c179e"
             ],
             [
              0.4444444444444444,
              "#bd3786"
             ],
             [
              0.5555555555555556,
              "#d8576b"
             ],
             [
              0.6666666666666666,
              "#ed7953"
             ],
             [
              0.7777777777777778,
              "#fb9f3a"
             ],
             [
              0.8888888888888888,
              "#fdca26"
             ],
             [
              1,
              "#f0f921"
             ]
            ],
            "type": "histogram2dcontour"
           }
          ],
          "mesh3d": [
           {
            "colorbar": {
             "outlinewidth": 0,
             "ticks": ""
            },
            "type": "mesh3d"
           }
          ],
          "parcoords": [
           {
            "line": {
             "colorbar": {
              "outlinewidth": 0,
              "ticks": ""
             }
            },
            "type": "parcoords"
           }
          ],
          "pie": [
           {
            "automargin": true,
            "type": "pie"
           }
          ],
          "scatter": [
           {
            "fillpattern": {
             "fillmode": "overlay",
             "size": 10,
             "solidity": 0.2
            },
            "type": "scatter"
           }
          ],
          "scatter3d": [
           {
            "line": {
             "colorbar": {
              "outlinewidth": 0,
              "ticks": ""
             }
            },
            "marker": {
             "colorbar": {
              "outlinewidth": 0,
              "ticks": ""
             }
            },
            "type": "scatter3d"
           }
          ],
          "scattercarpet": [
           {
            "marker": {
             "colorbar": {
              "outlinewidth": 0,
              "ticks": ""
             }
            },
            "type": "scattercarpet"
           }
          ],
          "scattergeo": [
           {
            "marker": {
             "colorbar": {
              "outlinewidth": 0,
              "ticks": ""
             }
            },
            "type": "scattergeo"
           }
          ],
          "scattergl": [
           {
            "marker": {
             "colorbar": {
              "outlinewidth": 0,
              "ticks": ""
             }
            },
            "type": "scattergl"
           }
          ],
          "scattermapbox": [
           {
            "marker": {
             "colorbar": {
              "outlinewidth": 0,
              "ticks": ""
             }
            },
            "type": "scattermapbox"
           }
          ],
          "scatterpolar": [
           {
            "marker": {
             "colorbar": {
              "outlinewidth": 0,
              "ticks": ""
             }
            },
            "type": "scatterpolar"
           }
          ],
          "scatterpolargl": [
           {
            "marker": {
             "colorbar": {
              "outlinewidth": 0,
              "ticks": ""
             }
            },
            "type": "scatterpolargl"
           }
          ],
          "scatterternary": [
           {
            "marker": {
             "colorbar": {
              "outlinewidth": 0,
              "ticks": ""
             }
            },
            "type": "scatterternary"
           }
          ],
          "surface": [
           {
            "colorbar": {
             "outlinewidth": 0,
             "ticks": ""
            },
            "colorscale": [
             [
              0,
              "#0d0887"
             ],
             [
              0.1111111111111111,
              "#46039f"
             ],
             [
              0.2222222222222222,
              "#7201a8"
             ],
             [
              0.3333333333333333,
              "#9c179e"
             ],
             [
              0.4444444444444444,
              "#bd3786"
             ],
             [
              0.5555555555555556,
              "#d8576b"
             ],
             [
              0.6666666666666666,
              "#ed7953"
             ],
             [
              0.7777777777777778,
              "#fb9f3a"
             ],
             [
              0.8888888888888888,
              "#fdca26"
             ],
             [
              1,
              "#f0f921"
             ]
            ],
            "type": "surface"
           }
          ],
          "table": [
           {
            "cells": {
             "fill": {
              "color": "#EBF0F8"
             },
             "line": {
              "color": "white"
             }
            },
            "header": {
             "fill": {
              "color": "#C8D4E3"
             },
             "line": {
              "color": "white"
             }
            },
            "type": "table"
           }
          ]
         },
         "layout": {
          "annotationdefaults": {
           "arrowcolor": "#2a3f5f",
           "arrowhead": 0,
           "arrowwidth": 1
          },
          "autotypenumbers": "strict",
          "coloraxis": {
           "colorbar": {
            "outlinewidth": 0,
            "ticks": ""
           }
          },
          "colorscale": {
           "diverging": [
            [
             0,
             "#8e0152"
            ],
            [
             0.1,
             "#c51b7d"
            ],
            [
             0.2,
             "#de77ae"
            ],
            [
             0.3,
             "#f1b6da"
            ],
            [
             0.4,
             "#fde0ef"
            ],
            [
             0.5,
             "#f7f7f7"
            ],
            [
             0.6,
             "#e6f5d0"
            ],
            [
             0.7,
             "#b8e186"
            ],
            [
             0.8,
             "#7fbc41"
            ],
            [
             0.9,
             "#4d9221"
            ],
            [
             1,
             "#276419"
            ]
           ],
           "sequential": [
            [
             0,
             "#0d0887"
            ],
            [
             0.1111111111111111,
             "#46039f"
            ],
            [
             0.2222222222222222,
             "#7201a8"
            ],
            [
             0.3333333333333333,
             "#9c179e"
            ],
            [
             0.4444444444444444,
             "#bd3786"
            ],
            [
             0.5555555555555556,
             "#d8576b"
            ],
            [
             0.6666666666666666,
             "#ed7953"
            ],
            [
             0.7777777777777778,
             "#fb9f3a"
            ],
            [
             0.8888888888888888,
             "#fdca26"
            ],
            [
             1,
             "#f0f921"
            ]
           ],
           "sequentialminus": [
            [
             0,
             "#0d0887"
            ],
            [
             0.1111111111111111,
             "#46039f"
            ],
            [
             0.2222222222222222,
             "#7201a8"
            ],
            [
             0.3333333333333333,
             "#9c179e"
            ],
            [
             0.4444444444444444,
             "#bd3786"
            ],
            [
             0.5555555555555556,
             "#d8576b"
            ],
            [
             0.6666666666666666,
             "#ed7953"
            ],
            [
             0.7777777777777778,
             "#fb9f3a"
            ],
            [
             0.8888888888888888,
             "#fdca26"
            ],
            [
             1,
             "#f0f921"
            ]
           ]
          },
          "colorway": [
           "#636efa",
           "#EF553B",
           "#00cc96",
           "#ab63fa",
           "#FFA15A",
           "#19d3f3",
           "#FF6692",
           "#B6E880",
           "#FF97FF",
           "#FECB52"
          ],
          "font": {
           "color": "#2a3f5f"
          },
          "geo": {
           "bgcolor": "white",
           "lakecolor": "white",
           "landcolor": "#E5ECF6",
           "showlakes": true,
           "showland": true,
           "subunitcolor": "white"
          },
          "hoverlabel": {
           "align": "left"
          },
          "hovermode": "closest",
          "mapbox": {
           "style": "light"
          },
          "paper_bgcolor": "white",
          "plot_bgcolor": "#E5ECF6",
          "polar": {
           "angularaxis": {
            "gridcolor": "white",
            "linecolor": "white",
            "ticks": ""
           },
           "bgcolor": "#E5ECF6",
           "radialaxis": {
            "gridcolor": "white",
            "linecolor": "white",
            "ticks": ""
           }
          },
          "scene": {
           "xaxis": {
            "backgroundcolor": "#E5ECF6",
            "gridcolor": "white",
            "gridwidth": 2,
            "linecolor": "white",
            "showbackground": true,
            "ticks": "",
            "zerolinecolor": "white"
           },
           "yaxis": {
            "backgroundcolor": "#E5ECF6",
            "gridcolor": "white",
            "gridwidth": 2,
            "linecolor": "white",
            "showbackground": true,
            "ticks": "",
            "zerolinecolor": "white"
           },
           "zaxis": {
            "backgroundcolor": "#E5ECF6",
            "gridcolor": "white",
            "gridwidth": 2,
            "linecolor": "white",
            "showbackground": true,
            "ticks": "",
            "zerolinecolor": "white"
           }
          },
          "shapedefaults": {
           "line": {
            "color": "#2a3f5f"
           }
          },
          "ternary": {
           "aaxis": {
            "gridcolor": "white",
            "linecolor": "white",
            "ticks": ""
           },
           "baxis": {
            "gridcolor": "white",
            "linecolor": "white",
            "ticks": ""
           },
           "bgcolor": "#E5ECF6",
           "caxis": {
            "gridcolor": "white",
            "linecolor": "white",
            "ticks": ""
           }
          },
          "title": {
           "x": 0.05
          },
          "xaxis": {
           "automargin": true,
           "gridcolor": "white",
           "linecolor": "white",
           "ticks": "",
           "title": {
            "standoff": 15
           },
           "zerolinecolor": "white",
           "zerolinewidth": 2
          },
          "yaxis": {
           "automargin": true,
           "gridcolor": "white",
           "linecolor": "white",
           "ticks": "",
           "title": {
            "standoff": 15
           },
           "zerolinecolor": "white",
           "zerolinewidth": 2
          }
         }
        },
        "title": {
         "text": "Platform Game Sales by Year"
        },
        "xaxis": {
         "anchor": "y",
         "domain": [
          0,
          1
         ],
         "title": {
          "text": "Years of Release"
         }
        },
        "yaxis": {
         "anchor": "x",
         "domain": [
          0,
          1
         ],
         "title": {
          "text": "Total Sales"
         }
        }
       }
      }
     },
     "metadata": {},
     "output_type": "display_data"
    }
   ],
   "source": [
    "fig4 = px.bar(grouped_top_sales,x=\"year_of_release\", y=\"total_sales\", color=\"platform\", color_discrete_sequence=px.colors.qualitative.Set3, title='Platform Game Sales by Year')\n",
    "fig4.update_layout(xaxis_title='Years of Release', yaxis_title='Total Sales')\n",
    "fig4.show()\n",
    "# px.line(grouped_top_sales,x=\"year_of_release\", y=\"total_sales\", color=\"platform\", color_discrete_sequence=px.colors.qualitative.Set3)"
   ]
  },
  {
   "cell_type": "markdown",
   "metadata": {},
   "source": [
    "In this chart we can see interesting information about the tendence, PS2 and Xbox 360 lead the market in Sales, PS2 remain in the market for 11 years, while Xbox has present for 12 years (and counting). \n",
    "\n",
    "The average in the market presence is around 9 years while the peak of increasing sales is 5.5 years.\n",
    "\n",
    "It will depend on the strategy of each company to mantain the console or provide a new generation\n"
   ]
  },
  {
   "cell_type": "markdown",
   "metadata": {},
   "source": [
    "### 3.4 Profits by game"
   ]
  },
  {
   "cell_type": "markdown",
   "metadata": {},
   "source": [
    "When trying to represent the data in a boxplot we can see atypical values which are affecting the graph to show correctly all the parameters. I represent all the values on the left to have an idea of who the look\n",
    "\n",
    "Note: pyplot express has not the capacity of ignore the outlier, the documentation use points with the parameters 'all', 'False' but they just extend the whiskers\n"
   ]
  },
  {
   "cell_type": "code",
   "execution_count": 86,
   "metadata": {},
   "outputs": [],
   "source": [
    "\n",
    "# test = px.box(top6_sales_df,'platform','total_sales', color=\"platform\", points='all', title=\"Game Sales by Platform\")\n",
    "# test = px.box(top6_sales_df,'platform','total_sales', color=\"platform\", points=False) #Just extends the whiskers\n",
    "\n",
    "newdf = top6_sales_df[[\"platform\",'total_sales']]\n"
   ]
  },
  {
   "cell_type": "code",
   "execution_count": 87,
   "metadata": {},
   "outputs": [
    {
     "data": {
      "text/html": [
       "<div>\n",
       "<style scoped>\n",
       "    .dataframe tbody tr th:only-of-type {\n",
       "        vertical-align: middle;\n",
       "    }\n",
       "\n",
       "    .dataframe tbody tr th {\n",
       "        vertical-align: top;\n",
       "    }\n",
       "\n",
       "    .dataframe thead th {\n",
       "        text-align: right;\n",
       "    }\n",
       "</style>\n",
       "<table border=\"1\" class=\"dataframe\">\n",
       "  <thead>\n",
       "    <tr style=\"text-align: right;\">\n",
       "      <th></th>\n",
       "      <th>name</th>\n",
       "      <th>platform</th>\n",
       "      <th>year_of_release</th>\n",
       "      <th>genre</th>\n",
       "      <th>na_sales</th>\n",
       "      <th>eu_sales</th>\n",
       "      <th>jp_sales</th>\n",
       "      <th>other_sales</th>\n",
       "      <th>critic_score</th>\n",
       "      <th>user_score</th>\n",
       "      <th>rating</th>\n",
       "      <th>total_sales</th>\n",
       "    </tr>\n",
       "  </thead>\n",
       "  <tbody>\n",
       "    <tr>\n",
       "      <th>0</th>\n",
       "      <td>Wii Sports</td>\n",
       "      <td>Wii</td>\n",
       "      <td>2006</td>\n",
       "      <td>Sports</td>\n",
       "      <td>41.36</td>\n",
       "      <td>28.96</td>\n",
       "      <td>3.77</td>\n",
       "      <td>8.45</td>\n",
       "      <td>76.0</td>\n",
       "      <td>8.0</td>\n",
       "      <td>E</td>\n",
       "      <td>82.54</td>\n",
       "    </tr>\n",
       "    <tr>\n",
       "      <th>2</th>\n",
       "      <td>Mario Kart Wii</td>\n",
       "      <td>Wii</td>\n",
       "      <td>2008</td>\n",
       "      <td>Racing</td>\n",
       "      <td>15.68</td>\n",
       "      <td>12.76</td>\n",
       "      <td>3.79</td>\n",
       "      <td>3.29</td>\n",
       "      <td>82.0</td>\n",
       "      <td>8.3</td>\n",
       "      <td>E</td>\n",
       "      <td>35.52</td>\n",
       "    </tr>\n",
       "    <tr>\n",
       "      <th>3</th>\n",
       "      <td>Wii Sports Resort</td>\n",
       "      <td>Wii</td>\n",
       "      <td>2009</td>\n",
       "      <td>Sports</td>\n",
       "      <td>15.61</td>\n",
       "      <td>10.93</td>\n",
       "      <td>3.28</td>\n",
       "      <td>2.95</td>\n",
       "      <td>80.0</td>\n",
       "      <td>8.0</td>\n",
       "      <td>E</td>\n",
       "      <td>32.77</td>\n",
       "    </tr>\n",
       "    <tr>\n",
       "      <th>6</th>\n",
       "      <td>New Super Mario Bros.</td>\n",
       "      <td>DS</td>\n",
       "      <td>2006</td>\n",
       "      <td>Platform</td>\n",
       "      <td>11.28</td>\n",
       "      <td>9.14</td>\n",
       "      <td>6.50</td>\n",
       "      <td>2.88</td>\n",
       "      <td>89.0</td>\n",
       "      <td>8.5</td>\n",
       "      <td>E</td>\n",
       "      <td>29.80</td>\n",
       "    </tr>\n",
       "    <tr>\n",
       "      <th>7</th>\n",
       "      <td>Wii Play</td>\n",
       "      <td>Wii</td>\n",
       "      <td>2006</td>\n",
       "      <td>Misc</td>\n",
       "      <td>13.96</td>\n",
       "      <td>9.18</td>\n",
       "      <td>2.93</td>\n",
       "      <td>2.84</td>\n",
       "      <td>58.0</td>\n",
       "      <td>6.6</td>\n",
       "      <td>E</td>\n",
       "      <td>28.91</td>\n",
       "    </tr>\n",
       "    <tr>\n",
       "      <th>...</th>\n",
       "      <td>...</td>\n",
       "      <td>...</td>\n",
       "      <td>...</td>\n",
       "      <td>...</td>\n",
       "      <td>...</td>\n",
       "      <td>...</td>\n",
       "      <td>...</td>\n",
       "      <td>...</td>\n",
       "      <td>...</td>\n",
       "      <td>...</td>\n",
       "      <td>...</td>\n",
       "      <td>...</td>\n",
       "    </tr>\n",
       "    <tr>\n",
       "      <th>16700</th>\n",
       "      <td>Mezase!! Tsuri Master DS</td>\n",
       "      <td>DS</td>\n",
       "      <td>2009</td>\n",
       "      <td>Sports</td>\n",
       "      <td>0.00</td>\n",
       "      <td>0.00</td>\n",
       "      <td>0.01</td>\n",
       "      <td>0.00</td>\n",
       "      <td>NaN</td>\n",
       "      <td>NaN</td>\n",
       "      <td>NaN</td>\n",
       "      <td>0.01</td>\n",
       "    </tr>\n",
       "    <tr>\n",
       "      <th>16704</th>\n",
       "      <td>Plushees</td>\n",
       "      <td>DS</td>\n",
       "      <td>2008</td>\n",
       "      <td>Simulation</td>\n",
       "      <td>0.01</td>\n",
       "      <td>0.00</td>\n",
       "      <td>0.00</td>\n",
       "      <td>0.00</td>\n",
       "      <td>NaN</td>\n",
       "      <td>NaN</td>\n",
       "      <td>E</td>\n",
       "      <td>0.01</td>\n",
       "    </tr>\n",
       "    <tr>\n",
       "      <th>16709</th>\n",
       "      <td>SCORE International Baja 1000: The Official Game</td>\n",
       "      <td>PS2</td>\n",
       "      <td>2008</td>\n",
       "      <td>Racing</td>\n",
       "      <td>0.00</td>\n",
       "      <td>0.00</td>\n",
       "      <td>0.00</td>\n",
       "      <td>0.00</td>\n",
       "      <td>NaN</td>\n",
       "      <td>NaN</td>\n",
       "      <td>NaN</td>\n",
       "      <td>0.00</td>\n",
       "    </tr>\n",
       "    <tr>\n",
       "      <th>16710</th>\n",
       "      <td>Samurai Warriors: Sanada Maru</td>\n",
       "      <td>PS3</td>\n",
       "      <td>2016</td>\n",
       "      <td>Action</td>\n",
       "      <td>0.00</td>\n",
       "      <td>0.00</td>\n",
       "      <td>0.01</td>\n",
       "      <td>0.00</td>\n",
       "      <td>NaN</td>\n",
       "      <td>NaN</td>\n",
       "      <td>NaN</td>\n",
       "      <td>0.01</td>\n",
       "    </tr>\n",
       "    <tr>\n",
       "      <th>16711</th>\n",
       "      <td>LMA Manager 2007</td>\n",
       "      <td>X360</td>\n",
       "      <td>2006</td>\n",
       "      <td>Sports</td>\n",
       "      <td>0.00</td>\n",
       "      <td>0.01</td>\n",
       "      <td>0.00</td>\n",
       "      <td>0.00</td>\n",
       "      <td>NaN</td>\n",
       "      <td>NaN</td>\n",
       "      <td>NaN</td>\n",
       "      <td>0.01</td>\n",
       "    </tr>\n",
       "  </tbody>\n",
       "</table>\n",
       "<p>9421 rows × 12 columns</p>\n",
       "</div>"
      ],
      "text/plain": [
       "                                                   name platform  \\\n",
       "0                                            Wii Sports      Wii   \n",
       "2                                        Mario Kart Wii      Wii   \n",
       "3                                     Wii Sports Resort      Wii   \n",
       "6                                 New Super Mario Bros.       DS   \n",
       "7                                              Wii Play      Wii   \n",
       "...                                                 ...      ...   \n",
       "16700                          Mezase!! Tsuri Master DS       DS   \n",
       "16704                                          Plushees       DS   \n",
       "16709  SCORE International Baja 1000: The Official Game      PS2   \n",
       "16710                     Samurai Warriors: Sanada Maru      PS3   \n",
       "16711                                  LMA Manager 2007     X360   \n",
       "\n",
       "       year_of_release       genre  na_sales  eu_sales  jp_sales  other_sales  \\\n",
       "0                 2006      Sports     41.36     28.96      3.77         8.45   \n",
       "2                 2008      Racing     15.68     12.76      3.79         3.29   \n",
       "3                 2009      Sports     15.61     10.93      3.28         2.95   \n",
       "6                 2006    Platform     11.28      9.14      6.50         2.88   \n",
       "7                 2006        Misc     13.96      9.18      2.93         2.84   \n",
       "...                ...         ...       ...       ...       ...          ...   \n",
       "16700             2009      Sports      0.00      0.00      0.01         0.00   \n",
       "16704             2008  Simulation      0.01      0.00      0.00         0.00   \n",
       "16709             2008      Racing      0.00      0.00      0.00         0.00   \n",
       "16710             2016      Action      0.00      0.00      0.01         0.00   \n",
       "16711             2006      Sports      0.00      0.01      0.00         0.00   \n",
       "\n",
       "       critic_score  user_score rating  total_sales  \n",
       "0              76.0         8.0      E        82.54  \n",
       "2              82.0         8.3      E        35.52  \n",
       "3              80.0         8.0      E        32.77  \n",
       "6              89.0         8.5      E        29.80  \n",
       "7              58.0         6.6      E        28.91  \n",
       "...             ...         ...    ...          ...  \n",
       "16700           NaN         NaN    NaN         0.01  \n",
       "16704           NaN         NaN      E         0.01  \n",
       "16709           NaN         NaN    NaN         0.00  \n",
       "16710           NaN         NaN    NaN         0.01  \n",
       "16711           NaN         NaN    NaN         0.01  \n",
       "\n",
       "[9421 rows x 12 columns]"
      ]
     },
     "execution_count": 87,
     "metadata": {},
     "output_type": "execute_result"
    }
   ],
   "source": [
    "top6_sales_df"
   ]
  },
  {
   "cell_type": "markdown",
   "metadata": {},
   "source": [
    "To have a better understating we can follow the next graph where the oultiers where hide to expand the visualization of Q1, median and Q3"
   ]
  },
  {
   "cell_type": "code",
   "execution_count": 88,
   "metadata": {},
   "outputs": [
    {
     "data": {
      "text/plain": [
       "[]"
      ]
     },
     "execution_count": 88,
     "metadata": {},
     "output_type": "execute_result"
    },
    {
     "data": {
      "image/png": "[encoded data removed]",
      "text/plain": [
       "<Figure size 640x480 with 1 Axes>"
      ]
     },
     "metadata": {},
     "output_type": "display_data"
    }
   ],
   "source": [
    "fig5 = sns.boxplot(top6_sales_df,x='platform',y='total_sales', showfliers=False, hue=\"platform\")\n",
    "fig5.set_title('Sales by Platform')\n",
    "fig5.set_xlabel('Plataforma')\n",
    "fig5.set_ylabel('Total Sales')\n",
    "fig5.plot()"
   ]
  },
  {
   "cell_type": "markdown",
   "metadata": {},
   "source": [
    "Talking about average, the nintendo DS got the fewest profits per game with a mean of $110,000 dollars, meanwhile Xbox and PS3 had a similar profits with $280,000 and $270,000 (per game) correspondingly. \n",
    "Despite that PS2 lead the sales market, the average profits per game were of $230,000 dollars, it interesting to know more about how they lead the market (maybe specific games which where the hits in those years)."
   ]
  },
  {
   "cell_type": "markdown",
   "metadata": {},
   "source": [
    "### 3.5 User and Critic Reviews"
   ]
  },
  {
   "cell_type": "markdown",
   "metadata": {},
   "source": [
    "Now it's time to see how the critics can impact a game, we will get two graphs, one related to the critic score and the other focused on the user score."
   ]
  },
  {
   "cell_type": "code",
   "execution_count": 89,
   "metadata": {},
   "outputs": [
    {
     "data": {
      "application/vnd.plotly.v1+json": {
       "config": {
        "plotlyServerURL": "https://plot.ly"
       },
       "data": [
        {
         "hovertemplate": "critic_score=%{x}<br>total_sales=%{y}<extra></extra>",
         "legendgroup": "",
         "marker": {
          "color": "#636efa",
          "symbol": "circle"
         },
         "mode": "markers",
         "name": "",
         "orientation": "v",
         "showlegend": false,
         "type": "scatter",
         "x": [
          13,
          17,
          19,
          20,
          21,
          22,
          23,
          24,
          25,
          26,
          27,
          28,
          29,
          30,
          31,
          32,
          33,
          34,
          35,
          36,
          37,
          38,
          39,
          40,
          41,
          42,
          43,
          44,
          45,
          46,
          47,
          48,
          49,
          50,
          51,
          52,
          53,
          54,
          55,
          56,
          57,
          58,
          59,
          60,
          61,
          62,
          63,
          64,
          65,
          66,
          67,
          68,
          69,
          70,
          71,
          72,
          73,
          74,
          75,
          76,
          77,
          78,
          79,
          80,
          81,
          82,
          83,
          84,
          85,
          86,
          87,
          88,
          89,
          90,
          91,
          92,
          93,
          94,
          95,
          96,
          97,
          98
         ],
         "xaxis": "x",
         "y": [
          0.04,
          0.09999999999999999,
          0.6200000000000001,
          1.8699999999999997,
          0.12,
          0.060000000000000005,
          0.3,
          0.31,
          3.2300000000000004,
          1.6800000000000002,
          1.22,
          1.52,
          2.01,
          2.4,
          0.78,
          3.96,
          4.33,
          2.34,
          2.96,
          3.64,
          4.26,
          8.69,
          7.28,
          4.29,
          5.91,
          8.32,
          13.16,
          13.18,
          10.02,
          12.36,
          17.52,
          15.93,
          29.07,
          19.26,
          20.54,
          19.1,
          25.05,
          25.85,
          34.27,
          37.660000000000004,
          36.38,
          64.66,
          47.35,
          46.76,
          71.11,
          61,
          58.190000000000005,
          66.86,
          61.9,
          65.43,
          65.92,
          99.55,
          80.76,
          108.75,
          125.51,
          103.31,
          153.13,
          139.92000000000002,
          114.59,
          227.18,
          156.78,
          146.3,
          142.7,
          274.69,
          172.58,
          215.65,
          219.59,
          218.87,
          209.23,
          163.13,
          199.18,
          209.73,
          168.49,
          114.19,
          152.57999999999998,
          122.6,
          116.31,
          131.75,
          105.34,
          72.58,
          102.13000000000001,
          26.52
         ],
         "yaxis": "y"
        }
       ],
       "layout": {
        "legend": {
         "tracegroupgap": 0
        },
        "template": {
         "data": {
          "bar": [
           {
            "error_x": {
             "color": "#2a3f5f"
            },
            "error_y": {
             "color": "#2a3f5f"
            },
            "marker": {
             "line": {
              "color": "#E5ECF6",
              "width": 0.5
             },
             "pattern": {
              "fillmode": "overlay",
              "size": 10,
              "solidity": 0.2
             }
            },
            "type": "bar"
           }
          ],
          "barpolar": [
           {
            "marker": {
             "line": {
              "color": "#E5ECF6",
              "width": 0.5
             },
             "pattern": {
              "fillmode": "overlay",
              "size": 10,
              "solidity": 0.2
             }
            },
            "type": "barpolar"
           }
          ],
          "carpet": [
           {
            "aaxis": {
             "endlinecolor": "#2a3f5f",
             "gridcolor": "white",
             "linecolor": "white",
             "minorgridcolor": "white",
             "startlinecolor": "#2a3f5f"
            },
            "baxis": {
             "endlinecolor": "#2a3f5f",
             "gridcolor": "white",
             "linecolor": "white",
             "minorgridcolor": "white",
             "startlinecolor": "#2a3f5f"
            },
            "type": "carpet"
           }
          ],
          "choropleth": [
           {
            "colorbar": {
             "outlinewidth": 0,
             "ticks": ""
            },
            "type": "choropleth"
           }
          ],
          "contour": [
           {
            "colorbar": {
             "outlinewidth": 0,
             "ticks": ""
            },
            "colorscale": [
             [
              0,
              "#0d0887"
             ],
             [
              0.1111111111111111,
              "#46039f"
             ],
             [
              0.2222222222222222,
              "#7201a8"
             ],
             [
              0.3333333333333333,
              "#9c179e"
             ],
             [
              0.4444444444444444,
              "#bd3786"
             ],
             [
              0.5555555555555556,
              "#d8576b"
             ],
             [
              0.6666666666666666,
              "#ed7953"
             ],
             [
              0.7777777777777778,
              "#fb9f3a"
             ],
             [
              0.8888888888888888,
              "#fdca26"
             ],
             [
              1,
              "#f0f921"
             ]
            ],
            "type": "contour"
           }
          ],
          "contourcarpet": [
           {
            "colorbar": {
             "outlinewidth": 0,
             "ticks": ""
            },
            "type": "contourcarpet"
           }
          ],
          "heatmap": [
           {
            "colorbar": {
             "outlinewidth": 0,
             "ticks": ""
            },
            "colorscale": [
             [
              0,
              "#0d0887"
             ],
             [
              0.1111111111111111,
              "#46039f"
             ],
             [
              0.2222222222222222,
              "#7201a8"
             ],
             [
              0.3333333333333333,
              "#9c179e"
             ],
             [
              0.4444444444444444,
              "#bd3786"
             ],
             [
              0.5555555555555556,
              "#d8576b"
             ],
             [
              0.6666666666666666,
              "#ed7953"
             ],
             [
              0.7777777777777778,
              "#fb9f3a"
             ],
             [
              0.8888888888888888,
              "#fdca26"
             ],
             [
              1,
              "#f0f921"
             ]
            ],
            "type": "heatmap"
           }
          ],
          "heatmapgl": [
           {
            "colorbar": {
             "outlinewidth": 0,
             "ticks": ""
            },
            "colorscale": [
             [
              0,
              "#0d0887"
             ],
             [
              0.1111111111111111,
              "#46039f"
             ],
             [
              0.2222222222222222,
              "#7201a8"
             ],
             [
              0.3333333333333333,
              "#9c179e"
             ],
             [
              0.4444444444444444,
              "#bd3786"
             ],
             [
              0.5555555555555556,
              "#d8576b"
             ],
             [
              0.6666666666666666,
              "#ed7953"
             ],
             [
              0.7777777777777778,
              "#fb9f3a"
             ],
             [
              0.8888888888888888,
              "#fdca26"
             ],
             [
              1,
              "#f0f921"
             ]
            ],
            "type": "heatmapgl"
           }
          ],
          "histogram": [
           {
            "marker": {
             "pattern": {
              "fillmode": "overlay",
              "size": 10,
              "solidity": 0.2
             }
            },
            "type": "histogram"
           }
          ],
          "histogram2d": [
           {
            "colorbar": {
             "outlinewidth": 0,
             "ticks": ""
            },
            "colorscale": [
             [
              0,
              "#0d0887"
             ],
             [
              0.1111111111111111,
              "#46039f"
             ],
             [
              0.2222222222222222,
              "#7201a8"
             ],
             [
              0.3333333333333333,
              "#9c179e"
             ],
             [
              0.4444444444444444,
              "#bd3786"
             ],
             [
              0.5555555555555556,
              "#d8576b"
             ],
             [
              0.6666666666666666,
              "#ed7953"
             ],
             [
              0.7777777777777778,
              "#fb9f3a"
             ],
             [
              0.8888888888888888,
              "#fdca26"
             ],
             [
              1,
              "#f0f921"
             ]
            ],
            "type": "histogram2d"
           }
          ],
          "histogram2dcontour": [
           {
            "colorbar": {
             "outlinewidth": 0,
             "ticks": ""
            },
            "colorscale": [
             [
              0,
              "#0d0887"
             ],
             [
              0.1111111111111111,
              "#46039f"
             ],
             [
              0.2222222222222222,
              "#7201a8"
             ],
             [
              0.3333333333333333,
              "#9c179e"
             ],
             [
              0.4444444444444444,
              "#bd3786"
             ],
             [
              0.5555555555555556,
              "#d8576b"
             ],
             [
              0.6666666666666666,
              "#ed7953"
             ],
             [
              0.7777777777777778,
              "#fb9f3a"
             ],
             [
              0.8888888888888888,
              "#fdca26"
             ],
             [
              1,
              "#f0f921"
             ]
            ],
            "type": "histogram2dcontour"
           }
          ],
          "mesh3d": [
           {
            "colorbar": {
             "outlinewidth": 0,
             "ticks": ""
            },
            "type": "mesh3d"
           }
          ],
          "parcoords": [
           {
            "line": {
             "colorbar": {
              "outlinewidth": 0,
              "ticks": ""
             }
            },
            "type": "parcoords"
           }
          ],
          "pie": [
           {
            "automargin": true,
            "type": "pie"
           }
          ],
          "scatter": [
           {
            "fillpattern": {
             "fillmode": "overlay",
             "size": 10,
             "solidity": 0.2
            },
            "type": "scatter"
           }
          ],
          "scatter3d": [
           {
            "line": {
             "colorbar": {
              "outlinewidth": 0,
              "ticks": ""
             }
            },
            "marker": {
             "colorbar": {
              "outlinewidth": 0,
              "ticks": ""
             }
            },
            "type": "scatter3d"
           }
          ],
          "scattercarpet": [
           {
            "marker": {
             "colorbar": {
              "outlinewidth": 0,
              "ticks": ""
             }
            },
            "type": "scattercarpet"
           }
          ],
          "scattergeo": [
           {
            "marker": {
             "colorbar": {
              "outlinewidth": 0,
              "ticks": ""
             }
            },
            "type": "scattergeo"
           }
          ],
          "scattergl": [
           {
            "marker": {
             "colorbar": {
              "outlinewidth": 0,
              "ticks": ""
             }
            },
            "type": "scattergl"
           }
          ],
          "scattermapbox": [
           {
            "marker": {
             "colorbar": {
              "outlinewidth": 0,
              "ticks": ""
             }
            },
            "type": "scattermapbox"
           }
          ],
          "scatterpolar": [
           {
            "marker": {
             "colorbar": {
              "outlinewidth": 0,
              "ticks": ""
             }
            },
            "type": "scatterpolar"
           }
          ],
          "scatterpolargl": [
           {
            "marker": {
             "colorbar": {
              "outlinewidth": 0,
              "ticks": ""
             }
            },
            "type": "scatterpolargl"
           }
          ],
          "scatterternary": [
           {
            "marker": {
             "colorbar": {
              "outlinewidth": 0,
              "ticks": ""
             }
            },
            "type": "scatterternary"
           }
          ],
          "surface": [
           {
            "colorbar": {
             "outlinewidth": 0,
             "ticks": ""
            },
            "colorscale": [
             [
              0,
              "#0d0887"
             ],
             [
              0.1111111111111111,
              "#46039f"
             ],
             [
              0.2222222222222222,
              "#7201a8"
             ],
             [
              0.3333333333333333,
              "#9c179e"
             ],
             [
              0.4444444444444444,
              "#bd3786"
             ],
             [
              0.5555555555555556,
              "#d8576b"
             ],
             [
              0.6666666666666666,
              "#ed7953"
             ],
             [
              0.7777777777777778,
              "#fb9f3a"
             ],
             [
              0.8888888888888888,
              "#fdca26"
             ],
             [
              1,
              "#f0f921"
             ]
            ],
            "type": "surface"
           }
          ],
          "table": [
           {
            "cells": {
             "fill": {
              "color": "#EBF0F8"
             },
             "line": {
              "color": "white"
             }
            },
            "header": {
             "fill": {
              "color": "#C8D4E3"
             },
             "line": {
              "color": "white"
             }
            },
            "type": "table"
           }
          ]
         },
         "layout": {
          "annotationdefaults": {
           "arrowcolor": "#2a3f5f",
           "arrowhead": 0,
           "arrowwidth": 1
          },
          "autotypenumbers": "strict",
          "coloraxis": {
           "colorbar": {
            "outlinewidth": 0,
            "ticks": ""
           }
          },
          "colorscale": {
           "diverging": [
            [
             0,
             "#8e0152"
            ],
            [
             0.1,
             "#c51b7d"
            ],
            [
             0.2,
             "#de77ae"
            ],
            [
             0.3,
             "#f1b6da"
            ],
            [
             0.4,
             "#fde0ef"
            ],
            [
             0.5,
             "#f7f7f7"
            ],
            [
             0.6,
             "#e6f5d0"
            ],
            [
             0.7,
             "#b8e186"
            ],
            [
             0.8,
             "#7fbc41"
            ],
            [
             0.9,
             "#4d9221"
            ],
            [
             1,
             "#276419"
            ]
           ],
           "sequential": [
            [
             0,
             "#0d0887"
            ],
            [
             0.1111111111111111,
             "#46039f"
            ],
            [
             0.2222222222222222,
             "#7201a8"
            ],
            [
             0.3333333333333333,
             "#9c179e"
            ],
            [
             0.4444444444444444,
             "#bd3786"
            ],
            [
             0.5555555555555556,
             "#d8576b"
            ],
            [
             0.6666666666666666,
             "#ed7953"
            ],
            [
             0.7777777777777778,
             "#fb9f3a"
            ],
            [
             0.8888888888888888,
             "#fdca26"
            ],
            [
             1,
             "#f0f921"
            ]
           ],
           "sequentialminus": [
            [
             0,
             "#0d0887"
            ],
            [
             0.1111111111111111,
             "#46039f"
            ],
            [
             0.2222222222222222,
             "#7201a8"
            ],
            [
             0.3333333333333333,
             "#9c179e"
            ],
            [
             0.4444444444444444,
             "#bd3786"
            ],
            [
             0.5555555555555556,
             "#d8576b"
            ],
            [
             0.6666666666666666,
             "#ed7953"
            ],
            [
             0.7777777777777778,
             "#fb9f3a"
            ],
            [
             0.8888888888888888,
             "#fdca26"
            ],
            [
             1,
             "#f0f921"
            ]
           ]
          },
          "colorway": [
           "#636efa",
           "#EF553B",
           "#00cc96",
           "#ab63fa",
           "#FFA15A",
           "#19d3f3",
           "#FF6692",
           "#B6E880",
           "#FF97FF",
           "#FECB52"
          ],
          "font": {
           "color": "#2a3f5f"
          },
          "geo": {
           "bgcolor": "white",
           "lakecolor": "white",
           "landcolor": "#E5ECF6",
           "showlakes": true,
           "showland": true,
           "subunitcolor": "white"
          },
          "hoverlabel": {
           "align": "left"
          },
          "hovermode": "closest",
          "mapbox": {
           "style": "light"
          },
          "paper_bgcolor": "white",
          "plot_bgcolor": "#E5ECF6",
          "polar": {
           "angularaxis": {
            "gridcolor": "white",
            "linecolor": "white",
            "ticks": ""
           },
           "bgcolor": "#E5ECF6",
           "radialaxis": {
            "gridcolor": "white",
            "linecolor": "white",
            "ticks": ""
           }
          },
          "scene": {
           "xaxis": {
            "backgroundcolor": "#E5ECF6",
            "gridcolor": "white",
            "gridwidth": 2,
            "linecolor": "white",
            "showbackground": true,
            "ticks": "",
            "zerolinecolor": "white"
           },
           "yaxis": {
            "backgroundcolor": "#E5ECF6",
            "gridcolor": "white",
            "gridwidth": 2,
            "linecolor": "white",
            "showbackground": true,
            "ticks": "",
            "zerolinecolor": "white"
           },
           "zaxis": {
            "backgroundcolor": "#E5ECF6",
            "gridcolor": "white",
            "gridwidth": 2,
            "linecolor": "white",
            "showbackground": true,
            "ticks": "",
            "zerolinecolor": "white"
           }
          },
          "shapedefaults": {
           "line": {
            "color": "#2a3f5f"
           }
          },
          "ternary": {
           "aaxis": {
            "gridcolor": "white",
            "linecolor": "white",
            "ticks": ""
           },
           "baxis": {
            "gridcolor": "white",
            "linecolor": "white",
            "ticks": ""
           },
           "bgcolor": "#E5ECF6",
           "caxis": {
            "gridcolor": "white",
            "linecolor": "white",
            "ticks": ""
           }
          },
          "title": {
           "x": 0.05
          },
          "xaxis": {
           "automargin": true,
           "gridcolor": "white",
           "linecolor": "white",
           "ticks": "",
           "title": {
            "standoff": 15
           },
           "zerolinecolor": "white",
           "zerolinewidth": 2
          },
          "yaxis": {
           "automargin": true,
           "gridcolor": "white",
           "linecolor": "white",
           "ticks": "",
           "title": {
            "standoff": 15
           },
           "zerolinecolor": "white",
           "zerolinewidth": 2
          }
         }
        },
        "title": {
         "text": "Sales Impacted by critic Score"
        },
        "xaxis": {
         "anchor": "y",
         "domain": [
          0,
          1
         ],
         "title": {
          "text": "Critic Score"
         }
        },
        "yaxis": {
         "anchor": "x",
         "domain": [
          0,
          1
         ],
         "title": {
          "text": "Total Sales"
         }
        }
       }
      }
     },
     "metadata": {},
     "output_type": "display_data"
    },
    {
     "name": "stdout",
     "output_type": "stream",
     "text": [
      "La correlación de critic score y sales score es de 0.2455066871773633\n"
     ]
    }
   ],
   "source": [
    "critics_df = df.groupby(by='critic_score')[\"total_sales\"].sum().reset_index()\n",
    "# px.bar(critics_df,x=\"critic_score\",y='total_sales') #Another option\n",
    "fig6 = px.scatter(critics_df,x=\"critic_score\",y='total_sales', title='Sales Impacted by critic Score')\n",
    "fig6.update_layout(xaxis_title='Critic Score', yaxis_title='Total Sales')\n",
    "fig6.show()\n",
    "corr= df['critic_score'].corr(df[\"total_sales\"])\n",
    "print(f'La correlación de critic score y sales score es de {corr}')"
   ]
  },
  {
   "cell_type": "markdown",
   "metadata": {},
   "source": [
    "As we can see in the table the is just a light positive correlation between the critic score and the sales of games."
   ]
  },
  {
   "cell_type": "markdown",
   "metadata": {},
   "source": [
    "Now let's check the user score"
   ]
  },
  {
   "cell_type": "code",
   "execution_count": 90,
   "metadata": {},
   "outputs": [
    {
     "data": {
      "application/vnd.plotly.v1+json": {
       "config": {
        "plotlyServerURL": "https://plot.ly"
       },
       "data": [
        {
         "hovertemplate": "user_score=%{x}<br>total_sales=%{y}<extra></extra>",
         "legendgroup": "",
         "marker": {
          "color": "#636efa",
          "symbol": "circle"
         },
         "mode": "markers",
         "name": "",
         "orientation": "v",
         "showlegend": false,
         "type": "scatter",
         "x": [
          0,
          0.2,
          0.3,
          0.5,
          0.6,
          0.7,
          0.9,
          1,
          1.1,
          1.2,
          1.3,
          1.4,
          1.5,
          1.6,
          1.7,
          1.8,
          1.9,
          2,
          2.1,
          2.2,
          2.3,
          2.4,
          2.5,
          2.6,
          2.7,
          2.8,
          2.9,
          3,
          3.1,
          3.2,
          3.3,
          3.4,
          3.5,
          3.6,
          3.7,
          3.8,
          3.9,
          4,
          4.1,
          4.2,
          4.3,
          4.4,
          4.5,
          4.6,
          4.7,
          4.8,
          4.9,
          5,
          5.1,
          5.2,
          5.3,
          5.4,
          5.5,
          5.6,
          5.7,
          5.8,
          5.9,
          6,
          6.1,
          6.2,
          6.3,
          6.4,
          6.5,
          6.6,
          6.7,
          6.8,
          6.9,
          7,
          7.1,
          7.2,
          7.3,
          7.4,
          7.5,
          7.6,
          7.7,
          7.8,
          7.9,
          8,
          8.1,
          8.2,
          8.3,
          8.4,
          8.5,
          8.6,
          8.7,
          8.8,
          8.9,
          9,
          9.1,
          9.2,
          9.3,
          9.4,
          9.5,
          9.6,
          9.7
         ],
         "xaxis": "x",
         "y": [
          0.72,
          0.15000000000000002,
          0.34,
          0.24000000000000002,
          0.12,
          0.22,
          0.15999999999999998,
          0.13999999999999999,
          0.41,
          0.29000000000000004,
          0.19,
          0.3,
          0.26,
          1.0799999999999998,
          1.59,
          1.54,
          1.7599999999999998,
          2.16,
          3.73,
          1.68,
          0.15000000000000002,
          1.57,
          4.08,
          20.91,
          2.6,
          4.51,
          5.38,
          6.1000000000000005,
          8.54,
          18.51,
          7.87,
          24.27,
          6.260000000000001,
          6.24,
          7.91,
          4.92,
          5.84,
          13.87,
          15.52,
          15.57,
          30.450000000000003,
          15.530000000000001,
          16.580000000000002,
          16.02,
          7.74,
          31.55,
          26.080000000000002,
          31.830000000000002,
          18.88,
          22.09,
          38.77,
          40.68,
          36.97,
          30.23,
          46.86,
          40.71,
          41.42,
          52.17,
          57.74,
          50.26,
          131.83,
          71.34,
          71.28,
          121.63,
          80.68,
          92.3,
          89.46000000000001,
          98.37,
          114.5,
          104.5,
          134.75,
          155.19,
          172.01,
          171.8,
          194.21,
          217.76,
          254.89000000000001,
          316.17,
          183.92000000000002,
          228.3,
          201.48,
          217.82,
          244.4,
          219.22,
          220.78,
          136.8,
          178.07,
          147.01000000000002,
          103.04,
          51.489999999999995,
          19.23,
          13.48,
          1.72,
          0.7300000000000001,
          0.03
         ],
         "yaxis": "y"
        }
       ],
       "layout": {
        "legend": {
         "tracegroupgap": 0
        },
        "margin": {
         "t": 60
        },
        "template": {
         "data": {
          "bar": [
           {
            "error_x": {
             "color": "#2a3f5f"
            },
            "error_y": {
             "color": "#2a3f5f"
            },
            "marker": {
             "line": {
              "color": "#E5ECF6",
              "width": 0.5
             },
             "pattern": {
              "fillmode": "overlay",
              "size": 10,
              "solidity": 0.2
             }
            },
            "type": "bar"
           }
          ],
          "barpolar": [
           {
            "marker": {
             "line": {
              "color": "#E5ECF6",
              "width": 0.5
             },
             "pattern": {
              "fillmode": "overlay",
              "size": 10,
              "solidity": 0.2
             }
            },
            "type": "barpolar"
           }
          ],
          "carpet": [
           {
            "aaxis": {
             "endlinecolor": "#2a3f5f",
             "gridcolor": "white",
             "linecolor": "white",
             "minorgridcolor": "white",
             "startlinecolor": "#2a3f5f"
            },
            "baxis": {
             "endlinecolor": "#2a3f5f",
             "gridcolor": "white",
             "linecolor": "white",
             "minorgridcolor": "white",
             "startlinecolor": "#2a3f5f"
            },
            "type": "carpet"
           }
          ],
          "choropleth": [
           {
            "colorbar": {
             "outlinewidth": 0,
             "ticks": ""
            },
            "type": "choropleth"
           }
          ],
          "contour": [
           {
            "colorbar": {
             "outlinewidth": 0,
             "ticks": ""
            },
            "colorscale": [
             [
              0,
              "#0d0887"
             ],
             [
              0.1111111111111111,
              "#46039f"
             ],
             [
              0.2222222222222222,
              "#7201a8"
             ],
             [
              0.3333333333333333,
              "#9c179e"
             ],
             [
              0.4444444444444444,
              "#bd3786"
             ],
             [
              0.5555555555555556,
              "#d8576b"
             ],
             [
              0.6666666666666666,
              "#ed7953"
             ],
             [
              0.7777777777777778,
              "#fb9f3a"
             ],
             [
              0.8888888888888888,
              "#fdca26"
             ],
             [
              1,
              "#f0f921"
             ]
            ],
            "type": "contour"
           }
          ],
          "contourcarpet": [
           {
            "colorbar": {
             "outlinewidth": 0,
             "ticks": ""
            },
            "type": "contourcarpet"
           }
          ],
          "heatmap": [
           {
            "colorbar": {
             "outlinewidth": 0,
             "ticks": ""
            },
            "colorscale": [
             [
              0,
              "#0d0887"
             ],
             [
              0.1111111111111111,
              "#46039f"
             ],
             [
              0.2222222222222222,
              "#7201a8"
             ],
             [
              0.3333333333333333,
              "#9c179e"
             ],
             [
              0.4444444444444444,
              "#bd3786"
             ],
             [
              0.5555555555555556,
              "#d8576b"
             ],
             [
              0.6666666666666666,
              "#ed7953"
             ],
             [
              0.7777777777777778,
              "#fb9f3a"
             ],
             [
              0.8888888888888888,
              "#fdca26"
             ],
             [
              1,
              "#f0f921"
             ]
            ],
            "type": "heatmap"
           }
          ],
          "heatmapgl": [
           {
            "colorbar": {
             "outlinewidth": 0,
             "ticks": ""
            },
            "colorscale": [
             [
              0,
              "#0d0887"
             ],
             [
              0.1111111111111111,
              "#46039f"
             ],
             [
              0.2222222222222222,
              "#7201a8"
             ],
             [
              0.3333333333333333,
              "#9c179e"
             ],
             [
              0.4444444444444444,
              "#bd3786"
             ],
             [
              0.5555555555555556,
              "#d8576b"
             ],
             [
              0.6666666666666666,
              "#ed7953"
             ],
             [
              0.7777777777777778,
              "#fb9f3a"
             ],
             [
              0.8888888888888888,
              "#fdca26"
             ],
             [
              1,
              "#f0f921"
             ]
            ],
            "type": "heatmapgl"
           }
          ],
          "histogram": [
           {
            "marker": {
             "pattern": {
              "fillmode": "overlay",
              "size": 10,
              "solidity": 0.2
             }
            },
            "type": "histogram"
           }
          ],
          "histogram2d": [
           {
            "colorbar": {
             "outlinewidth": 0,
             "ticks": ""
            },
            "colorscale": [
             [
              0,
              "#0d0887"
             ],
             [
              0.1111111111111111,
              "#46039f"
             ],
             [
              0.2222222222222222,
              "#7201a8"
             ],
             [
              0.3333333333333333,
              "#9c179e"
             ],
             [
              0.4444444444444444,
              "#bd3786"
             ],
             [
              0.5555555555555556,
              "#d8576b"
             ],
             [
              0.6666666666666666,
              "#ed7953"
             ],
             [
              0.7777777777777778,
              "#fb9f3a"
             ],
             [
              0.8888888888888888,
              "#fdca26"
             ],
             [
              1,
              "#f0f921"
             ]
            ],
            "type": "histogram2d"
           }
          ],
          "histogram2dcontour": [
           {
            "colorbar": {
             "outlinewidth": 0,
             "ticks": ""
            },
            "colorscale": [
             [
              0,
              "#0d0887"
             ],
             [
              0.1111111111111111,
              "#46039f"
             ],
             [
              0.2222222222222222,
              "#7201a8"
             ],
             [
              0.3333333333333333,
              "#9c179e"
             ],
             [
              0.4444444444444444,
              "#bd3786"
             ],
             [
              0.5555555555555556,
              "#d8576b"
             ],
             [
              0.6666666666666666,
              "#ed7953"
             ],
             [
              0.7777777777777778,
              "#fb9f3a"
             ],
             [
              0.8888888888888888,
              "#fdca26"
             ],
             [
              1,
              "#f0f921"
             ]
            ],
            "type": "histogram2dcontour"
           }
          ],
          "mesh3d": [
           {
            "colorbar": {
             "outlinewidth": 0,
             "ticks": ""
            },
            "type": "mesh3d"
           }
          ],
          "parcoords": [
           {
            "line": {
             "colorbar": {
              "outlinewidth": 0,
              "ticks": ""
             }
            },
            "type": "parcoords"
           }
          ],
          "pie": [
           {
            "automargin": true,
            "type": "pie"
           }
          ],
          "scatter": [
           {
            "fillpattern": {
             "fillmode": "overlay",
             "size": 10,
             "solidity": 0.2
            },
            "type": "scatter"
           }
          ],
          "scatter3d": [
           {
            "line": {
             "colorbar": {
              "outlinewidth": 0,
              "ticks": ""
             }
            },
            "marker": {
             "colorbar": {
              "outlinewidth": 0,
              "ticks": ""
             }
            },
            "type": "scatter3d"
           }
          ],
          "scattercarpet": [
           {
            "marker": {
             "colorbar": {
              "outlinewidth": 0,
              "ticks": ""
             }
            },
            "type": "scattercarpet"
           }
          ],
          "scattergeo": [
           {
            "marker": {
             "colorbar": {
              "outlinewidth": 0,
              "ticks": ""
             }
            },
            "type": "scattergeo"
           }
          ],
          "scattergl": [
           {
            "marker": {
             "colorbar": {
              "outlinewidth": 0,
              "ticks": ""
             }
            },
            "type": "scattergl"
           }
          ],
          "scattermapbox": [
           {
            "marker": {
             "colorbar": {
              "outlinewidth": 0,
              "ticks": ""
             }
            },
            "type": "scattermapbox"
           }
          ],
          "scatterpolar": [
           {
            "marker": {
             "colorbar": {
              "outlinewidth": 0,
              "ticks": ""
             }
            },
            "type": "scatterpolar"
           }
          ],
          "scatterpolargl": [
           {
            "marker": {
             "colorbar": {
              "outlinewidth": 0,
              "ticks": ""
             }
            },
            "type": "scatterpolargl"
           }
          ],
          "scatterternary": [
           {
            "marker": {
             "colorbar": {
              "outlinewidth": 0,
              "ticks": ""
             }
            },
            "type": "scatterternary"
           }
          ],
          "surface": [
           {
            "colorbar": {
             "outlinewidth": 0,
             "ticks": ""
            },
            "colorscale": [
             [
              0,
              "#0d0887"
             ],
             [
              0.1111111111111111,
              "#46039f"
             ],
             [
              0.2222222222222222,
              "#7201a8"
             ],
             [
              0.3333333333333333,
              "#9c179e"
             ],
             [
              0.4444444444444444,
              "#bd3786"
             ],
             [
              0.5555555555555556,
              "#d8576b"
             ],
             [
              0.6666666666666666,
              "#ed7953"
             ],
             [
              0.7777777777777778,
              "#fb9f3a"
             ],
             [
              0.8888888888888888,
              "#fdca26"
             ],
             [
              1,
              "#f0f921"
             ]
            ],
            "type": "surface"
           }
          ],
          "table": [
           {
            "cells": {
             "fill": {
              "color": "#EBF0F8"
             },
             "line": {
              "color": "white"
             }
            },
            "header": {
             "fill": {
              "color": "#C8D4E3"
             },
             "line": {
              "color": "white"
             }
            },
            "type": "table"
           }
          ]
         },
         "layout": {
          "annotationdefaults": {
           "arrowcolor": "#2a3f5f",
           "arrowhead": 0,
           "arrowwidth": 1
          },
          "autotypenumbers": "strict",
          "coloraxis": {
           "colorbar": {
            "outlinewidth": 0,
            "ticks": ""
           }
          },
          "colorscale": {
           "diverging": [
            [
             0,
             "#8e0152"
            ],
            [
             0.1,
             "#c51b7d"
            ],
            [
             0.2,
             "#de77ae"
            ],
            [
             0.3,
             "#f1b6da"
            ],
            [
             0.4,
             "#fde0ef"
            ],
            [
             0.5,
             "#f7f7f7"
            ],
            [
             0.6,
             "#e6f5d0"
            ],
            [
             0.7,
             "#b8e186"
            ],
            [
             0.8,
             "#7fbc41"
            ],
            [
             0.9,
             "#4d9221"
            ],
            [
             1,
             "#276419"
            ]
           ],
           "sequential": [
            [
             0,
             "#0d0887"
            ],
            [
             0.1111111111111111,
             "#46039f"
            ],
            [
             0.2222222222222222,
             "#7201a8"
            ],
            [
             0.3333333333333333,
             "#9c179e"
            ],
            [
             0.4444444444444444,
             "#bd3786"
            ],
            [
             0.5555555555555556,
             "#d8576b"
            ],
            [
             0.6666666666666666,
             "#ed7953"
            ],
            [
             0.7777777777777778,
             "#fb9f3a"
            ],
            [
             0.8888888888888888,
             "#fdca26"
            ],
            [
             1,
             "#f0f921"
            ]
           ],
           "sequentialminus": [
            [
             0,
             "#0d0887"
            ],
            [
             0.1111111111111111,
             "#46039f"
            ],
            [
             0.2222222222222222,
             "#7201a8"
            ],
            [
             0.3333333333333333,
             "#9c179e"
            ],
            [
             0.4444444444444444,
             "#bd3786"
            ],
            [
             0.5555555555555556,
             "#d8576b"
            ],
            [
             0.6666666666666666,
             "#ed7953"
            ],
            [
             0.7777777777777778,
             "#fb9f3a"
            ],
            [
             0.8888888888888888,
             "#fdca26"
            ],
            [
             1,
             "#f0f921"
            ]
           ]
          },
          "colorway": [
           "#636efa",
           "#EF553B",
           "#00cc96",
           "#ab63fa",
           "#FFA15A",
           "#19d3f3",
           "#FF6692",
           "#B6E880",
           "#FF97FF",
           "#FECB52"
          ],
          "font": {
           "color": "#2a3f5f"
          },
          "geo": {
           "bgcolor": "white",
           "lakecolor": "white",
           "landcolor": "#E5ECF6",
           "showlakes": true,
           "showland": true,
           "subunitcolor": "white"
          },
          "hoverlabel": {
           "align": "left"
          },
          "hovermode": "closest",
          "mapbox": {
           "style": "light"
          },
          "paper_bgcolor": "white",
          "plot_bgcolor": "#E5ECF6",
          "polar": {
           "angularaxis": {
            "gridcolor": "white",
            "linecolor": "white",
            "ticks": ""
           },
           "bgcolor": "#E5ECF6",
           "radialaxis": {
            "gridcolor": "white",
            "linecolor": "white",
            "ticks": ""
           }
          },
          "scene": {
           "xaxis": {
            "backgroundcolor": "#E5ECF6",
            "gridcolor": "white",
            "gridwidth": 2,
            "linecolor": "white",
            "showbackground": true,
            "ticks": "",
            "zerolinecolor": "white"
           },
           "yaxis": {
            "backgroundcolor": "#E5ECF6",
            "gridcolor": "white",
            "gridwidth": 2,
            "linecolor": "white",
            "showbackground": true,
            "ticks": "",
            "zerolinecolor": "white"
           },
           "zaxis": {
            "backgroundcolor": "#E5ECF6",
            "gridcolor": "white",
            "gridwidth": 2,
            "linecolor": "white",
            "showbackground": true,
            "ticks": "",
            "zerolinecolor": "white"
           }
          },
          "shapedefaults": {
           "line": {
            "color": "#2a3f5f"
           }
          },
          "ternary": {
           "aaxis": {
            "gridcolor": "white",
            "linecolor": "white",
            "ticks": ""
           },
           "baxis": {
            "gridcolor": "white",
            "linecolor": "white",
            "ticks": ""
           },
           "bgcolor": "#E5ECF6",
           "caxis": {
            "gridcolor": "white",
            "linecolor": "white",
            "ticks": ""
           }
          },
          "title": {
           "x": 0.05
          },
          "xaxis": {
           "automargin": true,
           "gridcolor": "white",
           "linecolor": "white",
           "ticks": "",
           "title": {
            "standoff": 15
           },
           "zerolinecolor": "white",
           "zerolinewidth": 2
          },
          "yaxis": {
           "automargin": true,
           "gridcolor": "white",
           "linecolor": "white",
           "ticks": "",
           "title": {
            "standoff": 15
           },
           "zerolinecolor": "white",
           "zerolinewidth": 2
          }
         }
        },
        "xaxis": {
         "anchor": "y",
         "domain": [
          0,
          1
         ],
         "title": {
          "text": "User Score"
         }
        },
        "yaxis": {
         "anchor": "x",
         "domain": [
          0,
          1
         ],
         "title": {
          "text": "Total Sales"
         }
        }
       }
      }
     },
     "metadata": {},
     "output_type": "display_data"
    },
    {
     "name": "stdout",
     "output_type": "stream",
     "text": [
      "La correlación de user score y sales score es de 0.0881791198757913\n"
     ]
    }
   ],
   "source": [
    "# Reviews y ventas. \n",
    "user_critics_df = df.groupby(by='user_score')[\"total_sales\"].sum().reset_index()\n",
    "fig7 = px.scatter(user_critics_df,x=\"user_score\",y='total_sales')\n",
    "fig7.update_layout(xaxis_title='User Score', yaxis_title='Total Sales')\n",
    "fig7.show()\n",
    "corr2= df['user_score'].corr(df[\"total_sales\"])\n",
    "print(f'La correlación de user score y sales score es de {corr2}')"
   ]
  },
  {
   "cell_type": "markdown",
   "metadata": {},
   "source": [
    "The result is similar, we have a light positive correlation between the user score and the total sales.\n",
    "\n",
    "Could it be possible that scores up to 8 are biased by bought critics? Let's check it"
   ]
  },
  {
   "cell_type": "code",
   "execution_count": 91,
   "metadata": {},
   "outputs": [
    {
     "name": "stdout",
     "output_type": "stream",
     "text": [
      "La correlación del testeo es 0.07014099293272845\n"
     ]
    }
   ],
   "source": [
    "sample = df[df[\"user_score\"]<8]\n",
    "corr3 = sample['user_score'].corr(sample[\"total_sales\"])\n",
    "\n",
    "print(f'La correlación del testeo es {corr3}')"
   ]
  },
  {
   "cell_type": "markdown",
   "metadata": {},
   "source": [
    "No, it looks there is no real correlation between sales and critics"
   ]
  },
  {
   "cell_type": "markdown",
   "metadata": {},
   "source": [
    "### 3.6 Top 10 games released in different platforms"
   ]
  },
  {
   "cell_type": "code",
   "execution_count": 92,
   "metadata": {},
   "outputs": [
    {
     "data": {
      "application/vnd.plotly.v1+json": {
       "config": {
        "plotlyServerURL": "https://plot.ly"
       },
       "data": [
        {
         "alignmentgroup": "True",
         "hovertemplate": "platform=NES<br>name=%{x}<br>total_sales=%{y}<extra></extra>",
         "legendgroup": "NES",
         "marker": {
          "color": "#636efa",
          "pattern": {
           "shape": ""
          }
         },
         "name": "NES",
         "offsetgroup": "NES",
         "orientation": "v",
         "showlegend": true,
         "textposition": "auto",
         "type": "bar",
         "x": [
          "Super Mario Bros.",
          "Super Mario Bros. 3",
          "Tetris"
         ],
         "xaxis": "x",
         "y": [
          40.24,
          17.28,
          5.580000000000001
         ],
         "yaxis": "y"
        },
        {
         "alignmentgroup": "True",
         "hovertemplate": "platform=GB<br>name=%{x}<br>total_sales=%{y}<extra></extra>",
         "legendgroup": "GB",
         "marker": {
          "color": "#EF553B",
          "pattern": {
           "shape": ""
          }
         },
         "name": "GB",
         "offsetgroup": "GB",
         "orientation": "v",
         "showlegend": true,
         "textposition": "auto",
         "type": "bar",
         "x": [
          "Tetris",
          "Super Mario Bros."
         ],
         "xaxis": "x",
         "y": [
          30.259999999999998,
          5.07
         ],
         "yaxis": "y"
        },
        {
         "alignmentgroup": "True",
         "hovertemplate": "platform=PS3<br>name=%{x}<br>total_sales=%{y}<extra></extra>",
         "legendgroup": "PS3",
         "marker": {
          "color": "#00cc96",
          "pattern": {
           "shape": ""
          }
         },
         "name": "PS3",
         "offsetgroup": "PS3",
         "orientation": "v",
         "showlegend": true,
         "textposition": "auto",
         "type": "bar",
         "x": [
          "Grand Theft Auto V",
          "Call of Duty: Modern Warfare 3",
          "Call of Duty: Black Ops 3"
         ],
         "xaxis": "x",
         "y": [
          21.05,
          13.33,
          1.69
         ],
         "yaxis": "y"
        },
        {
         "alignmentgroup": "True",
         "hovertemplate": "platform=PS2<br>name=%{x}<br>total_sales=%{y}<extra></extra>",
         "legendgroup": "PS2",
         "marker": {
          "color": "#ab63fa",
          "pattern": {
           "shape": ""
          }
         },
         "name": "PS2",
         "offsetgroup": "PS2",
         "orientation": "v",
         "showlegend": true,
         "textposition": "auto",
         "type": "bar",
         "x": [
          "Grand Theft Auto: San Andreas",
          "Grand Theft Auto: Vice City"
         ],
         "xaxis": "x",
         "y": [
          20.810000000000002,
          16.150000000000002
         ],
         "yaxis": "y"
        },
        {
         "alignmentgroup": "True",
         "hovertemplate": "platform=SNES<br>name=%{x}<br>total_sales=%{y}<extra></extra>",
         "legendgroup": "SNES",
         "marker": {
          "color": "#FFA15A",
          "pattern": {
           "shape": ""
          }
         },
         "name": "SNES",
         "offsetgroup": "SNES",
         "orientation": "v",
         "showlegend": true,
         "textposition": "auto",
         "type": "bar",
         "x": [
          "Super Mario World"
         ],
         "xaxis": "x",
         "y": [
          20.62
         ],
         "yaxis": "y"
        },
        {
         "alignmentgroup": "True",
         "hovertemplate": "platform=X360<br>name=%{x}<br>total_sales=%{y}<extra></extra>",
         "legendgroup": "X360",
         "marker": {
          "color": "#19d3f3",
          "pattern": {
           "shape": ""
          }
         },
         "name": "X360",
         "offsetgroup": "X360",
         "orientation": "v",
         "showlegend": true,
         "textposition": "auto",
         "type": "bar",
         "x": [
          "Grand Theft Auto V",
          "Call of Duty: Modern Warfare 3",
          "Call of Duty: Black Ops 3",
          "Grand Theft Auto: San Andreas"
         ],
         "xaxis": "x",
         "y": [
          16.27,
          14.73,
          1.7,
          0.11
         ],
         "yaxis": "y"
        },
        {
         "alignmentgroup": "True",
         "hovertemplate": "platform=PS4<br>name=%{x}<br>total_sales=%{y}<extra></extra>",
         "legendgroup": "PS4",
         "marker": {
          "color": "#FF6692",
          "pattern": {
           "shape": ""
          }
         },
         "name": "PS4",
         "offsetgroup": "PS4",
         "orientation": "v",
         "showlegend": true,
         "textposition": "auto",
         "type": "bar",
         "x": [
          "Call of Duty: Black Ops 3",
          "Grand Theft Auto V"
         ],
         "xaxis": "x",
         "y": [
          14.629999999999999,
          12.620000000000001
         ],
         "yaxis": "y"
        },
        {
         "alignmentgroup": "True",
         "hovertemplate": "platform=XOne<br>name=%{x}<br>total_sales=%{y}<extra></extra>",
         "legendgroup": "XOne",
         "marker": {
          "color": "#B6E880",
          "pattern": {
           "shape": ""
          }
         },
         "name": "XOne",
         "offsetgroup": "XOne",
         "orientation": "v",
         "showlegend": true,
         "textposition": "auto",
         "type": "bar",
         "x": [
          "Call of Duty: Black Ops 3",
          "Grand Theft Auto V"
         ],
         "xaxis": "x",
         "y": [
          7.389999999999999,
          5.47
         ],
         "yaxis": "y"
        },
        {
         "alignmentgroup": "True",
         "hovertemplate": "platform=GBA<br>name=%{x}<br>total_sales=%{y}<extra></extra>",
         "legendgroup": "GBA",
         "marker": {
          "color": "#FF97FF",
          "pattern": {
           "shape": ""
          }
         },
         "name": "GBA",
         "offsetgroup": "GBA",
         "orientation": "v",
         "showlegend": true,
         "textposition": "auto",
         "type": "bar",
         "x": [
          "Super Mario World",
          "Super Mario Bros. 3"
         ],
         "xaxis": "x",
         "y": [
          5.470000000000001,
          5.21
         ],
         "yaxis": "y"
        },
        {
         "alignmentgroup": "True",
         "hovertemplate": "platform=XB<br>name=%{x}<br>total_sales=%{y}<extra></extra>",
         "legendgroup": "XB",
         "marker": {
          "color": "#FECB52",
          "pattern": {
           "shape": ""
          }
         },
         "name": "XB",
         "offsetgroup": "XB",
         "orientation": "v",
         "showlegend": true,
         "textposition": "auto",
         "type": "bar",
         "x": [
          "Grand Theft Auto: San Andreas"
         ],
         "xaxis": "x",
         "y": [
          1.9600000000000002
         ],
         "yaxis": "y"
        },
        {
         "alignmentgroup": "True",
         "hovertemplate": "platform=PC<br>name=%{x}<br>total_sales=%{y}<extra></extra>",
         "legendgroup": "PC",
         "marker": {
          "color": "#636efa",
          "pattern": {
           "shape": ""
          }
         },
         "name": "PC",
         "offsetgroup": "PC",
         "orientation": "v",
         "showlegend": true,
         "textposition": "auto",
         "type": "bar",
         "x": [
          "Call of Duty: Modern Warfare 3",
          "Grand Theft Auto V",
          "Grand Theft Auto: San Andreas",
          "Call of Duty: Black Ops 3",
          "Grand Theft Auto: Vice City"
         ],
         "xaxis": "x",
         "y": [
          1.71,
          1.1700000000000002,
          0.9700000000000001,
          0.26,
          0.04
         ],
         "yaxis": "y"
        },
        {
         "alignmentgroup": "True",
         "hovertemplate": "platform=Wii<br>name=%{x}<br>total_sales=%{y}<extra></extra>",
         "legendgroup": "Wii",
         "marker": {
          "color": "#EF553B",
          "pattern": {
           "shape": ""
          }
         },
         "name": "Wii",
         "offsetgroup": "Wii",
         "orientation": "v",
         "showlegend": true,
         "textposition": "auto",
         "type": "bar",
         "x": [
          "Call of Duty: Modern Warfare 3"
         ],
         "xaxis": "x",
         "y": [
          0.83
         ],
         "yaxis": "y"
        }
       ],
       "layout": {
        "barmode": "relative",
        "legend": {
         "title": {
          "text": "platform"
         },
         "tracegroupgap": 0
        },
        "template": {
         "data": {
          "bar": [
           {
            "error_x": {
             "color": "#2a3f5f"
            },
            "error_y": {
             "color": "#2a3f5f"
            },
            "marker": {
             "line": {
              "color": "#E5ECF6",
              "width": 0.5
             },
             "pattern": {
              "fillmode": "overlay",
              "size": 10,
              "solidity": 0.2
             }
            },
            "type": "bar"
           }
          ],
          "barpolar": [
           {
            "marker": {
             "line": {
              "color": "#E5ECF6",
              "width": 0.5
             },
             "pattern": {
              "fillmode": "overlay",
              "size": 10,
              "solidity": 0.2
             }
            },
            "type": "barpolar"
           }
          ],
          "carpet": [
           {
            "aaxis": {
             "endlinecolor": "#2a3f5f",
             "gridcolor": "white",
             "linecolor": "white",
             "minorgridcolor": "white",
             "startlinecolor": "#2a3f5f"
            },
            "baxis": {
             "endlinecolor": "#2a3f5f",
             "gridcolor": "white",
             "linecolor": "white",
             "minorgridcolor": "white",
             "startlinecolor": "#2a3f5f"
            },
            "type": "carpet"
           }
          ],
          "choropleth": [
           {
            "colorbar": {
             "outlinewidth": 0,
             "ticks": ""
            },
            "type": "choropleth"
           }
          ],
          "contour": [
           {
            "colorbar": {
             "outlinewidth": 0,
             "ticks": ""
            },
            "colorscale": [
             [
              0,
              "#0d0887"
             ],
             [
              0.1111111111111111,
              "#46039f"
             ],
             [
              0.2222222222222222,
              "#7201a8"
             ],
             [
              0.3333333333333333,
              "#9c179e"
             ],
             [
              0.4444444444444444,
              "#bd3786"
             ],
             [
              0.5555555555555556,
              "#d8576b"
             ],
             [
              0.6666666666666666,
              "#ed7953"
             ],
             [
              0.7777777777777778,
              "#fb9f3a"
             ],
             [
              0.8888888888888888,
              "#fdca26"
             ],
             [
              1,
              "#f0f921"
             ]
            ],
            "type": "contour"
           }
          ],
          "contourcarpet": [
           {
            "colorbar": {
             "outlinewidth": 0,
             "ticks": ""
            },
            "type": "contourcarpet"
           }
          ],
          "heatmap": [
           {
            "colorbar": {
             "outlinewidth": 0,
             "ticks": ""
            },
            "colorscale": [
             [
              0,
              "#0d0887"
             ],
             [
              0.1111111111111111,
              "#46039f"
             ],
             [
              0.2222222222222222,
              "#7201a8"
             ],
             [
              0.3333333333333333,
              "#9c179e"
             ],
             [
              0.4444444444444444,
              "#bd3786"
             ],
             [
              0.5555555555555556,
              "#d8576b"
             ],
             [
              0.6666666666666666,
              "#ed7953"
             ],
             [
              0.7777777777777778,
              "#fb9f3a"
             ],
             [
              0.8888888888888888,
              "#fdca26"
             ],
             [
              1,
              "#f0f921"
             ]
            ],
            "type": "heatmap"
           }
          ],
          "heatmapgl": [
           {
            "colorbar": {
             "outlinewidth": 0,
             "ticks": ""
            },
            "colorscale": [
             [
              0,
              "#0d0887"
             ],
             [
              0.1111111111111111,
              "#46039f"
             ],
             [
              0.2222222222222222,
              "#7201a8"
             ],
             [
              0.3333333333333333,
              "#9c179e"
             ],
             [
              0.4444444444444444,
              "#bd3786"
             ],
             [
              0.5555555555555556,
              "#d8576b"
             ],
             [
              0.6666666666666666,
              "#ed7953"
             ],
             [
              0.7777777777777778,
              "#fb9f3a"
             ],
             [
              0.8888888888888888,
              "#fdca26"
             ],
             [
              1,
              "#f0f921"
             ]
            ],
            "type": "heatmapgl"
           }
          ],
          "histogram": [
           {
            "marker": {
             "pattern": {
              "fillmode": "overlay",
              "size": 10,
              "solidity": 0.2
             }
            },
            "type": "histogram"
           }
          ],
          "histogram2d": [
           {
            "colorbar": {
             "outlinewidth": 0,
             "ticks": ""
            },
            "colorscale": [
             [
              0,
              "#0d0887"
             ],
             [
              0.1111111111111111,
              "#46039f"
             ],
             [
              0.2222222222222222,
              "#7201a8"
             ],
             [
              0.3333333333333333,
              "#9c179e"
             ],
             [
              0.4444444444444444,
              "#bd3786"
             ],
             [
              0.5555555555555556,
              "#d8576b"
             ],
             [
              0.6666666666666666,
              "#ed7953"
             ],
             [
              0.7777777777777778,
              "#fb9f3a"
             ],
             [
              0.8888888888888888,
              "#fdca26"
             ],
             [
              1,
              "#f0f921"
             ]
            ],
            "type": "histogram2d"
           }
          ],
          "histogram2dcontour": [
           {
            "colorbar": {
             "outlinewidth": 0,
             "ticks": ""
            },
            "colorscale": [
             [
              0,
              "#0d0887"
             ],
             [
              0.1111111111111111,
              "#46039f"
             ],
             [
              0.2222222222222222,
              "#7201a8"
             ],
             [
              0.3333333333333333,
              "#9c179e"
             ],
             [
              0.4444444444444444,
              "#bd3786"
             ],
             [
              0.5555555555555556,
              "#d8576b"
             ],
             [
              0.6666666666666666,
              "#ed7953"
             ],
             [
              0.7777777777777778,
              "#fb9f3a"
             ],
             [
              0.8888888888888888,
              "#fdca26"
             ],
             [
              1,
              "#f0f921"
             ]
            ],
            "type": "histogram2dcontour"
           }
          ],
          "mesh3d": [
           {
            "colorbar": {
             "outlinewidth": 0,
             "ticks": ""
            },
            "type": "mesh3d"
           }
          ],
          "parcoords": [
           {
            "line": {
             "colorbar": {
              "outlinewidth": 0,
              "ticks": ""
             }
            },
            "type": "parcoords"
           }
          ],
          "pie": [
           {
            "automargin": true,
            "type": "pie"
           }
          ],
          "scatter": [
           {
            "fillpattern": {
             "fillmode": "overlay",
             "size": 10,
             "solidity": 0.2
            },
            "type": "scatter"
           }
          ],
          "scatter3d": [
           {
            "line": {
             "colorbar": {
              "outlinewidth": 0,
              "ticks": ""
             }
            },
            "marker": {
             "colorbar": {
              "outlinewidth": 0,
              "ticks": ""
             }
            },
            "type": "scatter3d"
           }
          ],
          "scattercarpet": [
           {
            "marker": {
             "colorbar": {
              "outlinewidth": 0,
              "ticks": ""
             }
            },
            "type": "scattercarpet"
           }
          ],
          "scattergeo": [
           {
            "marker": {
             "colorbar": {
              "outlinewidth": 0,
              "ticks": ""
             }
            },
            "type": "scattergeo"
           }
          ],
          "scattergl": [
           {
            "marker": {
             "colorbar": {
              "outlinewidth": 0,
              "ticks": ""
             }
            },
            "type": "scattergl"
           }
          ],
          "scattermapbox": [
           {
            "marker": {
             "colorbar": {
              "outlinewidth": 0,
              "ticks": ""
             }
            },
            "type": "scattermapbox"
           }
          ],
          "scatterpolar": [
           {
            "marker": {
             "colorbar": {
              "outlinewidth": 0,
              "ticks": ""
             }
            },
            "type": "scatterpolar"
           }
          ],
          "scatterpolargl": [
           {
            "marker": {
             "colorbar": {
              "outlinewidth": 0,
              "ticks": ""
             }
            },
            "type": "scatterpolargl"
           }
          ],
          "scatterternary": [
           {
            "marker": {
             "colorbar": {
              "outlinewidth": 0,
              "ticks": ""
             }
            },
            "type": "scatterternary"
           }
          ],
          "surface": [
           {
            "colorbar": {
             "outlinewidth": 0,
             "ticks": ""
            },
            "colorscale": [
             [
              0,
              "#0d0887"
             ],
             [
              0.1111111111111111,
              "#46039f"
             ],
             [
              0.2222222222222222,
              "#7201a8"
             ],
             [
              0.3333333333333333,
              "#9c179e"
             ],
             [
              0.4444444444444444,
              "#bd3786"
             ],
             [
              0.5555555555555556,
              "#d8576b"
             ],
             [
              0.6666666666666666,
              "#ed7953"
             ],
             [
              0.7777777777777778,
              "#fb9f3a"
             ],
             [
              0.8888888888888888,
              "#fdca26"
             ],
             [
              1,
              "#f0f921"
             ]
            ],
            "type": "surface"
           }
          ],
          "table": [
           {
            "cells": {
             "fill": {
              "color": "#EBF0F8"
             },
             "line": {
              "color": "white"
             }
            },
            "header": {
             "fill": {
              "color": "#C8D4E3"
             },
             "line": {
              "color": "white"
             }
            },
            "type": "table"
           }
          ]
         },
         "layout": {
          "annotationdefaults": {
           "arrowcolor": "#2a3f5f",
           "arrowhead": 0,
           "arrowwidth": 1
          },
          "autotypenumbers": "strict",
          "coloraxis": {
           "colorbar": {
            "outlinewidth": 0,
            "ticks": ""
           }
          },
          "colorscale": {
           "diverging": [
            [
             0,
             "#8e0152"
            ],
            [
             0.1,
             "#c51b7d"
            ],
            [
             0.2,
             "#de77ae"
            ],
            [
             0.3,
             "#f1b6da"
            ],
            [
             0.4,
             "#fde0ef"
            ],
            [
             0.5,
             "#f7f7f7"
            ],
            [
             0.6,
             "#e6f5d0"
            ],
            [
             0.7,
             "#b8e186"
            ],
            [
             0.8,
             "#7fbc41"
            ],
            [
             0.9,
             "#4d9221"
            ],
            [
             1,
             "#276419"
            ]
           ],
           "sequential": [
            [
             0,
             "#0d0887"
            ],
            [
             0.1111111111111111,
             "#46039f"
            ],
            [
             0.2222222222222222,
             "#7201a8"
            ],
            [
             0.3333333333333333,
             "#9c179e"
            ],
            [
             0.4444444444444444,
             "#bd3786"
            ],
            [
             0.5555555555555556,
             "#d8576b"
            ],
            [
             0.6666666666666666,
             "#ed7953"
            ],
            [
             0.7777777777777778,
             "#fb9f3a"
            ],
            [
             0.8888888888888888,
             "#fdca26"
            ],
            [
             1,
             "#f0f921"
            ]
           ],
           "sequentialminus": [
            [
             0,
             "#0d0887"
            ],
            [
             0.1111111111111111,
             "#46039f"
            ],
            [
             0.2222222222222222,
             "#7201a8"
            ],
            [
             0.3333333333333333,
             "#9c179e"
            ],
            [
             0.4444444444444444,
             "#bd3786"
            ],
            [
             0.5555555555555556,
             "#d8576b"
            ],
            [
             0.6666666666666666,
             "#ed7953"
            ],
            [
             0.7777777777777778,
             "#fb9f3a"
            ],
            [
             0.8888888888888888,
             "#fdca26"
            ],
            [
             1,
             "#f0f921"
            ]
           ]
          },
          "colorway": [
           "#636efa",
           "#EF553B",
           "#00cc96",
           "#ab63fa",
           "#FFA15A",
           "#19d3f3",
           "#FF6692",
           "#B6E880",
           "#FF97FF",
           "#FECB52"
          ],
          "font": {
           "color": "#2a3f5f"
          },
          "geo": {
           "bgcolor": "white",
           "lakecolor": "white",
           "landcolor": "#E5ECF6",
           "showlakes": true,
           "showland": true,
           "subunitcolor": "white"
          },
          "hoverlabel": {
           "align": "left"
          },
          "hovermode": "closest",
          "mapbox": {
           "style": "light"
          },
          "paper_bgcolor": "white",
          "plot_bgcolor": "#E5ECF6",
          "polar": {
           "angularaxis": {
            "gridcolor": "white",
            "linecolor": "white",
            "ticks": ""
           },
           "bgcolor": "#E5ECF6",
           "radialaxis": {
            "gridcolor": "white",
            "linecolor": "white",
            "ticks": ""
           }
          },
          "scene": {
           "xaxis": {
            "backgroundcolor": "#E5ECF6",
            "gridcolor": "white",
            "gridwidth": 2,
            "linecolor": "white",
            "showbackground": true,
            "ticks": "",
            "zerolinecolor": "white"
           },
           "yaxis": {
            "backgroundcolor": "#E5ECF6",
            "gridcolor": "white",
            "gridwidth": 2,
            "linecolor": "white",
            "showbackground": true,
            "ticks": "",
            "zerolinecolor": "white"
           },
           "zaxis": {
            "backgroundcolor": "#E5ECF6",
            "gridcolor": "white",
            "gridwidth": 2,
            "linecolor": "white",
            "showbackground": true,
            "ticks": "",
            "zerolinecolor": "white"
           }
          },
          "shapedefaults": {
           "line": {
            "color": "#2a3f5f"
           }
          },
          "ternary": {
           "aaxis": {
            "gridcolor": "white",
            "linecolor": "white",
            "ticks": ""
           },
           "baxis": {
            "gridcolor": "white",
            "linecolor": "white",
            "ticks": ""
           },
           "bgcolor": "#E5ECF6",
           "caxis": {
            "gridcolor": "white",
            "linecolor": "white",
            "ticks": ""
           }
          },
          "title": {
           "x": 0.05
          },
          "xaxis": {
           "automargin": true,
           "gridcolor": "white",
           "linecolor": "white",
           "ticks": "",
           "title": {
            "standoff": 15
           },
           "zerolinecolor": "white",
           "zerolinewidth": 2
          },
          "yaxis": {
           "automargin": true,
           "gridcolor": "white",
           "linecolor": "white",
           "ticks": "",
           "title": {
            "standoff": 15
           },
           "zerolinecolor": "white",
           "zerolinewidth": 2
          }
         }
        },
        "title": {
         "text": "Top 10 games in history"
        },
        "xaxis": {
         "anchor": "y",
         "domain": [
          0,
          1
         ],
         "title": {
          "text": "Game Name"
         }
        },
        "yaxis": {
         "anchor": "x",
         "domain": [
          0,
          1
         ],
         "title": {
          "text": "Total Sales (millions)"
         }
        }
       }
      }
     },
     "metadata": {},
     "output_type": "display_data"
    }
   ],
   "source": [
    "\n",
    "filtered_games = df.groupby(by=['name','platform'])['total_sales'].sum().reset_index()\n",
    "\n",
    "duplicated_games_list = df[df['name'].duplicated()].sort_values(by='total_sales', ascending=False)\n",
    "duplicated_games_list = duplicated_games_list['name'].values\n",
    "\n",
    "duplicated_games_df = df[df['name'].isin(duplicated_games_list)]\n",
    "duplicated_games_df = duplicated_games_df.sort_values(by='total_sales', ascending=False)\n",
    "\n",
    "top_10_games_dp = duplicated_games_df.head(10)\n",
    "top_10_games_dp_list = top_10_games_dp['name'].values\n",
    "top_10_games_dp_list\n",
    "\n",
    "games_different_platforms = df[df['name'].isin(top_10_games_dp_list)]\n",
    "\n",
    "\n",
    "games_different_platforms\n",
    "\n",
    "fig8 = px.bar(games_different_platforms, x='name', y='total_sales', color='platform', title='Top 10 games in history')\n",
    "fig8.update_layout(xaxis_title='Game Name', yaxis_title='Total Sales (millions)')\n",
    "fig8.show()\n"
   ]
  },
  {
   "cell_type": "markdown",
   "metadata": {},
   "source": [
    "- Mario bros has a lot of pressence\n",
    "- Tetris third party in the 1984 and 1989\n",
    "- Grand thef auto, most successful game in cross platform up to 2016\n",
    "- Grand Thef Auto Saga and Super Mario and Call of Duty."
   ]
  },
  {
   "cell_type": "markdown",
   "metadata": {},
   "source": [
    "### 3.7 Top Genres"
   ]
  },
  {
   "cell_type": "markdown",
   "metadata": {},
   "source": [
    "Write introduction"
   ]
  },
  {
   "cell_type": "code",
   "execution_count": 93,
   "metadata": {},
   "outputs": [
    {
     "data": {
      "text/html": [
       "<div>\n",
       "<style scoped>\n",
       "    .dataframe tbody tr th:only-of-type {\n",
       "        vertical-align: middle;\n",
       "    }\n",
       "\n",
       "    .dataframe tbody tr th {\n",
       "        vertical-align: top;\n",
       "    }\n",
       "\n",
       "    .dataframe thead th {\n",
       "        text-align: right;\n",
       "    }\n",
       "</style>\n",
       "<table border=\"1\" class=\"dataframe\">\n",
       "  <thead>\n",
       "    <tr style=\"text-align: right;\">\n",
       "      <th></th>\n",
       "      <th>genre</th>\n",
       "      <th>total_sales</th>\n",
       "    </tr>\n",
       "  </thead>\n",
       "  <tbody>\n",
       "    <tr>\n",
       "      <th>11</th>\n",
       "      <td>Strategy</td>\n",
       "      <td>174.23</td>\n",
       "    </tr>\n",
       "    <tr>\n",
       "      <th>1</th>\n",
       "      <td>Adventure</td>\n",
       "      <td>237.59</td>\n",
       "    </tr>\n",
       "    <tr>\n",
       "      <th>5</th>\n",
       "      <td>Puzzle</td>\n",
       "      <td>242.57</td>\n",
       "    </tr>\n",
       "    <tr>\n",
       "      <th>9</th>\n",
       "      <td>Simulation</td>\n",
       "      <td>389.94</td>\n",
       "    </tr>\n",
       "    <tr>\n",
       "      <th>2</th>\n",
       "      <td>Fighting</td>\n",
       "      <td>447.53</td>\n",
       "    </tr>\n",
       "    <tr>\n",
       "      <th>6</th>\n",
       "      <td>Racing</td>\n",
       "      <td>728.67</td>\n",
       "    </tr>\n",
       "    <tr>\n",
       "      <th>3</th>\n",
       "      <td>Misc</td>\n",
       "      <td>802.51</td>\n",
       "    </tr>\n",
       "    <tr>\n",
       "      <th>4</th>\n",
       "      <td>Platform</td>\n",
       "      <td>827.77</td>\n",
       "    </tr>\n",
       "    <tr>\n",
       "      <th>7</th>\n",
       "      <td>Role-Playing</td>\n",
       "      <td>934.56</td>\n",
       "    </tr>\n",
       "    <tr>\n",
       "      <th>8</th>\n",
       "      <td>Shooter</td>\n",
       "      <td>1052.45</td>\n",
       "    </tr>\n",
       "    <tr>\n",
       "      <th>10</th>\n",
       "      <td>Sports</td>\n",
       "      <td>1331.27</td>\n",
       "    </tr>\n",
       "    <tr>\n",
       "      <th>0</th>\n",
       "      <td>Action</td>\n",
       "      <td>1744.17</td>\n",
       "    </tr>\n",
       "  </tbody>\n",
       "</table>\n",
       "</div>"
      ],
      "text/plain": [
       "           genre  total_sales\n",
       "11      Strategy       174.23\n",
       "1      Adventure       237.59\n",
       "5         Puzzle       242.57\n",
       "9     Simulation       389.94\n",
       "2       Fighting       447.53\n",
       "6         Racing       728.67\n",
       "3           Misc       802.51\n",
       "4       Platform       827.77\n",
       "7   Role-Playing       934.56\n",
       "8        Shooter      1052.45\n",
       "10        Sports      1331.27\n",
       "0         Action      1744.17"
      ]
     },
     "execution_count": 93,
     "metadata": {},
     "output_type": "execute_result"
    }
   ],
   "source": [
    "genre_df =df.groupby(by='genre')['total_sales'].sum().reset_index()\n",
    "genre_df = genre_df.sort_values('total_sales', ascending=True)\n",
    "genre_df"
   ]
  },
  {
   "cell_type": "code",
   "execution_count": 94,
   "metadata": {},
   "outputs": [
    {
     "data": {
      "application/vnd.plotly.v1+json": {
       "config": {
        "plotlyServerURL": "https://plot.ly"
       },
       "data": [
        {
         "alignmentgroup": "True",
         "hovertemplate": "total_sales=%{x}<br>genre=%{y}<extra></extra>",
         "legendgroup": "",
         "marker": {
          "color": "#636efa",
          "pattern": {
           "shape": ""
          }
         },
         "name": "",
         "offsetgroup": "",
         "orientation": "h",
         "showlegend": false,
         "textposition": "auto",
         "type": "bar",
         "x": [
          174.23,
          237.59,
          242.57,
          389.94,
          447.53000000000003,
          728.67,
          802.51,
          827.77,
          934.5600000000001,
          1052.45,
          1331.27,
          1744.17
         ],
         "xaxis": "x",
         "y": [
          "Strategy",
          "Adventure",
          "Puzzle",
          "Simulation",
          "Fighting",
          "Racing",
          "Misc",
          "Platform",
          "Role-Playing",
          "Shooter",
          "Sports",
          "Action"
         ],
         "yaxis": "y"
        }
       ],
       "layout": {
        "barmode": "relative",
        "legend": {
         "tracegroupgap": 0
        },
        "template": {
         "data": {
          "bar": [
           {
            "error_x": {
             "color": "#2a3f5f"
            },
            "error_y": {
             "color": "#2a3f5f"
            },
            "marker": {
             "line": {
              "color": "#E5ECF6",
              "width": 0.5
             },
             "pattern": {
              "fillmode": "overlay",
              "size": 10,
              "solidity": 0.2
             }
            },
            "type": "bar"
           }
          ],
          "barpolar": [
           {
            "marker": {
             "line": {
              "color": "#E5ECF6",
              "width": 0.5
             },
             "pattern": {
              "fillmode": "overlay",
              "size": 10,
              "solidity": 0.2
             }
            },
            "type": "barpolar"
           }
          ],
          "carpet": [
           {
            "aaxis": {
             "endlinecolor": "#2a3f5f",
             "gridcolor": "white",
             "linecolor": "white",
             "minorgridcolor": "white",
             "startlinecolor": "#2a3f5f"
            },
            "baxis": {
             "endlinecolor": "#2a3f5f",
             "gridcolor": "white",
             "linecolor": "white",
             "minorgridcolor": "white",
             "startlinecolor": "#2a3f5f"
            },
            "type": "carpet"
           }
          ],
          "choropleth": [
           {
            "colorbar": {
             "outlinewidth": 0,
             "ticks": ""
            },
            "type": "choropleth"
           }
          ],
          "contour": [
           {
            "colorbar": {
             "outlinewidth": 0,
             "ticks": ""
            },
            "colorscale": [
             [
              0,
              "#0d0887"
             ],
             [
              0.1111111111111111,
              "#46039f"
             ],
             [
              0.2222222222222222,
              "#7201a8"
             ],
             [
              0.3333333333333333,
              "#9c179e"
             ],
             [
              0.4444444444444444,
              "#bd3786"
             ],
             [
              0.5555555555555556,
              "#d8576b"
             ],
             [
              0.6666666666666666,
              "#ed7953"
             ],
             [
              0.7777777777777778,
              "#fb9f3a"
             ],
             [
              0.8888888888888888,
              "#fdca26"
             ],
             [
              1,
              "#f0f921"
             ]
            ],
            "type": "contour"
           }
          ],
          "contourcarpet": [
           {
            "colorbar": {
             "outlinewidth": 0,
             "ticks": ""
            },
            "type": "contourcarpet"
           }
          ],
          "heatmap": [
           {
            "colorbar": {
             "outlinewidth": 0,
             "ticks": ""
            },
            "colorscale": [
             [
              0,
              "#0d0887"
             ],
             [
              0.1111111111111111,
              "#46039f"
             ],
             [
              0.2222222222222222,
              "#7201a8"
             ],
             [
              0.3333333333333333,
              "#9c179e"
             ],
             [
              0.4444444444444444,
              "#bd3786"
             ],
             [
              0.5555555555555556,
              "#d8576b"
             ],
             [
              0.6666666666666666,
              "#ed7953"
             ],
             [
              0.7777777777777778,
              "#fb9f3a"
             ],
             [
              0.8888888888888888,
              "#fdca26"
             ],
             [
              1,
              "#f0f921"
             ]
            ],
            "type": "heatmap"
           }
          ],
          "heatmapgl": [
           {
            "colorbar": {
             "outlinewidth": 0,
             "ticks": ""
            },
            "colorscale": [
             [
              0,
              "#0d0887"
             ],
             [
              0.1111111111111111,
              "#46039f"
             ],
             [
              0.2222222222222222,
              "#7201a8"
             ],
             [
              0.3333333333333333,
              "#9c179e"
             ],
             [
              0.4444444444444444,
              "#bd3786"
             ],
             [
              0.5555555555555556,
              "#d8576b"
             ],
             [
              0.6666666666666666,
              "#ed7953"
             ],
             [
              0.7777777777777778,
              "#fb9f3a"
             ],
             [
              0.8888888888888888,
              "#fdca26"
             ],
             [
              1,
              "#f0f921"
             ]
            ],
            "type": "heatmapgl"
           }
          ],
          "histogram": [
           {
            "marker": {
             "pattern": {
              "fillmode": "overlay",
              "size": 10,
              "solidity": 0.2
             }
            },
            "type": "histogram"
           }
          ],
          "histogram2d": [
           {
            "colorbar": {
             "outlinewidth": 0,
             "ticks": ""
            },
            "colorscale": [
             [
              0,
              "#0d0887"
             ],
             [
              0.1111111111111111,
              "#46039f"
             ],
             [
              0.2222222222222222,
              "#7201a8"
             ],
             [
              0.3333333333333333,
              "#9c179e"
             ],
             [
              0.4444444444444444,
              "#bd3786"
             ],
             [
              0.5555555555555556,
              "#d8576b"
             ],
             [
              0.6666666666666666,
              "#ed7953"
             ],
             [
              0.7777777777777778,
              "#fb9f3a"
             ],
             [
              0.8888888888888888,
              "#fdca26"
             ],
             [
              1,
              "#f0f921"
             ]
            ],
            "type": "histogram2d"
           }
          ],
          "histogram2dcontour": [
           {
            "colorbar": {
             "outlinewidth": 0,
             "ticks": ""
            },
            "colorscale": [
             [
              0,
              "#0d0887"
             ],
             [
              0.1111111111111111,
              "#46039f"
             ],
             [
              0.2222222222222222,
              "#7201a8"
             ],
             [
              0.3333333333333333,
              "#9c179e"
             ],
             [
              0.4444444444444444,
              "#bd3786"
             ],
             [
              0.5555555555555556,
              "#d8576b"
             ],
             [
              0.6666666666666666,
              "#ed7953"
             ],
             [
              0.7777777777777778,
              "#fb9f3a"
             ],
             [
              0.8888888888888888,
              "#fdca26"
             ],
             [
              1,
              "#f0f921"
             ]
            ],
            "type": "histogram2dcontour"
           }
          ],
          "mesh3d": [
           {
            "colorbar": {
             "outlinewidth": 0,
             "ticks": ""
            },
            "type": "mesh3d"
           }
          ],
          "parcoords": [
           {
            "line": {
             "colorbar": {
              "outlinewidth": 0,
              "ticks": ""
             }
            },
            "type": "parcoords"
           }
          ],
          "pie": [
           {
            "automargin": true,
            "type": "pie"
           }
          ],
          "scatter": [
           {
            "fillpattern": {
             "fillmode": "overlay",
             "size": 10,
             "solidity": 0.2
            },
            "type": "scatter"
           }
          ],
          "scatter3d": [
           {
            "line": {
             "colorbar": {
              "outlinewidth": 0,
              "ticks": ""
             }
            },
            "marker": {
             "colorbar": {
              "outlinewidth": 0,
              "ticks": ""
             }
            },
            "type": "scatter3d"
           }
          ],
          "scattercarpet": [
           {
            "marker": {
             "colorbar": {
              "outlinewidth": 0,
              "ticks": ""
             }
            },
            "type": "scattercarpet"
           }
          ],
          "scattergeo": [
           {
            "marker": {
             "colorbar": {
              "outlinewidth": 0,
              "ticks": ""
             }
            },
            "type": "scattergeo"
           }
          ],
          "scattergl": [
           {
            "marker": {
             "colorbar": {
              "outlinewidth": 0,
              "ticks": ""
             }
            },
            "type": "scattergl"
           }
          ],
          "scattermapbox": [
           {
            "marker": {
             "colorbar": {
              "outlinewidth": 0,
              "ticks": ""
             }
            },
            "type": "scattermapbox"
           }
          ],
          "scatterpolar": [
           {
            "marker": {
             "colorbar": {
              "outlinewidth": 0,
              "ticks": ""
             }
            },
            "type": "scatterpolar"
           }
          ],
          "scatterpolargl": [
           {
            "marker": {
             "colorbar": {
              "outlinewidth": 0,
              "ticks": ""
             }
            },
            "type": "scatterpolargl"
           }
          ],
          "scatterternary": [
           {
            "marker": {
             "colorbar": {
              "outlinewidth": 0,
              "ticks": ""
             }
            },
            "type": "scatterternary"
           }
          ],
          "surface": [
           {
            "colorbar": {
             "outlinewidth": 0,
             "ticks": ""
            },
            "colorscale": [
             [
              0,
              "#0d0887"
             ],
             [
              0.1111111111111111,
              "#46039f"
             ],
             [
              0.2222222222222222,
              "#7201a8"
             ],
             [
              0.3333333333333333,
              "#9c179e"
             ],
             [
              0.4444444444444444,
              "#bd3786"
             ],
             [
              0.5555555555555556,
              "#d8576b"
             ],
             [
              0.6666666666666666,
              "#ed7953"
             ],
             [
              0.7777777777777778,
              "#fb9f3a"
             ],
             [
              0.8888888888888888,
              "#fdca26"
             ],
             [
              1,
              "#f0f921"
             ]
            ],
            "type": "surface"
           }
          ],
          "table": [
           {
            "cells": {
             "fill": {
              "color": "#EBF0F8"
             },
             "line": {
              "color": "white"
             }
            },
            "header": {
             "fill": {
              "color": "#C8D4E3"
             },
             "line": {
              "color": "white"
             }
            },
            "type": "table"
           }
          ]
         },
         "layout": {
          "annotationdefaults": {
           "arrowcolor": "#2a3f5f",
           "arrowhead": 0,
           "arrowwidth": 1
          },
          "autotypenumbers": "strict",
          "coloraxis": {
           "colorbar": {
            "outlinewidth": 0,
            "ticks": ""
           }
          },
          "colorscale": {
           "diverging": [
            [
             0,
             "#8e0152"
            ],
            [
             0.1,
             "#c51b7d"
            ],
            [
             0.2,
             "#de77ae"
            ],
            [
             0.3,
             "#f1b6da"
            ],
            [
             0.4,
             "#fde0ef"
            ],
            [
             0.5,
             "#f7f7f7"
            ],
            [
             0.6,
             "#e6f5d0"
            ],
            [
             0.7,
             "#b8e186"
            ],
            [
             0.8,
             "#7fbc41"
            ],
            [
             0.9,
             "#4d9221"
            ],
            [
             1,
             "#276419"
            ]
           ],
           "sequential": [
            [
             0,
             "#0d0887"
            ],
            [
             0.1111111111111111,
             "#46039f"
            ],
            [
             0.2222222222222222,
             "#7201a8"
            ],
            [
             0.3333333333333333,
             "#9c179e"
            ],
            [
             0.4444444444444444,
             "#bd3786"
            ],
            [
             0.5555555555555556,
             "#d8576b"
            ],
            [
             0.6666666666666666,
             "#ed7953"
            ],
            [
             0.7777777777777778,
             "#fb9f3a"
            ],
            [
             0.8888888888888888,
             "#fdca26"
            ],
            [
             1,
             "#f0f921"
            ]
           ],
           "sequentialminus": [
            [
             0,
             "#0d0887"
            ],
            [
             0.1111111111111111,
             "#46039f"
            ],
            [
             0.2222222222222222,
             "#7201a8"
            ],
            [
             0.3333333333333333,
             "#9c179e"
            ],
            [
             0.4444444444444444,
             "#bd3786"
            ],
            [
             0.5555555555555556,
             "#d8576b"
            ],
            [
             0.6666666666666666,
             "#ed7953"
            ],
            [
             0.7777777777777778,
             "#fb9f3a"
            ],
            [
             0.8888888888888888,
             "#fdca26"
            ],
            [
             1,
             "#f0f921"
            ]
           ]
          },
          "colorway": [
           "#636efa",
           "#EF553B",
           "#00cc96",
           "#ab63fa",
           "#FFA15A",
           "#19d3f3",
           "#FF6692",
           "#B6E880",
           "#FF97FF",
           "#FECB52"
          ],
          "font": {
           "color": "#2a3f5f"
          },
          "geo": {
           "bgcolor": "white",
           "lakecolor": "white",
           "landcolor": "#E5ECF6",
           "showlakes": true,
           "showland": true,
           "subunitcolor": "white"
          },
          "hoverlabel": {
           "align": "left"
          },
          "hovermode": "closest",
          "mapbox": {
           "style": "light"
          },
          "paper_bgcolor": "white",
          "plot_bgcolor": "#E5ECF6",
          "polar": {
           "angularaxis": {
            "gridcolor": "white",
            "linecolor": "white",
            "ticks": ""
           },
           "bgcolor": "#E5ECF6",
           "radialaxis": {
            "gridcolor": "white",
            "linecolor": "white",
            "ticks": ""
           }
          },
          "scene": {
           "xaxis": {
            "backgroundcolor": "#E5ECF6",
            "gridcolor": "white",
            "gridwidth": 2,
            "linecolor": "white",
            "showbackground": true,
            "ticks": "",
            "zerolinecolor": "white"
           },
           "yaxis": {
            "backgroundcolor": "#E5ECF6",
            "gridcolor": "white",
            "gridwidth": 2,
            "linecolor": "white",
            "showbackground": true,
            "ticks": "",
            "zerolinecolor": "white"
           },
           "zaxis": {
            "backgroundcolor": "#E5ECF6",
            "gridcolor": "white",
            "gridwidth": 2,
            "linecolor": "white",
            "showbackground": true,
            "ticks": "",
            "zerolinecolor": "white"
           }
          },
          "shapedefaults": {
           "line": {
            "color": "#2a3f5f"
           }
          },
          "ternary": {
           "aaxis": {
            "gridcolor": "white",
            "linecolor": "white",
            "ticks": ""
           },
           "baxis": {
            "gridcolor": "white",
            "linecolor": "white",
            "ticks": ""
           },
           "bgcolor": "#E5ECF6",
           "caxis": {
            "gridcolor": "white",
            "linecolor": "white",
            "ticks": ""
           }
          },
          "title": {
           "x": 0.05
          },
          "xaxis": {
           "automargin": true,
           "gridcolor": "white",
           "linecolor": "white",
           "ticks": "",
           "title": {
            "standoff": 15
           },
           "zerolinecolor": "white",
           "zerolinewidth": 2
          },
          "yaxis": {
           "automargin": true,
           "gridcolor": "white",
           "linecolor": "white",
           "ticks": "",
           "title": {
            "standoff": 15
           },
           "zerolinecolor": "white",
           "zerolinewidth": 2
          }
         }
        },
        "title": {
         "text": "Top Videogames Genres (Global)"
        },
        "xaxis": {
         "anchor": "y",
         "domain": [
          0,
          1
         ],
         "title": {
          "text": "Total Sales"
         }
        },
        "yaxis": {
         "anchor": "x",
         "domain": [
          0,
          1
         ],
         "title": {
          "text": "Genres"
         }
        }
       }
      }
     },
     "metadata": {},
     "output_type": "display_data"
    }
   ],
   "source": [
    "fig9 = px.bar(genre_df, x='total_sales',y='genre', title='Top Videogames Genres (Global)')\n",
    "fig9.update_layout(xaxis_title='Total Sales', yaxis_title='Genres')\n",
    "fig9.show()"
   ]
  },
  {
   "cell_type": "markdown",
   "metadata": {},
   "source": [
    "Action the most sold genre\n",
    "Sport the second most sold genre\n",
    "Less sold is Strategy\n"
   ]
  },
  {
   "cell_type": "markdown",
   "metadata": {},
   "source": [
    "# Step 4 Profiles by Region"
   ]
  },
  {
   "cell_type": "markdown",
   "metadata": {},
   "source": [
    "### Top 5 platforms by region"
   ]
  },
  {
   "cell_type": "code",
   "execution_count": 95,
   "metadata": {},
   "outputs": [],
   "source": [
    "regions = ['na_sales', 'eu_sales' ,'jp_sales']\n",
    "platforms_df = df.groupby(by='platform')[regions].sum().reset_index()\n",
    "platforms_na = platforms_df.sort_values(by='na_sales', ascending=False).head(5)\n",
    "platforms_eu = platforms_df.sort_values(by='eu_sales', ascending=False).head(5)\n",
    "platforms_jp = platforms_df.sort_values(by='jp_sales', ascending=False).head(5)\n"
   ]
  },
  {
   "cell_type": "code",
   "execution_count": 96,
   "metadata": {},
   "outputs": [
    {
     "data": {
      "application/vnd.plotly.v1+json": {
       "config": {
        "plotlyServerURL": "https://plot.ly"
       },
       "data": [
        {
         "alignmentgroup": "True",
         "hovertemplate": "platform=%{x}<br>na_sales=%{y}<extra></extra>",
         "legendgroup": "",
         "marker": {
          "color": "#636efa",
          "pattern": {
           "shape": ""
          }
         },
         "name": "",
         "offsetgroup": "",
         "orientation": "v",
         "showlegend": false,
         "textposition": "auto",
         "type": "bar",
         "x": [
          "X360",
          "PS2",
          "Wii",
          "PS3",
          "DS"
         ],
         "xaxis": "x",
         "y": [
          602.4399999999999,
          583.84,
          496.9,
          393.49,
          382.4
         ],
         "yaxis": "y"
        },
        {
         "alignmentgroup": "True",
         "hovertemplate": "platform=%{x}<br>eu_sales=%{y}<extra></extra>",
         "legendgroup": "",
         "marker": {
          "color": "#636efa",
          "pattern": {
           "shape": ""
          }
         },
         "name": "",
         "offsetgroup": "",
         "orientation": "v",
         "showlegend": false,
         "textposition": "auto",
         "type": "bar",
         "x": [
          "PS2",
          "PS3",
          "X360",
          "Wii",
          "PS"
         ],
         "xaxis": "x2",
         "y": [
          339.29,
          330.29,
          270.76,
          262.21,
          213.61
         ],
         "yaxis": "y2"
        },
        {
         "alignmentgroup": "True",
         "hovertemplate": "platform=%{x}<br>jp_sales=%{y}<extra></extra>",
         "legendgroup": "",
         "marker": {
          "color": "#636efa",
          "pattern": {
           "shape": ""
          }
         },
         "name": "",
         "offsetgroup": "",
         "orientation": "v",
         "showlegend": false,
         "textposition": "auto",
         "type": "bar",
         "x": [
          "DS",
          "PS",
          "PS2",
          "SNES",
          "3DS"
         ],
         "xaxis": "x3",
         "y": [
          175.57,
          139.82,
          139.2,
          116.55,
          100.67
         ],
         "yaxis": "y3"
        }
       ],
       "layout": {
        "annotations": [
         {
          "font": {
           "size": 16
          },
          "showarrow": false,
          "text": "NA Sales",
          "x": 0.14444444444444446,
          "xanchor": "center",
          "xref": "paper",
          "y": 1,
          "yanchor": "bottom",
          "yref": "paper"
         },
         {
          "font": {
           "size": 16
          },
          "showarrow": false,
          "text": "EU Sales",
          "x": 0.5,
          "xanchor": "center",
          "xref": "paper",
          "y": 1,
          "yanchor": "bottom",
          "yref": "paper"
         },
         {
          "font": {
           "size": 16
          },
          "showarrow": false,
          "text": "JP Sales",
          "x": 0.8555555555555556,
          "xanchor": "center",
          "xref": "paper",
          "y": 1,
          "yanchor": "bottom",
          "yref": "paper"
         }
        ],
        "template": {
         "data": {
          "bar": [
           {
            "error_x": {
             "color": "#2a3f5f"
            },
            "error_y": {
             "color": "#2a3f5f"
            },
            "marker": {
             "line": {
              "color": "#E5ECF6",
              "width": 0.5
             },
             "pattern": {
              "fillmode": "overlay",
              "size": 10,
              "solidity": 0.2
             }
            },
            "type": "bar"
           }
          ],
          "barpolar": [
           {
            "marker": {
             "line": {
              "color": "#E5ECF6",
              "width": 0.5
             },
             "pattern": {
              "fillmode": "overlay",
              "size": 10,
              "solidity": 0.2
             }
            },
            "type": "barpolar"
           }
          ],
          "carpet": [
           {
            "aaxis": {
             "endlinecolor": "#2a3f5f",
             "gridcolor": "white",
             "linecolor": "white",
             "minorgridcolor": "white",
             "startlinecolor": "#2a3f5f"
            },
            "baxis": {
             "endlinecolor": "#2a3f5f",
             "gridcolor": "white",
             "linecolor": "white",
             "minorgridcolor": "white",
             "startlinecolor": "#2a3f5f"
            },
            "type": "carpet"
           }
          ],
          "choropleth": [
           {
            "colorbar": {
             "outlinewidth": 0,
             "ticks": ""
            },
            "type": "choropleth"
           }
          ],
          "contour": [
           {
            "colorbar": {
             "outlinewidth": 0,
             "ticks": ""
            },
            "colorscale": [
             [
              0,
              "#0d0887"
             ],
             [
              0.1111111111111111,
              "#46039f"
             ],
             [
              0.2222222222222222,
              "#7201a8"
             ],
             [
              0.3333333333333333,
              "#9c179e"
             ],
             [
              0.4444444444444444,
              "#bd3786"
             ],
             [
              0.5555555555555556,
              "#d8576b"
             ],
             [
              0.6666666666666666,
              "#ed7953"
             ],
             [
              0.7777777777777778,
              "#fb9f3a"
             ],
             [
              0.8888888888888888,
              "#fdca26"
             ],
             [
              1,
              "#f0f921"
             ]
            ],
            "type": "contour"
           }
          ],
          "contourcarpet": [
           {
            "colorbar": {
             "outlinewidth": 0,
             "ticks": ""
            },
            "type": "contourcarpet"
           }
          ],
          "heatmap": [
           {
            "colorbar": {
             "outlinewidth": 0,
             "ticks": ""
            },
            "colorscale": [
             [
              0,
              "#0d0887"
             ],
             [
              0.1111111111111111,
              "#46039f"
             ],
             [
              0.2222222222222222,
              "#7201a8"
             ],
             [
              0.3333333333333333,
              "#9c179e"
             ],
             [
              0.4444444444444444,
              "#bd3786"
             ],
             [
              0.5555555555555556,
              "#d8576b"
             ],
             [
              0.6666666666666666,
              "#ed7953"
             ],
             [
              0.7777777777777778,
              "#fb9f3a"
             ],
             [
              0.8888888888888888,
              "#fdca26"
             ],
             [
              1,
              "#f0f921"
             ]
            ],
            "type": "heatmap"
           }
          ],
          "heatmapgl": [
           {
            "colorbar": {
             "outlinewidth": 0,
             "ticks": ""
            },
            "colorscale": [
             [
              0,
              "#0d0887"
             ],
             [
              0.1111111111111111,
              "#46039f"
             ],
             [
              0.2222222222222222,
              "#7201a8"
             ],
             [
              0.3333333333333333,
              "#9c179e"
             ],
             [
              0.4444444444444444,
              "#bd3786"
             ],
             [
              0.5555555555555556,
              "#d8576b"
             ],
             [
              0.6666666666666666,
              "#ed7953"
             ],
             [
              0.7777777777777778,
              "#fb9f3a"
             ],
             [
              0.8888888888888888,
              "#fdca26"
             ],
             [
              1,
              "#f0f921"
             ]
            ],
            "type": "heatmapgl"
           }
          ],
          "histogram": [
           {
            "marker": {
             "pattern": {
              "fillmode": "overlay",
              "size": 10,
              "solidity": 0.2
             }
            },
            "type": "histogram"
           }
          ],
          "histogram2d": [
           {
            "colorbar": {
             "outlinewidth": 0,
             "ticks": ""
            },
            "colorscale": [
             [
              0,
              "#0d0887"
             ],
             [
              0.1111111111111111,
              "#46039f"
             ],
             [
              0.2222222222222222,
              "#7201a8"
             ],
             [
              0.3333333333333333,
              "#9c179e"
             ],
             [
              0.4444444444444444,
              "#bd3786"
             ],
             [
              0.5555555555555556,
              "#d8576b"
             ],
             [
              0.6666666666666666,
              "#ed7953"
             ],
             [
              0.7777777777777778,
              "#fb9f3a"
             ],
             [
              0.8888888888888888,
              "#fdca26"
             ],
             [
              1,
              "#f0f921"
             ]
            ],
            "type": "histogram2d"
           }
          ],
          "histogram2dcontour": [
           {
            "colorbar": {
             "outlinewidth": 0,
             "ticks": ""
            },
            "colorscale": [
             [
              0,
              "#0d0887"
             ],
             [
              0.1111111111111111,
              "#46039f"
             ],
             [
              0.2222222222222222,
              "#7201a8"
             ],
             [
              0.3333333333333333,
              "#9c179e"
             ],
             [
              0.4444444444444444,
              "#bd3786"
             ],
             [
              0.5555555555555556,
              "#d8576b"
             ],
             [
              0.6666666666666666,
              "#ed7953"
             ],
             [
              0.7777777777777778,
              "#fb9f3a"
             ],
             [
              0.8888888888888888,
              "#fdca26"
             ],
             [
              1,
              "#f0f921"
             ]
            ],
            "type": "histogram2dcontour"
           }
          ],
          "mesh3d": [
           {
            "colorbar": {
             "outlinewidth": 0,
             "ticks": ""
            },
            "type": "mesh3d"
           }
          ],
          "parcoords": [
           {
            "line": {
             "colorbar": {
              "outlinewidth": 0,
              "ticks": ""
             }
            },
            "type": "parcoords"
           }
          ],
          "pie": [
           {
            "automargin": true,
            "type": "pie"
           }
          ],
          "scatter": [
           {
            "fillpattern": {
             "fillmode": "overlay",
             "size": 10,
             "solidity": 0.2
            },
            "type": "scatter"
           }
          ],
          "scatter3d": [
           {
            "line": {
             "colorbar": {
              "outlinewidth": 0,
              "ticks": ""
             }
            },
            "marker": {
             "colorbar": {
              "outlinewidth": 0,
              "ticks": ""
             }
            },
            "type": "scatter3d"
           }
          ],
          "scattercarpet": [
           {
            "marker": {
             "colorbar": {
              "outlinewidth": 0,
              "ticks": ""
             }
            },
            "type": "scattercarpet"
           }
          ],
          "scattergeo": [
           {
            "marker": {
             "colorbar": {
              "outlinewidth": 0,
              "ticks": ""
             }
            },
            "type": "scattergeo"
           }
          ],
          "scattergl": [
           {
            "marker": {
             "colorbar": {
              "outlinewidth": 0,
              "ticks": ""
             }
            },
            "type": "scattergl"
           }
          ],
          "scattermapbox": [
           {
            "marker": {
             "colorbar": {
              "outlinewidth": 0,
              "ticks": ""
             }
            },
            "type": "scattermapbox"
           }
          ],
          "scatterpolar": [
           {
            "marker": {
             "colorbar": {
              "outlinewidth": 0,
              "ticks": ""
             }
            },
            "type": "scatterpolar"
           }
          ],
          "scatterpolargl": [
           {
            "marker": {
             "colorbar": {
              "outlinewidth": 0,
              "ticks": ""
             }
            },
            "type": "scatterpolargl"
           }
          ],
          "scatterternary": [
           {
            "marker": {
             "colorbar": {
              "outlinewidth": 0,
              "ticks": ""
             }
            },
            "type": "scatterternary"
           }
          ],
          "surface": [
           {
            "colorbar": {
             "outlinewidth": 0,
             "ticks": ""
            },
            "colorscale": [
             [
              0,
              "#0d0887"
             ],
             [
              0.1111111111111111,
              "#46039f"
             ],
             [
              0.2222222222222222,
              "#7201a8"
             ],
             [
              0.3333333333333333,
              "#9c179e"
             ],
             [
              0.4444444444444444,
              "#bd3786"
             ],
             [
              0.5555555555555556,
              "#d8576b"
             ],
             [
              0.6666666666666666,
              "#ed7953"
             ],
             [
              0.7777777777777778,
              "#fb9f3a"
             ],
             [
              0.8888888888888888,
              "#fdca26"
             ],
             [
              1,
              "#f0f921"
             ]
            ],
            "type": "surface"
           }
          ],
          "table": [
           {
            "cells": {
             "fill": {
              "color": "#EBF0F8"
             },
             "line": {
              "color": "white"
             }
            },
            "header": {
             "fill": {
              "color": "#C8D4E3"
             },
             "line": {
              "color": "white"
             }
            },
            "type": "table"
           }
          ]
         },
         "layout": {
          "annotationdefaults": {
           "arrowcolor": "#2a3f5f",
           "arrowhead": 0,
           "arrowwidth": 1
          },
          "autotypenumbers": "strict",
          "coloraxis": {
           "colorbar": {
            "outlinewidth": 0,
            "ticks": ""
           }
          },
          "colorscale": {
           "diverging": [
            [
             0,
             "#8e0152"
            ],
            [
             0.1,
             "#c51b7d"
            ],
            [
             0.2,
             "#de77ae"
            ],
            [
             0.3,
             "#f1b6da"
            ],
            [
             0.4,
             "#fde0ef"
            ],
            [
             0.5,
             "#f7f7f7"
            ],
            [
             0.6,
             "#e6f5d0"
            ],
            [
             0.7,
             "#b8e186"
            ],
            [
             0.8,
             "#7fbc41"
            ],
            [
             0.9,
             "#4d9221"
            ],
            [
             1,
             "#276419"
            ]
           ],
           "sequential": [
            [
             0,
             "#0d0887"
            ],
            [
             0.1111111111111111,
             "#46039f"
            ],
            [
             0.2222222222222222,
             "#7201a8"
            ],
            [
             0.3333333333333333,
             "#9c179e"
            ],
            [
             0.4444444444444444,
             "#bd3786"
            ],
            [
             0.5555555555555556,
             "#d8576b"
            ],
            [
             0.6666666666666666,
             "#ed7953"
            ],
            [
             0.7777777777777778,
             "#fb9f3a"
            ],
            [
             0.8888888888888888,
             "#fdca26"
            ],
            [
             1,
             "#f0f921"
            ]
           ],
           "sequentialminus": [
            [
             0,
             "#0d0887"
            ],
            [
             0.1111111111111111,
             "#46039f"
            ],
            [
             0.2222222222222222,
             "#7201a8"
            ],
            [
             0.3333333333333333,
             "#9c179e"
            ],
            [
             0.4444444444444444,
             "#bd3786"
            ],
            [
             0.5555555555555556,
             "#d8576b"
            ],
            [
             0.6666666666666666,
             "#ed7953"
            ],
            [
             0.7777777777777778,
             "#fb9f3a"
            ],
            [
             0.8888888888888888,
             "#fdca26"
            ],
            [
             1,
             "#f0f921"
            ]
           ]
          },
          "colorway": [
           "#636efa",
           "#EF553B",
           "#00cc96",
           "#ab63fa",
           "#FFA15A",
           "#19d3f3",
           "#FF6692",
           "#B6E880",
           "#FF97FF",
           "#FECB52"
          ],
          "font": {
           "color": "#2a3f5f"
          },
          "geo": {
           "bgcolor": "white",
           "lakecolor": "white",
           "landcolor": "#E5ECF6",
           "showlakes": true,
           "showland": true,
           "subunitcolor": "white"
          },
          "hoverlabel": {
           "align": "left"
          },
          "hovermode": "closest",
          "mapbox": {
           "style": "light"
          },
          "paper_bgcolor": "white",
          "plot_bgcolor": "#E5ECF6",
          "polar": {
           "angularaxis": {
            "gridcolor": "white",
            "linecolor": "white",
            "ticks": ""
           },
           "bgcolor": "#E5ECF6",
           "radialaxis": {
            "gridcolor": "white",
            "linecolor": "white",
            "ticks": ""
           }
          },
          "scene": {
           "xaxis": {
            "backgroundcolor": "#E5ECF6",
            "gridcolor": "white",
            "gridwidth": 2,
            "linecolor": "white",
            "showbackground": true,
            "ticks": "",
            "zerolinecolor": "white"
           },
           "yaxis": {
            "backgroundcolor": "#E5ECF6",
            "gridcolor": "white",
            "gridwidth": 2,
            "linecolor": "white",
            "showbackground": true,
            "ticks": "",
            "zerolinecolor": "white"
           },
           "zaxis": {
            "backgroundcolor": "#E5ECF6",
            "gridcolor": "white",
            "gridwidth": 2,
            "linecolor": "white",
            "showbackground": true,
            "ticks": "",
            "zerolinecolor": "white"
           }
          },
          "shapedefaults": {
           "line": {
            "color": "#2a3f5f"
           }
          },
          "ternary": {
           "aaxis": {
            "gridcolor": "white",
            "linecolor": "white",
            "ticks": ""
           },
           "baxis": {
            "gridcolor": "white",
            "linecolor": "white",
            "ticks": ""
           },
           "bgcolor": "#E5ECF6",
           "caxis": {
            "gridcolor": "white",
            "linecolor": "white",
            "ticks": ""
           }
          },
          "title": {
           "x": 0.05
          },
          "xaxis": {
           "automargin": true,
           "gridcolor": "white",
           "linecolor": "white",
           "ticks": "",
           "title": {
            "standoff": 15
           },
           "zerolinecolor": "white",
           "zerolinewidth": 2
          },
          "yaxis": {
           "automargin": true,
           "gridcolor": "white",
           "linecolor": "white",
           "ticks": "",
           "title": {
            "standoff": 15
           },
           "zerolinecolor": "white",
           "zerolinewidth": 2
          }
         }
        },
        "title": {
         "text": "Top 5 platforms"
        },
        "xaxis": {
         "anchor": "y",
         "domain": [
          0,
          0.2888888888888889
         ]
        },
        "xaxis2": {
         "anchor": "y2",
         "domain": [
          0.35555555555555557,
          0.6444444444444445
         ]
        },
        "xaxis3": {
         "anchor": "y3",
         "domain": [
          0.7111111111111111,
          1
         ]
        },
        "yaxis": {
         "anchor": "x",
         "domain": [
          0,
          1
         ]
        },
        "yaxis2": {
         "anchor": "x2",
         "domain": [
          0,
          1
         ]
        },
        "yaxis3": {
         "anchor": "x3",
         "domain": [
          0,
          1
         ]
        }
       }
      }
     },
     "metadata": {},
     "output_type": "display_data"
    }
   ],
   "source": [
    "from plotly.subplots import make_subplots\n",
    "\n",
    "fig10 = make_subplots(rows=1, cols=3, subplot_titles=['NA Sales', 'EU Sales', 'JP Sales'])\n",
    "\n",
    "fig10.add_trace(px.bar(platforms_na.head(5), x='platform', y='na_sales').data[0],row=1, col=1)\n",
    "fig10.add_trace(px.bar(platforms_eu.head(5), x='platform', y='eu_sales').data[0],row=1, col=2)\n",
    "fig10.add_trace(px.bar(platforms_jp.head(5), x='platform', y='jp_sales').data[0],row=1, col=3)\n",
    "\n",
    "fig10.update_layout(title_text='Top 5 platforms')\n",
    "fig10.show()"
   ]
  },
  {
   "cell_type": "markdown",
   "metadata": {},
   "source": [
    "We have a representation of the top 5 platforms for each market.It is import to highlight that each region has different preferences talking about consoles.\n",
    "As a brief, Xbox was created in United States, while Playstation and Nintendo consoles were created in Japan, it make sense when we analize it. The top console in sale games was Xbox360 while in Japan xbox is not part of the top 5 (being Nintendo the top console in this region). Europe is in the middle of this, and the data shows that Playstation y the favorite console for them, it looks that each company (Xbox, Nintendo, Playstation) has strategies to be positioned in each market.\n",
    "\n",
    "The only console who is part of the top 5 of all the markets is the PS2.\n"
   ]
  },
  {
   "cell_type": "code",
   "execution_count": 97,
   "metadata": {},
   "outputs": [
    {
     "data": {
      "application/vnd.plotly.v1+json": {
       "config": {
        "plotlyServerURL": "https://plot.ly"
       },
       "data": [
        {
         "alignmentgroup": "True",
         "hovertemplate": "variable=na_sales<br>platform=%{x}<br>value=%{y}<extra></extra>",
         "legendgroup": "na_sales",
         "marker": {
          "color": "#636efa",
          "pattern": {
           "shape": ""
          }
         },
         "name": "na_sales",
         "offsetgroup": "na_sales",
         "orientation": "v",
         "showlegend": true,
         "textposition": "auto",
         "type": "bar",
         "x": [
          "X360",
          "PS2",
          "Wii",
          "PS3",
          "DS"
         ],
         "xaxis": "x",
         "y": [
          602.4399999999999,
          583.84,
          496.9,
          393.49,
          382.4
         ],
         "yaxis": "y"
        },
        {
         "alignmentgroup": "True",
         "hovertemplate": "variable=eu_sales<br>platform=%{x}<br>value=%{y}<extra></extra>",
         "legendgroup": "eu_sales",
         "marker": {
          "color": "#EF553B",
          "pattern": {
           "shape": ""
          }
         },
         "name": "eu_sales",
         "offsetgroup": "eu_sales",
         "orientation": "v",
         "showlegend": true,
         "textposition": "auto",
         "type": "bar",
         "x": [
          "X360",
          "PS2",
          "Wii",
          "PS3",
          "DS"
         ],
         "xaxis": "x",
         "y": [
          270.76,
          339.29,
          262.21,
          330.29,
          188.89
         ],
         "yaxis": "y"
        },
        {
         "alignmentgroup": "True",
         "hovertemplate": "variable=jp_sales<br>platform=%{x}<br>value=%{y}<extra></extra>",
         "legendgroup": "jp_sales",
         "marker": {
          "color": "#00cc96",
          "pattern": {
           "shape": ""
          }
         },
         "name": "jp_sales",
         "offsetgroup": "jp_sales",
         "orientation": "v",
         "showlegend": true,
         "textposition": "auto",
         "type": "bar",
         "x": [
          "X360",
          "PS2",
          "Wii",
          "PS3",
          "DS"
         ],
         "xaxis": "x",
         "y": [
          12.43,
          139.2,
          69.33,
          80.19,
          175.57
         ],
         "yaxis": "y"
        }
       ],
       "layout": {
        "barmode": "group",
        "legend": {
         "title": {
          "text": "variable"
         },
         "tracegroupgap": 0
        },
        "margin": {
         "t": 60
        },
        "template": {
         "data": {
          "bar": [
           {
            "error_x": {
             "color": "#2a3f5f"
            },
            "error_y": {
             "color": "#2a3f5f"
            },
            "marker": {
             "line": {
              "color": "#E5ECF6",
              "width": 0.5
             },
             "pattern": {
              "fillmode": "overlay",
              "size": 10,
              "solidity": 0.2
             }
            },
            "type": "bar"
           }
          ],
          "barpolar": [
           {
            "marker": {
             "line": {
              "color": "#E5ECF6",
              "width": 0.5
             },
             "pattern": {
              "fillmode": "overlay",
              "size": 10,
              "solidity": 0.2
             }
            },
            "type": "barpolar"
           }
          ],
          "carpet": [
           {
            "aaxis": {
             "endlinecolor": "#2a3f5f",
             "gridcolor": "white",
             "linecolor": "white",
             "minorgridcolor": "white",
             "startlinecolor": "#2a3f5f"
            },
            "baxis": {
             "endlinecolor": "#2a3f5f",
             "gridcolor": "white",
             "linecolor": "white",
             "minorgridcolor": "white",
             "startlinecolor": "#2a3f5f"
            },
            "type": "carpet"
           }
          ],
          "choropleth": [
           {
            "colorbar": {
             "outlinewidth": 0,
             "ticks": ""
            },
            "type": "choropleth"
           }
          ],
          "contour": [
           {
            "colorbar": {
             "outlinewidth": 0,
             "ticks": ""
            },
            "colorscale": [
             [
              0,
              "#0d0887"
             ],
             [
              0.1111111111111111,
              "#46039f"
             ],
             [
              0.2222222222222222,
              "#7201a8"
             ],
             [
              0.3333333333333333,
              "#9c179e"
             ],
             [
              0.4444444444444444,
              "#bd3786"
             ],
             [
              0.5555555555555556,
              "#d8576b"
             ],
             [
              0.6666666666666666,
              "#ed7953"
             ],
             [
              0.7777777777777778,
              "#fb9f3a"
             ],
             [
              0.8888888888888888,
              "#fdca26"
             ],
             [
              1,
              "#f0f921"
             ]
            ],
            "type": "contour"
           }
          ],
          "contourcarpet": [
           {
            "colorbar": {
             "outlinewidth": 0,
             "ticks": ""
            },
            "type": "contourcarpet"
           }
          ],
          "heatmap": [
           {
            "colorbar": {
             "outlinewidth": 0,
             "ticks": ""
            },
            "colorscale": [
             [
              0,
              "#0d0887"
             ],
             [
              0.1111111111111111,
              "#46039f"
             ],
             [
              0.2222222222222222,
              "#7201a8"
             ],
             [
              0.3333333333333333,
              "#9c179e"
             ],
             [
              0.4444444444444444,
              "#bd3786"
             ],
             [
              0.5555555555555556,
              "#d8576b"
             ],
             [
              0.6666666666666666,
              "#ed7953"
             ],
             [
              0.7777777777777778,
              "#fb9f3a"
             ],
             [
              0.8888888888888888,
              "#fdca26"
             ],
             [
              1,
              "#f0f921"
             ]
            ],
            "type": "heatmap"
           }
          ],
          "heatmapgl": [
           {
            "colorbar": {
             "outlinewidth": 0,
             "ticks": ""
            },
            "colorscale": [
             [
              0,
              "#0d0887"
             ],
             [
              0.1111111111111111,
              "#46039f"
             ],
             [
              0.2222222222222222,
              "#7201a8"
             ],
             [
              0.3333333333333333,
              "#9c179e"
             ],
             [
              0.4444444444444444,
              "#bd3786"
             ],
             [
              0.5555555555555556,
              "#d8576b"
             ],
             [
              0.6666666666666666,
              "#ed7953"
             ],
             [
              0.7777777777777778,
              "#fb9f3a"
             ],
             [
              0.8888888888888888,
              "#fdca26"
             ],
             [
              1,
              "#f0f921"
             ]
            ],
            "type": "heatmapgl"
           }
          ],
          "histogram": [
           {
            "marker": {
             "pattern": {
              "fillmode": "overlay",
              "size": 10,
              "solidity": 0.2
             }
            },
            "type": "histogram"
           }
          ],
          "histogram2d": [
           {
            "colorbar": {
             "outlinewidth": 0,
             "ticks": ""
            },
            "colorscale": [
             [
              0,
              "#0d0887"
             ],
             [
              0.1111111111111111,
              "#46039f"
             ],
             [
              0.2222222222222222,
              "#7201a8"
             ],
             [
              0.3333333333333333,
              "#9c179e"
             ],
             [
              0.4444444444444444,
              "#bd3786"
             ],
             [
              0.5555555555555556,
              "#d8576b"
             ],
             [
              0.6666666666666666,
              "#ed7953"
             ],
             [
              0.7777777777777778,
              "#fb9f3a"
             ],
             [
              0.8888888888888888,
              "#fdca26"
             ],
             [
              1,
              "#f0f921"
             ]
            ],
            "type": "histogram2d"
           }
          ],
          "histogram2dcontour": [
           {
            "colorbar": {
             "outlinewidth": 0,
             "ticks": ""
            },
            "colorscale": [
             [
              0,
              "#0d0887"
             ],
             [
              0.1111111111111111,
              "#46039f"
             ],
             [
              0.2222222222222222,
              "#7201a8"
             ],
             [
              0.3333333333333333,
              "#9c179e"
             ],
             [
              0.4444444444444444,
              "#bd3786"
             ],
             [
              0.5555555555555556,
              "#d8576b"
             ],
             [
              0.6666666666666666,
              "#ed7953"
             ],
             [
              0.7777777777777778,
              "#fb9f3a"
             ],
             [
              0.8888888888888888,
              "#fdca26"
             ],
             [
              1,
              "#f0f921"
             ]
            ],
            "type": "histogram2dcontour"
           }
          ],
          "mesh3d": [
           {
            "colorbar": {
             "outlinewidth": 0,
             "ticks": ""
            },
            "type": "mesh3d"
           }
          ],
          "parcoords": [
           {
            "line": {
             "colorbar": {
              "outlinewidth": 0,
              "ticks": ""
             }
            },
            "type": "parcoords"
           }
          ],
          "pie": [
           {
            "automargin": true,
            "type": "pie"
           }
          ],
          "scatter": [
           {
            "fillpattern": {
             "fillmode": "overlay",
             "size": 10,
             "solidity": 0.2
            },
            "type": "scatter"
           }
          ],
          "scatter3d": [
           {
            "line": {
             "colorbar": {
              "outlinewidth": 0,
              "ticks": ""
             }
            },
            "marker": {
             "colorbar": {
              "outlinewidth": 0,
              "ticks": ""
             }
            },
            "type": "scatter3d"
           }
          ],
          "scattercarpet": [
           {
            "marker": {
             "colorbar": {
              "outlinewidth": 0,
              "ticks": ""
             }
            },
            "type": "scattercarpet"
           }
          ],
          "scattergeo": [
           {
            "marker": {
             "colorbar": {
              "outlinewidth": 0,
              "ticks": ""
             }
            },
            "type": "scattergeo"
           }
          ],
          "scattergl": [
           {
            "marker": {
             "colorbar": {
              "outlinewidth": 0,
              "ticks": ""
             }
            },
            "type": "scattergl"
           }
          ],
          "scattermapbox": [
           {
            "marker": {
             "colorbar": {
              "outlinewidth": 0,
              "ticks": ""
             }
            },
            "type": "scattermapbox"
           }
          ],
          "scatterpolar": [
           {
            "marker": {
             "colorbar": {
              "outlinewidth": 0,
              "ticks": ""
             }
            },
            "type": "scatterpolar"
           }
          ],
          "scatterpolargl": [
           {
            "marker": {
             "colorbar": {
              "outlinewidth": 0,
              "ticks": ""
             }
            },
            "type": "scatterpolargl"
           }
          ],
          "scatterternary": [
           {
            "marker": {
             "colorbar": {
              "outlinewidth": 0,
              "ticks": ""
             }
            },
            "type": "scatterternary"
           }
          ],
          "surface": [
           {
            "colorbar": {
             "outlinewidth": 0,
             "ticks": ""
            },
            "colorscale": [
             [
              0,
              "#0d0887"
             ],
             [
              0.1111111111111111,
              "#46039f"
             ],
             [
              0.2222222222222222,
              "#7201a8"
             ],
             [
              0.3333333333333333,
              "#9c179e"
             ],
             [
              0.4444444444444444,
              "#bd3786"
             ],
             [
              0.5555555555555556,
              "#d8576b"
             ],
             [
              0.6666666666666666,
              "#ed7953"
             ],
             [
              0.7777777777777778,
              "#fb9f3a"
             ],
             [
              0.8888888888888888,
              "#fdca26"
             ],
             [
              1,
              "#f0f921"
             ]
            ],
            "type": "surface"
           }
          ],
          "table": [
           {
            "cells": {
             "fill": {
              "color": "#EBF0F8"
             },
             "line": {
              "color": "white"
             }
            },
            "header": {
             "fill": {
              "color": "#C8D4E3"
             },
             "line": {
              "color": "white"
             }
            },
            "type": "table"
           }
          ]
         },
         "layout": {
          "annotationdefaults": {
           "arrowcolor": "#2a3f5f",
           "arrowhead": 0,
           "arrowwidth": 1
          },
          "autotypenumbers": "strict",
          "coloraxis": {
           "colorbar": {
            "outlinewidth": 0,
            "ticks": ""
           }
          },
          "colorscale": {
           "diverging": [
            [
             0,
             "#8e0152"
            ],
            [
             0.1,
             "#c51b7d"
            ],
            [
             0.2,
             "#de77ae"
            ],
            [
             0.3,
             "#f1b6da"
            ],
            [
             0.4,
             "#fde0ef"
            ],
            [
             0.5,
             "#f7f7f7"
            ],
            [
             0.6,
             "#e6f5d0"
            ],
            [
             0.7,
             "#b8e186"
            ],
            [
             0.8,
             "#7fbc41"
            ],
            [
             0.9,
             "#4d9221"
            ],
            [
             1,
             "#276419"
            ]
           ],
           "sequential": [
            [
             0,
             "#0d0887"
            ],
            [
             0.1111111111111111,
             "#46039f"
            ],
            [
             0.2222222222222222,
             "#7201a8"
            ],
            [
             0.3333333333333333,
             "#9c179e"
            ],
            [
             0.4444444444444444,
             "#bd3786"
            ],
            [
             0.5555555555555556,
             "#d8576b"
            ],
            [
             0.6666666666666666,
             "#ed7953"
            ],
            [
             0.7777777777777778,
             "#fb9f3a"
            ],
            [
             0.8888888888888888,
             "#fdca26"
            ],
            [
             1,
             "#f0f921"
            ]
           ],
           "sequentialminus": [
            [
             0,
             "#0d0887"
            ],
            [
             0.1111111111111111,
             "#46039f"
            ],
            [
             0.2222222222222222,
             "#7201a8"
            ],
            [
             0.3333333333333333,
             "#9c179e"
            ],
            [
             0.4444444444444444,
             "#bd3786"
            ],
            [
             0.5555555555555556,
             "#d8576b"
            ],
            [
             0.6666666666666666,
             "#ed7953"
            ],
            [
             0.7777777777777778,
             "#fb9f3a"
            ],
            [
             0.8888888888888888,
             "#fdca26"
            ],
            [
             1,
             "#f0f921"
            ]
           ]
          },
          "colorway": [
           "#636efa",
           "#EF553B",
           "#00cc96",
           "#ab63fa",
           "#FFA15A",
           "#19d3f3",
           "#FF6692",
           "#B6E880",
           "#FF97FF",
           "#FECB52"
          ],
          "font": {
           "color": "#2a3f5f"
          },
          "geo": {
           "bgcolor": "white",
           "lakecolor": "white",
           "landcolor": "#E5ECF6",
           "showlakes": true,
           "showland": true,
           "subunitcolor": "white"
          },
          "hoverlabel": {
           "align": "left"
          },
          "hovermode": "closest",
          "mapbox": {
           "style": "light"
          },
          "paper_bgcolor": "white",
          "plot_bgcolor": "#E5ECF6",
          "polar": {
           "angularaxis": {
            "gridcolor": "white",
            "linecolor": "white",
            "ticks": ""
           },
           "bgcolor": "#E5ECF6",
           "radialaxis": {
            "gridcolor": "white",
            "linecolor": "white",
            "ticks": ""
           }
          },
          "scene": {
           "xaxis": {
            "backgroundcolor": "#E5ECF6",
            "gridcolor": "white",
            "gridwidth": 2,
            "linecolor": "white",
            "showbackground": true,
            "ticks": "",
            "zerolinecolor": "white"
           },
           "yaxis": {
            "backgroundcolor": "#E5ECF6",
            "gridcolor": "white",
            "gridwidth": 2,
            "linecolor": "white",
            "showbackground": true,
            "ticks": "",
            "zerolinecolor": "white"
           },
           "zaxis": {
            "backgroundcolor": "#E5ECF6",
            "gridcolor": "white",
            "gridwidth": 2,
            "linecolor": "white",
            "showbackground": true,
            "ticks": "",
            "zerolinecolor": "white"
           }
          },
          "shapedefaults": {
           "line": {
            "color": "#2a3f5f"
           }
          },
          "ternary": {
           "aaxis": {
            "gridcolor": "white",
            "linecolor": "white",
            "ticks": ""
           },
           "baxis": {
            "gridcolor": "white",
            "linecolor": "white",
            "ticks": ""
           },
           "bgcolor": "#E5ECF6",
           "caxis": {
            "gridcolor": "white",
            "linecolor": "white",
            "ticks": ""
           }
          },
          "title": {
           "x": 0.05
          },
          "xaxis": {
           "automargin": true,
           "gridcolor": "white",
           "linecolor": "white",
           "ticks": "",
           "title": {
            "standoff": 15
           },
           "zerolinecolor": "white",
           "zerolinewidth": 2
          },
          "yaxis": {
           "automargin": true,
           "gridcolor": "white",
           "linecolor": "white",
           "ticks": "",
           "title": {
            "standoff": 15
           },
           "zerolinecolor": "white",
           "zerolinewidth": 2
          }
         }
        },
        "xaxis": {
         "anchor": "y",
         "domain": [
          0,
          1
         ],
         "title": {
          "text": "platform"
         }
        },
        "yaxis": {
         "anchor": "x",
         "domain": [
          0,
          1
         ],
         "title": {
          "text": "value"
         }
        }
       }
      }
     },
     "metadata": {},
     "output_type": "display_data"
    }
   ],
   "source": [
    "fig11 = px.bar(platforms_na.head(5), x='platform', y=regions, barmode='group')\n",
    "fig11.show()"
   ]
  },
  {
   "cell_type": "markdown",
   "metadata": {},
   "source": [
    "It is time to talk about the sales in each market. It is easy to see that North America lead the three regions in sold games by platform, This make sense when we start thinking about the population in each region. Let's highlight this comment with the table below.\n",
    "\n",
    "| Region|Population in millions (2016)|\n",
    "|-------------|-------------|\n",
    "|* North America| 565 |\n",
    "|* Europe| 510 |\n",
    "|* Japan| 127 |\n",
    "\n",
    "According to the population described above it was easier to North America to reach that numbers because they are 4 times bigger than Japan. In the other hand, Europe had not so big difference between their population with North America (55 millions of difference) but they got less sales. It will be interesting to think in which factor could be affecting this sales.\n",
    "\n",
    "*Estimated data"
   ]
  },
  {
   "cell_type": "markdown",
   "metadata": {},
   "source": []
  },
  {
   "cell_type": "markdown",
   "metadata": {},
   "source": [
    "### Top 5 genres by region"
   ]
  },
  {
   "cell_type": "markdown",
   "metadata": {},
   "source": [
    "North America Region"
   ]
  },
  {
   "cell_type": "code",
   "execution_count": 98,
   "metadata": {},
   "outputs": [
    {
     "data": {
      "text/html": [
       "<div>\n",
       "<style scoped>\n",
       "    .dataframe tbody tr th:only-of-type {\n",
       "        vertical-align: middle;\n",
       "    }\n",
       "\n",
       "    .dataframe tbody tr th {\n",
       "        vertical-align: top;\n",
       "    }\n",
       "\n",
       "    .dataframe thead th {\n",
       "        text-align: right;\n",
       "    }\n",
       "</style>\n",
       "<table border=\"1\" class=\"dataframe\">\n",
       "  <thead>\n",
       "    <tr style=\"text-align: right;\">\n",
       "      <th></th>\n",
       "      <th>genre</th>\n",
       "      <th>na_sales</th>\n",
       "    </tr>\n",
       "  </thead>\n",
       "  <tbody>\n",
       "    <tr>\n",
       "      <th>0</th>\n",
       "      <td>Action</td>\n",
       "      <td>879.01</td>\n",
       "    </tr>\n",
       "    <tr>\n",
       "      <th>10</th>\n",
       "      <td>Sports</td>\n",
       "      <td>684.43</td>\n",
       "    </tr>\n",
       "    <tr>\n",
       "      <th>8</th>\n",
       "      <td>Shooter</td>\n",
       "      <td>592.24</td>\n",
       "    </tr>\n",
       "    <tr>\n",
       "      <th>4</th>\n",
       "      <td>Platform</td>\n",
       "      <td>445.50</td>\n",
       "    </tr>\n",
       "    <tr>\n",
       "      <th>3</th>\n",
       "      <td>Misc</td>\n",
       "      <td>407.27</td>\n",
       "    </tr>\n",
       "  </tbody>\n",
       "</table>\n",
       "</div>"
      ],
      "text/plain": [
       "       genre  na_sales\n",
       "0     Action    879.01\n",
       "10    Sports    684.43\n",
       "8    Shooter    592.24\n",
       "4   Platform    445.50\n",
       "3       Misc    407.27"
      ]
     },
     "execution_count": 98,
     "metadata": {},
     "output_type": "execute_result"
    }
   ],
   "source": [
    "regions = ['na_sales', 'eu_sales' ,'jp_sales']\n",
    "genre_df =df.groupby(by='genre')[regions].sum().reset_index()\n",
    "genre_na_df = genre_df[['genre','na_sales']].sort_values(by='na_sales', ascending=False)\n",
    "genre_na_df.head(5)"
   ]
  },
  {
   "cell_type": "markdown",
   "metadata": {},
   "source": [
    "Europe Region"
   ]
  },
  {
   "cell_type": "code",
   "execution_count": 99,
   "metadata": {},
   "outputs": [
    {
     "data": {
      "text/html": [
       "<div>\n",
       "<style scoped>\n",
       "    .dataframe tbody tr th:only-of-type {\n",
       "        vertical-align: middle;\n",
       "    }\n",
       "\n",
       "    .dataframe tbody tr th {\n",
       "        vertical-align: top;\n",
       "    }\n",
       "\n",
       "    .dataframe thead th {\n",
       "        text-align: right;\n",
       "    }\n",
       "</style>\n",
       "<table border=\"1\" class=\"dataframe\">\n",
       "  <thead>\n",
       "    <tr style=\"text-align: right;\">\n",
       "      <th></th>\n",
       "      <th>genre</th>\n",
       "      <th>eu_sales</th>\n",
       "    </tr>\n",
       "  </thead>\n",
       "  <tbody>\n",
       "    <tr>\n",
       "      <th>0</th>\n",
       "      <td>Action</td>\n",
       "      <td>519.13</td>\n",
       "    </tr>\n",
       "    <tr>\n",
       "      <th>10</th>\n",
       "      <td>Sports</td>\n",
       "      <td>376.79</td>\n",
       "    </tr>\n",
       "    <tr>\n",
       "      <th>8</th>\n",
       "      <td>Shooter</td>\n",
       "      <td>317.34</td>\n",
       "    </tr>\n",
       "    <tr>\n",
       "      <th>6</th>\n",
       "      <td>Racing</td>\n",
       "      <td>236.51</td>\n",
       "    </tr>\n",
       "    <tr>\n",
       "      <th>3</th>\n",
       "      <td>Misc</td>\n",
       "      <td>212.74</td>\n",
       "    </tr>\n",
       "  </tbody>\n",
       "</table>\n",
       "</div>"
      ],
      "text/plain": [
       "      genre  eu_sales\n",
       "0    Action    519.13\n",
       "10   Sports    376.79\n",
       "8   Shooter    317.34\n",
       "6    Racing    236.51\n",
       "3      Misc    212.74"
      ]
     },
     "execution_count": 99,
     "metadata": {},
     "output_type": "execute_result"
    }
   ],
   "source": [
    "genre_eu_df = genre_df[['genre','eu_sales']].sort_values(by='eu_sales', ascending=False)\n",
    "genre_eu_df.head(5)"
   ]
  },
  {
   "cell_type": "markdown",
   "metadata": {},
   "source": [
    "Japan Region"
   ]
  },
  {
   "cell_type": "code",
   "execution_count": 100,
   "metadata": {},
   "outputs": [
    {
     "data": {
      "text/html": [
       "<div>\n",
       "<style scoped>\n",
       "    .dataframe tbody tr th:only-of-type {\n",
       "        vertical-align: middle;\n",
       "    }\n",
       "\n",
       "    .dataframe tbody tr th {\n",
       "        vertical-align: top;\n",
       "    }\n",
       "\n",
       "    .dataframe thead th {\n",
       "        text-align: right;\n",
       "    }\n",
       "</style>\n",
       "<table border=\"1\" class=\"dataframe\">\n",
       "  <thead>\n",
       "    <tr style=\"text-align: right;\">\n",
       "      <th></th>\n",
       "      <th>genre</th>\n",
       "      <th>jp_sales</th>\n",
       "    </tr>\n",
       "  </thead>\n",
       "  <tbody>\n",
       "    <tr>\n",
       "      <th>7</th>\n",
       "      <td>Role-Playing</td>\n",
       "      <td>355.41</td>\n",
       "    </tr>\n",
       "    <tr>\n",
       "      <th>0</th>\n",
       "      <td>Action</td>\n",
       "      <td>161.43</td>\n",
       "    </tr>\n",
       "    <tr>\n",
       "      <th>10</th>\n",
       "      <td>Sports</td>\n",
       "      <td>135.54</td>\n",
       "    </tr>\n",
       "    <tr>\n",
       "      <th>4</th>\n",
       "      <td>Platform</td>\n",
       "      <td>130.83</td>\n",
       "    </tr>\n",
       "    <tr>\n",
       "      <th>3</th>\n",
       "      <td>Misc</td>\n",
       "      <td>108.11</td>\n",
       "    </tr>\n",
       "  </tbody>\n",
       "</table>\n",
       "</div>"
      ],
      "text/plain": [
       "           genre  jp_sales\n",
       "7   Role-Playing    355.41\n",
       "0         Action    161.43\n",
       "10        Sports    135.54\n",
       "4       Platform    130.83\n",
       "3           Misc    108.11"
      ]
     },
     "execution_count": 100,
     "metadata": {},
     "output_type": "execute_result"
    }
   ],
   "source": [
    "genre_jp_df = genre_df[['genre','jp_sales']].sort_values(by='jp_sales', ascending=False)\n",
    "genre_jp_df.head(5)"
   ]
  },
  {
   "cell_type": "code",
   "execution_count": 101,
   "metadata": {},
   "outputs": [
    {
     "data": {
      "application/vnd.plotly.v1+json": {
       "config": {
        "plotlyServerURL": "https://plot.ly"
       },
       "data": [
        {
         "alignmentgroup": "True",
         "hovertemplate": "variable=na_sales<br>genre=%{x}<br>value=%{y}<extra></extra>",
         "legendgroup": "na_sales",
         "marker": {
          "color": "#636efa",
          "pattern": {
           "shape": ""
          }
         },
         "name": "na_sales",
         "offsetgroup": "na_sales",
         "orientation": "v",
         "showlegend": true,
         "textposition": "auto",
         "type": "bar",
         "x": [
          "Action",
          "Sports",
          "Shooter",
          "Platform",
          "Misc",
          "Racing",
          "Role-Playing",
          "Fighting",
          "Simulation",
          "Puzzle",
          "Adventure",
          "Strategy"
         ],
         "xaxis": "x",
         "y": [
          879.01,
          684.43,
          592.24,
          445.5,
          407.27,
          359.35,
          330.81,
          223.36,
          181.89000000000001,
          122.87,
          105.26,
          68.55
         ],
         "yaxis": "y"
        },
        {
         "alignmentgroup": "True",
         "hovertemplate": "variable=eu_sales<br>genre=%{x}<br>value=%{y}<extra></extra>",
         "legendgroup": "eu_sales",
         "marker": {
          "color": "#EF553B",
          "pattern": {
           "shape": ""
          }
         },
         "name": "eu_sales",
         "offsetgroup": "eu_sales",
         "orientation": "v",
         "showlegend": true,
         "textposition": "auto",
         "type": "bar",
         "x": [
          "Action",
          "Sports",
          "Shooter",
          "Platform",
          "Misc",
          "Racing",
          "Role-Playing",
          "Fighting",
          "Simulation",
          "Puzzle",
          "Adventure",
          "Strategy"
         ],
         "xaxis": "x",
         "y": [
          519.13,
          376.79,
          317.34,
          200.35,
          212.74,
          236.51,
          188.71,
          100.33,
          113.52,
          50.01,
          63.54,
          45.17
         ],
         "yaxis": "y"
        },
        {
         "alignmentgroup": "True",
         "hovertemplate": "variable=jp_sales<br>genre=%{x}<br>value=%{y}<extra></extra>",
         "legendgroup": "jp_sales",
         "marker": {
          "color": "#00cc96",
          "pattern": {
           "shape": ""
          }
         },
         "name": "jp_sales",
         "offsetgroup": "jp_sales",
         "orientation": "v",
         "showlegend": true,
         "textposition": "auto",
         "type": "bar",
         "x": [
          "Action",
          "Sports",
          "Shooter",
          "Platform",
          "Misc",
          "Racing",
          "Role-Playing",
          "Fighting",
          "Simulation",
          "Puzzle",
          "Adventure",
          "Strategy"
         ],
         "xaxis": "x",
         "y": [
          161.43,
          135.54,
          38.76,
          130.83,
          108.11,
          56.71,
          355.41,
          87.48,
          63.8,
          57.31,
          52.3,
          49.660000000000004
         ],
         "yaxis": "y"
        }
       ],
       "layout": {
        "barmode": "group",
        "legend": {
         "title": {
          "text": "variable"
         },
         "tracegroupgap": 0
        },
        "margin": {
         "t": 60
        },
        "template": {
         "data": {
          "bar": [
           {
            "error_x": {
             "color": "#2a3f5f"
            },
            "error_y": {
             "color": "#2a3f5f"
            },
            "marker": {
             "line": {
              "color": "#E5ECF6",
              "width": 0.5
             },
             "pattern": {
              "fillmode": "overlay",
              "size": 10,
              "solidity": 0.2
             }
            },
            "type": "bar"
           }
          ],
          "barpolar": [
           {
            "marker": {
             "line": {
              "color": "#E5ECF6",
              "width": 0.5
             },
             "pattern": {
              "fillmode": "overlay",
              "size": 10,
              "solidity": 0.2
             }
            },
            "type": "barpolar"
           }
          ],
          "carpet": [
           {
            "aaxis": {
             "endlinecolor": "#2a3f5f",
             "gridcolor": "white",
             "linecolor": "white",
             "minorgridcolor": "white",
             "startlinecolor": "#2a3f5f"
            },
            "baxis": {
             "endlinecolor": "#2a3f5f",
             "gridcolor": "white",
             "linecolor": "white",
             "minorgridcolor": "white",
             "startlinecolor": "#2a3f5f"
            },
            "type": "carpet"
           }
          ],
          "choropleth": [
           {
            "colorbar": {
             "outlinewidth": 0,
             "ticks": ""
            },
            "type": "choropleth"
           }
          ],
          "contour": [
           {
            "colorbar": {
             "outlinewidth": 0,
             "ticks": ""
            },
            "colorscale": [
             [
              0,
              "#0d0887"
             ],
             [
              0.1111111111111111,
              "#46039f"
             ],
             [
              0.2222222222222222,
              "#7201a8"
             ],
             [
              0.3333333333333333,
              "#9c179e"
             ],
             [
              0.4444444444444444,
              "#bd3786"
             ],
             [
              0.5555555555555556,
              "#d8576b"
             ],
             [
              0.6666666666666666,
              "#ed7953"
             ],
             [
              0.7777777777777778,
              "#fb9f3a"
             ],
             [
              0.8888888888888888,
              "#fdca26"
             ],
             [
              1,
              "#f0f921"
             ]
            ],
            "type": "contour"
           }
          ],
          "contourcarpet": [
           {
            "colorbar": {
             "outlinewidth": 0,
             "ticks": ""
            },
            "type": "contourcarpet"
           }
          ],
          "heatmap": [
           {
            "colorbar": {
             "outlinewidth": 0,
             "ticks": ""
            },
            "colorscale": [
             [
              0,
              "#0d0887"
             ],
             [
              0.1111111111111111,
              "#46039f"
             ],
             [
              0.2222222222222222,
              "#7201a8"
             ],
             [
              0.3333333333333333,
              "#9c179e"
             ],
             [
              0.4444444444444444,
              "#bd3786"
             ],
             [
              0.5555555555555556,
              "#d8576b"
             ],
             [
              0.6666666666666666,
              "#ed7953"
             ],
             [
              0.7777777777777778,
              "#fb9f3a"
             ],
             [
              0.8888888888888888,
              "#fdca26"
             ],
             [
              1,
              "#f0f921"
             ]
            ],
            "type": "heatmap"
           }
          ],
          "heatmapgl": [
           {
            "colorbar": {
             "outlinewidth": 0,
             "ticks": ""
            },
            "colorscale": [
             [
              0,
              "#0d0887"
             ],
             [
              0.1111111111111111,
              "#46039f"
             ],
             [
              0.2222222222222222,
              "#7201a8"
             ],
             [
              0.3333333333333333,
              "#9c179e"
             ],
             [
              0.4444444444444444,
              "#bd3786"
             ],
             [
              0.5555555555555556,
              "#d8576b"
             ],
             [
              0.6666666666666666,
              "#ed7953"
             ],
             [
              0.7777777777777778,
              "#fb9f3a"
             ],
             [
              0.8888888888888888,
              "#fdca26"
             ],
             [
              1,
              "#f0f921"
             ]
            ],
            "type": "heatmapgl"
           }
          ],
          "histogram": [
           {
            "marker": {
             "pattern": {
              "fillmode": "overlay",
              "size": 10,
              "solidity": 0.2
             }
            },
            "type": "histogram"
           }
          ],
          "histogram2d": [
           {
            "colorbar": {
             "outlinewidth": 0,
             "ticks": ""
            },
            "colorscale": [
             [
              0,
              "#0d0887"
             ],
             [
              0.1111111111111111,
              "#46039f"
             ],
             [
              0.2222222222222222,
              "#7201a8"
             ],
             [
              0.3333333333333333,
              "#9c179e"
             ],
             [
              0.4444444444444444,
              "#bd3786"
             ],
             [
              0.5555555555555556,
              "#d8576b"
             ],
             [
              0.6666666666666666,
              "#ed7953"
             ],
             [
              0.7777777777777778,
              "#fb9f3a"
             ],
             [
              0.8888888888888888,
              "#fdca26"
             ],
             [
              1,
              "#f0f921"
             ]
            ],
            "type": "histogram2d"
           }
          ],
          "histogram2dcontour": [
           {
            "colorbar": {
             "outlinewidth": 0,
             "ticks": ""
            },
            "colorscale": [
             [
              0,
              "#0d0887"
             ],
             [
              0.1111111111111111,
              "#46039f"
             ],
             [
              0.2222222222222222,
              "#7201a8"
             ],
             [
              0.3333333333333333,
              "#9c179e"
             ],
             [
              0.4444444444444444,
              "#bd3786"
             ],
             [
              0.5555555555555556,
              "#d8576b"
             ],
             [
              0.6666666666666666,
              "#ed7953"
             ],
             [
              0.7777777777777778,
              "#fb9f3a"
             ],
             [
              0.8888888888888888,
              "#fdca26"
             ],
             [
              1,
              "#f0f921"
             ]
            ],
            "type": "histogram2dcontour"
           }
          ],
          "mesh3d": [
           {
            "colorbar": {
             "outlinewidth": 0,
             "ticks": ""
            },
            "type": "mesh3d"
           }
          ],
          "parcoords": [
           {
            "line": {
             "colorbar": {
              "outlinewidth": 0,
              "ticks": ""
             }
            },
            "type": "parcoords"
           }
          ],
          "pie": [
           {
            "automargin": true,
            "type": "pie"
           }
          ],
          "scatter": [
           {
            "fillpattern": {
             "fillmode": "overlay",
             "size": 10,
             "solidity": 0.2
            },
            "type": "scatter"
           }
          ],
          "scatter3d": [
           {
            "line": {
             "colorbar": {
              "outlinewidth": 0,
              "ticks": ""
             }
            },
            "marker": {
             "colorbar": {
              "outlinewidth": 0,
              "ticks": ""
             }
            },
            "type": "scatter3d"
           }
          ],
          "scattercarpet": [
           {
            "marker": {
             "colorbar": {
              "outlinewidth": 0,
              "ticks": ""
             }
            },
            "type": "scattercarpet"
           }
          ],
          "scattergeo": [
           {
            "marker": {
             "colorbar": {
              "outlinewidth": 0,
              "ticks": ""
             }
            },
            "type": "scattergeo"
           }
          ],
          "scattergl": [
           {
            "marker": {
             "colorbar": {
              "outlinewidth": 0,
              "ticks": ""
             }
            },
            "type": "scattergl"
           }
          ],
          "scattermapbox": [
           {
            "marker": {
             "colorbar": {
              "outlinewidth": 0,
              "ticks": ""
             }
            },
            "type": "scattermapbox"
           }
          ],
          "scatterpolar": [
           {
            "marker": {
             "colorbar": {
              "outlinewidth": 0,
              "ticks": ""
             }
            },
            "type": "scatterpolar"
           }
          ],
          "scatterpolargl": [
           {
            "marker": {
             "colorbar": {
              "outlinewidth": 0,
              "ticks": ""
             }
            },
            "type": "scatterpolargl"
           }
          ],
          "scatterternary": [
           {
            "marker": {
             "colorbar": {
              "outlinewidth": 0,
              "ticks": ""
             }
            },
            "type": "scatterternary"
           }
          ],
          "surface": [
           {
            "colorbar": {
             "outlinewidth": 0,
             "ticks": ""
            },
            "colorscale": [
             [
              0,
              "#0d0887"
             ],
             [
              0.1111111111111111,
              "#46039f"
             ],
             [
              0.2222222222222222,
              "#7201a8"
             ],
             [
              0.3333333333333333,
              "#9c179e"
             ],
             [
              0.4444444444444444,
              "#bd3786"
             ],
             [
              0.5555555555555556,
              "#d8576b"
             ],
             [
              0.6666666666666666,
              "#ed7953"
             ],
             [
              0.7777777777777778,
              "#fb9f3a"
             ],
             [
              0.8888888888888888,
              "#fdca26"
             ],
             [
              1,
              "#f0f921"
             ]
            ],
            "type": "surface"
           }
          ],
          "table": [
           {
            "cells": {
             "fill": {
              "color": "#EBF0F8"
             },
             "line": {
              "color": "white"
             }
            },
            "header": {
             "fill": {
              "color": "#C8D4E3"
             },
             "line": {
              "color": "white"
             }
            },
            "type": "table"
           }
          ]
         },
         "layout": {
          "annotationdefaults": {
           "arrowcolor": "#2a3f5f",
           "arrowhead": 0,
           "arrowwidth": 1
          },
          "autotypenumbers": "strict",
          "coloraxis": {
           "colorbar": {
            "outlinewidth": 0,
            "ticks": ""
           }
          },
          "colorscale": {
           "diverging": [
            [
             0,
             "#8e0152"
            ],
            [
             0.1,
             "#c51b7d"
            ],
            [
             0.2,
             "#de77ae"
            ],
            [
             0.3,
             "#f1b6da"
            ],
            [
             0.4,
             "#fde0ef"
            ],
            [
             0.5,
             "#f7f7f7"
            ],
            [
             0.6,
             "#e6f5d0"
            ],
            [
             0.7,
             "#b8e186"
            ],
            [
             0.8,
             "#7fbc41"
            ],
            [
             0.9,
             "#4d9221"
            ],
            [
             1,
             "#276419"
            ]
           ],
           "sequential": [
            [
             0,
             "#0d0887"
            ],
            [
             0.1111111111111111,
             "#46039f"
            ],
            [
             0.2222222222222222,
             "#7201a8"
            ],
            [
             0.3333333333333333,
             "#9c179e"
            ],
            [
             0.4444444444444444,
             "#bd3786"
            ],
            [
             0.5555555555555556,
             "#d8576b"
            ],
            [
             0.6666666666666666,
             "#ed7953"
            ],
            [
             0.7777777777777778,
             "#fb9f3a"
            ],
            [
             0.8888888888888888,
             "#fdca26"
            ],
            [
             1,
             "#f0f921"
            ]
           ],
           "sequentialminus": [
            [
             0,
             "#0d0887"
            ],
            [
             0.1111111111111111,
             "#46039f"
            ],
            [
             0.2222222222222222,
             "#7201a8"
            ],
            [
             0.3333333333333333,
             "#9c179e"
            ],
            [
             0.4444444444444444,
             "#bd3786"
            ],
            [
             0.5555555555555556,
             "#d8576b"
            ],
            [
             0.6666666666666666,
             "#ed7953"
            ],
            [
             0.7777777777777778,
             "#fb9f3a"
            ],
            [
             0.8888888888888888,
             "#fdca26"
            ],
            [
             1,
             "#f0f921"
            ]
           ]
          },
          "colorway": [
           "#636efa",
           "#EF553B",
           "#00cc96",
           "#ab63fa",
           "#FFA15A",
           "#19d3f3",
           "#FF6692",
           "#B6E880",
           "#FF97FF",
           "#FECB52"
          ],
          "font": {
           "color": "#2a3f5f"
          },
          "geo": {
           "bgcolor": "white",
           "lakecolor": "white",
           "landcolor": "#E5ECF6",
           "showlakes": true,
           "showland": true,
           "subunitcolor": "white"
          },
          "hoverlabel": {
           "align": "left"
          },
          "hovermode": "closest",
          "mapbox": {
           "style": "light"
          },
          "paper_bgcolor": "white",
          "plot_bgcolor": "#E5ECF6",
          "polar": {
           "angularaxis": {
            "gridcolor": "white",
            "linecolor": "white",
            "ticks": ""
           },
           "bgcolor": "#E5ECF6",
           "radialaxis": {
            "gridcolor": "white",
            "linecolor": "white",
            "ticks": ""
           }
          },
          "scene": {
           "xaxis": {
            "backgroundcolor": "#E5ECF6",
            "gridcolor": "white",
            "gridwidth": 2,
            "linecolor": "white",
            "showbackground": true,
            "ticks": "",
            "zerolinecolor": "white"
           },
           "yaxis": {
            "backgroundcolor": "#E5ECF6",
            "gridcolor": "white",
            "gridwidth": 2,
            "linecolor": "white",
            "showbackground": true,
            "ticks": "",
            "zerolinecolor": "white"
           },
           "zaxis": {
            "backgroundcolor": "#E5ECF6",
            "gridcolor": "white",
            "gridwidth": 2,
            "linecolor": "white",
            "showbackground": true,
            "ticks": "",
            "zerolinecolor": "white"
           }
          },
          "shapedefaults": {
           "line": {
            "color": "#2a3f5f"
           }
          },
          "ternary": {
           "aaxis": {
            "gridcolor": "white",
            "linecolor": "white",
            "ticks": ""
           },
           "baxis": {
            "gridcolor": "white",
            "linecolor": "white",
            "ticks": ""
           },
           "bgcolor": "#E5ECF6",
           "caxis": {
            "gridcolor": "white",
            "linecolor": "white",
            "ticks": ""
           }
          },
          "title": {
           "x": 0.05
          },
          "xaxis": {
           "automargin": true,
           "gridcolor": "white",
           "linecolor": "white",
           "ticks": "",
           "title": {
            "standoff": 15
           },
           "zerolinecolor": "white",
           "zerolinewidth": 2
          },
          "yaxis": {
           "automargin": true,
           "gridcolor": "white",
           "linecolor": "white",
           "ticks": "",
           "title": {
            "standoff": 15
           },
           "zerolinecolor": "white",
           "zerolinewidth": 2
          }
         }
        },
        "xaxis": {
         "anchor": "y",
         "domain": [
          0,
          1
         ],
         "title": {
          "text": "Genre"
         }
        },
        "yaxis": {
         "anchor": "x",
         "domain": [
          0,
          1
         ],
         "title": {
          "text": "Games Count"
         }
        }
       }
      }
     },
     "metadata": {},
     "output_type": "display_data"
    },
    {
     "data": {
      "text/html": [
       "<div>\n",
       "<style scoped>\n",
       "    .dataframe tbody tr th:only-of-type {\n",
       "        vertical-align: middle;\n",
       "    }\n",
       "\n",
       "    .dataframe tbody tr th {\n",
       "        vertical-align: top;\n",
       "    }\n",
       "\n",
       "    .dataframe thead th {\n",
       "        text-align: right;\n",
       "    }\n",
       "</style>\n",
       "<table border=\"1\" class=\"dataframe\">\n",
       "  <thead>\n",
       "    <tr style=\"text-align: right;\">\n",
       "      <th></th>\n",
       "      <th>genre</th>\n",
       "      <th>na_sales</th>\n",
       "      <th>eu_sales</th>\n",
       "      <th>jp_sales</th>\n",
       "    </tr>\n",
       "  </thead>\n",
       "  <tbody>\n",
       "    <tr>\n",
       "      <th>0</th>\n",
       "      <td>Action</td>\n",
       "      <td>879.01</td>\n",
       "      <td>519.13</td>\n",
       "      <td>161.43</td>\n",
       "    </tr>\n",
       "    <tr>\n",
       "      <th>1</th>\n",
       "      <td>Adventure</td>\n",
       "      <td>105.26</td>\n",
       "      <td>63.54</td>\n",
       "      <td>52.30</td>\n",
       "    </tr>\n",
       "    <tr>\n",
       "      <th>2</th>\n",
       "      <td>Fighting</td>\n",
       "      <td>223.36</td>\n",
       "      <td>100.33</td>\n",
       "      <td>87.48</td>\n",
       "    </tr>\n",
       "    <tr>\n",
       "      <th>3</th>\n",
       "      <td>Misc</td>\n",
       "      <td>407.27</td>\n",
       "      <td>212.74</td>\n",
       "      <td>108.11</td>\n",
       "    </tr>\n",
       "    <tr>\n",
       "      <th>4</th>\n",
       "      <td>Platform</td>\n",
       "      <td>445.50</td>\n",
       "      <td>200.35</td>\n",
       "      <td>130.83</td>\n",
       "    </tr>\n",
       "    <tr>\n",
       "      <th>5</th>\n",
       "      <td>Puzzle</td>\n",
       "      <td>122.87</td>\n",
       "      <td>50.01</td>\n",
       "      <td>57.31</td>\n",
       "    </tr>\n",
       "    <tr>\n",
       "      <th>6</th>\n",
       "      <td>Racing</td>\n",
       "      <td>359.35</td>\n",
       "      <td>236.51</td>\n",
       "      <td>56.71</td>\n",
       "    </tr>\n",
       "    <tr>\n",
       "      <th>7</th>\n",
       "      <td>Role-Playing</td>\n",
       "      <td>330.81</td>\n",
       "      <td>188.71</td>\n",
       "      <td>355.41</td>\n",
       "    </tr>\n",
       "    <tr>\n",
       "      <th>8</th>\n",
       "      <td>Shooter</td>\n",
       "      <td>592.24</td>\n",
       "      <td>317.34</td>\n",
       "      <td>38.76</td>\n",
       "    </tr>\n",
       "    <tr>\n",
       "      <th>9</th>\n",
       "      <td>Simulation</td>\n",
       "      <td>181.89</td>\n",
       "      <td>113.52</td>\n",
       "      <td>63.80</td>\n",
       "    </tr>\n",
       "    <tr>\n",
       "      <th>10</th>\n",
       "      <td>Sports</td>\n",
       "      <td>684.43</td>\n",
       "      <td>376.79</td>\n",
       "      <td>135.54</td>\n",
       "    </tr>\n",
       "    <tr>\n",
       "      <th>11</th>\n",
       "      <td>Strategy</td>\n",
       "      <td>68.55</td>\n",
       "      <td>45.17</td>\n",
       "      <td>49.66</td>\n",
       "    </tr>\n",
       "  </tbody>\n",
       "</table>\n",
       "</div>"
      ],
      "text/plain": [
       "           genre  na_sales  eu_sales  jp_sales\n",
       "0         Action    879.01    519.13    161.43\n",
       "1      Adventure    105.26     63.54     52.30\n",
       "2       Fighting    223.36    100.33     87.48\n",
       "3           Misc    407.27    212.74    108.11\n",
       "4       Platform    445.50    200.35    130.83\n",
       "5         Puzzle    122.87     50.01     57.31\n",
       "6         Racing    359.35    236.51     56.71\n",
       "7   Role-Playing    330.81    188.71    355.41\n",
       "8        Shooter    592.24    317.34     38.76\n",
       "9     Simulation    181.89    113.52     63.80\n",
       "10        Sports    684.43    376.79    135.54\n",
       "11      Strategy     68.55     45.17     49.66"
      ]
     },
     "execution_count": 101,
     "metadata": {},
     "output_type": "execute_result"
    }
   ],
   "source": [
    "genre_bar_df = genre_df.sort_values(by='na_sales', ascending=False)\n",
    "\n",
    "fig11 = px.bar(genre_bar_df,'genre',regions, barmode='group')\n",
    "fig11.update_layout(xaxis_title='Genre', yaxis_title='Games Count')\n",
    "fig11.show()\n",
    "genre_df"
   ]
  },
  {
   "cell_type": "markdown",
   "metadata": {},
   "source": [
    "For North America and Europe region we can see a similar behaviours in the top 5 genres. Action genres are the most demanded followed by Sports and shooters, the 4th place has a little difference being 'platform games' more required in NA while 'racing games' have more presence in Europe.\n",
    "\n",
    "Japan has more demand on Role-Playing games, followed by action, sports platform and misc genres."
   ]
  },
  {
   "cell_type": "markdown",
   "metadata": {},
   "source": [
    "### ESRB Classification"
   ]
  },
  {
   "cell_type": "code",
   "execution_count": 102,
   "metadata": {},
   "outputs": [
    {
     "data": {
      "text/html": [
       "<div>\n",
       "<style scoped>\n",
       "    .dataframe tbody tr th:only-of-type {\n",
       "        vertical-align: middle;\n",
       "    }\n",
       "\n",
       "    .dataframe tbody tr th {\n",
       "        vertical-align: top;\n",
       "    }\n",
       "\n",
       "    .dataframe thead th {\n",
       "        text-align: right;\n",
       "    }\n",
       "</style>\n",
       "<table border=\"1\" class=\"dataframe\">\n",
       "  <thead>\n",
       "    <tr style=\"text-align: right;\">\n",
       "      <th></th>\n",
       "      <th>rating</th>\n",
       "      <th>na_sales</th>\n",
       "      <th>eu_sales</th>\n",
       "      <th>jp_sales</th>\n",
       "    </tr>\n",
       "  </thead>\n",
       "  <tbody>\n",
       "    <tr>\n",
       "      <th>0</th>\n",
       "      <td>E</td>\n",
       "      <td>1295.55</td>\n",
       "      <td>710.52</td>\n",
       "      <td>199.57</td>\n",
       "    </tr>\n",
       "    <tr>\n",
       "      <th>5</th>\n",
       "      <td>T</td>\n",
       "      <td>759.75</td>\n",
       "      <td>427.03</td>\n",
       "      <td>151.40</td>\n",
       "    </tr>\n",
       "    <tr>\n",
       "      <th>3</th>\n",
       "      <td>M</td>\n",
       "      <td>749.74</td>\n",
       "      <td>484.58</td>\n",
       "      <td>64.24</td>\n",
       "    </tr>\n",
       "    <tr>\n",
       "      <th>1</th>\n",
       "      <td>E10+</td>\n",
       "      <td>353.32</td>\n",
       "      <td>188.52</td>\n",
       "      <td>40.20</td>\n",
       "    </tr>\n",
       "    <tr>\n",
       "      <th>2</th>\n",
       "      <td>EC</td>\n",
       "      <td>1.53</td>\n",
       "      <td>0.11</td>\n",
       "      <td>0.00</td>\n",
       "    </tr>\n",
       "    <tr>\n",
       "      <th>4</th>\n",
       "      <td>RP</td>\n",
       "      <td>0.00</td>\n",
       "      <td>0.08</td>\n",
       "      <td>0.00</td>\n",
       "    </tr>\n",
       "  </tbody>\n",
       "</table>\n",
       "</div>"
      ],
      "text/plain": [
       "  rating  na_sales  eu_sales  jp_sales\n",
       "0      E   1295.55    710.52    199.57\n",
       "5      T    759.75    427.03    151.40\n",
       "3      M    749.74    484.58     64.24\n",
       "1   E10+    353.32    188.52     40.20\n",
       "2     EC      1.53      0.11      0.00\n",
       "4     RP      0.00      0.08      0.00"
      ]
     },
     "execution_count": 102,
     "metadata": {},
     "output_type": "execute_result"
    }
   ],
   "source": [
    "rating_df = df.groupby(by='rating')[regions].sum().reset_index()\n",
    "rating_df.sort_values(by='na_sales', ascending=False)"
   ]
  },
  {
   "cell_type": "markdown",
   "metadata": {},
   "source": [
    "With this table we can see that the best selling games are the ones who are classified to 'Everyone' followed by 'Teens' and 'Mature Only (+18) for North America and Japan. In Europe we have an slighty difference switching places the categories 'Mature' (for the second place) and 'Teen' (for the third).\n",
    "\n",
    "So, ¿The clasification may affect the sales in individual regions? The answer is, Yes! However is more complicated that we think. A singular game can be classified to different targets depending of the system applied in their countries. ESRB applies their classification to the games in North America, however Euorpe uses PEGI (Pan European Game Information), so, as an example: Grand Thef Auto could be classified in North America for Mature (18+) and for PEGI coul classified the same game as 16 (16+). The sales will be affected just for this classification."
   ]
  },
  {
   "cell_type": "markdown",
   "metadata": {},
   "source": [
    "| Rating            | Description                   |\n",
    "|-------------------|-----------------------------------|\n",
    "| Everyone (E)      | Suitable for all ages (formerly KA)         |\n",
    "| Teens 13+ (T)      | Content suitable for ages 13 and older    |\n",
    "| Mature 17+ (M)     | Content suitable for mature audiences 17 and older  |\n",
    "| Everyone 10+ (E10+) | Suitable for ages 10 and older  |\n",
    "| Kids to Adults (KA) | Suitable for kids and adults (currently Everyone)  |\n",
    "| Early Childhood (EC) | Suitable for ages 3-6   |\n",
    "| Adults Only 18+ (+18) | Content suitable for adults 18 and older   |\n",
    "| Rating Pending    | Rating information pending    |\n",
    "| Replace K-A with Everyone | Update rating from K-A to Everyone  |\n"
   ]
  },
  {
   "cell_type": "markdown",
   "metadata": {},
   "source": [
    "# Paso 5. Hipotesis"
   ]
  },
  {
   "cell_type": "markdown",
   "metadata": {},
   "source": [
    "#### 5.1 The average user score for the platforms Xbox One and PC are the Same\n",
    "\n",
    "- H<sub>0</sub> = The average score between Xbox One and Pc is `not different`\n",
    "- H<sub>1</sub> = The average score between Xbox One and Pc is `different`"
   ]
  },
  {
   "cell_type": "code",
   "execution_count": 153,
   "metadata": {},
   "outputs": [],
   "source": [
    "user_score_xone_filter = df.query('platform ==\"XOne\" and user_score.notna()')['user_score']\n",
    "user_score_pc_filter = df.query('platform ==\"PC\" and user_score.notna()')['user_score']\n",
    "\n",
    "# len(user_score_xone_filter) #182 values\n",
    "# len(user_score_pc_filter) #770 values"
   ]
  },
  {
   "cell_type": "markdown",
   "metadata": {},
   "source": [
    "In order to define the parameter `equal_var=` for the method `st.ttest_ind()` I will check the variation for each one"
   ]
  },
  {
   "cell_type": "code",
   "execution_count": 154,
   "metadata": {},
   "outputs": [
    {
     "name": "stdout",
     "output_type": "stream",
     "text": [
      "1.8965188383045526 2.3377471580367684\n"
     ]
    }
   ],
   "source": [
    "print(np.var(user_score_xone_filter), np.var(user_score_pc_filter))"
   ]
  },
  {
   "cell_type": "markdown",
   "metadata": {},
   "source": [
    "The variances are different, let's proceed with the proper setup"
   ]
  },
  {
   "cell_type": "code",
   "execution_count": 155,
   "metadata": {},
   "outputs": [
    {
     "name": "stdout",
     "output_type": "stream",
     "text": [
      "4.935072360183574e-06\n",
      "H0 is rejected\n"
     ]
    }
   ],
   "source": [
    "alpha= 0.05\n",
    "t_statistic, p_value = st.ttest_ind(user_score_xone_filter,user_score_pc_filter,equal_var=False)\n",
    "\n",
    "print(p_value)\n",
    "\n",
    "if p_value<alpha:\n",
    "    print('H0 is rejected')\n",
    "else:\n",
    "    print('H0 cannot be rejected')\n"
   ]
  },
  {
   "cell_type": "markdown",
   "metadata": {},
   "source": [
    "Conclusion: `We reject` the null hypothesis 'The average user score for the platforms Xbox One and PC are the Same'"
   ]
  },
  {
   "cell_type": "markdown",
   "metadata": {},
   "source": [
    "5.2 The average user score for the platforms Xbox One and PC are the Same\n",
    " Las calificaciones promedio de los usuarios para los géneros de Acción y Deportes son diferentes."
   ]
  },
  {
   "cell_type": "markdown",
   "metadata": {},
   "source": [
    "#### 5.2 The average user score for the genres action and sports are different\n",
    "\n",
    "- H<sub>0</sub> = The average score between action and sport `is not different`\n",
    "- H<sub>1</sub> = The average score between action and sport `is different`"
   ]
  },
  {
   "cell_type": "code",
   "execution_count": 160,
   "metadata": {},
   "outputs": [
    {
     "name": "stdout",
     "output_type": "stream",
     "text": [
      "0.11483818791498286\n",
      "H0 cannot be rejected\n"
     ]
    }
   ],
   "source": [
    "user_score_action = df.query('genre ==\"Action\" and user_score.notna()')['user_score']\n",
    "user_score_sports = df.query('genre ==\"Sports\" and user_score.notna()')['user_score']\n",
    "\n",
    "# print((len(user_score_action),len(user_score_sports)))\n",
    "# print(np.var(user_score_action), np.var(user_score_sports))\n",
    "\n",
    "alpha= 0.05\n",
    "t_statistic, p_value = st.ttest_ind(user_score_action,user_score_sports,equal_var=False)\n",
    "\n",
    "print(p_value)\n",
    "\n",
    "if p_value<alpha:\n",
    "    print('H0 is rejected')\n",
    "else:\n",
    "    print('H0 cannot be rejected')\n"
   ]
  },
  {
   "cell_type": "markdown",
   "metadata": {},
   "source": [
    "Conclusion: `We cannot` reject the hypothesis: 'The average score between action and sport `is not different`'"
   ]
  },
  {
   "cell_type": "markdown",
   "metadata": {},
   "source": [
    "## Final conclusions:"
   ]
  }
 ],
 "metadata": {
  "kernelspec": {
   "display_name": "Python 3",
   "language": "python",
   "name": "python3"
  },
  "language_info": {
   "codemirror_mode": {
    "name": "ipython",
    "version": 3
   },
   "file_extension": ".py",
   "mimetype": "text/x-python",
   "name": "python",
   "nbconvert_exporter": "python",
   "pygments_lexer": "ipython3",
   "version": "3.12.0"
  }
 },
 "nbformat": 4,
 "nbformat_minor": 2
}
