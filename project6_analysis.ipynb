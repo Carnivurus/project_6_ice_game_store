{
 "cells": [
  {
   "cell_type": "code",
   "execution_count": 379,
   "metadata": {},
   "outputs": [],
   "source": [
    "# Importing libraries and dataframe\n",
    "import pandas as pd\n",
    "import numpy as np\n",
    "df = pd.read_csv(\"datasets/games.csv\")\n"
   ]
  },
  {
   "cell_type": "code",
   "execution_count": 380,
   "metadata": {},
   "outputs": [],
   "source": [
    "# Setting columns to lowercase\n",
    "df.columns = [column.lower() for column in df.columns]\n"
   ]
  },
  {
   "cell_type": "code",
   "execution_count": 381,
   "metadata": {},
   "outputs": [
    {
     "name": "stdout",
     "output_type": "stream",
     "text": [
      "<class 'pandas.core.frame.DataFrame'>\n",
      "RangeIndex: 16715 entries, 0 to 16714\n",
      "Data columns (total 11 columns):\n",
      " #   Column           Non-Null Count  Dtype  \n",
      "---  ------           --------------  -----  \n",
      " 0   name             16713 non-null  object \n",
      " 1   platform         16715 non-null  object \n",
      " 2   year_of_release  16446 non-null  float64\n",
      " 3   genre            16713 non-null  object \n",
      " 4   na_sales         16715 non-null  float64\n",
      " 5   eu_sales         16715 non-null  float64\n",
      " 6   jp_sales         16715 non-null  float64\n",
      " 7   other_sales      16715 non-null  float64\n",
      " 8   critic_score     8137 non-null   float64\n",
      " 9   user_score       10014 non-null  object \n",
      " 10  rating           9949 non-null   object \n",
      "dtypes: float64(6), object(5)\n",
      "memory usage: 1.4+ MB\n",
      "_____________________\n"
     ]
    },
    {
     "data": {
      "text/plain": [
       "Index(['name', 'platform', 'year_of_release', 'genre', 'na_sales', 'eu_sales',\n",
       "       'jp_sales', 'other_sales', 'critic_score', 'user_score', 'rating'],\n",
       "      dtype='object')"
      ]
     },
     "execution_count": 381,
     "metadata": {},
     "output_type": "execute_result"
    }
   ],
   "source": [
    "#Look for duplicates, incorrect dtypes and nulls.\n",
    "df.info()\n",
    "print(\"_____________________\")\n",
    "df.columns"
   ]
  },
  {
   "cell_type": "markdown",
   "metadata": {},
   "source": [
    " Name, Year_of_Release, Genre, Critic_Score, User_Score, Rating have missing values."
   ]
  },
  {
   "cell_type": "code",
   "execution_count": 382,
   "metadata": {},
   "outputs": [
    {
     "data": {
      "text/plain": [
       "0"
      ]
     },
     "execution_count": 382,
     "metadata": {},
     "output_type": "execute_result"
    }
   ],
   "source": [
    "# I proceed removing duplicated rows.\n",
    "df.duplicated().sum() "
   ]
  },
  {
   "cell_type": "markdown",
   "metadata": {},
   "source": [
    "Not duplicated rows found"
   ]
  },
  {
   "cell_type": "code",
   "execution_count": 383,
   "metadata": {},
   "outputs": [
    {
     "data": {
      "text/plain": [
       "name                  2\n",
       "platform              0\n",
       "year_of_release     269\n",
       "genre                 2\n",
       "na_sales              0\n",
       "eu_sales              0\n",
       "jp_sales              0\n",
       "other_sales           0\n",
       "critic_score       8578\n",
       "user_score         6701\n",
       "rating             6766\n",
       "dtype: int64"
      ]
     },
     "execution_count": 383,
     "metadata": {},
     "output_type": "execute_result"
    }
   ],
   "source": [
    "# Identifying null values\n",
    "df.isnull().sum()"
   ]
  },
  {
   "cell_type": "code",
   "execution_count": 384,
   "metadata": {},
   "outputs": [
    {
     "data": {
      "text/html": [
       "<div>\n",
       "<style scoped>\n",
       "    .dataframe tbody tr th:only-of-type {\n",
       "        vertical-align: middle;\n",
       "    }\n",
       "\n",
       "    .dataframe tbody tr th {\n",
       "        vertical-align: top;\n",
       "    }\n",
       "\n",
       "    .dataframe thead th {\n",
       "        text-align: right;\n",
       "    }\n",
       "</style>\n",
       "<table border=\"1\" class=\"dataframe\">\n",
       "  <thead>\n",
       "    <tr style=\"text-align: right;\">\n",
       "      <th></th>\n",
       "      <th>name</th>\n",
       "      <th>platform</th>\n",
       "      <th>year_of_release</th>\n",
       "      <th>genre</th>\n",
       "      <th>na_sales</th>\n",
       "      <th>eu_sales</th>\n",
       "      <th>jp_sales</th>\n",
       "      <th>other_sales</th>\n",
       "      <th>critic_score</th>\n",
       "      <th>user_score</th>\n",
       "      <th>rating</th>\n",
       "    </tr>\n",
       "  </thead>\n",
       "  <tbody>\n",
       "    <tr>\n",
       "      <th>659</th>\n",
       "      <td>NaN</td>\n",
       "      <td>GEN</td>\n",
       "      <td>1993.0</td>\n",
       "      <td>NaN</td>\n",
       "      <td>1.78</td>\n",
       "      <td>0.53</td>\n",
       "      <td>0.00</td>\n",
       "      <td>0.08</td>\n",
       "      <td>NaN</td>\n",
       "      <td>NaN</td>\n",
       "      <td>NaN</td>\n",
       "    </tr>\n",
       "    <tr>\n",
       "      <th>14244</th>\n",
       "      <td>NaN</td>\n",
       "      <td>GEN</td>\n",
       "      <td>1993.0</td>\n",
       "      <td>NaN</td>\n",
       "      <td>0.00</td>\n",
       "      <td>0.00</td>\n",
       "      <td>0.03</td>\n",
       "      <td>0.00</td>\n",
       "      <td>NaN</td>\n",
       "      <td>NaN</td>\n",
       "      <td>NaN</td>\n",
       "    </tr>\n",
       "  </tbody>\n",
       "</table>\n",
       "</div>"
      ],
      "text/plain": [
       "      name platform  year_of_release genre  na_sales  eu_sales  jp_sales  \\\n",
       "659    NaN      GEN           1993.0   NaN      1.78      0.53      0.00   \n",
       "14244  NaN      GEN           1993.0   NaN      0.00      0.00      0.03   \n",
       "\n",
       "       other_sales  critic_score user_score rating  \n",
       "659           0.08           NaN        NaN    NaN  \n",
       "14244         0.00           NaN        NaN    NaN  "
      ]
     },
     "execution_count": 384,
     "metadata": {},
     "output_type": "execute_result"
    }
   ],
   "source": [
    "df[df[\"name\"].isnull()]\n",
    "df[df[\"year_of_release\"].isnull()]\n",
    "df[df[\"genre\"].isnull()]"
   ]
  },
  {
   "cell_type": "markdown",
   "metadata": {},
   "source": [
    "- name column = There are 2 missing games, I'll proceed to delete both rows (not enough or relevant information to keep).\n",
    "- year_of_release column = It's possible to look at the internet for the name of the game, the platform and get the year_of_release, I'll keep it for the moment. (I can look for an API)\n",
    "- genre = Same missing values as name column, I'll delete it\n",
    "- critic_score, user_score, rating = Can keep it like this because I don't have the source where they get the data."
   ]
  },
  {
   "cell_type": "code",
   "execution_count": 385,
   "metadata": {},
   "outputs": [],
   "source": [
    "# Checking before transforming to float\n",
    "df[\"user_score\"].unique()\n",
    "df[\"user_score\"].replace(\"tbd\",np.nan, inplace=True)\n",
    "#df[\"user_score\"].replace(np.nan,-999, inplace=True) #If it is necessary"
   ]
  },
  {
   "cell_type": "markdown",
   "metadata": {},
   "source": [
    "I decided to keep as an object for the moment"
   ]
  },
  {
   "cell_type": "code",
   "execution_count": 386,
   "metadata": {},
   "outputs": [],
   "source": [
    "# Checking before transforming to float\n",
    "df[\"critic_score\"].unique()\n",
    "df[\"critic_score\"].replace(np.nan,-999, inplace=True)\n",
    "df[\"critic_score\"]= df[\"critic_score\"].astype(int)"
   ]
  },
  {
   "cell_type": "code",
   "execution_count": 387,
   "metadata": {},
   "outputs": [
    {
     "data": {
      "text/plain": [
       "array([  76, -999,   82,   80,   89,   58,   87,   91,   61,   97,   95,\n",
       "         77,   88,   83,   94,   93,   85,   86,   98,   96,   90,   84,\n",
       "         73,   74,   78,   92,   71,   72,   68,   62,   49,   67,   81,\n",
       "         66,   56,   79,   70,   59,   64,   75,   60,   63,   69,   50,\n",
       "         25,   42,   44,   55,   48,   57,   29,   47,   65,   54,   20,\n",
       "         53,   37,   38,   33,   52,   30,   32,   43,   45,   51,   40,\n",
       "         46,   39,   34,   35,   41,   36,   28,   31,   27,   26,   19,\n",
       "         23,   24,   21,   17,   22,   13])"
      ]
     },
     "execution_count": 387,
     "metadata": {},
     "output_type": "execute_result"
    }
   ],
   "source": [
    "df[\"critic_score\"].unique()"
   ]
  },
  {
   "cell_type": "code",
   "execution_count": 388,
   "metadata": {},
   "outputs": [
    {
     "data": {
      "text/plain": [
       "array(['E', nan, 'M', 'T', 'E10+', 'K-A', 'AO', 'EC', 'RP'], dtype=object)"
      ]
     },
     "execution_count": 388,
     "metadata": {},
     "output_type": "execute_result"
    }
   ],
   "source": [
    "df[\"rating\"].unique()"
   ]
  },
  {
   "cell_type": "markdown",
   "metadata": {},
   "source": [
    "We will keep the NaN values."
   ]
  },
  {
   "cell_type": "code",
   "execution_count": 389,
   "metadata": {},
   "outputs": [],
   "source": [
    "'''As an extra effort, I will conect to the IGDB API (https://www.igdb.com/api) to get the missing years. \n",
    "Should be necessary to extract the missing values from this list to use it as parameters (game_name and platform)\n",
    "'''\n",
    "games_missing_year_df = df[df[\"year_of_release\"].isna()]\n",
    "filtered_df = games_missing_year_df[[\"name\",\"platform\"]]\n",
    "\n",
    "#I manually created this relation table to create a search parameter in the IGDB site.\n",
    "filtered_df[\"platform\"].unique() #getting the missing paltforms\n",
    "relation_df = pd.read_csv(\"datasets/platform_relation.csv\") \n",
    "fusion = pd.merge(left= filtered_df, right= relation_df, on=\"platform\", how=\"left\")\n"
   ]
  },
  {
   "cell_type": "code",
   "execution_count": 390,
   "metadata": {},
   "outputs": [],
   "source": [
    "\"The dataframe will be exported into a csv file to create a function which will search all the games by platform\"\n",
    "\n",
    "def export_to_csv(dataframe):\n",
    "    '''Save DataFrame in a csv file using with'''\n",
    "    with open(\"./datasets/filtered_games_db.csv\", 'a', encoding=\"utf-8\", newline=\"\") as f:\n",
    "        # f.tell() specifies if the file has been executed before\n",
    "        empty = f.tell() == 0\n",
    "        # If new, use the headers\n",
    "        if empty:\n",
    "            fusion.to_csv(f, index=False, header=True,)\n",
    "        else:\n",
    "            # If not, ignore the headers\n",
    "            fusion.to_csv(f, index=False, header=False)\n",
    "\n",
    "export_to_csv(fusion)"
   ]
  },
  {
   "cell_type": "code",
   "execution_count": 391,
   "metadata": {},
   "outputs": [],
   "source": [
    "#This is the info requested and received by the API\n",
    "processed_df = pd.read_csv(\"datasets/processed_game_list.csv\")\n",
    "\n",
    "#35 Cases where not identified by the API I did a manual research and save the file into a csv\n",
    "manually_fill_df = pd.read_csv(\"datasets/games_not_found.csv\")\n",
    "\n",
    "#Homologating db to concat with the processed_df\n",
    "manually_fill_df.rename(columns={\"game name\":\"db_name\"},inplace=True)\n",
    "manually_fill_df\n",
    "\n",
    "processed_df = pd.concat([processed_df, manually_fill_df], ignore_index=True)"
   ]
  },
  {
   "cell_type": "code",
   "execution_count": 392,
   "metadata": {},
   "outputs": [
    {
     "data": {
      "text/html": [
       "<div>\n",
       "<style scoped>\n",
       "    .dataframe tbody tr th:only-of-type {\n",
       "        vertical-align: middle;\n",
       "    }\n",
       "\n",
       "    .dataframe tbody tr th {\n",
       "        vertical-align: top;\n",
       "    }\n",
       "\n",
       "    .dataframe thead th {\n",
       "        text-align: right;\n",
       "    }\n",
       "</style>\n",
       "<table border=\"1\" class=\"dataframe\">\n",
       "  <thead>\n",
       "    <tr style=\"text-align: right;\">\n",
       "      <th></th>\n",
       "      <th>name</th>\n",
       "      <th>platform</th>\n",
       "      <th>year_of_release</th>\n",
       "      <th>genre</th>\n",
       "      <th>na_sales</th>\n",
       "      <th>eu_sales</th>\n",
       "      <th>jp_sales</th>\n",
       "      <th>other_sales</th>\n",
       "      <th>critic_score</th>\n",
       "      <th>user_score</th>\n",
       "      <th>rating</th>\n",
       "    </tr>\n",
       "  </thead>\n",
       "  <tbody>\n",
       "    <tr>\n",
       "      <th>0</th>\n",
       "      <td>Madden NFL 2004</td>\n",
       "      <td>PS2</td>\n",
       "      <td>2003.0</td>\n",
       "      <td>Sports</td>\n",
       "      <td>4.26</td>\n",
       "      <td>0.26</td>\n",
       "      <td>0.01</td>\n",
       "      <td>0.71</td>\n",
       "      <td>94</td>\n",
       "      <td>8.5</td>\n",
       "      <td>E</td>\n",
       "    </tr>\n",
       "    <tr>\n",
       "      <th>1</th>\n",
       "      <td>FIFA Soccer 2004</td>\n",
       "      <td>PS2</td>\n",
       "      <td>2003.0</td>\n",
       "      <td>Sports</td>\n",
       "      <td>0.59</td>\n",
       "      <td>2.36</td>\n",
       "      <td>0.04</td>\n",
       "      <td>0.51</td>\n",
       "      <td>84</td>\n",
       "      <td>6.4</td>\n",
       "      <td>E</td>\n",
       "    </tr>\n",
       "    <tr>\n",
       "      <th>2</th>\n",
       "      <td>LEGO Batman: The Videogame</td>\n",
       "      <td>Wii</td>\n",
       "      <td>2008.0</td>\n",
       "      <td>Action</td>\n",
       "      <td>1.80</td>\n",
       "      <td>0.97</td>\n",
       "      <td>0.00</td>\n",
       "      <td>0.29</td>\n",
       "      <td>74</td>\n",
       "      <td>7.9</td>\n",
       "      <td>E10+</td>\n",
       "    </tr>\n",
       "    <tr>\n",
       "      <th>3</th>\n",
       "      <td>wwe Smackdown vs. Raw 2006</td>\n",
       "      <td>PS2</td>\n",
       "      <td>2005.0</td>\n",
       "      <td>Fighting</td>\n",
       "      <td>1.57</td>\n",
       "      <td>1.02</td>\n",
       "      <td>0.00</td>\n",
       "      <td>0.41</td>\n",
       "      <td>-999</td>\n",
       "      <td>NaN</td>\n",
       "      <td>NaN</td>\n",
       "    </tr>\n",
       "    <tr>\n",
       "      <th>4</th>\n",
       "      <td>Space Invaders</td>\n",
       "      <td>2600</td>\n",
       "      <td>1978.0</td>\n",
       "      <td>Shooter</td>\n",
       "      <td>2.36</td>\n",
       "      <td>0.14</td>\n",
       "      <td>0.00</td>\n",
       "      <td>0.03</td>\n",
       "      <td>-999</td>\n",
       "      <td>NaN</td>\n",
       "      <td>NaN</td>\n",
       "    </tr>\n",
       "  </tbody>\n",
       "</table>\n",
       "</div>"
      ],
      "text/plain": [
       "                         name platform  year_of_release     genre  na_sales  \\\n",
       "0             Madden NFL 2004      PS2           2003.0    Sports      4.26   \n",
       "1            FIFA Soccer 2004      PS2           2003.0    Sports      0.59   \n",
       "2  LEGO Batman: The Videogame      Wii           2008.0    Action      1.80   \n",
       "3  wwe Smackdown vs. Raw 2006      PS2           2005.0  Fighting      1.57   \n",
       "4              Space Invaders     2600           1978.0   Shooter      2.36   \n",
       "\n",
       "   eu_sales  jp_sales  other_sales  critic_score user_score rating  \n",
       "0      0.26      0.01         0.71            94        8.5      E  \n",
       "1      2.36      0.04         0.51            84        6.4      E  \n",
       "2      0.97      0.00         0.29            74        7.9   E10+  \n",
       "3      1.02      0.00         0.41          -999        NaN    NaN  \n",
       "4      0.14      0.00         0.03          -999        NaN    NaN  "
      ]
     },
     "execution_count": 392,
     "metadata": {},
     "output_type": "execute_result"
    }
   ],
   "source": [
    "#Mergin the dabase with the API_database\n",
    "merged_df = pd.merge(games_missing_year_df, processed_df, left_on=[\"name\",\"platform\"], right_on=[\"db_name\",\"platform\"], how=\"left\")\n",
    "merged_df[\"year_of_release\"] = merged_df[\"year\"]\n",
    "d_columns = [\"release_date\", \"game_name\", \"db_name\", \"year\"]\n",
    "merged_df.drop(columns=d_columns, inplace=True)\n",
    "merged_df.head()\n",
    "# merged_df[merged_df[\"year_of_release\"].isna()] #Majesty 2: The Fantasy Kingdom Sim was never released (cancelled)"
   ]
  },
  {
   "cell_type": "code",
   "execution_count": 394,
   "metadata": {},
   "outputs": [],
   "source": [
    "#Passing the values to the current database with the original db\n",
    "merged_df.shape #269 rows\n",
    "df.loc[df['year_of_release'].isna(), 'year_of_release'] = merged_df['year_of_release'].values"
   ]
  },
  {
   "cell_type": "code",
   "execution_count": 397,
   "metadata": {},
   "outputs": [
    {
     "name": "stdout",
     "output_type": "stream",
     "text": [
      "<class 'pandas.core.frame.DataFrame'>\n",
      "RangeIndex: 16715 entries, 0 to 16714\n",
      "Data columns (total 11 columns):\n",
      " #   Column           Non-Null Count  Dtype  \n",
      "---  ------           --------------  -----  \n",
      " 0   name             16713 non-null  object \n",
      " 1   platform         16715 non-null  object \n",
      " 2   year_of_release  16714 non-null  float64\n",
      " 3   genre            16713 non-null  object \n",
      " 4   na_sales         16715 non-null  float64\n",
      " 5   eu_sales         16715 non-null  float64\n",
      " 6   jp_sales         16715 non-null  float64\n",
      " 7   other_sales      16715 non-null  float64\n",
      " 8   critic_score     16715 non-null  int32  \n",
      " 9   user_score       7590 non-null   object \n",
      " 10  rating           9949 non-null   object \n",
      "dtypes: float64(5), int32(1), object(5)\n",
      "memory usage: 1.3+ MB\n"
     ]
    }
   ],
   "source": [
    "df.info()"
   ]
  },
  {
   "cell_type": "code",
   "execution_count": 376,
   "metadata": {},
   "outputs": [
    {
     "name": "stdout",
     "output_type": "stream",
     "text": [
      "<class 'pandas.core.frame.DataFrame'>\n",
      "RangeIndex: 269 entries, 0 to 268\n",
      "Data columns (total 11 columns):\n",
      " #   Column           Non-Null Count  Dtype  \n",
      "---  ------           --------------  -----  \n",
      " 0   name             269 non-null    object \n",
      " 1   platform         269 non-null    object \n",
      " 2   year_of_release  268 non-null    float64\n",
      " 3   genre            269 non-null    object \n",
      " 4   na_sales         269 non-null    float64\n",
      " 5   eu_sales         269 non-null    float64\n",
      " 6   jp_sales         269 non-null    float64\n",
      " 7   other_sales      269 non-null    float64\n",
      " 8   critic_score     269 non-null    int32  \n",
      " 9   user_score       127 non-null    object \n",
      " 10  rating           181 non-null    object \n",
      "dtypes: float64(5), int32(1), object(5)\n",
      "memory usage: 22.2+ KB\n"
     ]
    }
   ],
   "source": [
    "df.info()"
   ]
  }
 ],
 "metadata": {
  "kernelspec": {
   "display_name": "Python 3",
   "language": "python",
   "name": "python3"
  },
  "language_info": {
   "codemirror_mode": {
    "name": "ipython",
    "version": 3
   },
   "file_extension": ".py",
   "mimetype": "text/x-python",
   "name": "python",
   "nbconvert_exporter": "python",
   "pygments_lexer": "ipython3",
   "version": "3.12.0"
  }
 },
 "nbformat": 4,
 "nbformat_minor": 2
}
